{
 "cells": [
  {
   "cell_type": "markdown",
   "id": "d0da1800",
   "metadata": {},
   "source": [
    "<h1><span style=\"color:steelblue\"> Book Recommendation System </span></h1>"
   ]
  },
  {
   "cell_type": "code",
   "execution_count": 1,
   "id": "0617c1e6",
   "metadata": {
    "scrolled": true
   },
   "outputs": [],
   "source": [
    "import warnings\n",
    "import phik\n",
    "import string\n",
    "import nltk\n",
    "import pickle\n",
    "import os\n",
    "\n",
    "import sqlite3\n",
    "import pandas as pd\n",
    "import numpy as np\n",
    "import missingno as msno\n",
    "import seaborn as sns\n",
    "import matplotlib.pyplot as plt\n",
    "import gensim.downloader as gdl\n",
    "import hnswlib\n",
    "\n",
    "from sklearn.preprocessing import StandardScaler\n",
    "from ydata_profiling import ProfileReport\n",
    "from nltk.corpus import stopwords\n",
    "from nltk.tokenize import word_tokenize\n",
    "from gensim.models import KeyedVectors\n",
    "from surprise import Dataset, Reader, NMF, SVD, accuracy\n",
    "from surprise.model_selection import train_test_split, GridSearchCV\n",
    "\n",
    "%matplotlib inline"
   ]
  },
  {
   "cell_type": "code",
   "execution_count": 2,
   "id": "20b5c79c",
   "metadata": {
    "scrolled": true
   },
   "outputs": [],
   "source": [
    "#Displaying max columns and rows:\n",
    "pd.set_option('display.max_columns', None)\n",
    "pd.set_option('display.max_rows', None)\n",
    "\n",
    "#Suppressing FutureWarning:\n",
    "warnings.simplefilter(action='ignore', category=FutureWarning)"
   ]
  },
  {
   "cell_type": "markdown",
   "id": "ce02f3ce",
   "metadata": {},
   "source": [
    "## <span style=\"color:steelblue\"> Data Preprocessing and EDA</span>"
   ]
  },
  {
   "cell_type": "markdown",
   "id": "731f618c",
   "metadata": {},
   "source": [
    "<em><span style=\"color:lightsteelblue\"> Load data</span></em>"
   ]
  },
  {
   "cell_type": "code",
   "execution_count": 3,
   "id": "14156258",
   "metadata": {
    "scrolled": true
   },
   "outputs": [],
   "source": [
    "books = pd.read_csv('data/books_enriched.csv')\n",
    "ratings = pd.read_csv('data/ratings.csv')"
   ]
  },
  {
   "cell_type": "markdown",
   "id": "61e3bad3",
   "metadata": {},
   "source": [
    "<div class=\"alert alert-block alert-info\">\n",
    "    \n",
    "- This dataset contains six million ratings for ten thousand most popular (with most ratings) books.<br><br>\n",
    "- Each book may have many editions. goodreads_book_id and best_book_id generally point to the most popular edition of a given book, while goodreads work_id refers to the book in the abstract sense.<br><br>\n",
    "- Note that book_id in ratings.csv maps to work_id, not to goodreads_book_id, meaning that ratings for different editions are aggregated."
   ]
  },
  {
   "cell_type": "markdown",
   "id": "536a246d",
   "metadata": {},
   "source": [
    "<em><span style=\"color:lightsteelblue\"> View ratings data </span></em>"
   ]
  },
  {
   "cell_type": "code",
   "execution_count": 4,
   "id": "3571c409",
   "metadata": {
    "scrolled": true
   },
   "outputs": [
    {
     "data": {
      "text/html": [
       "<div>\n",
       "<style scoped>\n",
       "    .dataframe tbody tr th:only-of-type {\n",
       "        vertical-align: middle;\n",
       "    }\n",
       "\n",
       "    .dataframe tbody tr th {\n",
       "        vertical-align: top;\n",
       "    }\n",
       "\n",
       "    .dataframe thead th {\n",
       "        text-align: right;\n",
       "    }\n",
       "</style>\n",
       "<table border=\"1\" class=\"dataframe\">\n",
       "  <thead>\n",
       "    <tr style=\"text-align: right;\">\n",
       "      <th></th>\n",
       "      <th>user_id</th>\n",
       "      <th>book_id</th>\n",
       "      <th>rating</th>\n",
       "    </tr>\n",
       "  </thead>\n",
       "  <tbody>\n",
       "    <tr>\n",
       "      <th>0</th>\n",
       "      <td>1</td>\n",
       "      <td>258</td>\n",
       "      <td>5</td>\n",
       "    </tr>\n",
       "    <tr>\n",
       "      <th>1</th>\n",
       "      <td>2</td>\n",
       "      <td>4081</td>\n",
       "      <td>4</td>\n",
       "    </tr>\n",
       "    <tr>\n",
       "      <th>2</th>\n",
       "      <td>2</td>\n",
       "      <td>260</td>\n",
       "      <td>5</td>\n",
       "    </tr>\n",
       "    <tr>\n",
       "      <th>3</th>\n",
       "      <td>2</td>\n",
       "      <td>9296</td>\n",
       "      <td>5</td>\n",
       "    </tr>\n",
       "    <tr>\n",
       "      <th>4</th>\n",
       "      <td>2</td>\n",
       "      <td>2318</td>\n",
       "      <td>3</td>\n",
       "    </tr>\n",
       "  </tbody>\n",
       "</table>\n",
       "</div>"
      ],
      "text/plain": [
       "   user_id  book_id  rating\n",
       "0        1      258       5\n",
       "1        2     4081       4\n",
       "2        2      260       5\n",
       "3        2     9296       5\n",
       "4        2     2318       3"
      ]
     },
     "execution_count": 4,
     "metadata": {},
     "output_type": "execute_result"
    }
   ],
   "source": [
    "ratings.head()"
   ]
  },
  {
   "cell_type": "code",
   "execution_count": 5,
   "id": "928d751a",
   "metadata": {
    "scrolled": true
   },
   "outputs": [
    {
     "name": "stdout",
     "output_type": "stream",
     "text": [
      "There are 5,976,479 total ratings.\n"
     ]
    }
   ],
   "source": [
    "num_ratings = ratings['rating'].count()\n",
    "\n",
    "print(f'There are {num_ratings:,} total ratings.')"
   ]
  },
  {
   "cell_type": "code",
   "execution_count": 6,
   "id": "6604fa29",
   "metadata": {},
   "outputs": [
    {
     "name": "stdout",
     "output_type": "stream",
     "text": [
      "The ratings range from 1 to 5.\n"
     ]
    }
   ],
   "source": [
    "min_rating = ratings['rating'].min()\n",
    "max_rating = ratings['rating'].max()\n",
    "\n",
    "print(f'The ratings range from {min_rating} to {max_rating}.')"
   ]
  },
  {
   "cell_type": "code",
   "execution_count": 7,
   "id": "19324bee",
   "metadata": {},
   "outputs": [
    {
     "name": "stdout",
     "output_type": "stream",
     "text": [
      "There are 53,424 users in total.\n"
     ]
    }
   ],
   "source": [
    "num_users = ratings['user_id'].nunique()\n",
    "\n",
    "print(f'There are {num_users:,} users in total.')"
   ]
  },
  {
   "cell_type": "code",
   "execution_count": 8,
   "id": "9936eb42",
   "metadata": {},
   "outputs": [
    {
     "data": {
      "image/png": "[encoded data removed]",
      "text/plain": [
       "<Figure size 640x480 with 1 Axes>"
      ]
     },
     "metadata": {},
     "output_type": "display_data"
    }
   ],
   "source": [
    "sns.set_theme()\n",
    "sns.histplot(x=ratings['rating'], bins=10)\n",
    "plt.xlabel('Rating', fontsize=12, c='#4c72b0')\n",
    "plt.ylabel('Count (in millions)', fontsize=12, c='#4c72b0')\n",
    "plt.title('Ratings Distribution', size=14,\\\n",
    "          pad=10, fontweight='bold', color='#4c72b0')\n",
    "\n",
    "plt.show()"
   ]
  },
  {
   "cell_type": "code",
   "execution_count": 9,
   "id": "6fb96f7a",
   "metadata": {},
   "outputs": [
    {
     "data": {
      "image/png": "[encoded data removed]",
      "text/plain": [
       "<Figure size 640x480 with 1 Axes>"
      ]
     },
     "metadata": {},
     "output_type": "display_data"
    }
   ],
   "source": [
    "sns.boxplot(x=ratings['rating'], orient='h')\n",
    "plt.xlabel('Rating', fontsize=12, c='#4c72b0')\n",
    "plt.title('Boxplot of Book Ratings', size=14, pad=10, fontweight='bold', color='#4c72b0')\n",
    "\n",
    "plt.show()"
   ]
  },
  {
   "cell_type": "markdown",
   "id": "23d91e14",
   "metadata": {},
   "source": [
    "<em><span style=\"color:lightsteelblue\"> View books data</span></em>"
   ]
  },
  {
   "cell_type": "code",
   "execution_count": 10,
   "id": "c3dce3dd",
   "metadata": {
    "scrolled": false
   },
   "outputs": [
    {
     "data": {
      "text/html": [
       "<div>\n",
       "<style scoped>\n",
       "    .dataframe tbody tr th:only-of-type {\n",
       "        vertical-align: middle;\n",
       "    }\n",
       "\n",
       "    .dataframe tbody tr th {\n",
       "        vertical-align: top;\n",
       "    }\n",
       "\n",
       "    .dataframe thead th {\n",
       "        text-align: right;\n",
       "    }\n",
       "</style>\n",
       "<table border=\"1\" class=\"dataframe\">\n",
       "  <thead>\n",
       "    <tr style=\"text-align: right;\">\n",
       "      <th></th>\n",
       "      <th>Unnamed: 0</th>\n",
       "      <th>index</th>\n",
       "      <th>authors</th>\n",
       "      <th>average_rating</th>\n",
       "      <th>best_book_id</th>\n",
       "      <th>book_id</th>\n",
       "      <th>books_count</th>\n",
       "      <th>description</th>\n",
       "      <th>genres</th>\n",
       "      <th>goodreads_book_id</th>\n",
       "      <th>image_url</th>\n",
       "      <th>isbn</th>\n",
       "      <th>isbn13</th>\n",
       "      <th>language_code</th>\n",
       "      <th>original_publication_year</th>\n",
       "      <th>original_title</th>\n",
       "      <th>pages</th>\n",
       "      <th>publishDate</th>\n",
       "      <th>ratings_1</th>\n",
       "      <th>ratings_2</th>\n",
       "      <th>ratings_3</th>\n",
       "      <th>ratings_4</th>\n",
       "      <th>ratings_5</th>\n",
       "      <th>ratings_count</th>\n",
       "      <th>small_image_url</th>\n",
       "      <th>title</th>\n",
       "      <th>work_id</th>\n",
       "      <th>work_ratings_count</th>\n",
       "      <th>work_text_reviews_count</th>\n",
       "      <th>authors_2</th>\n",
       "    </tr>\n",
       "  </thead>\n",
       "  <tbody>\n",
       "    <tr>\n",
       "      <th>0</th>\n",
       "      <td>0</td>\n",
       "      <td>0</td>\n",
       "      <td>['Suzanne Collins']</td>\n",
       "      <td>4.34</td>\n",
       "      <td>2767052</td>\n",
       "      <td>1</td>\n",
       "      <td>272</td>\n",
       "      <td>WINNING MEANS FAME AND FORTUNE.LOSING MEANS CE...</td>\n",
       "      <td>['young-adult', 'fiction', 'fantasy', 'science...</td>\n",
       "      <td>2767052</td>\n",
       "      <td>https://images.gr-assets.com/books/1447303603m...</td>\n",
       "      <td>439023483</td>\n",
       "      <td>9.780439e+12</td>\n",
       "      <td>eng</td>\n",
       "      <td>2008.0</td>\n",
       "      <td>The Hunger Games</td>\n",
       "      <td>374.0</td>\n",
       "      <td>09/14/08</td>\n",
       "      <td>66715</td>\n",
       "      <td>127936</td>\n",
       "      <td>560092</td>\n",
       "      <td>1481305</td>\n",
       "      <td>2706317</td>\n",
       "      <td>4780653</td>\n",
       "      <td>https://images.gr-assets.com/books/1447303603s...</td>\n",
       "      <td>The Hunger Games (The Hunger Games, #1)</td>\n",
       "      <td>2792775</td>\n",
       "      <td>4942365</td>\n",
       "      <td>155254</td>\n",
       "      <td>['Suzanne Collins']</td>\n",
       "    </tr>\n",
       "    <tr>\n",
       "      <th>1</th>\n",
       "      <td>1</td>\n",
       "      <td>1</td>\n",
       "      <td>['J.K. Rowling', 'Mary GrandPré']</td>\n",
       "      <td>4.44</td>\n",
       "      <td>3</td>\n",
       "      <td>2</td>\n",
       "      <td>491</td>\n",
       "      <td>Harry Potter's life is miserable. His parents ...</td>\n",
       "      <td>['fantasy', 'fiction', 'young-adult', 'classics']</td>\n",
       "      <td>3</td>\n",
       "      <td>https://images.gr-assets.com/books/1474154022m...</td>\n",
       "      <td>439554934</td>\n",
       "      <td>9.780440e+12</td>\n",
       "      <td>eng</td>\n",
       "      <td>1997.0</td>\n",
       "      <td>Harry Potter and the Philosopher's Stone</td>\n",
       "      <td>309.0</td>\n",
       "      <td>11/01/03</td>\n",
       "      <td>75504</td>\n",
       "      <td>101676</td>\n",
       "      <td>455024</td>\n",
       "      <td>1156318</td>\n",
       "      <td>3011543</td>\n",
       "      <td>4602479</td>\n",
       "      <td>https://images.gr-assets.com/books/1474154022s...</td>\n",
       "      <td>Harry Potter and the Sorcerer's Stone (Harry P...</td>\n",
       "      <td>4640799</td>\n",
       "      <td>4800065</td>\n",
       "      <td>75867</td>\n",
       "      <td>['J.K. Rowling', 'Mary GrandPré']</td>\n",
       "    </tr>\n",
       "    <tr>\n",
       "      <th>2</th>\n",
       "      <td>2</td>\n",
       "      <td>2</td>\n",
       "      <td>['Stephenie Meyer']</td>\n",
       "      <td>3.57</td>\n",
       "      <td>41865</td>\n",
       "      <td>3</td>\n",
       "      <td>226</td>\n",
       "      <td>About three things I was absolutely positive.\\...</td>\n",
       "      <td>['young-adult', 'fantasy', 'romance', 'fiction...</td>\n",
       "      <td>41865</td>\n",
       "      <td>https://images.gr-assets.com/books/1361039443m...</td>\n",
       "      <td>316015849</td>\n",
       "      <td>9.780316e+12</td>\n",
       "      <td>eng</td>\n",
       "      <td>2005.0</td>\n",
       "      <td>Twilight</td>\n",
       "      <td>501.0</td>\n",
       "      <td>09/06/06</td>\n",
       "      <td>456191</td>\n",
       "      <td>436802</td>\n",
       "      <td>793319</td>\n",
       "      <td>875073</td>\n",
       "      <td>1355439</td>\n",
       "      <td>3866839</td>\n",
       "      <td>https://images.gr-assets.com/books/1361039443s...</td>\n",
       "      <td>Twilight (Twilight, #1)</td>\n",
       "      <td>3212258</td>\n",
       "      <td>3916824</td>\n",
       "      <td>95009</td>\n",
       "      <td>['Stephenie Meyer']</td>\n",
       "    </tr>\n",
       "    <tr>\n",
       "      <th>3</th>\n",
       "      <td>3</td>\n",
       "      <td>3</td>\n",
       "      <td>['Harper Lee']</td>\n",
       "      <td>4.25</td>\n",
       "      <td>2657</td>\n",
       "      <td>4</td>\n",
       "      <td>487</td>\n",
       "      <td>The unforgettable novel of a childhood in a sl...</td>\n",
       "      <td>['classics', 'fiction', 'historical-fiction', ...</td>\n",
       "      <td>2657</td>\n",
       "      <td>https://images.gr-assets.com/books/1361975680m...</td>\n",
       "      <td>61120081</td>\n",
       "      <td>9.780061e+12</td>\n",
       "      <td>eng</td>\n",
       "      <td>1960.0</td>\n",
       "      <td>To Kill a Mockingbird</td>\n",
       "      <td>324.0</td>\n",
       "      <td>05/23/06</td>\n",
       "      <td>60427</td>\n",
       "      <td>117415</td>\n",
       "      <td>446835</td>\n",
       "      <td>1001952</td>\n",
       "      <td>1714267</td>\n",
       "      <td>3198671</td>\n",
       "      <td>https://images.gr-assets.com/books/1361975680s...</td>\n",
       "      <td>To Kill a Mockingbird</td>\n",
       "      <td>3275794</td>\n",
       "      <td>3340896</td>\n",
       "      <td>72586</td>\n",
       "      <td>['Harper Lee']</td>\n",
       "    </tr>\n",
       "    <tr>\n",
       "      <th>4</th>\n",
       "      <td>4</td>\n",
       "      <td>4</td>\n",
       "      <td>['F. Scott Fitzgerald']</td>\n",
       "      <td>3.89</td>\n",
       "      <td>4671</td>\n",
       "      <td>5</td>\n",
       "      <td>1356</td>\n",
       "      <td>Alternate Cover Edition ISBN: 0743273567 (ISBN...</td>\n",
       "      <td>['classics', 'fiction', 'historical-fiction', ...</td>\n",
       "      <td>4671</td>\n",
       "      <td>https://images.gr-assets.com/books/1490528560m...</td>\n",
       "      <td>743273567</td>\n",
       "      <td>9.780743e+12</td>\n",
       "      <td>eng</td>\n",
       "      <td>1925.0</td>\n",
       "      <td>The Great Gatsby</td>\n",
       "      <td>200.0</td>\n",
       "      <td>09/28/04</td>\n",
       "      <td>86236</td>\n",
       "      <td>197621</td>\n",
       "      <td>606158</td>\n",
       "      <td>936012</td>\n",
       "      <td>947718</td>\n",
       "      <td>2683664</td>\n",
       "      <td>https://images.gr-assets.com/books/1490528560s...</td>\n",
       "      <td>The Great Gatsby</td>\n",
       "      <td>245494</td>\n",
       "      <td>2773745</td>\n",
       "      <td>51992</td>\n",
       "      <td>['F. Scott Fitzgerald']</td>\n",
       "    </tr>\n",
       "  </tbody>\n",
       "</table>\n",
       "</div>"
      ],
      "text/plain": [
       "   Unnamed: 0  index                            authors  average_rating  \\\n",
       "0           0      0                ['Suzanne Collins']            4.34   \n",
       "1           1      1  ['J.K. Rowling', 'Mary GrandPré']            4.44   \n",
       "2           2      2                ['Stephenie Meyer']            3.57   \n",
       "3           3      3                     ['Harper Lee']            4.25   \n",
       "4           4      4            ['F. Scott Fitzgerald']            3.89   \n",
       "\n",
       "   best_book_id  book_id  books_count  \\\n",
       "0       2767052        1          272   \n",
       "1             3        2          491   \n",
       "2         41865        3          226   \n",
       "3          2657        4          487   \n",
       "4          4671        5         1356   \n",
       "\n",
       "                                         description  \\\n",
       "0  WINNING MEANS FAME AND FORTUNE.LOSING MEANS CE...   \n",
       "1  Harry Potter's life is miserable. His parents ...   \n",
       "2  About three things I was absolutely positive.\\...   \n",
       "3  The unforgettable novel of a childhood in a sl...   \n",
       "4  Alternate Cover Edition ISBN: 0743273567 (ISBN...   \n",
       "\n",
       "                                              genres  goodreads_book_id  \\\n",
       "0  ['young-adult', 'fiction', 'fantasy', 'science...            2767052   \n",
       "1  ['fantasy', 'fiction', 'young-adult', 'classics']                  3   \n",
       "2  ['young-adult', 'fantasy', 'romance', 'fiction...              41865   \n",
       "3  ['classics', 'fiction', 'historical-fiction', ...               2657   \n",
       "4  ['classics', 'fiction', 'historical-fiction', ...               4671   \n",
       "\n",
       "                                           image_url       isbn        isbn13  \\\n",
       "0  https://images.gr-assets.com/books/1447303603m...  439023483  9.780439e+12   \n",
       "1  https://images.gr-assets.com/books/1474154022m...  439554934  9.780440e+12   \n",
       "2  https://images.gr-assets.com/books/1361039443m...  316015849  9.780316e+12   \n",
       "3  https://images.gr-assets.com/books/1361975680m...   61120081  9.780061e+12   \n",
       "4  https://images.gr-assets.com/books/1490528560m...  743273567  9.780743e+12   \n",
       "\n",
       "  language_code  original_publication_year  \\\n",
       "0           eng                     2008.0   \n",
       "1           eng                     1997.0   \n",
       "2           eng                     2005.0   \n",
       "3           eng                     1960.0   \n",
       "4           eng                     1925.0   \n",
       "\n",
       "                             original_title  pages publishDate  ratings_1  \\\n",
       "0                          The Hunger Games  374.0    09/14/08      66715   \n",
       "1  Harry Potter and the Philosopher's Stone  309.0    11/01/03      75504   \n",
       "2                                  Twilight  501.0    09/06/06     456191   \n",
       "3                     To Kill a Mockingbird  324.0    05/23/06      60427   \n",
       "4                          The Great Gatsby  200.0    09/28/04      86236   \n",
       "\n",
       "   ratings_2  ratings_3  ratings_4  ratings_5  ratings_count  \\\n",
       "0     127936     560092    1481305    2706317        4780653   \n",
       "1     101676     455024    1156318    3011543        4602479   \n",
       "2     436802     793319     875073    1355439        3866839   \n",
       "3     117415     446835    1001952    1714267        3198671   \n",
       "4     197621     606158     936012     947718        2683664   \n",
       "\n",
       "                                     small_image_url  \\\n",
       "0  https://images.gr-assets.com/books/1447303603s...   \n",
       "1  https://images.gr-assets.com/books/1474154022s...   \n",
       "2  https://images.gr-assets.com/books/1361039443s...   \n",
       "3  https://images.gr-assets.com/books/1361975680s...   \n",
       "4  https://images.gr-assets.com/books/1490528560s...   \n",
       "\n",
       "                                               title  work_id  \\\n",
       "0            The Hunger Games (The Hunger Games, #1)  2792775   \n",
       "1  Harry Potter and the Sorcerer's Stone (Harry P...  4640799   \n",
       "2                            Twilight (Twilight, #1)  3212258   \n",
       "3                              To Kill a Mockingbird  3275794   \n",
       "4                                   The Great Gatsby   245494   \n",
       "\n",
       "   work_ratings_count  work_text_reviews_count  \\\n",
       "0             4942365                   155254   \n",
       "1             4800065                    75867   \n",
       "2             3916824                    95009   \n",
       "3             3340896                    72586   \n",
       "4             2773745                    51992   \n",
       "\n",
       "                           authors_2  \n",
       "0                ['Suzanne Collins']  \n",
       "1  ['J.K. Rowling', 'Mary GrandPré']  \n",
       "2                ['Stephenie Meyer']  \n",
       "3                     ['Harper Lee']  \n",
       "4            ['F. Scott Fitzgerald']  "
      ]
     },
     "execution_count": 10,
     "metadata": {},
     "output_type": "execute_result"
    }
   ],
   "source": [
    "books.head()"
   ]
  },
  {
   "cell_type": "code",
   "execution_count": 11,
   "id": "e63370c4",
   "metadata": {
    "scrolled": true
   },
   "outputs": [
    {
     "name": "stdout",
     "output_type": "stream",
     "text": [
      "There are 144 books with an average rating of 4.5 or greater.\n"
     ]
    }
   ],
   "source": [
    "top_rated = books[books['average_rating'] >= 4.5]\n",
    "top_rated_count = top_rated['work_id'].count()\n",
    "print(f'There are {top_rated_count} books with an average rating of 4.5 or greater.')"
   ]
  },
  {
   "cell_type": "code",
   "execution_count": 12,
   "id": "f9b6e618",
   "metadata": {},
   "outputs": [
    {
     "name": "stdout",
     "output_type": "stream",
     "text": [
      "There are 9,855 books with an average rating greater than 2.5 but less than 4.5.\n"
     ]
    }
   ],
   "source": [
    "mid_rated = books[(books['average_rating'] > 2.5) & (books['average_rating'] < 4.5)]\n",
    "mid_rated_count = mid_rated['work_id'].count()\n",
    "print(f'There are {mid_rated_count:,} books with an average rating greater than 2.5 but less than 4.5.')"
   ]
  },
  {
   "cell_type": "code",
   "execution_count": 13,
   "id": "1c435dd6",
   "metadata": {},
   "outputs": [
    {
     "name": "stdout",
     "output_type": "stream",
     "text": [
      "There is 1 book with an average rating of 2.5 or less.\n"
     ]
    }
   ],
   "source": [
    "low_rated = books[books['average_rating'] <= 2.5]\n",
    "low_rated_count = low_rated['work_id'].count()\n",
    "print(f'There is {low_rated_count} book with an average rating of 2.5 or less.')"
   ]
  },
  {
   "cell_type": "code",
   "execution_count": 14,
   "id": "c2da0a91",
   "metadata": {},
   "outputs": [
    {
     "data": {
      "image/png": "[encoded data removed]",
      "text/plain": [
       "<Figure size 640x480 with 1 Axes>"
      ]
     },
     "metadata": {},
     "output_type": "display_data"
    }
   ],
   "source": [
    "top_10_books = top_rated[:10]\n",
    "\n",
    "sns.barplot(data=top_10_books,\n",
    "            x='original_title', y='pages', alpha=.75, saturation=100)\n",
    "plt.xlabel('Title', fontsize=12, c='#4c72b0')\n",
    "plt.xticks(rotation=90)\n",
    "plt.ylabel('Number of Pages', fontsize=12, c='#4c72b0')\n",
    "plt.suptitle('Top 10 Books', size=14, fontweight='bold', color='#4c72b0')\n",
    "plt.title('(based on average rating)', size=10, pad=8, c='#4c72b0')\n",
    "\n",
    "plt.show()"
   ]
  },
  {
   "cell_type": "markdown",
   "id": "e4f01d55",
   "metadata": {},
   "source": [
    "<em><span style=\"color:lightsteelblue\"> Compare books in ratings df to books in books df  </span></em>"
   ]
  },
  {
   "cell_type": "code",
   "execution_count": 15,
   "id": "85a6711f",
   "metadata": {
    "scrolled": true
   },
   "outputs": [],
   "source": [
    "# 'book_id' in ratings df correspond to 'work_id' in books df.\n",
    "\n",
    "ratings.rename(columns={'book_id':'work_id'}, inplace=True)"
   ]
  },
  {
   "cell_type": "code",
   "execution_count": 16,
   "id": "b4c6ad45",
   "metadata": {
    "scrolled": true
   },
   "outputs": [
    {
     "name": "stdout",
     "output_type": "stream",
     "text": [
      "10000\n",
      "10000\n"
     ]
    }
   ],
   "source": [
    "print(ratings['work_id'].nunique())\n",
    "print(books['work_id'].nunique())"
   ]
  },
  {
   "cell_type": "code",
   "execution_count": 17,
   "id": "c3913cd1",
   "metadata": {
    "scrolled": true
   },
   "outputs": [
    {
     "name": "stdout",
     "output_type": "stream",
     "text": [
      "There are 176 books in the books df that have been rated.\n"
     ]
    }
   ],
   "source": [
    "matched_ids = ratings[ratings['work_id'].isin(books['work_id'])]\n",
    "matched_ids_count = matched_ids['work_id'].nunique()\n",
    "\n",
    "print(f'There are {matched_ids_count} books in the books df that have been rated.')"
   ]
  },
  {
   "cell_type": "code",
   "execution_count": 18,
   "id": "f43859ad",
   "metadata": {
    "scrolled": true
   },
   "outputs": [
    {
     "name": "stdout",
     "output_type": "stream",
     "text": [
      "There are 9824 books from the books df that have not been rated.\n",
      "There are 9824 books that have been rated but do not exist in the books df.\n"
     ]
    }
   ],
   "source": [
    "unmatched_ids = ratings[~ratings['work_id'].isin(books['work_id'])]\n",
    "unmatched_ids_count = unmatched_ids['work_id'].nunique()\n",
    "\n",
    "print(f'There are {unmatched_ids_count} books from the books df that have not been rated.')\n",
    "print(f'There are {unmatched_ids_count} books that have been rated but do not exist in the books df.')"
   ]
  },
  {
   "cell_type": "markdown",
   "id": "9b60d3b3",
   "metadata": {},
   "source": [
    "<em><span style=\"color:lightsteelblue\"> Remove books that don't exist in books df from ratings df  </span></em>"
   ]
  },
  {
   "cell_type": "code",
   "execution_count": 19,
   "id": "b133e9a1",
   "metadata": {},
   "outputs": [],
   "source": [
    "ratings['work_id'] = matched_ids['work_id']"
   ]
  },
  {
   "cell_type": "code",
   "execution_count": 20,
   "id": "333b1ae9",
   "metadata": {},
   "outputs": [
    {
     "data": {
      "text/html": [
       "<div>\n",
       "<style scoped>\n",
       "    .dataframe tbody tr th:only-of-type {\n",
       "        vertical-align: middle;\n",
       "    }\n",
       "\n",
       "    .dataframe tbody tr th {\n",
       "        vertical-align: top;\n",
       "    }\n",
       "\n",
       "    .dataframe thead th {\n",
       "        text-align: right;\n",
       "    }\n",
       "</style>\n",
       "<table border=\"1\" class=\"dataframe\">\n",
       "  <thead>\n",
       "    <tr style=\"text-align: right;\">\n",
       "      <th></th>\n",
       "      <th>user_id</th>\n",
       "      <th>work_id</th>\n",
       "      <th>rating</th>\n",
       "    </tr>\n",
       "  </thead>\n",
       "  <tbody>\n",
       "    <tr>\n",
       "      <th>0</th>\n",
       "      <td>1</td>\n",
       "      <td>NaN</td>\n",
       "      <td>5</td>\n",
       "    </tr>\n",
       "    <tr>\n",
       "      <th>1</th>\n",
       "      <td>2</td>\n",
       "      <td>NaN</td>\n",
       "      <td>4</td>\n",
       "    </tr>\n",
       "    <tr>\n",
       "      <th>2</th>\n",
       "      <td>2</td>\n",
       "      <td>NaN</td>\n",
       "      <td>5</td>\n",
       "    </tr>\n",
       "    <tr>\n",
       "      <th>3</th>\n",
       "      <td>2</td>\n",
       "      <td>NaN</td>\n",
       "      <td>5</td>\n",
       "    </tr>\n",
       "    <tr>\n",
       "      <th>4</th>\n",
       "      <td>2</td>\n",
       "      <td>NaN</td>\n",
       "      <td>3</td>\n",
       "    </tr>\n",
       "  </tbody>\n",
       "</table>\n",
       "</div>"
      ],
      "text/plain": [
       "   user_id  work_id  rating\n",
       "0        1      NaN       5\n",
       "1        2      NaN       4\n",
       "2        2      NaN       5\n",
       "3        2      NaN       5\n",
       "4        2      NaN       3"
      ]
     },
     "execution_count": 20,
     "metadata": {},
     "output_type": "execute_result"
    }
   ],
   "source": [
    "ratings.head()"
   ]
  },
  {
   "cell_type": "code",
   "execution_count": 21,
   "id": "0bee3009",
   "metadata": {},
   "outputs": [],
   "source": [
    "ratings.dropna(inplace=True)"
   ]
  },
  {
   "cell_type": "code",
   "execution_count": 22,
   "id": "66fe65d2",
   "metadata": {},
   "outputs": [],
   "source": [
    "ratings['work_id'] = ratings['work_id'].astype('int64')"
   ]
  },
  {
   "cell_type": "code",
   "execution_count": 23,
   "id": "ef218a91",
   "metadata": {},
   "outputs": [
    {
     "data": {
      "text/html": [
       "<div>\n",
       "<style scoped>\n",
       "    .dataframe tbody tr th:only-of-type {\n",
       "        vertical-align: middle;\n",
       "    }\n",
       "\n",
       "    .dataframe tbody tr th {\n",
       "        vertical-align: top;\n",
       "    }\n",
       "\n",
       "    .dataframe thead th {\n",
       "        text-align: right;\n",
       "    }\n",
       "</style>\n",
       "<table border=\"1\" class=\"dataframe\">\n",
       "  <thead>\n",
       "    <tr style=\"text-align: right;\">\n",
       "      <th></th>\n",
       "      <th>user_id</th>\n",
       "      <th>work_id</th>\n",
       "      <th>rating</th>\n",
       "    </tr>\n",
       "  </thead>\n",
       "  <tbody>\n",
       "    <tr>\n",
       "      <th>60</th>\n",
       "      <td>8</td>\n",
       "      <td>362</td>\n",
       "      <td>5</td>\n",
       "    </tr>\n",
       "    <tr>\n",
       "      <th>84</th>\n",
       "      <td>4</td>\n",
       "      <td>87</td>\n",
       "      <td>5</td>\n",
       "    </tr>\n",
       "    <tr>\n",
       "      <th>169</th>\n",
       "      <td>11</td>\n",
       "      <td>574</td>\n",
       "      <td>3</td>\n",
       "    </tr>\n",
       "    <tr>\n",
       "      <th>181</th>\n",
       "      <td>11</td>\n",
       "      <td>115</td>\n",
       "      <td>4</td>\n",
       "    </tr>\n",
       "    <tr>\n",
       "      <th>209</th>\n",
       "      <td>15</td>\n",
       "      <td>87</td>\n",
       "      <td>5</td>\n",
       "    </tr>\n",
       "  </tbody>\n",
       "</table>\n",
       "</div>"
      ],
      "text/plain": [
       "     user_id  work_id  rating\n",
       "60         8      362       5\n",
       "84         4       87       5\n",
       "169       11      574       3\n",
       "181       11      115       4\n",
       "209       15       87       5"
      ]
     },
     "execution_count": 23,
     "metadata": {},
     "output_type": "execute_result"
    }
   ],
   "source": [
    "ratings.head()"
   ]
  },
  {
   "cell_type": "code",
   "execution_count": 24,
   "id": "0c06a48b",
   "metadata": {
    "scrolled": true
   },
   "outputs": [
    {
     "name": "stdout",
     "output_type": "stream",
     "text": [
      "int64\n",
      "int64\n"
     ]
    }
   ],
   "source": [
    "print(ratings['work_id'].dtype)\n",
    "print(books['work_id'].dtype)"
   ]
  },
  {
   "cell_type": "code",
   "execution_count": 25,
   "id": "603da66a",
   "metadata": {},
   "outputs": [
    {
     "name": "stdout",
     "output_type": "stream",
     "text": [
      "176\n",
      "10000\n"
     ]
    }
   ],
   "source": [
    "print(ratings['work_id'].nunique())\n",
    "print(books['work_id'].nunique())"
   ]
  },
  {
   "cell_type": "markdown",
   "id": "1345c8f1",
   "metadata": {},
   "source": [
    "<div class=\"alert alert-block alert-info\">\n",
    "    \n",
    "- The ratings df suggest that only 176 books from the books df have been rated. The other 9,824 rated books found in the ratings df do not exist in the books df. \n",
    "<br><br>\n",
    "- The average rating in the books df indicates that all 10,000 books in the books df have been rated.\n",
    "<br><br>\n",
    "- average_rating in the books df may not reflect the same ratings as the ratings df."
   ]
  },
  {
   "cell_type": "markdown",
   "id": "460e8bb5",
   "metadata": {},
   "source": [
    "<em><span style=\"color:lightsteelblue\"> Merge books df with ratings df </span></em>"
   ]
  },
  {
   "cell_type": "code",
   "execution_count": 26,
   "id": "f4637720",
   "metadata": {
    "scrolled": true
   },
   "outputs": [],
   "source": [
    "goodbooks = books.merge(ratings, how='left', on='work_id')"
   ]
  },
  {
   "cell_type": "code",
   "execution_count": 27,
   "id": "069dcf83",
   "metadata": {
    "scrolled": true
   },
   "outputs": [
    {
     "data": {
      "text/html": [
       "<div>\n",
       "<style scoped>\n",
       "    .dataframe tbody tr th:only-of-type {\n",
       "        vertical-align: middle;\n",
       "    }\n",
       "\n",
       "    .dataframe tbody tr th {\n",
       "        vertical-align: top;\n",
       "    }\n",
       "\n",
       "    .dataframe thead th {\n",
       "        text-align: right;\n",
       "    }\n",
       "</style>\n",
       "<table border=\"1\" class=\"dataframe\">\n",
       "  <thead>\n",
       "    <tr style=\"text-align: right;\">\n",
       "      <th></th>\n",
       "      <th>Unnamed: 0</th>\n",
       "      <th>index</th>\n",
       "      <th>authors</th>\n",
       "      <th>average_rating</th>\n",
       "      <th>best_book_id</th>\n",
       "      <th>book_id</th>\n",
       "      <th>books_count</th>\n",
       "      <th>description</th>\n",
       "      <th>genres</th>\n",
       "      <th>goodreads_book_id</th>\n",
       "      <th>image_url</th>\n",
       "      <th>isbn</th>\n",
       "      <th>isbn13</th>\n",
       "      <th>language_code</th>\n",
       "      <th>original_publication_year</th>\n",
       "      <th>original_title</th>\n",
       "      <th>pages</th>\n",
       "      <th>publishDate</th>\n",
       "      <th>ratings_1</th>\n",
       "      <th>ratings_2</th>\n",
       "      <th>ratings_3</th>\n",
       "      <th>ratings_4</th>\n",
       "      <th>ratings_5</th>\n",
       "      <th>ratings_count</th>\n",
       "      <th>small_image_url</th>\n",
       "      <th>title</th>\n",
       "      <th>work_id</th>\n",
       "      <th>work_ratings_count</th>\n",
       "      <th>work_text_reviews_count</th>\n",
       "      <th>authors_2</th>\n",
       "      <th>user_id</th>\n",
       "      <th>rating</th>\n",
       "    </tr>\n",
       "  </thead>\n",
       "  <tbody>\n",
       "    <tr>\n",
       "      <th>0</th>\n",
       "      <td>0</td>\n",
       "      <td>0</td>\n",
       "      <td>['Suzanne Collins']</td>\n",
       "      <td>4.34</td>\n",
       "      <td>2767052</td>\n",
       "      <td>1</td>\n",
       "      <td>272</td>\n",
       "      <td>WINNING MEANS FAME AND FORTUNE.LOSING MEANS CE...</td>\n",
       "      <td>['young-adult', 'fiction', 'fantasy', 'science...</td>\n",
       "      <td>2767052</td>\n",
       "      <td>https://images.gr-assets.com/books/1447303603m...</td>\n",
       "      <td>439023483</td>\n",
       "      <td>9.780439e+12</td>\n",
       "      <td>eng</td>\n",
       "      <td>2008.0</td>\n",
       "      <td>The Hunger Games</td>\n",
       "      <td>374.0</td>\n",
       "      <td>09/14/08</td>\n",
       "      <td>66715</td>\n",
       "      <td>127936</td>\n",
       "      <td>560092</td>\n",
       "      <td>1481305</td>\n",
       "      <td>2706317</td>\n",
       "      <td>4780653</td>\n",
       "      <td>https://images.gr-assets.com/books/1447303603s...</td>\n",
       "      <td>The Hunger Games (The Hunger Games, #1)</td>\n",
       "      <td>2792775</td>\n",
       "      <td>4942365</td>\n",
       "      <td>155254</td>\n",
       "      <td>['Suzanne Collins']</td>\n",
       "      <td>NaN</td>\n",
       "      <td>NaN</td>\n",
       "    </tr>\n",
       "    <tr>\n",
       "      <th>1</th>\n",
       "      <td>1</td>\n",
       "      <td>1</td>\n",
       "      <td>['J.K. Rowling', 'Mary GrandPré']</td>\n",
       "      <td>4.44</td>\n",
       "      <td>3</td>\n",
       "      <td>2</td>\n",
       "      <td>491</td>\n",
       "      <td>Harry Potter's life is miserable. His parents ...</td>\n",
       "      <td>['fantasy', 'fiction', 'young-adult', 'classics']</td>\n",
       "      <td>3</td>\n",
       "      <td>https://images.gr-assets.com/books/1474154022m...</td>\n",
       "      <td>439554934</td>\n",
       "      <td>9.780440e+12</td>\n",
       "      <td>eng</td>\n",
       "      <td>1997.0</td>\n",
       "      <td>Harry Potter and the Philosopher's Stone</td>\n",
       "      <td>309.0</td>\n",
       "      <td>11/01/03</td>\n",
       "      <td>75504</td>\n",
       "      <td>101676</td>\n",
       "      <td>455024</td>\n",
       "      <td>1156318</td>\n",
       "      <td>3011543</td>\n",
       "      <td>4602479</td>\n",
       "      <td>https://images.gr-assets.com/books/1474154022s...</td>\n",
       "      <td>Harry Potter and the Sorcerer's Stone (Harry P...</td>\n",
       "      <td>4640799</td>\n",
       "      <td>4800065</td>\n",
       "      <td>75867</td>\n",
       "      <td>['J.K. Rowling', 'Mary GrandPré']</td>\n",
       "      <td>NaN</td>\n",
       "      <td>NaN</td>\n",
       "    </tr>\n",
       "    <tr>\n",
       "      <th>2</th>\n",
       "      <td>2</td>\n",
       "      <td>2</td>\n",
       "      <td>['Stephenie Meyer']</td>\n",
       "      <td>3.57</td>\n",
       "      <td>41865</td>\n",
       "      <td>3</td>\n",
       "      <td>226</td>\n",
       "      <td>About three things I was absolutely positive.\\...</td>\n",
       "      <td>['young-adult', 'fantasy', 'romance', 'fiction...</td>\n",
       "      <td>41865</td>\n",
       "      <td>https://images.gr-assets.com/books/1361039443m...</td>\n",
       "      <td>316015849</td>\n",
       "      <td>9.780316e+12</td>\n",
       "      <td>eng</td>\n",
       "      <td>2005.0</td>\n",
       "      <td>Twilight</td>\n",
       "      <td>501.0</td>\n",
       "      <td>09/06/06</td>\n",
       "      <td>456191</td>\n",
       "      <td>436802</td>\n",
       "      <td>793319</td>\n",
       "      <td>875073</td>\n",
       "      <td>1355439</td>\n",
       "      <td>3866839</td>\n",
       "      <td>https://images.gr-assets.com/books/1361039443s...</td>\n",
       "      <td>Twilight (Twilight, #1)</td>\n",
       "      <td>3212258</td>\n",
       "      <td>3916824</td>\n",
       "      <td>95009</td>\n",
       "      <td>['Stephenie Meyer']</td>\n",
       "      <td>NaN</td>\n",
       "      <td>NaN</td>\n",
       "    </tr>\n",
       "    <tr>\n",
       "      <th>3</th>\n",
       "      <td>3</td>\n",
       "      <td>3</td>\n",
       "      <td>['Harper Lee']</td>\n",
       "      <td>4.25</td>\n",
       "      <td>2657</td>\n",
       "      <td>4</td>\n",
       "      <td>487</td>\n",
       "      <td>The unforgettable novel of a childhood in a sl...</td>\n",
       "      <td>['classics', 'fiction', 'historical-fiction', ...</td>\n",
       "      <td>2657</td>\n",
       "      <td>https://images.gr-assets.com/books/1361975680m...</td>\n",
       "      <td>61120081</td>\n",
       "      <td>9.780061e+12</td>\n",
       "      <td>eng</td>\n",
       "      <td>1960.0</td>\n",
       "      <td>To Kill a Mockingbird</td>\n",
       "      <td>324.0</td>\n",
       "      <td>05/23/06</td>\n",
       "      <td>60427</td>\n",
       "      <td>117415</td>\n",
       "      <td>446835</td>\n",
       "      <td>1001952</td>\n",
       "      <td>1714267</td>\n",
       "      <td>3198671</td>\n",
       "      <td>https://images.gr-assets.com/books/1361975680s...</td>\n",
       "      <td>To Kill a Mockingbird</td>\n",
       "      <td>3275794</td>\n",
       "      <td>3340896</td>\n",
       "      <td>72586</td>\n",
       "      <td>['Harper Lee']</td>\n",
       "      <td>NaN</td>\n",
       "      <td>NaN</td>\n",
       "    </tr>\n",
       "    <tr>\n",
       "      <th>4</th>\n",
       "      <td>4</td>\n",
       "      <td>4</td>\n",
       "      <td>['F. Scott Fitzgerald']</td>\n",
       "      <td>3.89</td>\n",
       "      <td>4671</td>\n",
       "      <td>5</td>\n",
       "      <td>1356</td>\n",
       "      <td>Alternate Cover Edition ISBN: 0743273567 (ISBN...</td>\n",
       "      <td>['classics', 'fiction', 'historical-fiction', ...</td>\n",
       "      <td>4671</td>\n",
       "      <td>https://images.gr-assets.com/books/1490528560m...</td>\n",
       "      <td>743273567</td>\n",
       "      <td>9.780743e+12</td>\n",
       "      <td>eng</td>\n",
       "      <td>1925.0</td>\n",
       "      <td>The Great Gatsby</td>\n",
       "      <td>200.0</td>\n",
       "      <td>09/28/04</td>\n",
       "      <td>86236</td>\n",
       "      <td>197621</td>\n",
       "      <td>606158</td>\n",
       "      <td>936012</td>\n",
       "      <td>947718</td>\n",
       "      <td>2683664</td>\n",
       "      <td>https://images.gr-assets.com/books/1490528560s...</td>\n",
       "      <td>The Great Gatsby</td>\n",
       "      <td>245494</td>\n",
       "      <td>2773745</td>\n",
       "      <td>51992</td>\n",
       "      <td>['F. Scott Fitzgerald']</td>\n",
       "      <td>NaN</td>\n",
       "      <td>NaN</td>\n",
       "    </tr>\n",
       "  </tbody>\n",
       "</table>\n",
       "</div>"
      ],
      "text/plain": [
       "   Unnamed: 0  index                            authors  average_rating  \\\n",
       "0           0      0                ['Suzanne Collins']            4.34   \n",
       "1           1      1  ['J.K. Rowling', 'Mary GrandPré']            4.44   \n",
       "2           2      2                ['Stephenie Meyer']            3.57   \n",
       "3           3      3                     ['Harper Lee']            4.25   \n",
       "4           4      4            ['F. Scott Fitzgerald']            3.89   \n",
       "\n",
       "   best_book_id  book_id  books_count  \\\n",
       "0       2767052        1          272   \n",
       "1             3        2          491   \n",
       "2         41865        3          226   \n",
       "3          2657        4          487   \n",
       "4          4671        5         1356   \n",
       "\n",
       "                                         description  \\\n",
       "0  WINNING MEANS FAME AND FORTUNE.LOSING MEANS CE...   \n",
       "1  Harry Potter's life is miserable. His parents ...   \n",
       "2  About three things I was absolutely positive.\\...   \n",
       "3  The unforgettable novel of a childhood in a sl...   \n",
       "4  Alternate Cover Edition ISBN: 0743273567 (ISBN...   \n",
       "\n",
       "                                              genres  goodreads_book_id  \\\n",
       "0  ['young-adult', 'fiction', 'fantasy', 'science...            2767052   \n",
       "1  ['fantasy', 'fiction', 'young-adult', 'classics']                  3   \n",
       "2  ['young-adult', 'fantasy', 'romance', 'fiction...              41865   \n",
       "3  ['classics', 'fiction', 'historical-fiction', ...               2657   \n",
       "4  ['classics', 'fiction', 'historical-fiction', ...               4671   \n",
       "\n",
       "                                           image_url       isbn        isbn13  \\\n",
       "0  https://images.gr-assets.com/books/1447303603m...  439023483  9.780439e+12   \n",
       "1  https://images.gr-assets.com/books/1474154022m...  439554934  9.780440e+12   \n",
       "2  https://images.gr-assets.com/books/1361039443m...  316015849  9.780316e+12   \n",
       "3  https://images.gr-assets.com/books/1361975680m...   61120081  9.780061e+12   \n",
       "4  https://images.gr-assets.com/books/1490528560m...  743273567  9.780743e+12   \n",
       "\n",
       "  language_code  original_publication_year  \\\n",
       "0           eng                     2008.0   \n",
       "1           eng                     1997.0   \n",
       "2           eng                     2005.0   \n",
       "3           eng                     1960.0   \n",
       "4           eng                     1925.0   \n",
       "\n",
       "                             original_title  pages publishDate  ratings_1  \\\n",
       "0                          The Hunger Games  374.0    09/14/08      66715   \n",
       "1  Harry Potter and the Philosopher's Stone  309.0    11/01/03      75504   \n",
       "2                                  Twilight  501.0    09/06/06     456191   \n",
       "3                     To Kill a Mockingbird  324.0    05/23/06      60427   \n",
       "4                          The Great Gatsby  200.0    09/28/04      86236   \n",
       "\n",
       "   ratings_2  ratings_3  ratings_4  ratings_5  ratings_count  \\\n",
       "0     127936     560092    1481305    2706317        4780653   \n",
       "1     101676     455024    1156318    3011543        4602479   \n",
       "2     436802     793319     875073    1355439        3866839   \n",
       "3     117415     446835    1001952    1714267        3198671   \n",
       "4     197621     606158     936012     947718        2683664   \n",
       "\n",
       "                                     small_image_url  \\\n",
       "0  https://images.gr-assets.com/books/1447303603s...   \n",
       "1  https://images.gr-assets.com/books/1474154022s...   \n",
       "2  https://images.gr-assets.com/books/1361039443s...   \n",
       "3  https://images.gr-assets.com/books/1361975680s...   \n",
       "4  https://images.gr-assets.com/books/1490528560s...   \n",
       "\n",
       "                                               title  work_id  \\\n",
       "0            The Hunger Games (The Hunger Games, #1)  2792775   \n",
       "1  Harry Potter and the Sorcerer's Stone (Harry P...  4640799   \n",
       "2                            Twilight (Twilight, #1)  3212258   \n",
       "3                              To Kill a Mockingbird  3275794   \n",
       "4                                   The Great Gatsby   245494   \n",
       "\n",
       "   work_ratings_count  work_text_reviews_count  \\\n",
       "0             4942365                   155254   \n",
       "1             4800065                    75867   \n",
       "2             3916824                    95009   \n",
       "3             3340896                    72586   \n",
       "4             2773745                    51992   \n",
       "\n",
       "                           authors_2  user_id  rating  \n",
       "0                ['Suzanne Collins']      NaN     NaN  \n",
       "1  ['J.K. Rowling', 'Mary GrandPré']      NaN     NaN  \n",
       "2                ['Stephenie Meyer']      NaN     NaN  \n",
       "3                     ['Harper Lee']      NaN     NaN  \n",
       "4            ['F. Scott Fitzgerald']      NaN     NaN  "
      ]
     },
     "execution_count": 27,
     "metadata": {},
     "output_type": "execute_result"
    }
   ],
   "source": [
    "goodbooks.head()"
   ]
  },
  {
   "cell_type": "markdown",
   "id": "60133317",
   "metadata": {},
   "source": [
    "<em><span style=\"color:lightsteelblue\">Clean [user_id] and [rating]</span></em>"
   ]
  },
  {
   "cell_type": "code",
   "execution_count": 28,
   "id": "27363450",
   "metadata": {
    "scrolled": true
   },
   "outputs": [],
   "source": [
    "goodbooks['user_id'].fillna(0, inplace=True)\n",
    "goodbooks['rating'].fillna(0, inplace=True)"
   ]
  },
  {
   "cell_type": "code",
   "execution_count": 29,
   "id": "f8d12711",
   "metadata": {
    "scrolled": true
   },
   "outputs": [
    {
     "data": {
      "text/html": [
       "<div>\n",
       "<style scoped>\n",
       "    .dataframe tbody tr th:only-of-type {\n",
       "        vertical-align: middle;\n",
       "    }\n",
       "\n",
       "    .dataframe tbody tr th {\n",
       "        vertical-align: top;\n",
       "    }\n",
       "\n",
       "    .dataframe thead th {\n",
       "        text-align: right;\n",
       "    }\n",
       "</style>\n",
       "<table border=\"1\" class=\"dataframe\">\n",
       "  <thead>\n",
       "    <tr style=\"text-align: right;\">\n",
       "      <th></th>\n",
       "      <th>Unnamed: 0</th>\n",
       "      <th>index</th>\n",
       "      <th>authors</th>\n",
       "      <th>average_rating</th>\n",
       "      <th>best_book_id</th>\n",
       "      <th>book_id</th>\n",
       "      <th>books_count</th>\n",
       "      <th>description</th>\n",
       "      <th>genres</th>\n",
       "      <th>goodreads_book_id</th>\n",
       "      <th>image_url</th>\n",
       "      <th>isbn</th>\n",
       "      <th>isbn13</th>\n",
       "      <th>language_code</th>\n",
       "      <th>original_publication_year</th>\n",
       "      <th>original_title</th>\n",
       "      <th>pages</th>\n",
       "      <th>publishDate</th>\n",
       "      <th>ratings_1</th>\n",
       "      <th>ratings_2</th>\n",
       "      <th>ratings_3</th>\n",
       "      <th>ratings_4</th>\n",
       "      <th>ratings_5</th>\n",
       "      <th>ratings_count</th>\n",
       "      <th>small_image_url</th>\n",
       "      <th>title</th>\n",
       "      <th>work_id</th>\n",
       "      <th>work_ratings_count</th>\n",
       "      <th>work_text_reviews_count</th>\n",
       "      <th>authors_2</th>\n",
       "      <th>user_id</th>\n",
       "      <th>rating</th>\n",
       "    </tr>\n",
       "  </thead>\n",
       "  <tbody>\n",
       "    <tr>\n",
       "      <th>0</th>\n",
       "      <td>0</td>\n",
       "      <td>0</td>\n",
       "      <td>['Suzanne Collins']</td>\n",
       "      <td>4.34</td>\n",
       "      <td>2767052</td>\n",
       "      <td>1</td>\n",
       "      <td>272</td>\n",
       "      <td>WINNING MEANS FAME AND FORTUNE.LOSING MEANS CE...</td>\n",
       "      <td>['young-adult', 'fiction', 'fantasy', 'science...</td>\n",
       "      <td>2767052</td>\n",
       "      <td>https://images.gr-assets.com/books/1447303603m...</td>\n",
       "      <td>439023483</td>\n",
       "      <td>9.780439e+12</td>\n",
       "      <td>eng</td>\n",
       "      <td>2008.0</td>\n",
       "      <td>The Hunger Games</td>\n",
       "      <td>374.0</td>\n",
       "      <td>09/14/08</td>\n",
       "      <td>66715</td>\n",
       "      <td>127936</td>\n",
       "      <td>560092</td>\n",
       "      <td>1481305</td>\n",
       "      <td>2706317</td>\n",
       "      <td>4780653</td>\n",
       "      <td>https://images.gr-assets.com/books/1447303603s...</td>\n",
       "      <td>The Hunger Games (The Hunger Games, #1)</td>\n",
       "      <td>2792775</td>\n",
       "      <td>4942365</td>\n",
       "      <td>155254</td>\n",
       "      <td>['Suzanne Collins']</td>\n",
       "      <td>0.0</td>\n",
       "      <td>0.0</td>\n",
       "    </tr>\n",
       "    <tr>\n",
       "      <th>1</th>\n",
       "      <td>1</td>\n",
       "      <td>1</td>\n",
       "      <td>['J.K. Rowling', 'Mary GrandPré']</td>\n",
       "      <td>4.44</td>\n",
       "      <td>3</td>\n",
       "      <td>2</td>\n",
       "      <td>491</td>\n",
       "      <td>Harry Potter's life is miserable. His parents ...</td>\n",
       "      <td>['fantasy', 'fiction', 'young-adult', 'classics']</td>\n",
       "      <td>3</td>\n",
       "      <td>https://images.gr-assets.com/books/1474154022m...</td>\n",
       "      <td>439554934</td>\n",
       "      <td>9.780440e+12</td>\n",
       "      <td>eng</td>\n",
       "      <td>1997.0</td>\n",
       "      <td>Harry Potter and the Philosopher's Stone</td>\n",
       "      <td>309.0</td>\n",
       "      <td>11/01/03</td>\n",
       "      <td>75504</td>\n",
       "      <td>101676</td>\n",
       "      <td>455024</td>\n",
       "      <td>1156318</td>\n",
       "      <td>3011543</td>\n",
       "      <td>4602479</td>\n",
       "      <td>https://images.gr-assets.com/books/1474154022s...</td>\n",
       "      <td>Harry Potter and the Sorcerer's Stone (Harry P...</td>\n",
       "      <td>4640799</td>\n",
       "      <td>4800065</td>\n",
       "      <td>75867</td>\n",
       "      <td>['J.K. Rowling', 'Mary GrandPré']</td>\n",
       "      <td>0.0</td>\n",
       "      <td>0.0</td>\n",
       "    </tr>\n",
       "    <tr>\n",
       "      <th>2</th>\n",
       "      <td>2</td>\n",
       "      <td>2</td>\n",
       "      <td>['Stephenie Meyer']</td>\n",
       "      <td>3.57</td>\n",
       "      <td>41865</td>\n",
       "      <td>3</td>\n",
       "      <td>226</td>\n",
       "      <td>About three things I was absolutely positive.\\...</td>\n",
       "      <td>['young-adult', 'fantasy', 'romance', 'fiction...</td>\n",
       "      <td>41865</td>\n",
       "      <td>https://images.gr-assets.com/books/1361039443m...</td>\n",
       "      <td>316015849</td>\n",
       "      <td>9.780316e+12</td>\n",
       "      <td>eng</td>\n",
       "      <td>2005.0</td>\n",
       "      <td>Twilight</td>\n",
       "      <td>501.0</td>\n",
       "      <td>09/06/06</td>\n",
       "      <td>456191</td>\n",
       "      <td>436802</td>\n",
       "      <td>793319</td>\n",
       "      <td>875073</td>\n",
       "      <td>1355439</td>\n",
       "      <td>3866839</td>\n",
       "      <td>https://images.gr-assets.com/books/1361039443s...</td>\n",
       "      <td>Twilight (Twilight, #1)</td>\n",
       "      <td>3212258</td>\n",
       "      <td>3916824</td>\n",
       "      <td>95009</td>\n",
       "      <td>['Stephenie Meyer']</td>\n",
       "      <td>0.0</td>\n",
       "      <td>0.0</td>\n",
       "    </tr>\n",
       "    <tr>\n",
       "      <th>3</th>\n",
       "      <td>3</td>\n",
       "      <td>3</td>\n",
       "      <td>['Harper Lee']</td>\n",
       "      <td>4.25</td>\n",
       "      <td>2657</td>\n",
       "      <td>4</td>\n",
       "      <td>487</td>\n",
       "      <td>The unforgettable novel of a childhood in a sl...</td>\n",
       "      <td>['classics', 'fiction', 'historical-fiction', ...</td>\n",
       "      <td>2657</td>\n",
       "      <td>https://images.gr-assets.com/books/1361975680m...</td>\n",
       "      <td>61120081</td>\n",
       "      <td>9.780061e+12</td>\n",
       "      <td>eng</td>\n",
       "      <td>1960.0</td>\n",
       "      <td>To Kill a Mockingbird</td>\n",
       "      <td>324.0</td>\n",
       "      <td>05/23/06</td>\n",
       "      <td>60427</td>\n",
       "      <td>117415</td>\n",
       "      <td>446835</td>\n",
       "      <td>1001952</td>\n",
       "      <td>1714267</td>\n",
       "      <td>3198671</td>\n",
       "      <td>https://images.gr-assets.com/books/1361975680s...</td>\n",
       "      <td>To Kill a Mockingbird</td>\n",
       "      <td>3275794</td>\n",
       "      <td>3340896</td>\n",
       "      <td>72586</td>\n",
       "      <td>['Harper Lee']</td>\n",
       "      <td>0.0</td>\n",
       "      <td>0.0</td>\n",
       "    </tr>\n",
       "    <tr>\n",
       "      <th>4</th>\n",
       "      <td>4</td>\n",
       "      <td>4</td>\n",
       "      <td>['F. Scott Fitzgerald']</td>\n",
       "      <td>3.89</td>\n",
       "      <td>4671</td>\n",
       "      <td>5</td>\n",
       "      <td>1356</td>\n",
       "      <td>Alternate Cover Edition ISBN: 0743273567 (ISBN...</td>\n",
       "      <td>['classics', 'fiction', 'historical-fiction', ...</td>\n",
       "      <td>4671</td>\n",
       "      <td>https://images.gr-assets.com/books/1490528560m...</td>\n",
       "      <td>743273567</td>\n",
       "      <td>9.780743e+12</td>\n",
       "      <td>eng</td>\n",
       "      <td>1925.0</td>\n",
       "      <td>The Great Gatsby</td>\n",
       "      <td>200.0</td>\n",
       "      <td>09/28/04</td>\n",
       "      <td>86236</td>\n",
       "      <td>197621</td>\n",
       "      <td>606158</td>\n",
       "      <td>936012</td>\n",
       "      <td>947718</td>\n",
       "      <td>2683664</td>\n",
       "      <td>https://images.gr-assets.com/books/1490528560s...</td>\n",
       "      <td>The Great Gatsby</td>\n",
       "      <td>245494</td>\n",
       "      <td>2773745</td>\n",
       "      <td>51992</td>\n",
       "      <td>['F. Scott Fitzgerald']</td>\n",
       "      <td>0.0</td>\n",
       "      <td>0.0</td>\n",
       "    </tr>\n",
       "  </tbody>\n",
       "</table>\n",
       "</div>"
      ],
      "text/plain": [
       "   Unnamed: 0  index                            authors  average_rating  \\\n",
       "0           0      0                ['Suzanne Collins']            4.34   \n",
       "1           1      1  ['J.K. Rowling', 'Mary GrandPré']            4.44   \n",
       "2           2      2                ['Stephenie Meyer']            3.57   \n",
       "3           3      3                     ['Harper Lee']            4.25   \n",
       "4           4      4            ['F. Scott Fitzgerald']            3.89   \n",
       "\n",
       "   best_book_id  book_id  books_count  \\\n",
       "0       2767052        1          272   \n",
       "1             3        2          491   \n",
       "2         41865        3          226   \n",
       "3          2657        4          487   \n",
       "4          4671        5         1356   \n",
       "\n",
       "                                         description  \\\n",
       "0  WINNING MEANS FAME AND FORTUNE.LOSING MEANS CE...   \n",
       "1  Harry Potter's life is miserable. His parents ...   \n",
       "2  About three things I was absolutely positive.\\...   \n",
       "3  The unforgettable novel of a childhood in a sl...   \n",
       "4  Alternate Cover Edition ISBN: 0743273567 (ISBN...   \n",
       "\n",
       "                                              genres  goodreads_book_id  \\\n",
       "0  ['young-adult', 'fiction', 'fantasy', 'science...            2767052   \n",
       "1  ['fantasy', 'fiction', 'young-adult', 'classics']                  3   \n",
       "2  ['young-adult', 'fantasy', 'romance', 'fiction...              41865   \n",
       "3  ['classics', 'fiction', 'historical-fiction', ...               2657   \n",
       "4  ['classics', 'fiction', 'historical-fiction', ...               4671   \n",
       "\n",
       "                                           image_url       isbn        isbn13  \\\n",
       "0  https://images.gr-assets.com/books/1447303603m...  439023483  9.780439e+12   \n",
       "1  https://images.gr-assets.com/books/1474154022m...  439554934  9.780440e+12   \n",
       "2  https://images.gr-assets.com/books/1361039443m...  316015849  9.780316e+12   \n",
       "3  https://images.gr-assets.com/books/1361975680m...   61120081  9.780061e+12   \n",
       "4  https://images.gr-assets.com/books/1490528560m...  743273567  9.780743e+12   \n",
       "\n",
       "  language_code  original_publication_year  \\\n",
       "0           eng                     2008.0   \n",
       "1           eng                     1997.0   \n",
       "2           eng                     2005.0   \n",
       "3           eng                     1960.0   \n",
       "4           eng                     1925.0   \n",
       "\n",
       "                             original_title  pages publishDate  ratings_1  \\\n",
       "0                          The Hunger Games  374.0    09/14/08      66715   \n",
       "1  Harry Potter and the Philosopher's Stone  309.0    11/01/03      75504   \n",
       "2                                  Twilight  501.0    09/06/06     456191   \n",
       "3                     To Kill a Mockingbird  324.0    05/23/06      60427   \n",
       "4                          The Great Gatsby  200.0    09/28/04      86236   \n",
       "\n",
       "   ratings_2  ratings_3  ratings_4  ratings_5  ratings_count  \\\n",
       "0     127936     560092    1481305    2706317        4780653   \n",
       "1     101676     455024    1156318    3011543        4602479   \n",
       "2     436802     793319     875073    1355439        3866839   \n",
       "3     117415     446835    1001952    1714267        3198671   \n",
       "4     197621     606158     936012     947718        2683664   \n",
       "\n",
       "                                     small_image_url  \\\n",
       "0  https://images.gr-assets.com/books/1447303603s...   \n",
       "1  https://images.gr-assets.com/books/1474154022s...   \n",
       "2  https://images.gr-assets.com/books/1361039443s...   \n",
       "3  https://images.gr-assets.com/books/1361975680s...   \n",
       "4  https://images.gr-assets.com/books/1490528560s...   \n",
       "\n",
       "                                               title  work_id  \\\n",
       "0            The Hunger Games (The Hunger Games, #1)  2792775   \n",
       "1  Harry Potter and the Sorcerer's Stone (Harry P...  4640799   \n",
       "2                            Twilight (Twilight, #1)  3212258   \n",
       "3                              To Kill a Mockingbird  3275794   \n",
       "4                                   The Great Gatsby   245494   \n",
       "\n",
       "   work_ratings_count  work_text_reviews_count  \\\n",
       "0             4942365                   155254   \n",
       "1             4800065                    75867   \n",
       "2             3916824                    95009   \n",
       "3             3340896                    72586   \n",
       "4             2773745                    51992   \n",
       "\n",
       "                           authors_2  user_id  rating  \n",
       "0                ['Suzanne Collins']      0.0     0.0  \n",
       "1  ['J.K. Rowling', 'Mary GrandPré']      0.0     0.0  \n",
       "2                ['Stephenie Meyer']      0.0     0.0  \n",
       "3                     ['Harper Lee']      0.0     0.0  \n",
       "4            ['F. Scott Fitzgerald']      0.0     0.0  "
      ]
     },
     "execution_count": 29,
     "metadata": {},
     "output_type": "execute_result"
    }
   ],
   "source": [
    "goodbooks.head()"
   ]
  },
  {
   "cell_type": "code",
   "execution_count": 30,
   "id": "47b2719a",
   "metadata": {
    "scrolled": true
   },
   "outputs": [],
   "source": [
    "goodbooks['user_id'] = goodbooks['user_id'].astype('int64')\n",
    "goodbooks['rating'] = goodbooks['rating'].astype('int64')"
   ]
  },
  {
   "cell_type": "code",
   "execution_count": 31,
   "id": "2140200b",
   "metadata": {
    "scrolled": true
   },
   "outputs": [
    {
     "name": "stdout",
     "output_type": "stream",
     "text": [
      "int64\n",
      "int64\n"
     ]
    }
   ],
   "source": [
    "print(goodbooks['user_id'].dtypes)\n",
    "print(goodbooks['rating'].dtypes)"
   ]
  },
  {
   "cell_type": "code",
   "execution_count": 32,
   "id": "fafb13af",
   "metadata": {},
   "outputs": [
    {
     "data": {
      "text/html": [
       "<div>\n",
       "<style scoped>\n",
       "    .dataframe tbody tr th:only-of-type {\n",
       "        vertical-align: middle;\n",
       "    }\n",
       "\n",
       "    .dataframe tbody tr th {\n",
       "        vertical-align: top;\n",
       "    }\n",
       "\n",
       "    .dataframe thead th {\n",
       "        text-align: right;\n",
       "    }\n",
       "</style>\n",
       "<table border=\"1\" class=\"dataframe\">\n",
       "  <thead>\n",
       "    <tr style=\"text-align: right;\">\n",
       "      <th></th>\n",
       "      <th>Unnamed: 0</th>\n",
       "      <th>index</th>\n",
       "      <th>authors</th>\n",
       "      <th>average_rating</th>\n",
       "      <th>best_book_id</th>\n",
       "      <th>book_id</th>\n",
       "      <th>books_count</th>\n",
       "      <th>description</th>\n",
       "      <th>genres</th>\n",
       "      <th>goodreads_book_id</th>\n",
       "      <th>image_url</th>\n",
       "      <th>isbn</th>\n",
       "      <th>isbn13</th>\n",
       "      <th>language_code</th>\n",
       "      <th>original_publication_year</th>\n",
       "      <th>original_title</th>\n",
       "      <th>pages</th>\n",
       "      <th>publishDate</th>\n",
       "      <th>ratings_1</th>\n",
       "      <th>ratings_2</th>\n",
       "      <th>ratings_3</th>\n",
       "      <th>ratings_4</th>\n",
       "      <th>ratings_5</th>\n",
       "      <th>ratings_count</th>\n",
       "      <th>small_image_url</th>\n",
       "      <th>title</th>\n",
       "      <th>work_id</th>\n",
       "      <th>work_ratings_count</th>\n",
       "      <th>work_text_reviews_count</th>\n",
       "      <th>authors_2</th>\n",
       "      <th>user_id</th>\n",
       "      <th>rating</th>\n",
       "    </tr>\n",
       "  </thead>\n",
       "  <tbody>\n",
       "    <tr>\n",
       "      <th>77294</th>\n",
       "      <td>4807</td>\n",
       "      <td>4807</td>\n",
       "      <td>['Milan Kundera', 'Suzanne Rappaport']</td>\n",
       "      <td>3.86</td>\n",
       "      <td>26101</td>\n",
       "      <td>5374</td>\n",
       "      <td>113</td>\n",
       "      <td>Laughable Loves is a collection of stories tha...</td>\n",
       "      <td>['fiction', 'classics', 'contemporary', 'philo...</td>\n",
       "      <td>26101</td>\n",
       "      <td>https://s.gr-assets.com/assets/nophoto/book/11...</td>\n",
       "      <td>571206921</td>\n",
       "      <td>9.780571e+12</td>\n",
       "      <td>eng</td>\n",
       "      <td>1970.0</td>\n",
       "      <td>Směšné lásky</td>\n",
       "      <td>287.0</td>\n",
       "      <td>August 21st 2000</td>\n",
       "      <td>179</td>\n",
       "      <td>838</td>\n",
       "      <td>4631</td>\n",
       "      <td>7271</td>\n",
       "      <td>4489</td>\n",
       "      <td>12984</td>\n",
       "      <td>https://s.gr-assets.com/assets/nophoto/book/50...</td>\n",
       "      <td>Laughable Loves</td>\n",
       "      <td>3838</td>\n",
       "      <td>17408</td>\n",
       "      <td>781</td>\n",
       "      <td>['Milan Kundera', 'Suzanne Rappaport']</td>\n",
       "      <td>23403</td>\n",
       "      <td>5</td>\n",
       "    </tr>\n",
       "    <tr>\n",
       "      <th>71921</th>\n",
       "      <td>4493</td>\n",
       "      <td>4493</td>\n",
       "      <td>['Jonathan Maberry']</td>\n",
       "      <td>3.98</td>\n",
       "      <td>3993839</td>\n",
       "      <td>4995</td>\n",
       "      <td>30</td>\n",
       "      <td>When you have to kill the same terrorist twice...</td>\n",
       "      <td>['horror', 'thriller', 'fiction', 'science-fic...</td>\n",
       "      <td>3993839</td>\n",
       "      <td>https://s.gr-assets.com/assets/nophoto/book/11...</td>\n",
       "      <td>312382855</td>\n",
       "      <td>9.780312e+12</td>\n",
       "      <td>eng</td>\n",
       "      <td>2009.0</td>\n",
       "      <td>Patient Zero</td>\n",
       "      <td>421.0</td>\n",
       "      <td>March 3rd 2009</td>\n",
       "      <td>508</td>\n",
       "      <td>1148</td>\n",
       "      <td>4274</td>\n",
       "      <td>7523</td>\n",
       "      <td>7749</td>\n",
       "      <td>19852</td>\n",
       "      <td>https://s.gr-assets.com/assets/nophoto/book/50...</td>\n",
       "      <td>Patient Zero (Joe Ledger, #1)</td>\n",
       "      <td>4039913</td>\n",
       "      <td>21202</td>\n",
       "      <td>1735</td>\n",
       "      <td>['Jonathan Maberry']</td>\n",
       "      <td>0</td>\n",
       "      <td>0</td>\n",
       "    </tr>\n",
       "    <tr>\n",
       "      <th>4496</th>\n",
       "      <td>292</td>\n",
       "      <td>292</td>\n",
       "      <td>['Wilson Rawls']</td>\n",
       "      <td>4.04</td>\n",
       "      <td>10365</td>\n",
       "      <td>321</td>\n",
       "      <td>69</td>\n",
       "      <td>A loving threesome, they ranged the dark hills...</td>\n",
       "      <td>['classics', 'fiction', 'young-adult', 'histor...</td>\n",
       "      <td>10365</td>\n",
       "      <td>https://images.gr-assets.com/books/1166154337m...</td>\n",
       "      <td>375806814</td>\n",
       "      <td>9.780376e+12</td>\n",
       "      <td>eng</td>\n",
       "      <td>1961.0</td>\n",
       "      <td>Where the Red Fern Grows</td>\n",
       "      <td>272.0</td>\n",
       "      <td>05/09/00</td>\n",
       "      <td>6585</td>\n",
       "      <td>15232</td>\n",
       "      <td>53560</td>\n",
       "      <td>89699</td>\n",
       "      <td>115103</td>\n",
       "      <td>268548</td>\n",
       "      <td>https://images.gr-assets.com/books/1166154337s...</td>\n",
       "      <td>Where the Red Fern Grows</td>\n",
       "      <td>115</td>\n",
       "      <td>280179</td>\n",
       "      <td>8725</td>\n",
       "      <td>['Wilson Rawls']</td>\n",
       "      <td>10602</td>\n",
       "      <td>4</td>\n",
       "    </tr>\n",
       "    <tr>\n",
       "      <th>119733</th>\n",
       "      <td>7970</td>\n",
       "      <td>7970</td>\n",
       "      <td>['Margaret Edson']</td>\n",
       "      <td>4.20</td>\n",
       "      <td>171201</td>\n",
       "      <td>9707</td>\n",
       "      <td>11</td>\n",
       "      <td>Winner of the Pulitzer Prize, the New York Dra...</td>\n",
       "      <td>['fiction', 'contemporary', 'classics']</td>\n",
       "      <td>171201</td>\n",
       "      <td>https://images.gr-assets.com/books/1327908183m...</td>\n",
       "      <td>571198775</td>\n",
       "      <td>9.780571e+12</td>\n",
       "      <td>eng</td>\n",
       "      <td>1995.0</td>\n",
       "      <td>Wit : A Play</td>\n",
       "      <td>85.0</td>\n",
       "      <td>March 29th 1999</td>\n",
       "      <td>167</td>\n",
       "      <td>383</td>\n",
       "      <td>1659</td>\n",
       "      <td>3563</td>\n",
       "      <td>5129</td>\n",
       "      <td>10601</td>\n",
       "      <td>https://images.gr-assets.com/books/1327908183s...</td>\n",
       "      <td>Wit</td>\n",
       "      <td>2206</td>\n",
       "      <td>10901</td>\n",
       "      <td>417</td>\n",
       "      <td>['Margaret Edson']</td>\n",
       "      <td>38027</td>\n",
       "      <td>3</td>\n",
       "    </tr>\n",
       "    <tr>\n",
       "      <th>90826</th>\n",
       "      <td>5414</td>\n",
       "      <td>5414</td>\n",
       "      <td>['Cornelius Ryan']</td>\n",
       "      <td>4.31</td>\n",
       "      <td>161156</td>\n",
       "      <td>6131</td>\n",
       "      <td>73</td>\n",
       "      <td>The unparalleled work of history that recreate...</td>\n",
       "      <td>['history', 'nonfiction', 'classics']</td>\n",
       "      <td>161156</td>\n",
       "      <td>https://s.gr-assets.com/assets/nophoto/book/11...</td>\n",
       "      <td>671890913</td>\n",
       "      <td>9.780672e+12</td>\n",
       "      <td>eng</td>\n",
       "      <td>1959.0</td>\n",
       "      <td>The Longest Day</td>\n",
       "      <td>350.0</td>\n",
       "      <td>May 1st 1994</td>\n",
       "      <td>114</td>\n",
       "      <td>271</td>\n",
       "      <td>1931</td>\n",
       "      <td>5826</td>\n",
       "      <td>7694</td>\n",
       "      <td>14949</td>\n",
       "      <td>https://s.gr-assets.com/assets/nophoto/book/50...</td>\n",
       "      <td>The Longest Day</td>\n",
       "      <td>1413765</td>\n",
       "      <td>15836</td>\n",
       "      <td>416</td>\n",
       "      <td>['Cornelius Ryan']</td>\n",
       "      <td>0</td>\n",
       "      <td>0</td>\n",
       "    </tr>\n",
       "  </tbody>\n",
       "</table>\n",
       "</div>"
      ],
      "text/plain": [
       "        Unnamed: 0  index                                 authors  \\\n",
       "77294         4807   4807  ['Milan Kundera', 'Suzanne Rappaport']   \n",
       "71921         4493   4493                    ['Jonathan Maberry']   \n",
       "4496           292    292                        ['Wilson Rawls']   \n",
       "119733        7970   7970                      ['Margaret Edson']   \n",
       "90826         5414   5414                      ['Cornelius Ryan']   \n",
       "\n",
       "        average_rating  best_book_id  book_id  books_count  \\\n",
       "77294             3.86         26101     5374          113   \n",
       "71921             3.98       3993839     4995           30   \n",
       "4496              4.04         10365      321           69   \n",
       "119733            4.20        171201     9707           11   \n",
       "90826             4.31        161156     6131           73   \n",
       "\n",
       "                                              description  \\\n",
       "77294   Laughable Loves is a collection of stories tha...   \n",
       "71921   When you have to kill the same terrorist twice...   \n",
       "4496    A loving threesome, they ranged the dark hills...   \n",
       "119733  Winner of the Pulitzer Prize, the New York Dra...   \n",
       "90826   The unparalleled work of history that recreate...   \n",
       "\n",
       "                                                   genres  goodreads_book_id  \\\n",
       "77294   ['fiction', 'classics', 'contemporary', 'philo...              26101   \n",
       "71921   ['horror', 'thriller', 'fiction', 'science-fic...            3993839   \n",
       "4496    ['classics', 'fiction', 'young-adult', 'histor...              10365   \n",
       "119733            ['fiction', 'contemporary', 'classics']             171201   \n",
       "90826               ['history', 'nonfiction', 'classics']             161156   \n",
       "\n",
       "                                                image_url       isbn  \\\n",
       "77294   https://s.gr-assets.com/assets/nophoto/book/11...  571206921   \n",
       "71921   https://s.gr-assets.com/assets/nophoto/book/11...  312382855   \n",
       "4496    https://images.gr-assets.com/books/1166154337m...  375806814   \n",
       "119733  https://images.gr-assets.com/books/1327908183m...  571198775   \n",
       "90826   https://s.gr-assets.com/assets/nophoto/book/11...  671890913   \n",
       "\n",
       "              isbn13 language_code  original_publication_year  \\\n",
       "77294   9.780571e+12           eng                     1970.0   \n",
       "71921   9.780312e+12           eng                     2009.0   \n",
       "4496    9.780376e+12           eng                     1961.0   \n",
       "119733  9.780571e+12           eng                     1995.0   \n",
       "90826   9.780672e+12           eng                     1959.0   \n",
       "\n",
       "                  original_title  pages       publishDate  ratings_1  \\\n",
       "77294              Směšné lásky   287.0  August 21st 2000        179   \n",
       "71921               Patient Zero  421.0    March 3rd 2009        508   \n",
       "4496    Where the Red Fern Grows  272.0          05/09/00       6585   \n",
       "119733              Wit : A Play   85.0   March 29th 1999        167   \n",
       "90826            The Longest Day  350.0      May 1st 1994        114   \n",
       "\n",
       "        ratings_2  ratings_3  ratings_4  ratings_5  ratings_count  \\\n",
       "77294         838       4631       7271       4489          12984   \n",
       "71921        1148       4274       7523       7749          19852   \n",
       "4496        15232      53560      89699     115103         268548   \n",
       "119733        383       1659       3563       5129          10601   \n",
       "90826         271       1931       5826       7694          14949   \n",
       "\n",
       "                                          small_image_url  \\\n",
       "77294   https://s.gr-assets.com/assets/nophoto/book/50...   \n",
       "71921   https://s.gr-assets.com/assets/nophoto/book/50...   \n",
       "4496    https://images.gr-assets.com/books/1166154337s...   \n",
       "119733  https://images.gr-assets.com/books/1327908183s...   \n",
       "90826   https://s.gr-assets.com/assets/nophoto/book/50...   \n",
       "\n",
       "                                title  work_id  work_ratings_count  \\\n",
       "77294                 Laughable Loves     3838               17408   \n",
       "71921   Patient Zero (Joe Ledger, #1)  4039913               21202   \n",
       "4496         Where the Red Fern Grows      115              280179   \n",
       "119733                            Wit     2206               10901   \n",
       "90826                 The Longest Day  1413765               15836   \n",
       "\n",
       "        work_text_reviews_count                               authors_2  \\\n",
       "77294                       781  ['Milan Kundera', 'Suzanne Rappaport']   \n",
       "71921                      1735                    ['Jonathan Maberry']   \n",
       "4496                       8725                        ['Wilson Rawls']   \n",
       "119733                      417                      ['Margaret Edson']   \n",
       "90826                       416                      ['Cornelius Ryan']   \n",
       "\n",
       "        user_id  rating  \n",
       "77294     23403       5  \n",
       "71921         0       0  \n",
       "4496      10602       4  \n",
       "119733    38027       3  \n",
       "90826         0       0  "
      ]
     },
     "execution_count": 32,
     "metadata": {},
     "output_type": "execute_result"
    }
   ],
   "source": [
    "goodbooks.sample(5)"
   ]
  },
  {
   "cell_type": "markdown",
   "id": "7c2817bb",
   "metadata": {},
   "source": [
    "<em><span style=\"color:lightsteelblue\">Check shape of data</span></em>"
   ]
  },
  {
   "cell_type": "code",
   "execution_count": 33,
   "id": "3026fb3f",
   "metadata": {
    "scrolled": true
   },
   "outputs": [
    {
     "data": {
      "text/plain": [
       "(140010, 32)"
      ]
     },
     "execution_count": 33,
     "metadata": {},
     "output_type": "execute_result"
    }
   ],
   "source": [
    "goodbooks.shape"
   ]
  },
  {
   "cell_type": "markdown",
   "id": "81a3db07",
   "metadata": {},
   "source": [
    "<em><span style=\"color:lightsteelblue\">View missing values</span></em>"
   ]
  },
  {
   "cell_type": "code",
   "execution_count": 34,
   "id": "0212480f",
   "metadata": {
    "scrolled": true
   },
   "outputs": [
    {
     "data": {
      "image/png": "[encoded data removed]",
      "text/plain": [
       "<Figure size 2500x1000 with 2 Axes>"
      ]
     },
     "metadata": {},
     "output_type": "display_data"
    }
   ],
   "source": [
    "msno.matrix(goodbooks)\n",
    "plt.show()"
   ]
  },
  {
   "cell_type": "markdown",
   "id": "5a5db2d6",
   "metadata": {},
   "source": [
    "<em><span style=\"color:lightsteelblue\">Confirm duplicate column</span></em>"
   ]
  },
  {
   "cell_type": "code",
   "execution_count": 35,
   "id": "2b8eefe7",
   "metadata": {
    "scrolled": false
   },
   "outputs": [
    {
     "data": {
      "text/html": [
       "<div>\n",
       "<style scoped>\n",
       "    .dataframe tbody tr th:only-of-type {\n",
       "        vertical-align: middle;\n",
       "    }\n",
       "\n",
       "    .dataframe tbody tr th {\n",
       "        vertical-align: top;\n",
       "    }\n",
       "\n",
       "    .dataframe thead th {\n",
       "        text-align: right;\n",
       "    }\n",
       "</style>\n",
       "<table border=\"1\" class=\"dataframe\">\n",
       "  <thead>\n",
       "    <tr style=\"text-align: right;\">\n",
       "      <th></th>\n",
       "      <th>authors</th>\n",
       "      <th>authors_2</th>\n",
       "    </tr>\n",
       "  </thead>\n",
       "  <tbody>\n",
       "    <tr>\n",
       "      <th>132850</th>\n",
       "      <td>['[David Auburn]']</td>\n",
       "      <td>['[David Auburn]']</td>\n",
       "    </tr>\n",
       "    <tr>\n",
       "      <th>31808</th>\n",
       "      <td>['Patricia Schultz']</td>\n",
       "      <td>['Patricia Schultz']</td>\n",
       "    </tr>\n",
       "    <tr>\n",
       "      <th>28439</th>\n",
       "      <td>['Charles Bukowski']</td>\n",
       "      <td>['Charles Bukowski']</td>\n",
       "    </tr>\n",
       "    <tr>\n",
       "      <th>76898</th>\n",
       "      <td>['Greg Bear']</td>\n",
       "      <td>['Greg Bear']</td>\n",
       "    </tr>\n",
       "    <tr>\n",
       "      <th>125653</th>\n",
       "      <td>['[Plum Sykes]']</td>\n",
       "      <td>['[Plum Sykes]']</td>\n",
       "    </tr>\n",
       "  </tbody>\n",
       "</table>\n",
       "</div>"
      ],
      "text/plain": [
       "                     authors             authors_2\n",
       "132850    ['[David Auburn]']    ['[David Auburn]']\n",
       "31808   ['Patricia Schultz']  ['Patricia Schultz']\n",
       "28439   ['Charles Bukowski']  ['Charles Bukowski']\n",
       "76898          ['Greg Bear']         ['Greg Bear']\n",
       "125653      ['[Plum Sykes]']      ['[Plum Sykes]']"
      ]
     },
     "execution_count": 35,
     "metadata": {},
     "output_type": "execute_result"
    }
   ],
   "source": [
    "author_df = goodbooks[['authors', 'authors_2']]\n",
    "author_df.sample(5)"
   ]
  },
  {
   "cell_type": "code",
   "execution_count": 36,
   "id": "60ce9928",
   "metadata": {},
   "outputs": [
    {
     "data": {
      "text/plain": [
       "0"
      ]
     },
     "execution_count": 36,
     "metadata": {},
     "output_type": "execute_result"
    }
   ],
   "source": [
    "unmatched_authors = author_df[~author_df['authors'].isin(author_df['authors_2'])]\n",
    "unmatched_authors['authors'].nunique()"
   ]
  },
  {
   "cell_type": "markdown",
   "id": "5a5664e9",
   "metadata": {},
   "source": [
    "<em><span style=\"color:lightsteelblue\">Drop redundant columns and columns containing missing values</span></em>"
   ]
  },
  {
   "cell_type": "code",
   "execution_count": 37,
   "id": "637a3cf1",
   "metadata": {
    "scrolled": false
   },
   "outputs": [],
   "source": [
    "goodbooks.drop(columns=['Unnamed: 0', 'index', 'average_rating', \n",
    "                        'best_book_id', 'isbn', 'isbn13',\n",
    "                        'original_publication_year', 'original_title',\n",
    "                        'pages','publishDate', 'authors_2'], inplace=True)"
   ]
  },
  {
   "cell_type": "markdown",
   "id": "8e7e390c",
   "metadata": {},
   "source": [
    "<em><span style=\"color:lightsteelblue\">Recheck shape</span></em>"
   ]
  },
  {
   "cell_type": "code",
   "execution_count": 38,
   "id": "f9ea9e3b",
   "metadata": {
    "scrolled": true
   },
   "outputs": [
    {
     "data": {
      "text/plain": [
       "(140010, 21)"
      ]
     },
     "execution_count": 38,
     "metadata": {},
     "output_type": "execute_result"
    }
   ],
   "source": [
    "goodbooks.shape"
   ]
  },
  {
   "cell_type": "markdown",
   "id": "b21e6557",
   "metadata": {},
   "source": [
    "<em><span style=\"color:lightsteelblue\">Handle missing values in [description]</span></em>"
   ]
  },
  {
   "cell_type": "code",
   "execution_count": 39,
   "id": "f029d0bc",
   "metadata": {
    "scrolled": true
   },
   "outputs": [
    {
     "data": {
      "text/plain": [
       "209"
      ]
     },
     "execution_count": 39,
     "metadata": {},
     "output_type": "execute_result"
    }
   ],
   "source": [
    "goodbooks['description'].isna().sum()"
   ]
  },
  {
   "cell_type": "code",
   "execution_count": 40,
   "id": "7e2340b2",
   "metadata": {
    "scrolled": true
   },
   "outputs": [],
   "source": [
    "goodbooks.dropna(subset=['description'], inplace=True)"
   ]
  },
  {
   "cell_type": "code",
   "execution_count": 41,
   "id": "2cf149b2",
   "metadata": {},
   "outputs": [
    {
     "data": {
      "text/plain": [
       "0"
      ]
     },
     "execution_count": 41,
     "metadata": {},
     "output_type": "execute_result"
    }
   ],
   "source": [
    "goodbooks['description'].isna().sum()"
   ]
  },
  {
   "cell_type": "markdown",
   "id": "f146d707",
   "metadata": {},
   "source": [
    "<em><span style=\"color:lightsteelblue\">Recheck shape</span></em>"
   ]
  },
  {
   "cell_type": "code",
   "execution_count": 42,
   "id": "1c7cc7b7",
   "metadata": {},
   "outputs": [
    {
     "data": {
      "text/plain": [
       "(139801, 21)"
      ]
     },
     "execution_count": 42,
     "metadata": {},
     "output_type": "execute_result"
    }
   ],
   "source": [
    "goodbooks.shape"
   ]
  },
  {
   "cell_type": "markdown",
   "id": "62a3eacf",
   "metadata": {},
   "source": [
    "<em><span style=\"color:lightsteelblue\">Generate profile report (add. EDA) </span></em>"
   ]
  },
  {
   "cell_type": "code",
   "execution_count": 43,
   "id": "72d5f113",
   "metadata": {},
   "outputs": [],
   "source": [
    "goodbooks_report = ProfileReport(goodbooks.sample(10000, random_state=42),\n",
    "                                vars={'num':{'low_categorical_threshold':0}},\n",
    "                                correlations={'auto': {'calculate':False}})\n",
    "# goodbooks_report.to_file('goodbooks_report.html')"
   ]
  },
  {
   "cell_type": "markdown",
   "id": "342e41fb",
   "metadata": {},
   "source": [
    "<em><span style=\"color:lightsteelblue\">Drop imbalanced column</span></em>"
   ]
  },
  {
   "cell_type": "code",
   "execution_count": 44,
   "id": "40243964",
   "metadata": {},
   "outputs": [],
   "source": [
    "goodbooks.drop(columns=['language_code'], inplace=True)"
   ]
  },
  {
   "cell_type": "code",
   "execution_count": 45,
   "id": "566e0928",
   "metadata": {},
   "outputs": [
    {
     "name": "stdout",
     "output_type": "stream",
     "text": [
      "<class 'pandas.core.frame.DataFrame'>\n",
      "Int64Index: 139801 entries, 0 to 140009\n",
      "Data columns (total 20 columns):\n",
      " #   Column                   Non-Null Count   Dtype \n",
      "---  ------                   --------------   ----- \n",
      " 0   authors                  139801 non-null  object\n",
      " 1   book_id                  139801 non-null  int64 \n",
      " 2   books_count              139801 non-null  int64 \n",
      " 3   description              139801 non-null  object\n",
      " 4   genres                   139801 non-null  object\n",
      " 5   goodreads_book_id        139801 non-null  int64 \n",
      " 6   image_url                139801 non-null  object\n",
      " 7   ratings_1                139801 non-null  int64 \n",
      " 8   ratings_2                139801 non-null  int64 \n",
      " 9   ratings_3                139801 non-null  int64 \n",
      " 10  ratings_4                139801 non-null  int64 \n",
      " 11  ratings_5                139801 non-null  int64 \n",
      " 12  ratings_count            139801 non-null  int64 \n",
      " 13  small_image_url          139801 non-null  object\n",
      " 14  title                    139801 non-null  object\n",
      " 15  work_id                  139801 non-null  int64 \n",
      " 16  work_ratings_count       139801 non-null  int64 \n",
      " 17  work_text_reviews_count  139801 non-null  int64 \n",
      " 18  user_id                  139801 non-null  int64 \n",
      " 19  rating                   139801 non-null  int64 \n",
      "dtypes: int64(14), object(6)\n",
      "memory usage: 22.4+ MB\n"
     ]
    }
   ],
   "source": [
    "goodbooks.info()"
   ]
  },
  {
   "cell_type": "markdown",
   "id": "f303d3cf",
   "metadata": {},
   "source": [
    "<em><span style=\"color:lightsteelblue\">Select features using phik correlations and p-values</span></em>"
   ]
  },
  {
   "cell_type": "code",
   "execution_count": 46,
   "id": "91ccd5cd",
   "metadata": {},
   "outputs": [],
   "source": [
    "goodbooks_phik = goodbooks.copy()\n",
    "interval_columns = ['book_id', 'books_count', 'goodreads_book_id',\n",
    "                    'ratings_1', 'ratings_2', 'ratings_3', 'ratings_4',\n",
    "                    'ratings_5', 'ratings_count','work_id', 'work_ratings_count',\n",
    "                    'work_text_reviews_count','user_id']\n",
    "\n",
    "for c in goodbooks_phik.columns:\n",
    "    if c not in interval_columns:\n",
    "        goodbooks_phik[c] = goodbooks_phik[c].astype('category')"
   ]
  },
  {
   "cell_type": "code",
   "execution_count": 47,
   "id": "7d0910e3",
   "metadata": {
    "scrolled": true
   },
   "outputs": [
    {
     "name": "stderr",
     "output_type": "stream",
     "text": [
      "C:\\Users\\xanaa\\anaconda3\\Lib\\site-packages\\phik\\data_quality.py:119: UserWarning: The number of unique values of variable x is large: 5028. Are you sure this is not an interval variable? Analysis might be slow.\n",
      "  warnings.warn(\n",
      "C:\\Users\\xanaa\\anaconda3\\Lib\\site-packages\\phik\\data_quality.py:119: UserWarning: The number of unique values of variable x is large: 5028. Are you sure this is not an interval variable? Analysis might be slow.\n",
      "  warnings.warn(\n",
      "C:\\Users\\xanaa\\anaconda3\\Lib\\site-packages\\phik\\data_quality.py:119: UserWarning: The number of unique values of variable x is large: 9772. Are you sure this is not an interval variable? Analysis might be slow.\n",
      "  warnings.warn(\n",
      "C:\\Users\\xanaa\\anaconda3\\Lib\\site-packages\\phik\\data_quality.py:119: UserWarning: The number of unique values of variable x is large: 9772. Are you sure this is not an interval variable? Analysis might be slow.\n",
      "  warnings.warn(\n",
      "C:\\Users\\xanaa\\anaconda3\\Lib\\site-packages\\phik\\data_quality.py:119: UserWarning: The number of unique values of variable x is large: 4326. Are you sure this is not an interval variable? Analysis might be slow.\n",
      "  warnings.warn(\n",
      "C:\\Users\\xanaa\\anaconda3\\Lib\\site-packages\\phik\\data_quality.py:119: UserWarning: The number of unique values of variable x is large: 4326. Are you sure this is not an interval variable? Analysis might be slow.\n",
      "  warnings.warn(\n",
      "C:\\Users\\xanaa\\anaconda3\\Lib\\site-packages\\phik\\data_quality.py:119: UserWarning: The number of unique values of variable x is large: 6642. Are you sure this is not an interval variable? Analysis might be slow.\n",
      "  warnings.warn(\n",
      "C:\\Users\\xanaa\\anaconda3\\Lib\\site-packages\\phik\\data_quality.py:119: UserWarning: The number of unique values of variable x is large: 6642. Are you sure this is not an interval variable? Analysis might be slow.\n",
      "  warnings.warn(\n",
      "C:\\Users\\xanaa\\anaconda3\\Lib\\site-packages\\phik\\data_quality.py:119: UserWarning: The number of unique values of variable x is large: 6642. Are you sure this is not an interval variable? Analysis might be slow.\n",
      "  warnings.warn(\n",
      "C:\\Users\\xanaa\\anaconda3\\Lib\\site-packages\\phik\\data_quality.py:119: UserWarning: The number of unique values of variable x is large: 6642. Are you sure this is not an interval variable? Analysis might be slow.\n",
      "  warnings.warn(\n",
      "C:\\Users\\xanaa\\anaconda3\\Lib\\site-packages\\phik\\data_quality.py:119: UserWarning: The number of unique values of variable x is large: 9909. Are you sure this is not an interval variable? Analysis might be slow.\n",
      "  warnings.warn(\n",
      "C:\\Users\\xanaa\\anaconda3\\Lib\\site-packages\\phik\\data_quality.py:119: UserWarning: The number of unique values of variable x is large: 9909. Are you sure this is not an interval variable? Analysis might be slow.\n",
      "  warnings.warn(\n"
     ]
    }
   ],
   "source": [
    "phik_correlations = []\n",
    "phik_significances = []\n",
    "columns = goodbooks_phik.columns\n",
    "y = goodbooks_phik['rating']\n",
    "\n",
    "for c in columns:\n",
    "    x = goodbooks_phik[c]\n",
    "    if c in interval_columns:\n",
    "        phik_correlations.append(phik.phik_from_array(x,y,[c]))\n",
    "        phik_significances.append(phik.significance.significance_from_array(x,y,[c])[0])\n",
    "    else:\n",
    "        phik_correlations.append(phik.phik_from_array(x,y))\n",
    "        phik_significances.append(phik.significance.significance_from_array(x,y)[0])"
   ]
  },
  {
   "cell_type": "code",
   "execution_count": 48,
   "id": "4961ac0e",
   "metadata": {},
   "outputs": [],
   "source": [
    "phik_df = pd.DataFrame({'phik': phik_correlations, 'p-value': phik_significances},\n",
    "                      index=columns)\n",
    "phik_df.sort_values(by='phik', ascending=False, inplace=True)"
   ]
  },
  {
   "cell_type": "code",
   "execution_count": 49,
   "id": "215380f6",
   "metadata": {
    "scrolled": true
   },
   "outputs": [
    {
     "data": {
      "image/png": "[encoded data removed]",
      "text/plain": [
       "<Figure size 550x550 with 2 Axes>"
      ]
     },
     "metadata": {},
     "output_type": "display_data"
    }
   ],
   "source": [
    "phik_df.iloc[1:].plot.bar(subplots=True, figsize=(5.5,5.5))\n",
    "plt.tight_layout()\n",
    "plt.show()"
   ]
  },
  {
   "cell_type": "code",
   "execution_count": 50,
   "id": "83873d51",
   "metadata": {},
   "outputs": [],
   "source": [
    "goodbooks.drop(columns=['book_id', 'ratings_2', 'books_count', 'ratings_4',\n",
    "                        'work_text_reviews_count', 'work_ratings_count', \n",
    "                        'ratings_count', 'ratings_5', 'ratings_3',\n",
    "                        'ratings_1'], inplace=True)"
   ]
  },
  {
   "cell_type": "markdown",
   "id": "86b54bdd",
   "metadata": {},
   "source": [
    "<em><span style=\"color:lightsteelblue\">Recheck shape</span></em>"
   ]
  },
  {
   "cell_type": "code",
   "execution_count": 51,
   "id": "ad479250",
   "metadata": {},
   "outputs": [
    {
     "data": {
      "text/plain": [
       "(139801, 10)"
      ]
     },
     "execution_count": 51,
     "metadata": {},
     "output_type": "execute_result"
    }
   ],
   "source": [
    "goodbooks.shape"
   ]
  },
  {
   "cell_type": "code",
   "execution_count": 52,
   "id": "ff034cca",
   "metadata": {},
   "outputs": [
    {
     "data": {
      "text/html": [
       "<div>\n",
       "<style scoped>\n",
       "    .dataframe tbody tr th:only-of-type {\n",
       "        vertical-align: middle;\n",
       "    }\n",
       "\n",
       "    .dataframe tbody tr th {\n",
       "        vertical-align: top;\n",
       "    }\n",
       "\n",
       "    .dataframe thead th {\n",
       "        text-align: right;\n",
       "    }\n",
       "</style>\n",
       "<table border=\"1\" class=\"dataframe\">\n",
       "  <thead>\n",
       "    <tr style=\"text-align: right;\">\n",
       "      <th></th>\n",
       "      <th>authors</th>\n",
       "      <th>description</th>\n",
       "      <th>genres</th>\n",
       "      <th>goodreads_book_id</th>\n",
       "      <th>image_url</th>\n",
       "      <th>small_image_url</th>\n",
       "      <th>title</th>\n",
       "      <th>work_id</th>\n",
       "      <th>user_id</th>\n",
       "      <th>rating</th>\n",
       "    </tr>\n",
       "  </thead>\n",
       "  <tbody>\n",
       "    <tr>\n",
       "      <th>0</th>\n",
       "      <td>['Suzanne Collins']</td>\n",
       "      <td>WINNING MEANS FAME AND FORTUNE.LOSING MEANS CE...</td>\n",
       "      <td>['young-adult', 'fiction', 'fantasy', 'science...</td>\n",
       "      <td>2767052</td>\n",
       "      <td>https://images.gr-assets.com/books/1447303603m...</td>\n",
       "      <td>https://images.gr-assets.com/books/1447303603s...</td>\n",
       "      <td>The Hunger Games (The Hunger Games, #1)</td>\n",
       "      <td>2792775</td>\n",
       "      <td>0</td>\n",
       "      <td>0</td>\n",
       "    </tr>\n",
       "    <tr>\n",
       "      <th>1</th>\n",
       "      <td>['J.K. Rowling', 'Mary GrandPré']</td>\n",
       "      <td>Harry Potter's life is miserable. His parents ...</td>\n",
       "      <td>['fantasy', 'fiction', 'young-adult', 'classics']</td>\n",
       "      <td>3</td>\n",
       "      <td>https://images.gr-assets.com/books/1474154022m...</td>\n",
       "      <td>https://images.gr-assets.com/books/1474154022s...</td>\n",
       "      <td>Harry Potter and the Sorcerer's Stone (Harry P...</td>\n",
       "      <td>4640799</td>\n",
       "      <td>0</td>\n",
       "      <td>0</td>\n",
       "    </tr>\n",
       "    <tr>\n",
       "      <th>2</th>\n",
       "      <td>['Stephenie Meyer']</td>\n",
       "      <td>About three things I was absolutely positive.\\...</td>\n",
       "      <td>['young-adult', 'fantasy', 'romance', 'fiction...</td>\n",
       "      <td>41865</td>\n",
       "      <td>https://images.gr-assets.com/books/1361039443m...</td>\n",
       "      <td>https://images.gr-assets.com/books/1361039443s...</td>\n",
       "      <td>Twilight (Twilight, #1)</td>\n",
       "      <td>3212258</td>\n",
       "      <td>0</td>\n",
       "      <td>0</td>\n",
       "    </tr>\n",
       "  </tbody>\n",
       "</table>\n",
       "</div>"
      ],
      "text/plain": [
       "                             authors  \\\n",
       "0                ['Suzanne Collins']   \n",
       "1  ['J.K. Rowling', 'Mary GrandPré']   \n",
       "2                ['Stephenie Meyer']   \n",
       "\n",
       "                                         description  \\\n",
       "0  WINNING MEANS FAME AND FORTUNE.LOSING MEANS CE...   \n",
       "1  Harry Potter's life is miserable. His parents ...   \n",
       "2  About three things I was absolutely positive.\\...   \n",
       "\n",
       "                                              genres  goodreads_book_id  \\\n",
       "0  ['young-adult', 'fiction', 'fantasy', 'science...            2767052   \n",
       "1  ['fantasy', 'fiction', 'young-adult', 'classics']                  3   \n",
       "2  ['young-adult', 'fantasy', 'romance', 'fiction...              41865   \n",
       "\n",
       "                                           image_url  \\\n",
       "0  https://images.gr-assets.com/books/1447303603m...   \n",
       "1  https://images.gr-assets.com/books/1474154022m...   \n",
       "2  https://images.gr-assets.com/books/1361039443m...   \n",
       "\n",
       "                                     small_image_url  \\\n",
       "0  https://images.gr-assets.com/books/1447303603s...   \n",
       "1  https://images.gr-assets.com/books/1474154022s...   \n",
       "2  https://images.gr-assets.com/books/1361039443s...   \n",
       "\n",
       "                                               title  work_id  user_id  rating  \n",
       "0            The Hunger Games (The Hunger Games, #1)  2792775        0       0  \n",
       "1  Harry Potter and the Sorcerer's Stone (Harry P...  4640799        0       0  \n",
       "2                            Twilight (Twilight, #1)  3212258        0       0  "
      ]
     },
     "execution_count": 52,
     "metadata": {},
     "output_type": "execute_result"
    }
   ],
   "source": [
    "goodbooks.head(3)"
   ]
  },
  {
   "cell_type": "markdown",
   "id": "5e0e8d8c",
   "metadata": {},
   "source": [
    "<em><span style=\"color:lightsteelblue\">Clean [authors] and [title]</span></em>"
   ]
  },
  {
   "cell_type": "code",
   "execution_count": 53,
   "id": "6590dfaa",
   "metadata": {},
   "outputs": [],
   "source": [
    "goodbooks['title'] = goodbooks['title'].str.replace(r'\\s*\\(.*?\\)\\s*', ' ', regex=True)\n",
    "goodbooks['title'] = goodbooks['title'].str.strip()"
   ]
  },
  {
   "cell_type": "code",
   "execution_count": 54,
   "id": "8ca1fff4",
   "metadata": {},
   "outputs": [],
   "source": [
    "goodbooks['authors'] = goodbooks['authors'].str.replace(r\"[\\[\\]'']\", '', regex=True).str.strip()\n",
    "goodbooks['authors'] = goodbooks['authors'].apply((lambda x: x.split(',')[0].split(';')[0].strip()))"
   ]
  },
  {
   "cell_type": "code",
   "execution_count": 55,
   "id": "41a88467",
   "metadata": {},
   "outputs": [
    {
     "data": {
      "text/html": [
       "<div>\n",
       "<style scoped>\n",
       "    .dataframe tbody tr th:only-of-type {\n",
       "        vertical-align: middle;\n",
       "    }\n",
       "\n",
       "    .dataframe tbody tr th {\n",
       "        vertical-align: top;\n",
       "    }\n",
       "\n",
       "    .dataframe thead th {\n",
       "        text-align: right;\n",
       "    }\n",
       "</style>\n",
       "<table border=\"1\" class=\"dataframe\">\n",
       "  <thead>\n",
       "    <tr style=\"text-align: right;\">\n",
       "      <th></th>\n",
       "      <th>authors</th>\n",
       "      <th>description</th>\n",
       "      <th>genres</th>\n",
       "      <th>goodreads_book_id</th>\n",
       "      <th>image_url</th>\n",
       "      <th>small_image_url</th>\n",
       "      <th>title</th>\n",
       "      <th>work_id</th>\n",
       "      <th>user_id</th>\n",
       "      <th>rating</th>\n",
       "    </tr>\n",
       "  </thead>\n",
       "  <tbody>\n",
       "    <tr>\n",
       "      <th>0</th>\n",
       "      <td>Suzanne Collins</td>\n",
       "      <td>WINNING MEANS FAME AND FORTUNE.LOSING MEANS CE...</td>\n",
       "      <td>['young-adult', 'fiction', 'fantasy', 'science...</td>\n",
       "      <td>2767052</td>\n",
       "      <td>https://images.gr-assets.com/books/1447303603m...</td>\n",
       "      <td>https://images.gr-assets.com/books/1447303603s...</td>\n",
       "      <td>The Hunger Games</td>\n",
       "      <td>2792775</td>\n",
       "      <td>0</td>\n",
       "      <td>0</td>\n",
       "    </tr>\n",
       "    <tr>\n",
       "      <th>1</th>\n",
       "      <td>J.K. Rowling</td>\n",
       "      <td>Harry Potter's life is miserable. His parents ...</td>\n",
       "      <td>['fantasy', 'fiction', 'young-adult', 'classics']</td>\n",
       "      <td>3</td>\n",
       "      <td>https://images.gr-assets.com/books/1474154022m...</td>\n",
       "      <td>https://images.gr-assets.com/books/1474154022s...</td>\n",
       "      <td>Harry Potter and the Sorcerer's Stone</td>\n",
       "      <td>4640799</td>\n",
       "      <td>0</td>\n",
       "      <td>0</td>\n",
       "    </tr>\n",
       "    <tr>\n",
       "      <th>2</th>\n",
       "      <td>Stephenie Meyer</td>\n",
       "      <td>About three things I was absolutely positive.\\...</td>\n",
       "      <td>['young-adult', 'fantasy', 'romance', 'fiction...</td>\n",
       "      <td>41865</td>\n",
       "      <td>https://images.gr-assets.com/books/1361039443m...</td>\n",
       "      <td>https://images.gr-assets.com/books/1361039443s...</td>\n",
       "      <td>Twilight</td>\n",
       "      <td>3212258</td>\n",
       "      <td>0</td>\n",
       "      <td>0</td>\n",
       "    </tr>\n",
       "  </tbody>\n",
       "</table>\n",
       "</div>"
      ],
      "text/plain": [
       "           authors                                        description  \\\n",
       "0  Suzanne Collins  WINNING MEANS FAME AND FORTUNE.LOSING MEANS CE...   \n",
       "1     J.K. Rowling  Harry Potter's life is miserable. His parents ...   \n",
       "2  Stephenie Meyer  About three things I was absolutely positive.\\...   \n",
       "\n",
       "                                              genres  goodreads_book_id  \\\n",
       "0  ['young-adult', 'fiction', 'fantasy', 'science...            2767052   \n",
       "1  ['fantasy', 'fiction', 'young-adult', 'classics']                  3   \n",
       "2  ['young-adult', 'fantasy', 'romance', 'fiction...              41865   \n",
       "\n",
       "                                           image_url  \\\n",
       "0  https://images.gr-assets.com/books/1447303603m...   \n",
       "1  https://images.gr-assets.com/books/1474154022m...   \n",
       "2  https://images.gr-assets.com/books/1361039443m...   \n",
       "\n",
       "                                     small_image_url  \\\n",
       "0  https://images.gr-assets.com/books/1447303603s...   \n",
       "1  https://images.gr-assets.com/books/1474154022s...   \n",
       "2  https://images.gr-assets.com/books/1361039443s...   \n",
       "\n",
       "                                   title  work_id  user_id  rating  \n",
       "0                       The Hunger Games  2792775        0       0  \n",
       "1  Harry Potter and the Sorcerer's Stone  4640799        0       0  \n",
       "2                               Twilight  3212258        0       0  "
      ]
     },
     "execution_count": 55,
     "metadata": {},
     "output_type": "execute_result"
    }
   ],
   "source": [
    "goodbooks.head(3)"
   ]
  },
  {
   "cell_type": "markdown",
   "id": "da6400c5",
   "metadata": {},
   "source": [
    "<em><span style=\"color:lightsteelblue\">(add. EDA)</span></em>"
   ]
  },
  {
   "cell_type": "code",
   "execution_count": 56,
   "id": "8eb73313",
   "metadata": {},
   "outputs": [
    {
     "data": {
      "text/plain": [
       "Plum Sykes                 7564\n",
       "Isabel Allende             6792\n",
       "Barbara Taylor Bradford    6466\n",
       "Wilson Rawls               5615\n",
       "M.M. Kaye                  5467\n",
       "Patricia Schultz           5408\n",
       "Neil Strauss               3560\n",
       "Max Brooks                 3225\n",
       "Anonymous                  2507\n",
       "Frank Herbert              2314\n",
       "Name: authors, dtype: int64"
      ]
     },
     "execution_count": 56,
     "metadata": {},
     "output_type": "execute_result"
    }
   ],
   "source": [
    "authors = goodbooks['authors'].value_counts()\n",
    "top_10_authors = authors[:10]\n",
    "top_10_authors"
   ]
  },
  {
   "cell_type": "code",
   "execution_count": 57,
   "id": "29d7f177",
   "metadata": {},
   "outputs": [
    {
     "data": {
      "image/png": "[encoded data removed]",
      "text/plain": [
       "<Figure size 640x480 with 1 Axes>"
      ]
     },
     "metadata": {},
     "output_type": "display_data"
    }
   ],
   "source": [
    "sns.barplot(data=top_10_authors, alpha=.75, saturation=100)\n",
    "plt.xlabel('Author', fontsize=12, c='#4c72b0')\n",
    "plt.xticks(rotation=90)\n",
    "plt.ylabel('Count', fontsize=12, c='#4c72b0')\n",
    "plt.suptitle('Top 10 Authors', size=14, fontweight='bold', color='#4c72b0')\n",
    "plt.title('(based on count)', size=10, pad=8, c='#4c72b0')\n",
    "\n",
    "plt.show()"
   ]
  },
  {
   "cell_type": "markdown",
   "id": "373b62da",
   "metadata": {},
   "source": [
    "## <span style=\"color:steelblue\"> Feature Engineering </span>"
   ]
  },
  {
   "cell_type": "markdown",
   "id": "7f5b7fe1",
   "metadata": {},
   "source": [
    "<em><span style=\"color:lightsteelblue\">Prep [authors] for embeddings</span></em>"
   ]
  },
  {
   "cell_type": "code",
   "execution_count": 58,
   "id": "50d104a3",
   "metadata": {},
   "outputs": [],
   "source": [
    "# authors_1 = goodbooks['authors'].copy()\n",
    "# authors_1[:10]"
   ]
  },
  {
   "cell_type": "code",
   "execution_count": 59,
   "id": "37c70d56",
   "metadata": {},
   "outputs": [],
   "source": [
    "# translator = str.maketrans('', '', string.punctuation + string.digits)\n",
    "# authors_1 = authors_1.apply(lambda x: x.translate(translator))\n",
    "# authors_1[:10]"
   ]
  },
  {
   "cell_type": "code",
   "execution_count": 60,
   "id": "56945b38",
   "metadata": {},
   "outputs": [],
   "source": [
    "# authors_1 = authors_1.str.lower()\n",
    "# authors_1[:10]"
   ]
  },
  {
   "cell_type": "markdown",
   "id": "2cb972e6",
   "metadata": {},
   "source": [
    "<em><span style=\"color:lightsteelblue\">Prep [description] for embeddings</span></em>"
   ]
  },
  {
   "cell_type": "code",
   "execution_count": 61,
   "id": "b91810c4",
   "metadata": {},
   "outputs": [
    {
     "data": {
      "text/plain": [
       "0    WINNING MEANS FAME AND FORTUNE.LOSING MEANS CE...\n",
       "1    Harry Potter's life is miserable. His parents ...\n",
       "2    About three things I was absolutely positive.\\...\n",
       "3    The unforgettable novel of a childhood in a sl...\n",
       "4    Alternate Cover Edition ISBN: 0743273567 (ISBN...\n",
       "5    Despite the tumor-shrinking medical miracle th...\n",
       "6    In a hole in the ground there lived a hobbit. ...\n",
       "7    The hero-narrator of The Catcher in the Rye is...\n",
       "8    World-renowned Harvard symbologist Robert Lang...\n",
       "9    Alternate cover edition of ISBN 9780679783268S...\n",
       "Name: description, dtype: object"
      ]
     },
     "execution_count": 61,
     "metadata": {},
     "output_type": "execute_result"
    }
   ],
   "source": [
    "goodbooks['description'][:10]"
   ]
  },
  {
   "cell_type": "code",
   "execution_count": 62,
   "id": "a479f91c",
   "metadata": {},
   "outputs": [
    {
     "data": {
      "text/plain": [
       "0    WINNING MEANS FAME AND FORTUNELOSING MEANS CER...\n",
       "1    Harry Potters life is miserable His parents ar...\n",
       "2    About three things I was absolutely positive\\n...\n",
       "3    The unforgettable novel of a childhood in a sl...\n",
       "4    Alternate Cover Edition ISBN  ISBN The Great G...\n",
       "5    Despite the tumorshrinking medical miracle tha...\n",
       "6    In a hole in the ground there lived a hobbit N...\n",
       "7    The heronarrator of The Catcher in the Rye is ...\n",
       "8    Worldrenowned Harvard symbologist Robert Langd...\n",
       "9    Alternate cover edition of ISBN Since its imme...\n",
       "Name: description, dtype: object"
      ]
     },
     "execution_count": 62,
     "metadata": {},
     "output_type": "execute_result"
    }
   ],
   "source": [
    "translator = str.maketrans('', '', string.punctuation + string.digits)\n",
    "goodbooks['description'] = goodbooks['description'].apply(lambda x: x.translate(translator))\n",
    "goodbooks['description'][:10]"
   ]
  },
  {
   "cell_type": "code",
   "execution_count": 63,
   "id": "c9c60505",
   "metadata": {},
   "outputs": [
    {
     "data": {
      "text/plain": [
       "0    winning means fame and fortunelosing means cer...\n",
       "1    harry potters life is miserable his parents ar...\n",
       "2    about three things i was absolutely positive\\n...\n",
       "3    the unforgettable novel of a childhood in a sl...\n",
       "4    alternate cover edition isbn  isbn the great g...\n",
       "5    despite the tumorshrinking medical miracle tha...\n",
       "6    in a hole in the ground there lived a hobbit n...\n",
       "7    the heronarrator of the catcher in the rye is ...\n",
       "8    worldrenowned harvard symbologist robert langd...\n",
       "9    alternate cover edition of isbn since its imme...\n",
       "Name: description, dtype: object"
      ]
     },
     "execution_count": 63,
     "metadata": {},
     "output_type": "execute_result"
    }
   ],
   "source": [
    "goodbooks['description'] = goodbooks['description'].str.lower()\n",
    "goodbooks['description'][:10]"
   ]
  },
  {
   "cell_type": "code",
   "execution_count": 64,
   "id": "05b0fd96",
   "metadata": {},
   "outputs": [
    {
     "name": "stderr",
     "output_type": "stream",
     "text": [
      "[nltk_data] Downloading package stopwords to\n",
      "[nltk_data]     C:\\Users\\xanaa\\AppData\\Roaming\\nltk_data...\n",
      "[nltk_data]   Package stopwords is already up-to-date!\n"
     ]
    },
    {
     "data": {
      "text/plain": [
       "True"
      ]
     },
     "execution_count": 64,
     "metadata": {},
     "output_type": "execute_result"
    }
   ],
   "source": [
    "nltk.download('stopwords')"
   ]
  },
  {
   "cell_type": "code",
   "execution_count": 65,
   "id": "29e78eaf",
   "metadata": {},
   "outputs": [],
   "source": [
    "en_stopwords = stopwords.words('english')\n",
    "en_stopwords = set(en_stopwords)"
   ]
  },
  {
   "cell_type": "code",
   "execution_count": 66,
   "id": "04e16a27",
   "metadata": {},
   "outputs": [],
   "source": [
    "def filter_description(desc):\n",
    "    words = desc.split() \n",
    "    filtered_words = [w for w in words if w not in en_stopwords and len(w) > 3]\n",
    "    return ' '.join(filtered_words)"
   ]
  },
  {
   "cell_type": "code",
   "execution_count": 67,
   "id": "52fa5a06",
   "metadata": {},
   "outputs": [
    {
     "data": {
      "text/plain": [
       "0    winning means fame fortunelosing means certain...\n",
       "1    harry potters life miserable parents dead stuc...\n",
       "2    three things absolutely positive first edward ...\n",
       "3    unforgettable novel childhood sleepy southern ...\n",
       "4    alternate cover edition isbn isbn great gatsby...\n",
       "5    despite tumorshrinking medical miracle bought ...\n",
       "6    hole ground lived hobbit nasty dirty hole fill...\n",
       "7    heronarrator catcher ancient child sixteen nat...\n",
       "8    worldrenowned harvard symbologist robert langd...\n",
       "9    alternate cover edition isbn since immediate s...\n",
       "Name: description, dtype: object"
      ]
     },
     "execution_count": 67,
     "metadata": {},
     "output_type": "execute_result"
    }
   ],
   "source": [
    "goodbooks['description'] = goodbooks['description'].apply(filter_description)\n",
    "goodbooks['description'][:10]"
   ]
  },
  {
   "cell_type": "code",
   "execution_count": 68,
   "id": "7dbd5165",
   "metadata": {},
   "outputs": [
    {
     "name": "stderr",
     "output_type": "stream",
     "text": [
      "[nltk_data] Downloading package punkt to\n",
      "[nltk_data]     C:\\Users\\xanaa\\AppData\\Roaming\\nltk_data...\n",
      "[nltk_data]   Package punkt is already up-to-date!\n"
     ]
    },
    {
     "data": {
      "text/plain": [
       "True"
      ]
     },
     "execution_count": 68,
     "metadata": {},
     "output_type": "execute_result"
    }
   ],
   "source": [
    "nltk.download('punkt')"
   ]
  },
  {
   "cell_type": "code",
   "execution_count": 69,
   "id": "6cf7c5b1",
   "metadata": {},
   "outputs": [
    {
     "data": {
      "text/plain": [
       "0    [winning, means, fame, fortunelosing, means, c...\n",
       "1    [harry, potters, life, miserable, parents, dea...\n",
       "2    [three, things, absolutely, positive, first, e...\n",
       "3    [unforgettable, novel, childhood, sleepy, sout...\n",
       "4    [alternate, cover, edition, isbn, isbn, great,...\n",
       "5    [despite, tumorshrinking, medical, miracle, bo...\n",
       "6    [hole, ground, lived, hobbit, nasty, dirty, ho...\n",
       "7    [heronarrator, catcher, ancient, child, sixtee...\n",
       "8    [worldrenowned, harvard, symbologist, robert, ...\n",
       "9    [alternate, cover, edition, isbn, since, immed...\n",
       "Name: description, dtype: object"
      ]
     },
     "execution_count": 69,
     "metadata": {},
     "output_type": "execute_result"
    }
   ],
   "source": [
    "goodbooks['description'] = goodbooks['description'].apply(word_tokenize)\n",
    "goodbooks['description'][:10]"
   ]
  },
  {
   "cell_type": "markdown",
   "id": "45e48735",
   "metadata": {},
   "source": [
    "<em><span style=\"color:lightsteelblue\">Inspect [genres]</span></em>"
   ]
  },
  {
   "cell_type": "code",
   "execution_count": 70,
   "id": "e0903e52",
   "metadata": {},
   "outputs": [],
   "source": [
    "# goodbooks['genres'][:10]"
   ]
  },
  {
   "cell_type": "markdown",
   "id": "21b4fb7e",
   "metadata": {},
   "source": [
    "<em><span style=\"color:lightsteelblue\">Load transfer learning model</span></em>"
   ]
  },
  {
   "cell_type": "code",
   "execution_count": 71,
   "id": "4561ab4b",
   "metadata": {},
   "outputs": [],
   "source": [
    "w2v_path = gdl.load(\"word2vec-google-news-300\", return_path=True)"
   ]
  },
  {
   "cell_type": "code",
   "execution_count": 72,
   "id": "574f38b3",
   "metadata": {},
   "outputs": [],
   "source": [
    "w2v_model = KeyedVectors.load_word2vec_format(w2v_path, binary=True)"
   ]
  },
  {
   "cell_type": "markdown",
   "id": "281bfe1d",
   "metadata": {},
   "source": [
    "<em><span style=\"color:lightsteelblue\">Create embeddings (Content-based filtering)</span></em>"
   ]
  },
  {
   "cell_type": "code",
   "execution_count": 73,
   "id": "8ded7c18",
   "metadata": {},
   "outputs": [],
   "source": [
    "def get_average_embedding(text, model):\n",
    "    if not text:\n",
    "        return np.zeros(model.vector_size)\n",
    "    vectors = [model[t] for t in text if t in model]\n",
    "    return np.mean(vectors, axis=0) if vectors else np.zeros(model.vector_size)"
   ]
  },
  {
   "cell_type": "code",
   "execution_count": 74,
   "id": "097a164f",
   "metadata": {},
   "outputs": [],
   "source": [
    "# goodbooks['auth_embeddings'] = authors_1.apply(lambda x: get_average_embedding(x, w2v_model))"
   ]
  },
  {
   "cell_type": "code",
   "execution_count": 75,
   "id": "3e98e4f5",
   "metadata": {},
   "outputs": [],
   "source": [
    "goodbooks['embeddings'] = goodbooks['description'].apply(lambda x: get_average_embedding(x, w2v_model))"
   ]
  },
  {
   "cell_type": "code",
   "execution_count": 76,
   "id": "d7875a90",
   "metadata": {},
   "outputs": [],
   "source": [
    "# goodbooks['genr_embeddings'] = goodbooks['genres'].apply(lambda x: get_average_embedding(x, w2v_model))"
   ]
  },
  {
   "cell_type": "code",
   "execution_count": 77,
   "id": "f8660995",
   "metadata": {},
   "outputs": [
    {
     "data": {
      "text/html": [
       "<div>\n",
       "<style scoped>\n",
       "    .dataframe tbody tr th:only-of-type {\n",
       "        vertical-align: middle;\n",
       "    }\n",
       "\n",
       "    .dataframe tbody tr th {\n",
       "        vertical-align: top;\n",
       "    }\n",
       "\n",
       "    .dataframe thead th {\n",
       "        text-align: right;\n",
       "    }\n",
       "</style>\n",
       "<table border=\"1\" class=\"dataframe\">\n",
       "  <thead>\n",
       "    <tr style=\"text-align: right;\">\n",
       "      <th></th>\n",
       "      <th>authors</th>\n",
       "      <th>description</th>\n",
       "      <th>genres</th>\n",
       "      <th>goodreads_book_id</th>\n",
       "      <th>image_url</th>\n",
       "      <th>small_image_url</th>\n",
       "      <th>title</th>\n",
       "      <th>work_id</th>\n",
       "      <th>user_id</th>\n",
       "      <th>rating</th>\n",
       "      <th>embeddings</th>\n",
       "    </tr>\n",
       "  </thead>\n",
       "  <tbody>\n",
       "    <tr>\n",
       "      <th>0</th>\n",
       "      <td>Suzanne Collins</td>\n",
       "      <td>[winning, means, fame, fortunelosing, means, c...</td>\n",
       "      <td>['young-adult', 'fiction', 'fantasy', 'science...</td>\n",
       "      <td>2767052</td>\n",
       "      <td>https://images.gr-assets.com/books/1447303603m...</td>\n",
       "      <td>https://images.gr-assets.com/books/1447303603s...</td>\n",
       "      <td>The Hunger Games</td>\n",
       "      <td>2792775</td>\n",
       "      <td>0</td>\n",
       "      <td>0</td>\n",
       "      <td>[0.034551818, 0.07394084, 0.0451905, 0.0879799...</td>\n",
       "    </tr>\n",
       "    <tr>\n",
       "      <th>1</th>\n",
       "      <td>J.K. Rowling</td>\n",
       "      <td>[harry, potters, life, miserable, parents, dea...</td>\n",
       "      <td>['fantasy', 'fiction', 'young-adult', 'classics']</td>\n",
       "      <td>3</td>\n",
       "      <td>https://images.gr-assets.com/books/1474154022m...</td>\n",
       "      <td>https://images.gr-assets.com/books/1474154022s...</td>\n",
       "      <td>Harry Potter and the Sorcerer's Stone</td>\n",
       "      <td>4640799</td>\n",
       "      <td>0</td>\n",
       "      <td>0</td>\n",
       "      <td>[0.0453708, 0.046102505, 0.0064881225, 0.03284...</td>\n",
       "    </tr>\n",
       "    <tr>\n",
       "      <th>2</th>\n",
       "      <td>Stephenie Meyer</td>\n",
       "      <td>[three, things, absolutely, positive, first, e...</td>\n",
       "      <td>['young-adult', 'fantasy', 'romance', 'fiction...</td>\n",
       "      <td>41865</td>\n",
       "      <td>https://images.gr-assets.com/books/1361039443m...</td>\n",
       "      <td>https://images.gr-assets.com/books/1361039443s...</td>\n",
       "      <td>Twilight</td>\n",
       "      <td>3212258</td>\n",
       "      <td>0</td>\n",
       "      <td>0</td>\n",
       "      <td>[0.057015877, -0.0043905755, 0.04261045, 0.076...</td>\n",
       "    </tr>\n",
       "    <tr>\n",
       "      <th>3</th>\n",
       "      <td>Harper Lee</td>\n",
       "      <td>[unforgettable, novel, childhood, sleepy, sout...</td>\n",
       "      <td>['classics', 'fiction', 'historical-fiction', ...</td>\n",
       "      <td>2657</td>\n",
       "      <td>https://images.gr-assets.com/books/1361975680m...</td>\n",
       "      <td>https://images.gr-assets.com/books/1361975680s...</td>\n",
       "      <td>To Kill a Mockingbird</td>\n",
       "      <td>3275794</td>\n",
       "      <td>0</td>\n",
       "      <td>0</td>\n",
       "      <td>[0.08347933, 0.011099372, 0.008116279, 0.07396...</td>\n",
       "    </tr>\n",
       "    <tr>\n",
       "      <th>4</th>\n",
       "      <td>F. Scott Fitzgerald</td>\n",
       "      <td>[alternate, cover, edition, isbn, isbn, great,...</td>\n",
       "      <td>['classics', 'fiction', 'historical-fiction', ...</td>\n",
       "      <td>4671</td>\n",
       "      <td>https://images.gr-assets.com/books/1490528560m...</td>\n",
       "      <td>https://images.gr-assets.com/books/1490528560s...</td>\n",
       "      <td>The Great Gatsby</td>\n",
       "      <td>245494</td>\n",
       "      <td>0</td>\n",
       "      <td>0</td>\n",
       "      <td>[0.009168668, 0.052608237, -0.045570202, 0.136...</td>\n",
       "    </tr>\n",
       "  </tbody>\n",
       "</table>\n",
       "</div>"
      ],
      "text/plain": [
       "               authors                                        description  \\\n",
       "0      Suzanne Collins  [winning, means, fame, fortunelosing, means, c...   \n",
       "1         J.K. Rowling  [harry, potters, life, miserable, parents, dea...   \n",
       "2      Stephenie Meyer  [three, things, absolutely, positive, first, e...   \n",
       "3           Harper Lee  [unforgettable, novel, childhood, sleepy, sout...   \n",
       "4  F. Scott Fitzgerald  [alternate, cover, edition, isbn, isbn, great,...   \n",
       "\n",
       "                                              genres  goodreads_book_id  \\\n",
       "0  ['young-adult', 'fiction', 'fantasy', 'science...            2767052   \n",
       "1  ['fantasy', 'fiction', 'young-adult', 'classics']                  3   \n",
       "2  ['young-adult', 'fantasy', 'romance', 'fiction...              41865   \n",
       "3  ['classics', 'fiction', 'historical-fiction', ...               2657   \n",
       "4  ['classics', 'fiction', 'historical-fiction', ...               4671   \n",
       "\n",
       "                                           image_url  \\\n",
       "0  https://images.gr-assets.com/books/1447303603m...   \n",
       "1  https://images.gr-assets.com/books/1474154022m...   \n",
       "2  https://images.gr-assets.com/books/1361039443m...   \n",
       "3  https://images.gr-assets.com/books/1361975680m...   \n",
       "4  https://images.gr-assets.com/books/1490528560m...   \n",
       "\n",
       "                                     small_image_url  \\\n",
       "0  https://images.gr-assets.com/books/1447303603s...   \n",
       "1  https://images.gr-assets.com/books/1474154022s...   \n",
       "2  https://images.gr-assets.com/books/1361039443s...   \n",
       "3  https://images.gr-assets.com/books/1361975680s...   \n",
       "4  https://images.gr-assets.com/books/1490528560s...   \n",
       "\n",
       "                                   title  work_id  user_id  rating  \\\n",
       "0                       The Hunger Games  2792775        0       0   \n",
       "1  Harry Potter and the Sorcerer's Stone  4640799        0       0   \n",
       "2                               Twilight  3212258        0       0   \n",
       "3                  To Kill a Mockingbird  3275794        0       0   \n",
       "4                       The Great Gatsby   245494        0       0   \n",
       "\n",
       "                                          embeddings  \n",
       "0  [0.034551818, 0.07394084, 0.0451905, 0.0879799...  \n",
       "1  [0.0453708, 0.046102505, 0.0064881225, 0.03284...  \n",
       "2  [0.057015877, -0.0043905755, 0.04261045, 0.076...  \n",
       "3  [0.08347933, 0.011099372, 0.008116279, 0.07396...  \n",
       "4  [0.009168668, 0.052608237, -0.045570202, 0.136...  "
      ]
     },
     "execution_count": 77,
     "metadata": {},
     "output_type": "execute_result"
    }
   ],
   "source": [
    "goodbooks.head()"
   ]
  },
  {
   "cell_type": "code",
   "execution_count": 78,
   "id": "bb70a62d",
   "metadata": {},
   "outputs": [
    {
     "name": "stdout",
     "output_type": "stream",
     "text": [
      "<class 'pandas.core.frame.DataFrame'>\n",
      "Int64Index: 139801 entries, 0 to 140009\n",
      "Data columns (total 11 columns):\n",
      " #   Column             Non-Null Count   Dtype \n",
      "---  ------             --------------   ----- \n",
      " 0   authors            139801 non-null  object\n",
      " 1   description        139801 non-null  object\n",
      " 2   genres             139801 non-null  object\n",
      " 3   goodreads_book_id  139801 non-null  int64 \n",
      " 4   image_url          139801 non-null  object\n",
      " 5   small_image_url    139801 non-null  object\n",
      " 6   title              139801 non-null  object\n",
      " 7   work_id            139801 non-null  int64 \n",
      " 8   user_id            139801 non-null  int64 \n",
      " 9   rating             139801 non-null  int64 \n",
      " 10  embeddings         139801 non-null  object\n",
      "dtypes: int64(4), object(7)\n",
      "memory usage: 12.8+ MB\n"
     ]
    }
   ],
   "source": [
    "goodbooks.info()"
   ]
  },
  {
   "cell_type": "markdown",
   "id": "3c9ee18e",
   "metadata": {},
   "source": [
    "<em><span style=\"color:lightsteelblue\">Combine embeddings</span></em>"
   ]
  },
  {
   "cell_type": "code",
   "execution_count": 79,
   "id": "c3aefc43",
   "metadata": {},
   "outputs": [],
   "source": [
    "# def combine_embeddings(row):\n",
    "#      return row['auth_embeddings'] + row['desc_embeddings'] + row['genr_embeddings']"
   ]
  },
  {
   "cell_type": "code",
   "execution_count": 80,
   "id": "099ccd48",
   "metadata": {},
   "outputs": [],
   "source": [
    "# goodbooks['comb_embeddings'] = goodbooks.apply(combine_embeddings, axis=1)"
   ]
  },
  {
   "cell_type": "code",
   "execution_count": 81,
   "id": "7dab5c8b",
   "metadata": {},
   "outputs": [],
   "source": [
    "# goodbooks.head()"
   ]
  },
  {
   "cell_type": "markdown",
   "id": "9d1be314",
   "metadata": {},
   "source": [
    "<em><span style=\"color:lightsteelblue\">Flatten Embeddings</span></em>"
   ]
  },
  {
   "cell_type": "code",
   "execution_count": 82,
   "id": "fc360d4e",
   "metadata": {},
   "outputs": [],
   "source": [
    "flat_embeddings = pd.DataFrame(goodbooks['embeddings'].tolist())"
   ]
  },
  {
   "cell_type": "markdown",
   "id": "21abb412",
   "metadata": {},
   "source": [
    "<em><span style=\"color:lightsteelblue\">Standardize Embeddings</span></em>"
   ]
  },
  {
   "cell_type": "code",
   "execution_count": 83,
   "id": "d3aac10b",
   "metadata": {},
   "outputs": [],
   "source": [
    "scaler = StandardScaler()\n",
    "scaled_embeddings = scaler.fit_transform(flat_embeddings)"
   ]
  },
  {
   "cell_type": "code",
   "execution_count": 84,
   "id": "98fb1e56",
   "metadata": {},
   "outputs": [],
   "source": [
    "goodbooks['scaled_embeddings'] = list(scaled_embeddings)"
   ]
  },
  {
   "cell_type": "code",
   "execution_count": 85,
   "id": "fc8fec5b",
   "metadata": {},
   "outputs": [
    {
     "data": {
      "text/html": [
       "<div>\n",
       "<style scoped>\n",
       "    .dataframe tbody tr th:only-of-type {\n",
       "        vertical-align: middle;\n",
       "    }\n",
       "\n",
       "    .dataframe tbody tr th {\n",
       "        vertical-align: top;\n",
       "    }\n",
       "\n",
       "    .dataframe thead th {\n",
       "        text-align: right;\n",
       "    }\n",
       "</style>\n",
       "<table border=\"1\" class=\"dataframe\">\n",
       "  <thead>\n",
       "    <tr style=\"text-align: right;\">\n",
       "      <th></th>\n",
       "      <th>authors</th>\n",
       "      <th>description</th>\n",
       "      <th>genres</th>\n",
       "      <th>goodreads_book_id</th>\n",
       "      <th>image_url</th>\n",
       "      <th>small_image_url</th>\n",
       "      <th>title</th>\n",
       "      <th>work_id</th>\n",
       "      <th>user_id</th>\n",
       "      <th>rating</th>\n",
       "      <th>embeddings</th>\n",
       "      <th>scaled_embeddings</th>\n",
       "    </tr>\n",
       "  </thead>\n",
       "  <tbody>\n",
       "    <tr>\n",
       "      <th>0</th>\n",
       "      <td>Suzanne Collins</td>\n",
       "      <td>[winning, means, fame, fortunelosing, means, c...</td>\n",
       "      <td>['young-adult', 'fiction', 'fantasy', 'science...</td>\n",
       "      <td>2767052</td>\n",
       "      <td>https://images.gr-assets.com/books/1447303603m...</td>\n",
       "      <td>https://images.gr-assets.com/books/1447303603s...</td>\n",
       "      <td>The Hunger Games</td>\n",
       "      <td>2792775</td>\n",
       "      <td>0</td>\n",
       "      <td>0</td>\n",
       "      <td>[0.034551818, 0.07394084, 0.0451905, 0.0879799...</td>\n",
       "      <td>[-0.5669854075554559, 0.8408763554235134, 1.44...</td>\n",
       "    </tr>\n",
       "    <tr>\n",
       "      <th>1</th>\n",
       "      <td>J.K. Rowling</td>\n",
       "      <td>[harry, potters, life, miserable, parents, dea...</td>\n",
       "      <td>['fantasy', 'fiction', 'young-adult', 'classics']</td>\n",
       "      <td>3</td>\n",
       "      <td>https://images.gr-assets.com/books/1474154022m...</td>\n",
       "      <td>https://images.gr-assets.com/books/1474154022s...</td>\n",
       "      <td>Harry Potter and the Sorcerer's Stone</td>\n",
       "      <td>4640799</td>\n",
       "      <td>0</td>\n",
       "      <td>0</td>\n",
       "      <td>[0.0453708, 0.046102505, 0.0064881225, 0.03284...</td>\n",
       "      <td>[-0.22157077142775045, -0.10495800489880126, 0...</td>\n",
       "    </tr>\n",
       "    <tr>\n",
       "      <th>2</th>\n",
       "      <td>Stephenie Meyer</td>\n",
       "      <td>[three, things, absolutely, positive, first, e...</td>\n",
       "      <td>['young-adult', 'fantasy', 'romance', 'fiction...</td>\n",
       "      <td>41865</td>\n",
       "      <td>https://images.gr-assets.com/books/1361039443m...</td>\n",
       "      <td>https://images.gr-assets.com/books/1361039443s...</td>\n",
       "      <td>Twilight</td>\n",
       "      <td>3212258</td>\n",
       "      <td>0</td>\n",
       "      <td>0</td>\n",
       "      <td>[0.057015877, -0.0043905755, 0.04261045, 0.076...</td>\n",
       "      <td>[0.1502184704327126, -1.820509067507336, 1.351...</td>\n",
       "    </tr>\n",
       "    <tr>\n",
       "      <th>3</th>\n",
       "      <td>Harper Lee</td>\n",
       "      <td>[unforgettable, novel, childhood, sleepy, sout...</td>\n",
       "      <td>['classics', 'fiction', 'historical-fiction', ...</td>\n",
       "      <td>2657</td>\n",
       "      <td>https://images.gr-assets.com/books/1361975680m...</td>\n",
       "      <td>https://images.gr-assets.com/books/1361975680s...</td>\n",
       "      <td>To Kill a Mockingbird</td>\n",
       "      <td>3275794</td>\n",
       "      <td>0</td>\n",
       "      <td>0</td>\n",
       "      <td>[0.08347933, 0.011099372, 0.008116279, 0.07396...</td>\n",
       "      <td>[0.9951098888844948, -1.2942231766953876, 0.14...</td>\n",
       "    </tr>\n",
       "    <tr>\n",
       "      <th>4</th>\n",
       "      <td>F. Scott Fitzgerald</td>\n",
       "      <td>[alternate, cover, edition, isbn, isbn, great,...</td>\n",
       "      <td>['classics', 'fiction', 'historical-fiction', ...</td>\n",
       "      <td>4671</td>\n",
       "      <td>https://images.gr-assets.com/books/1490528560m...</td>\n",
       "      <td>https://images.gr-assets.com/books/1490528560s...</td>\n",
       "      <td>The Great Gatsby</td>\n",
       "      <td>245494</td>\n",
       "      <td>0</td>\n",
       "      <td>0</td>\n",
       "      <td>[0.009168668, 0.052608237, -0.045570202, 0.136...</td>\n",
       "      <td>[-1.3773863028223081, 0.11608049059381285, -1....</td>\n",
       "    </tr>\n",
       "  </tbody>\n",
       "</table>\n",
       "</div>"
      ],
      "text/plain": [
       "               authors                                        description  \\\n",
       "0      Suzanne Collins  [winning, means, fame, fortunelosing, means, c...   \n",
       "1         J.K. Rowling  [harry, potters, life, miserable, parents, dea...   \n",
       "2      Stephenie Meyer  [three, things, absolutely, positive, first, e...   \n",
       "3           Harper Lee  [unforgettable, novel, childhood, sleepy, sout...   \n",
       "4  F. Scott Fitzgerald  [alternate, cover, edition, isbn, isbn, great,...   \n",
       "\n",
       "                                              genres  goodreads_book_id  \\\n",
       "0  ['young-adult', 'fiction', 'fantasy', 'science...            2767052   \n",
       "1  ['fantasy', 'fiction', 'young-adult', 'classics']                  3   \n",
       "2  ['young-adult', 'fantasy', 'romance', 'fiction...              41865   \n",
       "3  ['classics', 'fiction', 'historical-fiction', ...               2657   \n",
       "4  ['classics', 'fiction', 'historical-fiction', ...               4671   \n",
       "\n",
       "                                           image_url  \\\n",
       "0  https://images.gr-assets.com/books/1447303603m...   \n",
       "1  https://images.gr-assets.com/books/1474154022m...   \n",
       "2  https://images.gr-assets.com/books/1361039443m...   \n",
       "3  https://images.gr-assets.com/books/1361975680m...   \n",
       "4  https://images.gr-assets.com/books/1490528560m...   \n",
       "\n",
       "                                     small_image_url  \\\n",
       "0  https://images.gr-assets.com/books/1447303603s...   \n",
       "1  https://images.gr-assets.com/books/1474154022s...   \n",
       "2  https://images.gr-assets.com/books/1361039443s...   \n",
       "3  https://images.gr-assets.com/books/1361975680s...   \n",
       "4  https://images.gr-assets.com/books/1490528560s...   \n",
       "\n",
       "                                   title  work_id  user_id  rating  \\\n",
       "0                       The Hunger Games  2792775        0       0   \n",
       "1  Harry Potter and the Sorcerer's Stone  4640799        0       0   \n",
       "2                               Twilight  3212258        0       0   \n",
       "3                  To Kill a Mockingbird  3275794        0       0   \n",
       "4                       The Great Gatsby   245494        0       0   \n",
       "\n",
       "                                          embeddings  \\\n",
       "0  [0.034551818, 0.07394084, 0.0451905, 0.0879799...   \n",
       "1  [0.0453708, 0.046102505, 0.0064881225, 0.03284...   \n",
       "2  [0.057015877, -0.0043905755, 0.04261045, 0.076...   \n",
       "3  [0.08347933, 0.011099372, 0.008116279, 0.07396...   \n",
       "4  [0.009168668, 0.052608237, -0.045570202, 0.136...   \n",
       "\n",
       "                                   scaled_embeddings  \n",
       "0  [-0.5669854075554559, 0.8408763554235134, 1.44...  \n",
       "1  [-0.22157077142775045, -0.10495800489880126, 0...  \n",
       "2  [0.1502184704327126, -1.820509067507336, 1.351...  \n",
       "3  [0.9951098888844948, -1.2942231766953876, 0.14...  \n",
       "4  [-1.3773863028223081, 0.11608049059381285, -1....  "
      ]
     },
     "execution_count": 85,
     "metadata": {},
     "output_type": "execute_result"
    }
   ],
   "source": [
    "goodbooks.head()"
   ]
  },
  {
   "cell_type": "markdown",
   "id": "94a5ebea",
   "metadata": {},
   "source": [
    "## <span style=\"color:steelblue\"> SQL Database</span>"
   ]
  },
  {
   "cell_type": "code",
   "execution_count": 86,
   "id": "b2d27239",
   "metadata": {},
   "outputs": [],
   "source": [
    "def setup_database():\n",
    "    conn = sqlite3.connect('bookscout.db')\n",
    "    cursor = conn.cursor()\n",
    "    \n",
    "    cursor.execute('''\n",
    "    CREATE TABLE IF NOT EXISTS books (\n",
    "        work_id INTEGER PRIMARY KEY,\n",
    "        title TEXT,\n",
    "        authors TEXT,\n",
    "        genres TEXT,\n",
    "        embeddings BLOB\n",
    "    )\n",
    "    ''')\n",
    "    \n",
    "    cursor.execute('''\n",
    "    CREATE TABLE IF NOT EXISTS users (\n",
    "        user_id INTEGER PRIMARY KEY,\n",
    "        username TEXT NOT NULL,\n",
    "        password_hash TEXT NOT NULL\n",
    "    )\n",
    "    ''')\n",
    "    \n",
    "    cursor.execute('''\n",
    "    CREATE TABLE IF NOT EXISTS ratings (\n",
    "        rating INTEGER PRIMARY KEY,\n",
    "        user_id INTEGER,\n",
    "        work_id INTEGER,\n",
    "        FOREIGN KEY (work_id) REFERENCES books(work_id),\n",
    "        FOREIGN KEY (user_id) REFERENCES users(user_id)\n",
    "    )\n",
    "    ''')\n",
    "    \n",
    "    conn.commit()\n",
    "    conn.close()"
   ]
  },
  {
   "cell_type": "code",
   "execution_count": 87,
   "id": "a1e5cea1",
   "metadata": {},
   "outputs": [],
   "source": [
    "def insert_books_from_df(df):\n",
    "    conn = sqlite3.connect('bookscout.db')\n",
    "    cursor = conn.cursor()\n",
    "    for _, row in df.iterrows():\n",
    "        # Convert embeddings to bytes for SQLite compatability.\n",
    "        embeddings = np.array(row['scaled_embeddings']).tobytes() if 'scaled_embeddings' in row else None\n",
    "        cursor.execute('''\n",
    "        INSERT OR IGNORE INTO books (work_id, title, authors, genres, embeddings) VALUES (?, ?, ?, ?, ?)\n",
    "        ''', (row['work_id'], row['title'], row['authors'], row['genres'], embeddings))\n",
    "    conn.commit()\n",
    "    conn.close()"
   ]
  },
  {
   "cell_type": "code",
   "execution_count": 88,
   "id": "07f8186e",
   "metadata": {},
   "outputs": [],
   "source": [
    "def insert_ratings_from_df(df):\n",
    "    conn = sqlite3.connect('bookscout.db')\n",
    "    cursor = conn.cursor()\n",
    "    for _, row in df.iterrows():\n",
    "        cursor.execute('''\n",
    "        INSERT OR IGNORE INTO ratings (user_id, work_id, rating) VALUES (?, ?, ?)\n",
    "        ''', (row['user_id'], row['work_id'], row['rating']))\n",
    "    conn.commit()\n",
    "    conn.close()"
   ]
  },
  {
   "cell_type": "code",
   "execution_count": 89,
   "id": "d12a3c64",
   "metadata": {},
   "outputs": [],
   "source": [
    "def reset_database():\n",
    "    if os.path.exists('bookscout.db'):\n",
    "        os.remove('bookscout.db')"
   ]
  },
  {
   "cell_type": "markdown",
   "id": "c21e92f9",
   "metadata": {
    "heading_collapsed": true
   },
   "source": [
    "## <span style=\"color:steelblue\"> Collaborative Filtering Model</span>"
   ]
  },
  {
   "cell_type": "markdown",
   "id": "69d5fa13",
   "metadata": {
    "hidden": true
   },
   "source": [
    "<em><span style=\"color:lightsteelblue\">Create user-item df</span></em>"
   ]
  },
  {
   "cell_type": "code",
   "execution_count": 90,
   "id": "21761dbb",
   "metadata": {
    "hidden": true
   },
   "outputs": [],
   "source": [
    "# goodbooks_cf = goodbooks[['user_id', 'work_id', 'rating']]\n",
    "# goodbooks_cf.sample(5)"
   ]
  },
  {
   "cell_type": "markdown",
   "id": "a67f7cae",
   "metadata": {
    "hidden": true
   },
   "source": [
    "<em><span style=\"color:lightsteelblue\">Define rating scale</span></em>"
   ]
  },
  {
   "cell_type": "code",
   "execution_count": 91,
   "id": "2014d98d",
   "metadata": {
    "hidden": true
   },
   "outputs": [],
   "source": [
    "# reader = Reader(rating_scale=(1,5))"
   ]
  },
  {
   "cell_type": "markdown",
   "id": "7c50546f",
   "metadata": {
    "hidden": true
   },
   "source": [
    "<em><span style=\"color:lightsteelblue\"> Load and split data</span></em>"
   ]
  },
  {
   "cell_type": "code",
   "execution_count": 92,
   "id": "b2257107",
   "metadata": {
    "hidden": true
   },
   "outputs": [],
   "source": [
    "# data = Dataset.load_from_df(goodbooks_cf, reader)"
   ]
  },
  {
   "cell_type": "code",
   "execution_count": 93,
   "id": "31925a5a",
   "metadata": {
    "hidden": true
   },
   "outputs": [],
   "source": [
    "# trainset, testset = train_test_split(data, test_size=.25)"
   ]
  },
  {
   "cell_type": "markdown",
   "id": "c21d723f",
   "metadata": {
    "hidden": true
   },
   "source": [
    "<h3><em><span style=\"color:steelblue\"> Matrix Factorization </span></em></h3>"
   ]
  },
  {
   "cell_type": "markdown",
   "id": "53c2e0f2",
   "metadata": {
    "hidden": true
   },
   "source": [
    "<h4><em><span style=\"color:steelblue\"> Using singular value decomposition (SVD) </span></em></h4>"
   ]
  },
  {
   "cell_type": "markdown",
   "id": "e6406d6c",
   "metadata": {
    "hidden": true
   },
   "source": [
    "<em><span style=\"color:lightsteelblue\"> Optimize algo hyperparameters</span></em>"
   ]
  },
  {
   "cell_type": "code",
   "execution_count": 94,
   "id": "a1383993",
   "metadata": {
    "hidden": true
   },
   "outputs": [],
   "source": [
    "# svd_params = {\n",
    "#     'n_factors': [55, 110, 250],\n",
    "#     'n_epochs': [20, 30, 40],\n",
    "#     'lr_all': [0.005, 0.007, 0.011],\n",
    "#     'reg_all': [0.002, 0.004, 0.006]\n",
    "# }"
   ]
  },
  {
   "cell_type": "code",
   "execution_count": 95,
   "id": "4f420a87",
   "metadata": {
    "hidden": true
   },
   "outputs": [],
   "source": [
    "# svd_gs = GridSearchCV(SVD, svd_params, measures=['rmse','mae'])\n",
    "# svd_gs.fit(data)"
   ]
  },
  {
   "cell_type": "code",
   "execution_count": 96,
   "id": "09f1c57b",
   "metadata": {
    "hidden": true
   },
   "outputs": [],
   "source": [
    "# print('Best parameters (RMSE):', svd_gs.best_params['rmse'])"
   ]
  },
  {
   "cell_type": "code",
   "execution_count": 97,
   "id": "3e2cc309",
   "metadata": {
    "hidden": true
   },
   "outputs": [],
   "source": [
    "# print('Best parameters (MAE):', svd_gs.best_params['mae'])"
   ]
  },
  {
   "cell_type": "markdown",
   "id": "518a3a6d",
   "metadata": {
    "hidden": true
   },
   "source": [
    "<em><span style=\"color:lightsteelblue\"> Initialize algo</span></em>"
   ]
  },
  {
   "cell_type": "code",
   "execution_count": 98,
   "id": "31c7b89f",
   "metadata": {
    "hidden": true
   },
   "outputs": [],
   "source": [
    "# svd = SVD(n_factors=150, n_epochs=40, lr_all=0.011, reg_all=0.006)\n",
    "# svd.fit(trainset)"
   ]
  },
  {
   "cell_type": "markdown",
   "id": "c14f8279",
   "metadata": {
    "hidden": true
   },
   "source": [
    "<em><span style=\"color:lightsteelblue\"> Evaluate algo</span></em>"
   ]
  },
  {
   "cell_type": "code",
   "execution_count": 99,
   "id": "33e5a639",
   "metadata": {
    "hidden": true
   },
   "outputs": [],
   "source": [
    "# svd_predictions = svd.test(testset)"
   ]
  },
  {
   "cell_type": "code",
   "execution_count": 100,
   "id": "98709c92",
   "metadata": {
    "hidden": true
   },
   "outputs": [],
   "source": [
    "# svd_rmse = accuracy.rmse(svd_predictions)\n",
    "# svd_mae = accuracy.mae(svd_predictions)"
   ]
  },
  {
   "cell_type": "markdown",
   "id": "688e0bb9",
   "metadata": {
    "hidden": true
   },
   "source": [
    "**RMSE:** 0.9677 <br>\n",
    "**MAE:**  0.7898"
   ]
  },
  {
   "cell_type": "markdown",
   "id": "4bd805be",
   "metadata": {
    "hidden": true
   },
   "source": [
    "<em><span style=\"color:lightsteelblue\"> Generate predictions (Example)</span></em>"
   ]
  },
  {
   "cell_type": "code",
   "execution_count": 101,
   "id": "d8d53ef3",
   "metadata": {
    "hidden": true
   },
   "outputs": [],
   "source": [
    "# user_id = 1\n",
    "# all_books = goodbooks_cf['work_id'].unique()\n",
    "# rated_books = goodbooks_cf[goodbooks_cf['user_id'] == user_id]['work_id'].tolist()"
   ]
  },
  {
   "cell_type": "code",
   "execution_count": 102,
   "id": "0f4f8422",
   "metadata": {
    "hidden": true,
    "scrolled": true
   },
   "outputs": [],
   "source": [
    "# predictions = []\n",
    "\n",
    "# for book in all_books:\n",
    "#     if book not in rated_books:\n",
    "#         pred = svd.predict(user_id, book)\n",
    "#         predictions.append((book, pred.est))"
   ]
  },
  {
   "cell_type": "code",
   "execution_count": 103,
   "id": "42ba13a3",
   "metadata": {
    "hidden": true
   },
   "outputs": [],
   "source": [
    "# predictions.sort(key=lambda x: x[1], reverse=True)"
   ]
  },
  {
   "cell_type": "code",
   "execution_count": 104,
   "id": "ce225455",
   "metadata": {
    "hidden": true
   },
   "outputs": [],
   "source": [
    "# predictions = predictions[:10]\n",
    "# predictions"
   ]
  },
  {
   "cell_type": "code",
   "execution_count": 105,
   "id": "8f58fbd6",
   "metadata": {
    "hidden": true
   },
   "outputs": [],
   "source": [
    "# book_titles = goodbooks.set_index('work_id')['title'].to_dict()"
   ]
  },
  {
   "cell_type": "code",
   "execution_count": 106,
   "id": "240835aa",
   "metadata": {
    "hidden": true
   },
   "outputs": [],
   "source": [
    "# predictions_w_titles = [(book_titles[book], rating) for book, rating in predictions]"
   ]
  },
  {
   "cell_type": "code",
   "execution_count": 107,
   "id": "eb799b89",
   "metadata": {
    "hidden": true
   },
   "outputs": [],
   "source": [
    "# predictions_w_titles"
   ]
  },
  {
   "cell_type": "markdown",
   "id": "53af4f59",
   "metadata": {
    "hidden": true
   },
   "source": [
    "<em><span style=\"color:lightsteelblue\"> Model Comparison</span></em>"
   ]
  },
  {
   "attachments": {
    "cf_modelcomparison.png": {
     "image/png": "[encoded data removed]"
    }
   },
   "cell_type": "markdown",
   "id": "7db8e3e6",
   "metadata": {
    "hidden": true
   },
   "source": [
    "![cf_modelcomparison.png](attachment:cf_modelcomparison.png)"
   ]
  },
  {
   "cell_type": "markdown",
   "id": "a7f1cd1c",
   "metadata": {
    "heading_collapsed": true
   },
   "source": [
    "## <span style=\"color:steelblue\"> Content-Based Filtering Model</span>"
   ]
  },
  {
   "cell_type": "markdown",
   "id": "73239fbe",
   "metadata": {
    "hidden": true
   },
   "source": [
    "<em><span style=\"color:lightsteelblue\">Prepare content-based data</span></em>"
   ]
  },
  {
   "cell_type": "code",
   "execution_count": 108,
   "id": "c2a77ed2",
   "metadata": {
    "hidden": true
   },
   "outputs": [],
   "source": [
    "# goodbooks_cb = goodbooks[['user_id', 'work_id', 'title', 'scaled_embeddings']]"
   ]
  },
  {
   "cell_type": "code",
   "execution_count": 109,
   "id": "b867e4ce",
   "metadata": {
    "hidden": true
   },
   "outputs": [],
   "source": [
    "# embeddings = np.array(goodbooks_cb['scaled_embeddings'].tolist()).astype(np.float32)"
   ]
  },
  {
   "cell_type": "markdown",
   "id": "e1098d78",
   "metadata": {
    "hidden": true
   },
   "source": [
    "<em><span style=\"color:lightsteelblue\">Create HNSW (Heirarchical Navigable Small Worlds) index</span></em>"
   ]
  },
  {
   "cell_type": "code",
   "execution_count": 110,
   "id": "f16cf5f3",
   "metadata": {
    "hidden": true
   },
   "outputs": [],
   "source": [
    "# dim = embeddings.shape[1]\n",
    "# num_entries = embeddings.shape[0]"
   ]
  },
  {
   "cell_type": "code",
   "execution_count": 111,
   "id": "151a5293",
   "metadata": {
    "hidden": true
   },
   "outputs": [],
   "source": [
    "# hnsw_index = hnswlib.Index(space='cosine', dim=dim)\n",
    "# hnsw_index.init_index(max_elements=num_entries, ef_construction=300, M=30)"
   ]
  },
  {
   "cell_type": "markdown",
   "id": "d869d139",
   "metadata": {
    "hidden": true
   },
   "source": [
    "<em><span style=\"color:lightsteelblue\">Add entries to HNSW index</span></em>"
   ]
  },
  {
   "cell_type": "code",
   "execution_count": 112,
   "id": "7246666b",
   "metadata": {
    "hidden": true
   },
   "outputs": [],
   "source": [
    "# hnsw_index.add_items(embeddings, ids=np.arange(num_entries))"
   ]
  },
  {
   "cell_type": "code",
   "execution_count": 113,
   "id": "d0a6954a",
   "metadata": {
    "hidden": true
   },
   "outputs": [],
   "source": [
    "# hnsw_index.set_ef(300)"
   ]
  },
  {
   "cell_type": "markdown",
   "id": "ea1a8686",
   "metadata": {
    "hidden": true
   },
   "source": [
    "<em><span style=\"color:lightsteelblue\">Generate predictions (Example)</span></em>"
   ]
  },
  {
   "cell_type": "code",
   "execution_count": 114,
   "id": "a9cabf3c",
   "metadata": {
    "hidden": true
   },
   "outputs": [],
   "source": [
    "# work_id = 466\n",
    "# k=10000\n",
    "# book_index = goodbooks_cb.index[goodbooks_cb['work_id'] == work_id].tolist()[0]\n",
    "# query_embedding = embeddings[book_index].reshape(1, -1)\n",
    "# labels, distances = hnsw_index.knn_query(query_embedding, k=k)"
   ]
  },
  {
   "cell_type": "code",
   "execution_count": 115,
   "id": "0793bcb7",
   "metadata": {
    "hidden": true
   },
   "outputs": [],
   "source": [
    "# print(labels)"
   ]
  },
  {
   "cell_type": "code",
   "execution_count": 116,
   "id": "e1df4576",
   "metadata": {
    "hidden": true
   },
   "outputs": [],
   "source": [
    "# predictions = goodbooks_cb.iloc[labels[0]]\n",
    "# predictions = predictions[predictions['work_id'] != work_id]\n",
    "# predictions = predictions.drop_duplicates(subset='work_id')[['work_id', 'title']][:10]"
   ]
  },
  {
   "cell_type": "code",
   "execution_count": 117,
   "id": "ed5084ac",
   "metadata": {
    "hidden": true
   },
   "outputs": [],
   "source": [
    "# print(predictions)"
   ]
  },
  {
   "cell_type": "markdown",
   "id": "9eb63211",
   "metadata": {},
   "source": [
    "## <span style=\"color:steelblue\"> Hybrid Recommendation System</span>"
   ]
  },
  {
   "cell_type": "markdown",
   "id": "bd414b6d",
   "metadata": {},
   "source": [
    "<em><span style=\"color:lightsteelblue\">CF Recommendation Function</span></em>"
   ]
  },
  {
   "cell_type": "code",
   "execution_count": 118,
   "id": "e6c6f8e6",
   "metadata": {},
   "outputs": [],
   "source": [
    "def fetch_cf_data():\n",
    "    conn = sqlite3.connect('bookscout.db')\n",
    "    ratings_df = pd.read_sql_query('SELECT * FROM ratings', conn)\n",
    "    conn.close()\n",
    "    \n",
    "    return ratings_df"
   ]
  },
  {
   "cell_type": "code",
   "execution_count": 119,
   "id": "40b44eae",
   "metadata": {},
   "outputs": [],
   "source": [
    "def prepare_cf_data(ratings_df):\n",
    "    reader = Reader(rating_scale=(1, 5))\n",
    "    data = Dataset.load_from_df(ratings_df[['user_id', 'work_id', 'rating']], reader)\n",
    "    \n",
    "    return data"
   ]
  },
  {
   "cell_type": "code",
   "execution_count": 120,
   "id": "f10fe0ab",
   "metadata": {},
   "outputs": [],
   "source": [
    "def load_svd():\n",
    "    try:\n",
    "        with open('svd.pkl', 'rb') as f:\n",
    "            return pickle.load(f)\n",
    "    except FileNotFoundError:\n",
    "        return None"
   ]
  },
  {
   "cell_type": "code",
   "execution_count": 121,
   "id": "f9131331",
   "metadata": {},
   "outputs": [],
   "source": [
    "def train_svd(data):\n",
    "    svd = load_svd()\n",
    "    if svd:\n",
    "        return svd\n",
    "    \n",
    "    trainset, testset = train_test_split(data, test_size=0.25)\n",
    "    svd = SVD(n_factors=150, n_epochs=40, lr_all=0.011, reg_all=0.006)\n",
    "    svd.fit(trainset)\n",
    "    \n",
    "    with open('svd.pkl', 'wb') as f:\n",
    "        pickle.dump(svd, f)\n",
    "\n",
    "    return svd"
   ]
  },
  {
   "cell_type": "code",
   "execution_count": 122,
   "id": "97028775",
   "metadata": {},
   "outputs": [],
   "source": [
    "def get_cf_recommendations(user_id):\n",
    "    ratings_df = fetch_cf_data()\n",
    "    data = prepare_cf_data(ratings_df)\n",
    "    model = train_svd(data)\n",
    "    \n",
    "    all_books = ratings_df['work_id'].unique()\n",
    "    rated_books = ratings_df[(ratings_df['user_id'] == user_id) & (ratings_df['rating'] > 0)]['work_id']\n",
    "    predictions = []\n",
    "    \n",
    "    for book in all_books:\n",
    "        if book not in rated_books:\n",
    "            pred = model.predict(user_id, book)\n",
    "            predictions.append((book, pred.est))\n",
    "    \n",
    "    predictions.sort(key=lambda x: x[1], reverse=True)\n",
    "    top_cf_recommendations = predictions[:5]\n",
    "    return top_cf_recommendations"
   ]
  },
  {
   "cell_type": "markdown",
   "id": "14fe3463",
   "metadata": {},
   "source": [
    "<em><span style=\"color:lightsteelblue\">CB Recommendation Function</span></em>"
   ]
  },
  {
   "cell_type": "code",
   "execution_count": 123,
   "id": "78f421cf",
   "metadata": {},
   "outputs": [],
   "source": [
    "def fetch_cb_data():\n",
    "    conn = sqlite3.connect('bookscout.db')\n",
    "    books_df = pd.read_sql_query('SELECT work_id, title, embeddings FROM books', conn)\n",
    "    conn.close()\n",
    "    \n",
    "    return books_df"
   ]
  },
  {
   "cell_type": "code",
   "execution_count": 124,
   "id": "df1895f0",
   "metadata": {},
   "outputs": [],
   "source": [
    "def load_embeddings(books_df):\n",
    "    # Convert the embeddings from bytes back to numpy arrays\n",
    "    embeddings = []\n",
    "    \n",
    "    for embedding_bytes in books_df['embeddings']:\n",
    "        if embedding_bytes is not None:\n",
    "            emb = np.frombuffer(embedding_bytes, dtype=np.float32)\n",
    "            embeddings.append(emb)\n",
    "        else:\n",
    "            embeddings.append(None)\n",
    "    \n",
    "    embeddings = [emb for emb in embeddings if emb is not None]\n",
    "    \n",
    "    if not embeddings:\n",
    "        raise ValueError(\"No valid embeddings found.\")\n",
    "    \n",
    "    first_embedding_shape = embeddings[0].shape\n",
    "    for emb in embeddings:\n",
    "        if emb.shape != first_embedding_shape:\n",
    "            raise ValueError(\"Inconsistent embedding shapes found.\")   \n",
    "        \n",
    "    embeddings_float = np.array(embeddings, dtype=np.float32)\n",
    "    embeddings_object = np.array([np.frombuffer(embedding_bytes, dtype=np.float32) \n",
    "                                  if embedding_bytes else None for embedding_bytes \n",
    "                                  in books_df['embeddings']], dtype='object')    \n",
    "            \n",
    "    return embeddings_float, embeddings_object"
   ]
  },
  {
   "cell_type": "code",
   "execution_count": 125,
   "id": "c2e1c483",
   "metadata": {},
   "outputs": [],
   "source": [
    "def get_cb_recommendations(work_id, k=10):\n",
    "    books_df = fetch_cb_data()\n",
    "    embeddings_float, embeddings_object = load_embeddings(books_df)\n",
    "    \n",
    "    if embeddings_float.size == 0:\n",
    "        raise ValueError(\"No valid embeddings found.\")\n",
    "    \n",
    "    dim = embeddings_float.shape[1]\n",
    "    num_entries = embeddings_float.shape[0]\n",
    "    hnsw_index = hnswlib.Index(space='cosine', dim=dim)\n",
    "    hnsw_index.init_index(max_elements=num_entries, ef_construction=300, M=32)\n",
    "    hnsw_index.add_items(embeddings_float, ids=np.arange(num_entries))\n",
    "    hnsw_index.set_ef(300)\n",
    "\n",
    "    book_index = books_df[books_df['work_id'] == work_id].index\n",
    "\n",
    "    if book_index.size == 0:\n",
    "        raise ValueError(\"No valid book index found.\")\n",
    "\n",
    "    # Use book_index[0] to get the scalar index\n",
    "    query_embedding = embeddings_object[book_index[0]].reshape(1, -1)\n",
    "\n",
    "    labels, distances = hnsw_index.knn_query(query_embedding, k=k)\n",
    "\n",
    "    # Check for valid labels\n",
    "    valid_labels = [label for label in labels[0] if label < len(books_df)]\n",
    "    \n",
    "    if not valid_labels:\n",
    "        print(\"No valid recommendations found.\")\n",
    "        return []\n",
    "\n",
    "    top_cb_recommendations = books_df.iloc[valid_labels][['work_id', 'title']]\n",
    "    top_cb_recommendations = top_cb_recommendations[top_cb_recommendations['work_id'] != work_id]\n",
    "    top_cb_recommendations = top_cb_recommendations.drop_duplicates(subset='work_id')[['work_id', 'title']][:5]\n",
    "\n",
    "    return top_cb_recommendations"
   ]
  },
  {
   "cell_type": "markdown",
   "id": "df46b460",
   "metadata": {},
   "source": [
    "<em><span style=\"color:lightsteelblue\">Hybrid Recommendation Function</span></em>"
   ]
  },
  {
   "cell_type": "code",
   "execution_count": 126,
   "id": "b23c7a50",
   "metadata": {},
   "outputs": [],
   "source": [
    "def get_hy_recommendations(user_id, work_id, cf_weight=0.5, cb_weight=0.5):\n",
    "    cf_recommendations = get_cf_recommendations(user_id)\n",
    "    cf_df = pd.DataFrame(cf_recommendations, columns=['work_id', 'predicted_rating'])\n",
    "    \n",
    "    cb_recommendations = get_cb_recommendations(work_id)\n",
    "    cb_df = cb_recommendations.copy()\n",
    "    cb_df['predicted_rating'] = 1.0\n",
    "    \n",
    "    hy_recommendations = pd.concat([cf_df.rename(columns={'predicted_rating': 'cf_rating'}),\n",
    "                                 cb_df.rename(columns={'predicted_rating': 'cb_rating'})],\n",
    "                                 ignore_index=True)\n",
    "    hy_recommendations = hy_recommendations.groupby('work_id').agg({'cf_rating': 'sum', 'cb_rating': 'sum'}).reset_index()\n",
    "    hy_recommendations['final_rating'] = (hy_recommendations['cf_rating'] * cf_weight) + (hy_recommendations['cb_rating'] * cb_weight)\n",
    "    \n",
    "    top_hy_recommendations = hy_recommendations.sort_values(by='final_rating', ascending=False).head(5)\n",
    "    books_df = fetch_cb_data()\n",
    "    final_recommendations = top_hy_recommendations.merge(books_df[['work_id', 'title']], on='work_id', how='left')\n",
    "    \n",
    "    return final_recommendations[['work_id', 'title']]"
   ]
  },
  {
   "cell_type": "markdown",
   "id": "abeb7f9b",
   "metadata": {},
   "source": [
    "<em><span style=\"color:lightsteelblue\">Generate recommendations (Example)</span></em>"
   ]
  },
  {
   "cell_type": "code",
   "execution_count": 127,
   "id": "c42defc9",
   "metadata": {},
   "outputs": [],
   "source": [
    "# reset_database()\n",
    "# setup_database()\n",
    "# insert_books_from_df(goodbooks)\n",
    "# insert_ratings_from_df(goodbooks)"
   ]
  },
  {
   "cell_type": "code",
   "execution_count": 128,
   "id": "bb42d4f8",
   "metadata": {
    "scrolled": false
   },
   "outputs": [
    {
     "name": "stdout",
     "output_type": "stream",
     "text": [
      "   work_id                                              title\n",
      "0     5397  Freakonomics: A Rogue Economist Explores the H...\n",
      "1  2792775                                   The Hunger Games\n",
      "2   463407                                      My Man Jeeves\n",
      "3   463790                                  Dark Force Rising\n",
      "4   464034                                             Maktub\n"
     ]
    }
   ],
   "source": [
    "user_id = 1\n",
    "work_id = 466\n",
    "\n",
    "recommendations = get_hy_recommendations(user_id, work_id)\n",
    "print(recommendations)"
   ]
  }
 ],
 "metadata": {
  "kernelspec": {
   "display_name": "Python 3 (ipykernel)",
   "language": "python",
   "name": "python3"
  },
  "language_info": {
   "codemirror_mode": {
    "name": "ipython",
    "version": 3
   },
   "file_extension": ".py",
   "mimetype": "text/x-python",
   "name": "python",
   "nbconvert_exporter": "python",
   "pygments_lexer": "ipython3",
   "version": "3.11.10"
  },
  "widgets": {
   "application/vnd.jupyter.widget-state+json": {
    "state": {
     "005490dc9513434e9f073250d72c594a": {
      "model_module": "@jupyter-widgets/controls",
      "model_module_version": "1.5.0",
      "model_name": "FloatProgressModel",
      "state": {
       "bar_style": "success",
       "layout": "IPY_MODEL_dda25bedc2a74e1c9124fad68fb24a6f",
       "max": 1,
       "style": "IPY_MODEL_93577c8169c04bf3a406530af22ce7d9",
       "value": 1
      }
     },
     "05640bda3416456dae5438d9fae03f24": {
      "model_module": "@jupyter-widgets/controls",
      "model_module_version": "1.5.0",
      "model_name": "FloatProgressModel",
      "state": {
       "bar_style": "success",
       "layout": "IPY_MODEL_59e46c40f4f54eb280dc5f9c933d14a0",
       "max": 5,
       "style": "IPY_MODEL_283decc9e34b4b2d8a089ad3a476e9bf",
       "value": 5
      }
     },
     "06492661a7ec449d8053284310dd88cb": {
      "model_module": "@jupyter-widgets/controls",
      "model_module_version": "1.5.0",
      "model_name": "FloatProgressModel",
      "state": {
       "bar_style": "success",
       "layout": "IPY_MODEL_1b8a3f0bf42b44898fb30478020b7df2",
       "max": 1,
       "style": "IPY_MODEL_b2f1c86a6bb34e13ab00d80902db619c",
       "value": 1
      }
     },
     "0788352e415f469c87b9274ab41d5b35": {
      "model_module": "@jupyter-widgets/base",
      "model_module_version": "1.2.0",
      "model_name": "LayoutModel",
      "state": {}
     },
     "082f207525ae4a60ba8b1e0a27e8147c": {
      "model_module": "@jupyter-widgets/base",
      "model_module_version": "1.2.0",
      "model_name": "LayoutModel",
      "state": {}
     },
     "0961e2cafc054aa19dac204e5fbb0082": {
      "model_module": "@jupyter-widgets/controls",
      "model_module_version": "1.5.0",
      "model_name": "DescriptionStyleModel",
      "state": {
       "description_width": ""
      }
     },
     "0deec2a9c7bb4a9cac339295e327af8d": {
      "model_module": "@jupyter-widgets/base",
      "model_module_version": "1.2.0",
      "model_name": "LayoutModel",
      "state": {}
     },
     "0eafa48aa6a34455b3c575adcd49c215": {
      "model_module": "@jupyter-widgets/base",
      "model_module_version": "1.2.0",
      "model_name": "LayoutModel",
      "state": {}
     },
     "0f5fbaefc5ad473d800a1b5e3833706b": {
      "model_module": "@jupyter-widgets/base",
      "model_module_version": "1.2.0",
      "model_name": "LayoutModel",
      "state": {}
     },
     "110984419a154a0f8e0d059fe466c1a8": {
      "model_module": "@jupyter-widgets/controls",
      "model_module_version": "1.5.0",
      "model_name": "DescriptionStyleModel",
      "state": {
       "description_width": ""
      }
     },
     "11781b680e834c21801845a3b48a0bb5": {
      "model_module": "@jupyter-widgets/controls",
      "model_module_version": "1.5.0",
      "model_name": "FloatProgressModel",
      "state": {
       "bar_style": "success",
       "layout": "IPY_MODEL_1b6ddcb7fd0b4424a83398c3a9d2c974",
       "max": 1,
       "style": "IPY_MODEL_1f70be994b99481cb34a265eb40b8200",
       "value": 1
      }
     },
     "13991e5d4c214952bae13e310a1c4643": {
      "model_module": "@jupyter-widgets/controls",
      "model_module_version": "1.5.0",
      "model_name": "HBoxModel",
      "state": {
       "children": [
        "IPY_MODEL_75a526b486fc475d98add938981106a0",
        "IPY_MODEL_f257303c64b14c31881dbe8c0ce8d7fa",
        "IPY_MODEL_2aaac04dce2b4f33ba0790b6d67277d8"
       ],
       "layout": "IPY_MODEL_752a13dc8d824cb5a69a6b41b0e1b9a3"
      }
     },
     "153f61cba0954004ae4229d38e97acac": {
      "model_module": "@jupyter-widgets/base",
      "model_module_version": "1.2.0",
      "model_name": "LayoutModel",
      "state": {}
     },
     "17eafd79eb3c4700a495fdc0f888946a": {
      "model_module": "@jupyter-widgets/controls",
      "model_module_version": "1.5.0",
      "model_name": "HTMLModel",
      "state": {
       "layout": "IPY_MODEL_7d1e98c6887448409d350938b9d11649",
       "style": "IPY_MODEL_9968ec3e58194c36a7496a0e65fab5af",
       "value": "Summarize dataset: 100%"
      }
     },
     "18868a6b5151475ea009d71bfefc304a": {
      "model_module": "@jupyter-widgets/controls",
      "model_module_version": "1.5.0",
      "model_name": "HBoxModel",
      "state": {
       "children": [
        "IPY_MODEL_e0f965a91be04a3b998f27d2ec1f41f2",
        "IPY_MODEL_4ca414b263ca4cfeb179fe18b45241c6",
        "IPY_MODEL_a1b10e93a59f456aa0f0db943f81b312"
       ],
       "layout": "IPY_MODEL_1a54fbcb7d4641af871b3f60588b425f"
      }
     },
     "1a54fbcb7d4641af871b3f60588b425f": {
      "model_module": "@jupyter-widgets/base",
      "model_module_version": "1.2.0",
      "model_name": "LayoutModel",
      "state": {}
     },
     "1a8b4a413ca74b5c8f8ed8cc134299f1": {
      "model_module": "@jupyter-widgets/base",
      "model_module_version": "1.2.0",
      "model_name": "LayoutModel",
      "state": {}
     },
     "1b6ddcb7fd0b4424a83398c3a9d2c974": {
      "model_module": "@jupyter-widgets/base",
      "model_module_version": "1.2.0",
      "model_name": "LayoutModel",
      "state": {}
     },
     "1b8a3f0bf42b44898fb30478020b7df2": {
      "model_module": "@jupyter-widgets/base",
      "model_module_version": "1.2.0",
      "model_name": "LayoutModel",
      "state": {}
     },
     "1c9f47d954fd43f487f46d2d251d3d3a": {
      "model_module": "@jupyter-widgets/base",
      "model_module_version": "1.2.0",
      "model_name": "LayoutModel",
      "state": {}
     },
     "1cf9d76037b14dfcaf918bab3b002eb8": {
      "model_module": "@jupyter-widgets/base",
      "model_module_version": "1.2.0",
      "model_name": "LayoutModel",
      "state": {}
     },
     "1db1f21629664cebb3ccbff25aac9467": {
      "model_module": "@jupyter-widgets/base",
      "model_module_version": "1.2.0",
      "model_name": "LayoutModel",
      "state": {}
     },
     "1e4ca9b8bffb4fc289c1f06ea24e8447": {
      "model_module": "@jupyter-widgets/base",
      "model_module_version": "1.2.0",
      "model_name": "LayoutModel",
      "state": {}
     },
     "1f70be994b99481cb34a265eb40b8200": {
      "model_module": "@jupyter-widgets/controls",
      "model_module_version": "1.5.0",
      "model_name": "ProgressStyleModel",
      "state": {
       "description_width": ""
      }
     },
     "22b40e3e85de4bdb9cf82abe3ec8a205": {
      "model_module": "@jupyter-widgets/controls",
      "model_module_version": "1.5.0",
      "model_name": "HTMLModel",
      "state": {
       "layout": "IPY_MODEL_44ba0120ddc444449961e149e236ba80",
       "style": "IPY_MODEL_a7443f644b834e7798792bd3ba4f247a",
       "value": " 1/1 [00:00&lt;00:00,  9.69it/s]"
      }
     },
     "24f412e3b83248829c10f89a175407d5": {
      "model_module": "@jupyter-widgets/controls",
      "model_module_version": "1.5.0",
      "model_name": "HTMLModel",
      "state": {
       "layout": "IPY_MODEL_1e4ca9b8bffb4fc289c1f06ea24e8447",
       "style": "IPY_MODEL_2cdd241fad764cd9a28cfabfa7403f72",
       "value": " 1/1 [00:23&lt;00:00, 23.68s/it]"
      }
     },
     "26c04e509ae847949fe095626db0b07b": {
      "model_module": "@jupyter-widgets/controls",
      "model_module_version": "1.5.0",
      "model_name": "FloatProgressModel",
      "state": {
       "bar_style": "success",
       "layout": "IPY_MODEL_adc03bbebae54d22bad215ae78ab54e6",
       "max": 1,
       "style": "IPY_MODEL_f50e65404a7b41dab10117e61776f0e2",
       "value": 1
      }
     },
     "272cf785d6ef4677a3cad121a585b34d": {
      "model_module": "@jupyter-widgets/base",
      "model_module_version": "1.2.0",
      "model_name": "LayoutModel",
      "state": {}
     },
     "273d5a19cc46442d97d62ab96906de20": {
      "model_module": "@jupyter-widgets/controls",
      "model_module_version": "1.5.0",
      "model_name": "DescriptionStyleModel",
      "state": {
       "description_width": ""
      }
     },
     "283decc9e34b4b2d8a089ad3a476e9bf": {
      "model_module": "@jupyter-widgets/controls",
      "model_module_version": "1.5.0",
      "model_name": "ProgressStyleModel",
      "state": {
       "description_width": ""
      }
     },
     "2a61355c0a4f49d1b7f9927970534e48": {
      "model_module": "@jupyter-widgets/base",
      "model_module_version": "1.2.0",
      "model_name": "LayoutModel",
      "state": {}
     },
     "2aaac04dce2b4f33ba0790b6d67277d8": {
      "model_module": "@jupyter-widgets/controls",
      "model_module_version": "1.5.0",
      "model_name": "HTMLModel",
      "state": {
       "layout": "IPY_MODEL_e8acb5ae12fe4f2abe98a11e34bf1e63",
       "style": "IPY_MODEL_e893a25b593043f9bb102f1c9be5676f",
       "value": " 255/255 [01:04&lt;00:00,  2.25it/s, Completed]"
      }
     },
     "2b8d53b7b01d444887ad22206ce0fc25": {
      "model_module": "@jupyter-widgets/controls",
      "model_module_version": "1.5.0",
      "model_name": "ProgressStyleModel",
      "state": {
       "description_width": ""
      }
     },
     "2cdd241fad764cd9a28cfabfa7403f72": {
      "model_module": "@jupyter-widgets/controls",
      "model_module_version": "1.5.0",
      "model_name": "DescriptionStyleModel",
      "state": {
       "description_width": ""
      }
     },
     "2e0fa65019d94d6593f55ac264402944": {
      "model_module": "@jupyter-widgets/controls",
      "model_module_version": "1.5.0",
      "model_name": "HTMLModel",
      "state": {
       "layout": "IPY_MODEL_1db1f21629664cebb3ccbff25aac9467",
       "style": "IPY_MODEL_7a7ed6902c3740089b13fbdfbe79abe2",
       "value": " 1/1 [00:12&lt;00:00, 12.10s/it]"
      }
     },
     "2ea1b06c64d245bcb4c9d9fbb3f1b1f8": {
      "model_module": "@jupyter-widgets/base",
      "model_module_version": "1.2.0",
      "model_name": "LayoutModel",
      "state": {}
     },
     "2ef5b11be55f42149c7325f1f50aa5ae": {
      "model_module": "@jupyter-widgets/controls",
      "model_module_version": "1.5.0",
      "model_name": "HTMLModel",
      "state": {
       "layout": "IPY_MODEL_4cacc2f6553d4dcab8657ab8e382d16c",
       "style": "IPY_MODEL_3701b8aa367247de989a3ecff379e65c",
       "value": "Summarize dataset: 100%"
      }
     },
     "2fc1ee25ae0644db800613eb6e677d09": {
      "model_module": "@jupyter-widgets/controls",
      "model_module_version": "1.5.0",
      "model_name": "HBoxModel",
      "state": {
       "children": [
        "IPY_MODEL_c9e3c37c0048426385845c40e23c173f",
        "IPY_MODEL_87d7589f32264df6ac8122153cb3094d",
        "IPY_MODEL_5f161e11ba27444a98af349b56ab5f3f"
       ],
       "layout": "IPY_MODEL_2ea1b06c64d245bcb4c9d9fbb3f1b1f8"
      }
     },
     "304dbd7f030e4eb7809c5fe52f85b8e9": {
      "model_module": "@jupyter-widgets/controls",
      "model_module_version": "1.5.0",
      "model_name": "HTMLModel",
      "state": {
       "layout": "IPY_MODEL_7c6346a8d61d43d5b6656e23e29c3a9e",
       "style": "IPY_MODEL_6c0a5cfd054d45008b3f15c0b0476ab4",
       "value": "Render HTML: 100%"
      }
     },
     "3701b8aa367247de989a3ecff379e65c": {
      "model_module": "@jupyter-widgets/controls",
      "model_module_version": "1.5.0",
      "model_name": "DescriptionStyleModel",
      "state": {
       "description_width": ""
      }
     },
     "39043e0eb7be4150afd919281217520e": {
      "model_module": "@jupyter-widgets/controls",
      "model_module_version": "1.5.0",
      "model_name": "HTMLModel",
      "state": {
       "layout": "IPY_MODEL_a88bc0385f77498091bfaf4f9719c7ea",
       "style": "IPY_MODEL_3beec52c70474be2b642ba2e5c92c31b",
       "value": "Generate report structure: 100%"
      }
     },
     "39e7a66e891847a6827dbbb72ae430f7": {
      "model_module": "@jupyter-widgets/controls",
      "model_module_version": "1.5.0",
      "model_name": "HTMLModel",
      "state": {
       "layout": "IPY_MODEL_539536db27204262bdd8d287c7aa3b9b",
       "style": "IPY_MODEL_5f13798146ef43999fa17d7a1ac67664",
       "value": "Export report to file: 100%"
      }
     },
     "3af0c2dbcf3641b48b845097d70d4457": {
      "model_module": "@jupyter-widgets/base",
      "model_module_version": "1.2.0",
      "model_name": "LayoutModel",
      "state": {}
     },
     "3b092e13f16a4c2693e132963ea7af97": {
      "model_module": "@jupyter-widgets/controls",
      "model_module_version": "1.5.0",
      "model_name": "HBoxModel",
      "state": {
       "children": [
        "IPY_MODEL_439ac7539343488eb30657d330248a05",
        "IPY_MODEL_bb0c8022559b44938d038c40d324103d",
        "IPY_MODEL_3e6e904f19904f399fa9e108d12f7338"
       ],
       "layout": "IPY_MODEL_b0a1786050b14e9cb7d70ba2c0feb6ab"
      }
     },
     "3b3377c0cdb345fbbc30c844a207527c": {
      "model_module": "@jupyter-widgets/controls",
      "model_module_version": "1.5.0",
      "model_name": "HBoxModel",
      "state": {
       "children": [
        "IPY_MODEL_304dbd7f030e4eb7809c5fe52f85b8e9",
        "IPY_MODEL_58f6935061304bf19c13ead5f66367a0",
        "IPY_MODEL_2e0fa65019d94d6593f55ac264402944"
       ],
       "layout": "IPY_MODEL_0eafa48aa6a34455b3c575adcd49c215"
      }
     },
     "3beec52c70474be2b642ba2e5c92c31b": {
      "model_module": "@jupyter-widgets/controls",
      "model_module_version": "1.5.0",
      "model_name": "DescriptionStyleModel",
      "state": {
       "description_width": ""
      }
     },
     "3e6e904f19904f399fa9e108d12f7338": {
      "model_module": "@jupyter-widgets/controls",
      "model_module_version": "1.5.0",
      "model_name": "HTMLModel",
      "state": {
       "layout": "IPY_MODEL_926e216268c6487ba9df50647f65b24d",
       "style": "IPY_MODEL_6dc9d4ef25724f5e95fa1b0db2a8b8ef",
       "value": " 1/1 [00:00&lt;00:00, 12.28it/s]"
      }
     },
     "41b595939f354f15903b72683ecb3284": {
      "model_module": "@jupyter-widgets/base",
      "model_module_version": "1.2.0",
      "model_name": "LayoutModel",
      "state": {}
     },
     "439ac7539343488eb30657d330248a05": {
      "model_module": "@jupyter-widgets/controls",
      "model_module_version": "1.5.0",
      "model_name": "HTMLModel",
      "state": {
       "layout": "IPY_MODEL_082f207525ae4a60ba8b1e0a27e8147c",
       "style": "IPY_MODEL_0961e2cafc054aa19dac204e5fbb0082",
       "value": "Export report to file: 100%"
      }
     },
     "444bd2efeda84e579d2a7d6ba5d81d03": {
      "model_module": "@jupyter-widgets/base",
      "model_module_version": "1.2.0",
      "model_name": "LayoutModel",
      "state": {}
     },
     "44ba0120ddc444449961e149e236ba80": {
      "model_module": "@jupyter-widgets/base",
      "model_module_version": "1.2.0",
      "model_name": "LayoutModel",
      "state": {}
     },
     "482afcf62776484bb232fb8a85e530dd": {
      "model_module": "@jupyter-widgets/controls",
      "model_module_version": "1.5.0",
      "model_name": "ProgressStyleModel",
      "state": {
       "description_width": ""
      }
     },
     "4a2fcc666e5f4b78bcff24f5922d05fa": {
      "model_module": "@jupyter-widgets/controls",
      "model_module_version": "1.5.0",
      "model_name": "HTMLModel",
      "state": {
       "layout": "IPY_MODEL_b3af4c6ba5424d9fb905224f866efe75",
       "style": "IPY_MODEL_fa8bb35850c54aa1b5921914376f3069",
       "value": " 1/1 [00:07&lt;00:00,  7.79s/it]"
      }
     },
     "4b9ba0fb369c47f39214050ef33d1949": {
      "model_module": "@jupyter-widgets/controls",
      "model_module_version": "1.5.0",
      "model_name": "HBoxModel",
      "state": {
       "children": [
        "IPY_MODEL_39043e0eb7be4150afd919281217520e",
        "IPY_MODEL_c8be131d0037489092f3727bb04b7e7c",
        "IPY_MODEL_24f412e3b83248829c10f89a175407d5"
       ],
       "layout": "IPY_MODEL_6fb1f73437ac4a618390480dfb3b73e2"
      }
     },
     "4bd14836a7df4811a2e7082be0b06b55": {
      "model_module": "@jupyter-widgets/controls",
      "model_module_version": "1.5.0",
      "model_name": "FloatProgressModel",
      "state": {
       "bar_style": "success",
       "layout": "IPY_MODEL_5174ec45f1954d90bade3a97ed7c4069",
       "max": 1,
       "style": "IPY_MODEL_e5780bbae4e64c8397dd44f1ed94d39d",
       "value": 1
      }
     },
     "4ca414b263ca4cfeb179fe18b45241c6": {
      "model_module": "@jupyter-widgets/controls",
      "model_module_version": "1.5.0",
      "model_name": "FloatProgressModel",
      "state": {
       "bar_style": "success",
       "layout": "IPY_MODEL_3af0c2dbcf3641b48b845097d70d4457",
       "max": 5,
       "style": "IPY_MODEL_cd5f2be27d0943db87854d243eab5cf1",
       "value": 5
      }
     },
     "4cacc2f6553d4dcab8657ab8e382d16c": {
      "model_module": "@jupyter-widgets/base",
      "model_module_version": "1.2.0",
      "model_name": "LayoutModel",
      "state": {}
     },
     "4f6fc37c5ae348fdaa01e7bfb165fb2d": {
      "model_module": "@jupyter-widgets/controls",
      "model_module_version": "1.5.0",
      "model_name": "HTMLModel",
      "state": {
       "layout": "IPY_MODEL_41b595939f354f15903b72683ecb3284",
       "style": "IPY_MODEL_fe97820ec7984f72a0480b7aa5b5d875",
       "value": "Generate report structure: 100%"
      }
     },
     "4fcdb741d4724b2480f5ccb14ece2963": {
      "model_module": "@jupyter-widgets/controls",
      "model_module_version": "1.5.0",
      "model_name": "DescriptionStyleModel",
      "state": {
       "description_width": ""
      }
     },
     "5174ec45f1954d90bade3a97ed7c4069": {
      "model_module": "@jupyter-widgets/base",
      "model_module_version": "1.2.0",
      "model_name": "LayoutModel",
      "state": {}
     },
     "51a875fdd2734d47a38eb4aeec0fafe7": {
      "model_module": "@jupyter-widgets/controls",
      "model_module_version": "1.5.0",
      "model_name": "HBoxModel",
      "state": {
       "children": [
        "IPY_MODEL_b909f08c591b41b0ae3184c0e788ab6b",
        "IPY_MODEL_816f061a9e99456a9aea429600afc3f3",
        "IPY_MODEL_e957229a15994a8e8edac7057d00da83"
       ],
       "layout": "IPY_MODEL_1a8b4a413ca74b5c8f8ed8cc134299f1"
      }
     },
     "539536db27204262bdd8d287c7aa3b9b": {
      "model_module": "@jupyter-widgets/base",
      "model_module_version": "1.2.0",
      "model_name": "LayoutModel",
      "state": {}
     },
     "55532584c1cc49c68b52cb81e4af27be": {
      "model_module": "@jupyter-widgets/controls",
      "model_module_version": "1.5.0",
      "model_name": "DescriptionStyleModel",
      "state": {
       "description_width": ""
      }
     },
     "557f8e0fc7bb49c5ad3371558d5998f0": {
      "model_module": "@jupyter-widgets/controls",
      "model_module_version": "1.5.0",
      "model_name": "HBoxModel",
      "state": {
       "children": [
        "IPY_MODEL_8bf952af211c417aa1673e52e29f6558",
        "IPY_MODEL_005490dc9513434e9f073250d72c594a",
        "IPY_MODEL_aa29ea3d496d4952b27bff1f61f7a14a"
       ],
       "layout": "IPY_MODEL_bebf97bb86944c4c88ae8472258da482"
      }
     },
     "58f6935061304bf19c13ead5f66367a0": {
      "model_module": "@jupyter-widgets/controls",
      "model_module_version": "1.5.0",
      "model_name": "FloatProgressModel",
      "state": {
       "bar_style": "success",
       "layout": "IPY_MODEL_272cf785d6ef4677a3cad121a585b34d",
       "max": 1,
       "style": "IPY_MODEL_62d6a1cf83e04d81a046dfdd0f898616",
       "value": 1
      }
     },
     "59e46c40f4f54eb280dc5f9c933d14a0": {
      "model_module": "@jupyter-widgets/base",
      "model_module_version": "1.2.0",
      "model_name": "LayoutModel",
      "state": {}
     },
     "5f13798146ef43999fa17d7a1ac67664": {
      "model_module": "@jupyter-widgets/controls",
      "model_module_version": "1.5.0",
      "model_name": "DescriptionStyleModel",
      "state": {
       "description_width": ""
      }
     },
     "5f161e11ba27444a98af349b56ab5f3f": {
      "model_module": "@jupyter-widgets/controls",
      "model_module_version": "1.5.0",
      "model_name": "HTMLModel",
      "state": {
       "layout": "IPY_MODEL_e7d817fcf907474491c26f3e56c94160",
       "style": "IPY_MODEL_9a449e5d212143ed8944309483b67f26",
       "value": " 1/1 [00:14&lt;00:00, 14.16s/it]"
      }
     },
     "60969793f4eb40439532cdd9e49385d5": {
      "model_module": "@jupyter-widgets/controls",
      "model_module_version": "1.5.0",
      "model_name": "HTMLModel",
      "state": {
       "layout": "IPY_MODEL_65df72d356bb467181fd006b2145b218",
       "style": "IPY_MODEL_ade5adcb94f14b39bfe9615209afccd6",
       "value": " 1/1 [00:30&lt;00:00, 30.28s/it]"
      }
     },
     "6203be6002c9459a9621a81896d7172a": {
      "model_module": "@jupyter-widgets/controls",
      "model_module_version": "1.5.0",
      "model_name": "ProgressStyleModel",
      "state": {
       "description_width": ""
      }
     },
     "623c31296925437e8137020e352ec085": {
      "model_module": "@jupyter-widgets/controls",
      "model_module_version": "1.5.0",
      "model_name": "HBoxModel",
      "state": {
       "children": [
        "IPY_MODEL_e3a708607a094cbeba046218b64de779",
        "IPY_MODEL_06492661a7ec449d8053284310dd88cb",
        "IPY_MODEL_8c1fa9b563db4187af049a4dc8917244"
       ],
       "layout": "IPY_MODEL_1c9f47d954fd43f487f46d2d251d3d3a"
      }
     },
     "62d6a1cf83e04d81a046dfdd0f898616": {
      "model_module": "@jupyter-widgets/controls",
      "model_module_version": "1.5.0",
      "model_name": "ProgressStyleModel",
      "state": {
       "description_width": ""
      }
     },
     "64f60bbfe8954ae6a14d2f2eff031506": {
      "model_module": "@jupyter-widgets/controls",
      "model_module_version": "1.5.0",
      "model_name": "DescriptionStyleModel",
      "state": {
       "description_width": ""
      }
     },
     "65df72d356bb467181fd006b2145b218": {
      "model_module": "@jupyter-widgets/base",
      "model_module_version": "1.2.0",
      "model_name": "LayoutModel",
      "state": {}
     },
     "65e169baf089495d875f769c4a75879e": {
      "model_module": "@jupyter-widgets/base",
      "model_module_version": "1.2.0",
      "model_name": "LayoutModel",
      "state": {}
     },
     "6c0a5cfd054d45008b3f15c0b0476ab4": {
      "model_module": "@jupyter-widgets/controls",
      "model_module_version": "1.5.0",
      "model_name": "DescriptionStyleModel",
      "state": {
       "description_width": ""
      }
     },
     "6ca498c45ef24600a288e02d32b68168": {
      "model_module": "@jupyter-widgets/controls",
      "model_module_version": "1.5.0",
      "model_name": "HTMLModel",
      "state": {
       "layout": "IPY_MODEL_70ce547422e749789418b15eaba5d797",
       "style": "IPY_MODEL_93b7b30a9c16440caf117b986a7ac603",
       "value": " 225/225 [00:48&lt;00:00,  2.35it/s, Completed]"
      }
     },
     "6dc9d4ef25724f5e95fa1b0db2a8b8ef": {
      "model_module": "@jupyter-widgets/controls",
      "model_module_version": "1.5.0",
      "model_name": "DescriptionStyleModel",
      "state": {
       "description_width": ""
      }
     },
     "6fb1f73437ac4a618390480dfb3b73e2": {
      "model_module": "@jupyter-widgets/base",
      "model_module_version": "1.2.0",
      "model_name": "LayoutModel",
      "state": {}
     },
     "70ce547422e749789418b15eaba5d797": {
      "model_module": "@jupyter-widgets/base",
      "model_module_version": "1.2.0",
      "model_name": "LayoutModel",
      "state": {}
     },
     "752a13dc8d824cb5a69a6b41b0e1b9a3": {
      "model_module": "@jupyter-widgets/base",
      "model_module_version": "1.2.0",
      "model_name": "LayoutModel",
      "state": {}
     },
     "75a526b486fc475d98add938981106a0": {
      "model_module": "@jupyter-widgets/controls",
      "model_module_version": "1.5.0",
      "model_name": "HTMLModel",
      "state": {
       "layout": "IPY_MODEL_8db49ebd5bf94e559225cabefee55df0",
       "style": "IPY_MODEL_b6d127f3f3e24df8bd39eb9aad5124af",
       "value": "Summarize dataset: 100%"
      }
     },
     "7905de22945d45989dffac256624a353": {
      "model_module": "@jupyter-widgets/base",
      "model_module_version": "1.2.0",
      "model_name": "LayoutModel",
      "state": {}
     },
     "7a1819aefc6e4818802763bfa48b197a": {
      "model_module": "@jupyter-widgets/base",
      "model_module_version": "1.2.0",
      "model_name": "LayoutModel",
      "state": {}
     },
     "7a7ed6902c3740089b13fbdfbe79abe2": {
      "model_module": "@jupyter-widgets/controls",
      "model_module_version": "1.5.0",
      "model_name": "DescriptionStyleModel",
      "state": {
       "description_width": ""
      }
     },
     "7c6346a8d61d43d5b6656e23e29c3a9e": {
      "model_module": "@jupyter-widgets/base",
      "model_module_version": "1.2.0",
      "model_name": "LayoutModel",
      "state": {}
     },
     "7cdd15d5c3d9486fadaa45c2afdc13a4": {
      "model_module": "@jupyter-widgets/controls",
      "model_module_version": "1.5.0",
      "model_name": "HTMLModel",
      "state": {
       "layout": "IPY_MODEL_0deec2a9c7bb4a9cac339295e327af8d",
       "style": "IPY_MODEL_ec1496a49ec64f1aa8f5b03db3e5dba2",
       "value": " 255/255 [01:08&lt;00:00,  2.12it/s, Completed]"
      }
     },
     "7d1e98c6887448409d350938b9d11649": {
      "model_module": "@jupyter-widgets/base",
      "model_module_version": "1.2.0",
      "model_name": "LayoutModel",
      "state": {}
     },
     "7dd0017963364ea4a11442ca53663ac6": {
      "model_module": "@jupyter-widgets/controls",
      "model_module_version": "1.5.0",
      "model_name": "DescriptionStyleModel",
      "state": {
       "description_width": ""
      }
     },
     "816f061a9e99456a9aea429600afc3f3": {
      "model_module": "@jupyter-widgets/controls",
      "model_module_version": "1.5.0",
      "model_name": "FloatProgressModel",
      "state": {
       "bar_style": "success",
       "layout": "IPY_MODEL_f5f30d3c38054c5fafcd2ebf0c166ddd",
       "max": 1,
       "style": "IPY_MODEL_2b8d53b7b01d444887ad22206ce0fc25",
       "value": 1
      }
     },
     "8717fdb7fcb74da2a669f51dd5cc64bf": {
      "model_module": "@jupyter-widgets/base",
      "model_module_version": "1.2.0",
      "model_name": "LayoutModel",
      "state": {}
     },
     "87d7589f32264df6ac8122153cb3094d": {
      "model_module": "@jupyter-widgets/controls",
      "model_module_version": "1.5.0",
      "model_name": "FloatProgressModel",
      "state": {
       "bar_style": "success",
       "layout": "IPY_MODEL_8717fdb7fcb74da2a669f51dd5cc64bf",
       "max": 1,
       "style": "IPY_MODEL_e20a6c2da0ce4eb5954fac5d239fb0b9",
       "value": 1
      }
     },
     "88fcd04f69e84aa7b73babbcb50a45ed": {
      "model_module": "@jupyter-widgets/base",
      "model_module_version": "1.2.0",
      "model_name": "LayoutModel",
      "state": {}
     },
     "8b8bd5b25ac7442bbb1b3ed01417132f": {
      "model_module": "@jupyter-widgets/controls",
      "model_module_version": "1.5.0",
      "model_name": "HTMLModel",
      "state": {
       "layout": "IPY_MODEL_b2e55d0d6ad04095a7818dd409633da3",
       "style": "IPY_MODEL_273d5a19cc46442d97d62ab96906de20",
       "value": "Export report to file: 100%"
      }
     },
     "8bf952af211c417aa1673e52e29f6558": {
      "model_module": "@jupyter-widgets/controls",
      "model_module_version": "1.5.0",
      "model_name": "HTMLModel",
      "state": {
       "layout": "IPY_MODEL_0f5fbaefc5ad473d800a1b5e3833706b",
       "style": "IPY_MODEL_edc321f3a0504d619dae27b69dc6ff47",
       "value": "Export report to file: 100%"
      }
     },
     "8c1fa9b563db4187af049a4dc8917244": {
      "model_module": "@jupyter-widgets/controls",
      "model_module_version": "1.5.0",
      "model_name": "HTMLModel",
      "state": {
       "layout": "IPY_MODEL_7a1819aefc6e4818802763bfa48b197a",
       "style": "IPY_MODEL_4fcdb741d4724b2480f5ccb14ece2963",
       "value": " 1/1 [00:13&lt;00:00, 13.16s/it]"
      }
     },
     "8cc7ec4b5fe14779bcf503a8e5f08cf0": {
      "model_module": "@jupyter-widgets/controls",
      "model_module_version": "1.5.0",
      "model_name": "ProgressStyleModel",
      "state": {
       "description_width": ""
      }
     },
     "8db49ebd5bf94e559225cabefee55df0": {
      "model_module": "@jupyter-widgets/base",
      "model_module_version": "1.2.0",
      "model_name": "LayoutModel",
      "state": {}
     },
     "8f8e7010395744779a2d139228b5d89d": {
      "model_module": "@jupyter-widgets/base",
      "model_module_version": "1.2.0",
      "model_name": "LayoutModel",
      "state": {}
     },
     "9174d3d2098e4ed5b9e92491d5a27220": {
      "model_module": "@jupyter-widgets/controls",
      "model_module_version": "1.5.0",
      "model_name": "DescriptionStyleModel",
      "state": {
       "description_width": ""
      }
     },
     "926e216268c6487ba9df50647f65b24d": {
      "model_module": "@jupyter-widgets/base",
      "model_module_version": "1.2.0",
      "model_name": "LayoutModel",
      "state": {}
     },
     "93577c8169c04bf3a406530af22ce7d9": {
      "model_module": "@jupyter-widgets/controls",
      "model_module_version": "1.5.0",
      "model_name": "ProgressStyleModel",
      "state": {
       "description_width": ""
      }
     },
     "93b7b30a9c16440caf117b986a7ac603": {
      "model_module": "@jupyter-widgets/controls",
      "model_module_version": "1.5.0",
      "model_name": "DescriptionStyleModel",
      "state": {
       "description_width": ""
      }
     },
     "9968ec3e58194c36a7496a0e65fab5af": {
      "model_module": "@jupyter-widgets/controls",
      "model_module_version": "1.5.0",
      "model_name": "DescriptionStyleModel",
      "state": {
       "description_width": ""
      }
     },
     "9a449e5d212143ed8944309483b67f26": {
      "model_module": "@jupyter-widgets/controls",
      "model_module_version": "1.5.0",
      "model_name": "DescriptionStyleModel",
      "state": {
       "description_width": ""
      }
     },
     "9c1e9a4a9fec48d2914c6f8b70f91ace": {
      "model_module": "@jupyter-widgets/base",
      "model_module_version": "1.2.0",
      "model_name": "LayoutModel",
      "state": {}
     },
     "9f0c0081c6f94d2fb9a55ddfdeac59b6": {
      "model_module": "@jupyter-widgets/base",
      "model_module_version": "1.2.0",
      "model_name": "LayoutModel",
      "state": {}
     },
     "9f8051d9bc7c4faf84207ad820d474ae": {
      "model_module": "@jupyter-widgets/controls",
      "model_module_version": "1.5.0",
      "model_name": "HTMLModel",
      "state": {
       "layout": "IPY_MODEL_d82a89e3e522434ca8cd248141890c93",
       "style": "IPY_MODEL_110984419a154a0f8e0d059fe466c1a8",
       "value": " 1/1 [00:24&lt;00:00, 24.42s/it]"
      }
     },
     "9fc75ca216624ed3add66f16ef1b13df": {
      "model_module": "@jupyter-widgets/base",
      "model_module_version": "1.2.0",
      "model_name": "LayoutModel",
      "state": {}
     },
     "a130aa7b23e349c0961b9d39b66ca545": {
      "model_module": "@jupyter-widgets/base",
      "model_module_version": "1.2.0",
      "model_name": "LayoutModel",
      "state": {}
     },
     "a14df1e2c1054b0fbd6300b9ca1ecaf2": {
      "model_module": "@jupyter-widgets/base",
      "model_module_version": "1.2.0",
      "model_name": "LayoutModel",
      "state": {}
     },
     "a1b10e93a59f456aa0f0db943f81b312": {
      "model_module": "@jupyter-widgets/controls",
      "model_module_version": "1.5.0",
      "model_name": "HTMLModel",
      "state": {
       "layout": "IPY_MODEL_7905de22945d45989dffac256624a353",
       "style": "IPY_MODEL_b6ddb7225cd3405cb713ce935d4f6602",
       "value": " 225/225 [00:51&lt;00:00,  3.42it/s, Completed]"
      }
     },
     "a2e37cdffdf7426997b64dd231ed2d76": {
      "model_module": "@jupyter-widgets/controls",
      "model_module_version": "1.5.0",
      "model_name": "DescriptionStyleModel",
      "state": {
       "description_width": ""
      }
     },
     "a43620babf2b4f2195142e4e5af401be": {
      "model_module": "@jupyter-widgets/base",
      "model_module_version": "1.2.0",
      "model_name": "LayoutModel",
      "state": {}
     },
     "a7443f644b834e7798792bd3ba4f247a": {
      "model_module": "@jupyter-widgets/controls",
      "model_module_version": "1.5.0",
      "model_name": "DescriptionStyleModel",
      "state": {
       "description_width": ""
      }
     },
     "a88b8f883781426ba7a36021746debb4": {
      "model_module": "@jupyter-widgets/controls",
      "model_module_version": "1.5.0",
      "model_name": "FloatProgressModel",
      "state": {
       "bar_style": "success",
       "layout": "IPY_MODEL_153f61cba0954004ae4229d38e97acac",
       "max": 5,
       "style": "IPY_MODEL_6203be6002c9459a9621a81896d7172a",
       "value": 5
      }
     },
     "a88bc0385f77498091bfaf4f9719c7ea": {
      "model_module": "@jupyter-widgets/base",
      "model_module_version": "1.2.0",
      "model_name": "LayoutModel",
      "state": {}
     },
     "a98f7c4ab69d4de4b6b3439ad85198c4": {
      "model_module": "@jupyter-widgets/controls",
      "model_module_version": "1.5.0",
      "model_name": "HBoxModel",
      "state": {
       "children": [
        "IPY_MODEL_4f6fc37c5ae348fdaa01e7bfb165fb2d",
        "IPY_MODEL_c1327f1119934beab1a2b8943162881c",
        "IPY_MODEL_9f8051d9bc7c4faf84207ad820d474ae"
       ],
       "layout": "IPY_MODEL_444bd2efeda84e579d2a7d6ba5d81d03"
      }
     },
     "aa0792003c844a4dbe4b6e71df592936": {
      "model_module": "@jupyter-widgets/controls",
      "model_module_version": "1.5.0",
      "model_name": "DescriptionStyleModel",
      "state": {
       "description_width": ""
      }
     },
     "aa29ea3d496d4952b27bff1f61f7a14a": {
      "model_module": "@jupyter-widgets/controls",
      "model_module_version": "1.5.0",
      "model_name": "HTMLModel",
      "state": {
       "layout": "IPY_MODEL_a14df1e2c1054b0fbd6300b9ca1ecaf2",
       "style": "IPY_MODEL_55532584c1cc49c68b52cb81e4af27be",
       "value": " 1/1 [00:00&lt;00:00, 13.65it/s]"
      }
     },
     "ad48688554f04aef89ccfa4238df59b1": {
      "model_module": "@jupyter-widgets/controls",
      "model_module_version": "1.5.0",
      "model_name": "DescriptionStyleModel",
      "state": {
       "description_width": ""
      }
     },
     "adc03bbebae54d22bad215ae78ab54e6": {
      "model_module": "@jupyter-widgets/base",
      "model_module_version": "1.2.0",
      "model_name": "LayoutModel",
      "state": {}
     },
     "ade5adcb94f14b39bfe9615209afccd6": {
      "model_module": "@jupyter-widgets/controls",
      "model_module_version": "1.5.0",
      "model_name": "DescriptionStyleModel",
      "state": {
       "description_width": ""
      }
     },
     "ade8ea103ed84e758e69ab75dc450cab": {
      "model_module": "@jupyter-widgets/controls",
      "model_module_version": "1.5.0",
      "model_name": "HBoxModel",
      "state": {
       "children": [
        "IPY_MODEL_e9be54155ec44b698822381639ade0ac",
        "IPY_MODEL_b09d61ad8b254647b1dc893f2ba2c680",
        "IPY_MODEL_4a2fcc666e5f4b78bcff24f5922d05fa"
       ],
       "layout": "IPY_MODEL_a130aa7b23e349c0961b9d39b66ca545"
      }
     },
     "b09d61ad8b254647b1dc893f2ba2c680": {
      "model_module": "@jupyter-widgets/controls",
      "model_module_version": "1.5.0",
      "model_name": "FloatProgressModel",
      "state": {
       "bar_style": "success",
       "layout": "IPY_MODEL_9f0c0081c6f94d2fb9a55ddfdeac59b6",
       "max": 1,
       "style": "IPY_MODEL_482afcf62776484bb232fb8a85e530dd",
       "value": 1
      }
     },
     "b0a1786050b14e9cb7d70ba2c0feb6ab": {
      "model_module": "@jupyter-widgets/base",
      "model_module_version": "1.2.0",
      "model_name": "LayoutModel",
      "state": {}
     },
     "b2dc18405c9c4b3cb2f794e9820a3202": {
      "model_module": "@jupyter-widgets/base",
      "model_module_version": "1.2.0",
      "model_name": "LayoutModel",
      "state": {}
     },
     "b2e55d0d6ad04095a7818dd409633da3": {
      "model_module": "@jupyter-widgets/base",
      "model_module_version": "1.2.0",
      "model_name": "LayoutModel",
      "state": {}
     },
     "b2f1c86a6bb34e13ab00d80902db619c": {
      "model_module": "@jupyter-widgets/controls",
      "model_module_version": "1.5.0",
      "model_name": "ProgressStyleModel",
      "state": {
       "description_width": ""
      }
     },
     "b3af4c6ba5424d9fb905224f866efe75": {
      "model_module": "@jupyter-widgets/base",
      "model_module_version": "1.2.0",
      "model_name": "LayoutModel",
      "state": {}
     },
     "b6d127f3f3e24df8bd39eb9aad5124af": {
      "model_module": "@jupyter-widgets/controls",
      "model_module_version": "1.5.0",
      "model_name": "DescriptionStyleModel",
      "state": {
       "description_width": ""
      }
     },
     "b6ddb7225cd3405cb713ce935d4f6602": {
      "model_module": "@jupyter-widgets/controls",
      "model_module_version": "1.5.0",
      "model_name": "DescriptionStyleModel",
      "state": {
       "description_width": ""
      }
     },
     "b7718802802b4020add0815367321310": {
      "model_module": "@jupyter-widgets/controls",
      "model_module_version": "1.5.0",
      "model_name": "HTMLModel",
      "state": {
       "layout": "IPY_MODEL_88fcd04f69e84aa7b73babbcb50a45ed",
       "style": "IPY_MODEL_64f60bbfe8954ae6a14d2f2eff031506",
       "value": "Generate report structure: 100%"
      }
     },
     "b7fb070a5004410f8bb34738b5c9a0eb": {
      "model_module": "@jupyter-widgets/controls",
      "model_module_version": "1.5.0",
      "model_name": "HTMLModel",
      "state": {
       "layout": "IPY_MODEL_0788352e415f469c87b9274ab41d5b35",
       "style": "IPY_MODEL_7dd0017963364ea4a11442ca53663ac6",
       "value": " 1/1 [00:00&lt;00:00, 13.23it/s]"
      }
     },
     "b8bc9b7c5b5042c8a698c5cd49f5f037": {
      "model_module": "@jupyter-widgets/controls",
      "model_module_version": "1.5.0",
      "model_name": "HBoxModel",
      "state": {
       "children": [
        "IPY_MODEL_b7718802802b4020add0815367321310",
        "IPY_MODEL_4bd14836a7df4811a2e7082be0b06b55",
        "IPY_MODEL_60969793f4eb40439532cdd9e49385d5"
       ],
       "layout": "IPY_MODEL_b9c1475a6fd64495929822cc77d5edd0"
      }
     },
     "b909f08c591b41b0ae3184c0e788ab6b": {
      "model_module": "@jupyter-widgets/controls",
      "model_module_version": "1.5.0",
      "model_name": "HTMLModel",
      "state": {
       "layout": "IPY_MODEL_b2dc18405c9c4b3cb2f794e9820a3202",
       "style": "IPY_MODEL_9174d3d2098e4ed5b9e92491d5a27220",
       "value": "Generate report structure: 100%"
      }
     },
     "b9c1475a6fd64495929822cc77d5edd0": {
      "model_module": "@jupyter-widgets/base",
      "model_module_version": "1.2.0",
      "model_name": "LayoutModel",
      "state": {}
     },
     "bb0c8022559b44938d038c40d324103d": {
      "model_module": "@jupyter-widgets/controls",
      "model_module_version": "1.5.0",
      "model_name": "FloatProgressModel",
      "state": {
       "bar_style": "success",
       "layout": "IPY_MODEL_d5e4ca8b1f05491994c930c753049f8b",
       "max": 1,
       "style": "IPY_MODEL_d2b38be5abf3423cbe8f59d9cb2be475",
       "value": 1
      }
     },
     "bebf97bb86944c4c88ae8472258da482": {
      "model_module": "@jupyter-widgets/base",
      "model_module_version": "1.2.0",
      "model_name": "LayoutModel",
      "state": {}
     },
     "bf5172e442b24c869a765b1778bf593b": {
      "model_module": "@jupyter-widgets/controls",
      "model_module_version": "1.5.0",
      "model_name": "HBoxModel",
      "state": {
       "children": [
        "IPY_MODEL_2ef5b11be55f42149c7325f1f50aa5ae",
        "IPY_MODEL_a88b8f883781426ba7a36021746debb4",
        "IPY_MODEL_7cdd15d5c3d9486fadaa45c2afdc13a4"
       ],
       "layout": "IPY_MODEL_c02de064125044f4ad5ef96b7ca886a6"
      }
     },
     "bf6c06b51db6493fb150305990d5e3f9": {
      "model_module": "@jupyter-widgets/controls",
      "model_module_version": "1.5.0",
      "model_name": "DescriptionStyleModel",
      "state": {
       "description_width": ""
      }
     },
     "c02de064125044f4ad5ef96b7ca886a6": {
      "model_module": "@jupyter-widgets/base",
      "model_module_version": "1.2.0",
      "model_name": "LayoutModel",
      "state": {}
     },
     "c1327f1119934beab1a2b8943162881c": {
      "model_module": "@jupyter-widgets/controls",
      "model_module_version": "1.5.0",
      "model_name": "FloatProgressModel",
      "state": {
       "bar_style": "success",
       "layout": "IPY_MODEL_9c1e9a4a9fec48d2914c6f8b70f91ace",
       "max": 1,
       "style": "IPY_MODEL_e615e3c25d814cd48c71d795ec2154fd",
       "value": 1
      }
     },
     "c43c2599debf4656a8bd9f36a5c70093": {
      "model_module": "@jupyter-widgets/base",
      "model_module_version": "1.2.0",
      "model_name": "LayoutModel",
      "state": {}
     },
     "c8be131d0037489092f3727bb04b7e7c": {
      "model_module": "@jupyter-widgets/controls",
      "model_module_version": "1.5.0",
      "model_name": "FloatProgressModel",
      "state": {
       "bar_style": "success",
       "layout": "IPY_MODEL_65e169baf089495d875f769c4a75879e",
       "max": 1,
       "style": "IPY_MODEL_ea0cc1cd728a4db0b96f17eff40559cc",
       "value": 1
      }
     },
     "c9e3c37c0048426385845c40e23c173f": {
      "model_module": "@jupyter-widgets/controls",
      "model_module_version": "1.5.0",
      "model_name": "HTMLModel",
      "state": {
       "layout": "IPY_MODEL_f43340a9691c4a268280f16df4b7f51c",
       "style": "IPY_MODEL_ff2718298aea4b37a868a0e5bfd5f3ba",
       "value": "Render HTML: 100%"
      }
     },
     "cd5f2be27d0943db87854d243eab5cf1": {
      "model_module": "@jupyter-widgets/controls",
      "model_module_version": "1.5.0",
      "model_name": "ProgressStyleModel",
      "state": {
       "description_width": ""
      }
     },
     "d2b38be5abf3423cbe8f59d9cb2be475": {
      "model_module": "@jupyter-widgets/controls",
      "model_module_version": "1.5.0",
      "model_name": "ProgressStyleModel",
      "state": {
       "description_width": ""
      }
     },
     "d36c3107bd1948f2b01097cc796e86d2": {
      "model_module": "@jupyter-widgets/base",
      "model_module_version": "1.2.0",
      "model_name": "LayoutModel",
      "state": {}
     },
     "d5e4ca8b1f05491994c930c753049f8b": {
      "model_module": "@jupyter-widgets/base",
      "model_module_version": "1.2.0",
      "model_name": "LayoutModel",
      "state": {}
     },
     "d82a89e3e522434ca8cd248141890c93": {
      "model_module": "@jupyter-widgets/base",
      "model_module_version": "1.2.0",
      "model_name": "LayoutModel",
      "state": {}
     },
     "da52220cd10d4366a2602a104aa48d02": {
      "model_module": "@jupyter-widgets/controls",
      "model_module_version": "1.5.0",
      "model_name": "HBoxModel",
      "state": {
       "children": [
        "IPY_MODEL_39e7a66e891847a6827dbbb72ae430f7",
        "IPY_MODEL_26c04e509ae847949fe095626db0b07b",
        "IPY_MODEL_22b40e3e85de4bdb9cf82abe3ec8a205"
       ],
       "layout": "IPY_MODEL_c43c2599debf4656a8bd9f36a5c70093"
      }
     },
     "dda25bedc2a74e1c9124fad68fb24a6f": {
      "model_module": "@jupyter-widgets/base",
      "model_module_version": "1.2.0",
      "model_name": "LayoutModel",
      "state": {}
     },
     "dddbc5a4105644cc8b4797f3d3a5dc18": {
      "model_module": "@jupyter-widgets/controls",
      "model_module_version": "1.5.0",
      "model_name": "HBoxModel",
      "state": {
       "children": [
        "IPY_MODEL_8b8bd5b25ac7442bbb1b3ed01417132f",
        "IPY_MODEL_11781b680e834c21801845a3b48a0bb5",
        "IPY_MODEL_b7fb070a5004410f8bb34738b5c9a0eb"
       ],
       "layout": "IPY_MODEL_1cf9d76037b14dfcaf918bab3b002eb8"
      }
     },
     "e0f965a91be04a3b998f27d2ec1f41f2": {
      "model_module": "@jupyter-widgets/controls",
      "model_module_version": "1.5.0",
      "model_name": "HTMLModel",
      "state": {
       "layout": "IPY_MODEL_8f8e7010395744779a2d139228b5d89d",
       "style": "IPY_MODEL_ad48688554f04aef89ccfa4238df59b1",
       "value": "Summarize dataset: 100%"
      }
     },
     "e20a6c2da0ce4eb5954fac5d239fb0b9": {
      "model_module": "@jupyter-widgets/controls",
      "model_module_version": "1.5.0",
      "model_name": "ProgressStyleModel",
      "state": {
       "description_width": ""
      }
     },
     "e3a708607a094cbeba046218b64de779": {
      "model_module": "@jupyter-widgets/controls",
      "model_module_version": "1.5.0",
      "model_name": "HTMLModel",
      "state": {
       "layout": "IPY_MODEL_9fc75ca216624ed3add66f16ef1b13df",
       "style": "IPY_MODEL_a2e37cdffdf7426997b64dd231ed2d76",
       "value": "Render HTML: 100%"
      }
     },
     "e5780bbae4e64c8397dd44f1ed94d39d": {
      "model_module": "@jupyter-widgets/controls",
      "model_module_version": "1.5.0",
      "model_name": "ProgressStyleModel",
      "state": {
       "description_width": ""
      }
     },
     "e5edee98675546a6b953e68ce0c7c8b0": {
      "model_module": "@jupyter-widgets/base",
      "model_module_version": "1.2.0",
      "model_name": "LayoutModel",
      "state": {}
     },
     "e615e3c25d814cd48c71d795ec2154fd": {
      "model_module": "@jupyter-widgets/controls",
      "model_module_version": "1.5.0",
      "model_name": "ProgressStyleModel",
      "state": {
       "description_width": ""
      }
     },
     "e7d817fcf907474491c26f3e56c94160": {
      "model_module": "@jupyter-widgets/base",
      "model_module_version": "1.2.0",
      "model_name": "LayoutModel",
      "state": {}
     },
     "e893a25b593043f9bb102f1c9be5676f": {
      "model_module": "@jupyter-widgets/controls",
      "model_module_version": "1.5.0",
      "model_name": "DescriptionStyleModel",
      "state": {
       "description_width": ""
      }
     },
     "e8acb5ae12fe4f2abe98a11e34bf1e63": {
      "model_module": "@jupyter-widgets/base",
      "model_module_version": "1.2.0",
      "model_name": "LayoutModel",
      "state": {}
     },
     "e957229a15994a8e8edac7057d00da83": {
      "model_module": "@jupyter-widgets/controls",
      "model_module_version": "1.5.0",
      "model_name": "HTMLModel",
      "state": {
       "layout": "IPY_MODEL_a43620babf2b4f2195142e4e5af401be",
       "style": "IPY_MODEL_bf6c06b51db6493fb150305990d5e3f9",
       "value": " 1/1 [00:19&lt;00:00, 19.28s/it]"
      }
     },
     "e9be54155ec44b698822381639ade0ac": {
      "model_module": "@jupyter-widgets/controls",
      "model_module_version": "1.5.0",
      "model_name": "HTMLModel",
      "state": {
       "layout": "IPY_MODEL_d36c3107bd1948f2b01097cc796e86d2",
       "style": "IPY_MODEL_aa0792003c844a4dbe4b6e71df592936",
       "value": "Render HTML: 100%"
      }
     },
     "ea0cc1cd728a4db0b96f17eff40559cc": {
      "model_module": "@jupyter-widgets/controls",
      "model_module_version": "1.5.0",
      "model_name": "ProgressStyleModel",
      "state": {
       "description_width": ""
      }
     },
     "ec1496a49ec64f1aa8f5b03db3e5dba2": {
      "model_module": "@jupyter-widgets/controls",
      "model_module_version": "1.5.0",
      "model_name": "DescriptionStyleModel",
      "state": {
       "description_width": ""
      }
     },
     "edc321f3a0504d619dae27b69dc6ff47": {
      "model_module": "@jupyter-widgets/controls",
      "model_module_version": "1.5.0",
      "model_name": "DescriptionStyleModel",
      "state": {
       "description_width": ""
      }
     },
     "ef21718c30e0457c8a9f89d93df40664": {
      "model_module": "@jupyter-widgets/controls",
      "model_module_version": "1.5.0",
      "model_name": "HBoxModel",
      "state": {
       "children": [
        "IPY_MODEL_17eafd79eb3c4700a495fdc0f888946a",
        "IPY_MODEL_05640bda3416456dae5438d9fae03f24",
        "IPY_MODEL_6ca498c45ef24600a288e02d32b68168"
       ],
       "layout": "IPY_MODEL_2a61355c0a4f49d1b7f9927970534e48"
      }
     },
     "f257303c64b14c31881dbe8c0ce8d7fa": {
      "model_module": "@jupyter-widgets/controls",
      "model_module_version": "1.5.0",
      "model_name": "FloatProgressModel",
      "state": {
       "bar_style": "success",
       "layout": "IPY_MODEL_e5edee98675546a6b953e68ce0c7c8b0",
       "max": 5,
       "style": "IPY_MODEL_8cc7ec4b5fe14779bcf503a8e5f08cf0",
       "value": 5
      }
     },
     "f43340a9691c4a268280f16df4b7f51c": {
      "model_module": "@jupyter-widgets/base",
      "model_module_version": "1.2.0",
      "model_name": "LayoutModel",
      "state": {}
     },
     "f50e65404a7b41dab10117e61776f0e2": {
      "model_module": "@jupyter-widgets/controls",
      "model_module_version": "1.5.0",
      "model_name": "ProgressStyleModel",
      "state": {
       "description_width": ""
      }
     },
     "f5f30d3c38054c5fafcd2ebf0c166ddd": {
      "model_module": "@jupyter-widgets/base",
      "model_module_version": "1.2.0",
      "model_name": "LayoutModel",
      "state": {}
     },
     "fa8bb35850c54aa1b5921914376f3069": {
      "model_module": "@jupyter-widgets/controls",
      "model_module_version": "1.5.0",
      "model_name": "DescriptionStyleModel",
      "state": {
       "description_width": ""
      }
     },
     "fe97820ec7984f72a0480b7aa5b5d875": {
      "model_module": "@jupyter-widgets/controls",
      "model_module_version": "1.5.0",
      "model_name": "DescriptionStyleModel",
      "state": {
       "description_width": ""
      }
     },
     "ff2718298aea4b37a868a0e5bfd5f3ba": {
      "model_module": "@jupyter-widgets/controls",
      "model_module_version": "1.5.0",
      "model_name": "DescriptionStyleModel",
      "state": {
       "description_width": ""
      }
     }
    },
    "version_major": 2,
    "version_minor": 0
   }
  }
 },
 "nbformat": 4,
 "nbformat_minor": 5
}
