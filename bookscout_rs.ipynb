{
 "cells": [
  {
   "cell_type": "markdown",
   "id": "d0da1800",
   "metadata": {},
   "source": [
    "<h1><span style=\"color:steelblue\"> Book Recommendation System </span></h1>"
   ]
  },
  {
   "cell_type": "code",
   "execution_count": 1,
   "id": "0617c1e6",
   "metadata": {
    "scrolled": true
   },
   "outputs": [],
   "source": [
    "import warnings\n",
    "import phik\n",
    "import string\n",
    "import nltk\n",
    "import pickle\n",
    "import os\n",
    "import re\n",
    "import sqlite3\n",
    "import hnswlib\n",
    "import hashlib\n",
    "import requests\n",
    "\n",
    "\n",
    "import pandas as pd\n",
    "import numpy as np\n",
    "import missingno as msno\n",
    "import seaborn as sns\n",
    "import matplotlib.pyplot as plt\n",
    "import gensim.downloader as gdl\n",
    "\n",
    "from sklearn.preprocessing import StandardScaler\n",
    "from ydata_profiling import ProfileReport\n",
    "from nltk.corpus import stopwords\n",
    "from nltk.tokenize import word_tokenize, sent_tokenize\n",
    "from gensim.models import KeyedVectors\n",
    "from sklearn.model_selection import GridSearchCV as skGridSearchCV\n",
    "from sklearn.linear_model import LinearRegression\n",
    "from sklearn.ensemble import RandomForestRegressor\n",
    "from sklearn.metrics import classification_report, mean_squared_error, mean_absolute_error, r2_score\n",
    "from surprise import Dataset, Reader, NMF, SVD, accuracy\n",
    "from surprise.model_selection import train_test_split, GridSearchCV\n",
    "from io import StringIO\n",
    "\n",
    "%matplotlib inline"
   ]
  },
  {
   "cell_type": "code",
   "execution_count": 2,
   "id": "20b5c79c",
   "metadata": {
    "scrolled": true
   },
   "outputs": [],
   "source": [
    "#Displaying max columns and rows:\n",
    "pd.set_option('display.max_columns', None)\n",
    "pd.set_option('display.max_rows', None)\n",
    "\n",
    "#Suppressing FutureWarning:\n",
    "warnings.simplefilter(action='ignore', category=FutureWarning)"
   ]
  },
  {
   "cell_type": "markdown",
   "id": "ce02f3ce",
   "metadata": {
    "heading_collapsed": true,
    "jp-MarkdownHeadingCollapsed": true
   },
   "source": [
    "## <span style=\"color:steelblue\"> Data Preprocessing and EDA</span>"
   ]
  },
  {
   "cell_type": "markdown",
   "id": "731f618c",
   "metadata": {
    "hidden": true
   },
   "source": [
    "<em><span style=\"color:lightsteelblue\"> Extract data</span></em>"
   ]
  },
  {
   "cell_type": "code",
   "execution_count": 3,
   "id": "14156258",
   "metadata": {
    "hidden": true,
    "scrolled": true
   },
   "outputs": [],
   "source": [
    "books_url = \"https://raw.githubusercontent.com/malcolmosh/goodbooks-10k-extended/refs/heads/master/books_enriched.csv\"\n",
    "ratings_url = \"https://raw.githubusercontent.com/malcolmosh/goodbooks-10k-extended/refs/heads/master/ratings.csv\""
   ]
  },
  {
   "cell_type": "code",
   "execution_count": 4,
   "id": "1b22cd0b",
   "metadata": {
    "hidden": true
   },
   "outputs": [],
   "source": [
    "def download_csv(url):\n",
    "    response = requests.get(url)\n",
    "    response.raise_for_status()\n",
    "    return pd.read_csv(StringIO(response.text))"
   ]
  },
  {
   "cell_type": "code",
   "execution_count": 5,
   "id": "abcf6503",
   "metadata": {
    "hidden": true
   },
   "outputs": [],
   "source": [
    "books = download_csv(books_url)\n",
    "ratings = download_csv(ratings_url)"
   ]
  },
  {
   "cell_type": "markdown",
   "id": "61e3bad3",
   "metadata": {
    "hidden": true
   },
   "source": [
    "<div class=\"alert alert-block alert-info\">\n",
    "    \n",
    "- This dataset contains six million ratings for ten thousand most popular (with most ratings) books.<br><br>\n",
    "- Each book may have many editions. goodreads_book_id and best_book_id generally point to the most popular edition of a given book, while goodreads work_id refers to the book in the abstract sense.<br><br>\n",
    "- Note that book_id in ratings.csv maps to work_id, not to goodreads_book_id, meaning that ratings for different editions are aggregated."
   ]
  },
  {
   "cell_type": "markdown",
   "id": "536a246d",
   "metadata": {
    "hidden": true
   },
   "source": [
    "<em><span style=\"color:lightsteelblue\"> View ratings data </span></em>"
   ]
  },
  {
   "cell_type": "code",
   "execution_count": 6,
   "id": "3571c409",
   "metadata": {
    "hidden": true,
    "scrolled": true
   },
   "outputs": [
    {
     "data": {
      "text/html": [
       "<div>\n",
       "<style scoped>\n",
       "    .dataframe tbody tr th:only-of-type {\n",
       "        vertical-align: middle;\n",
       "    }\n",
       "\n",
       "    .dataframe tbody tr th {\n",
       "        vertical-align: top;\n",
       "    }\n",
       "\n",
       "    .dataframe thead th {\n",
       "        text-align: right;\n",
       "    }\n",
       "</style>\n",
       "<table border=\"1\" class=\"dataframe\">\n",
       "  <thead>\n",
       "    <tr style=\"text-align: right;\">\n",
       "      <th></th>\n",
       "      <th>user_id</th>\n",
       "      <th>book_id</th>\n",
       "      <th>rating</th>\n",
       "    </tr>\n",
       "  </thead>\n",
       "  <tbody>\n",
       "    <tr>\n",
       "      <th>0</th>\n",
       "      <td>1</td>\n",
       "      <td>258</td>\n",
       "      <td>5</td>\n",
       "    </tr>\n",
       "    <tr>\n",
       "      <th>1</th>\n",
       "      <td>2</td>\n",
       "      <td>4081</td>\n",
       "      <td>4</td>\n",
       "    </tr>\n",
       "    <tr>\n",
       "      <th>2</th>\n",
       "      <td>2</td>\n",
       "      <td>260</td>\n",
       "      <td>5</td>\n",
       "    </tr>\n",
       "    <tr>\n",
       "      <th>3</th>\n",
       "      <td>2</td>\n",
       "      <td>9296</td>\n",
       "      <td>5</td>\n",
       "    </tr>\n",
       "    <tr>\n",
       "      <th>4</th>\n",
       "      <td>2</td>\n",
       "      <td>2318</td>\n",
       "      <td>3</td>\n",
       "    </tr>\n",
       "  </tbody>\n",
       "</table>\n",
       "</div>"
      ],
      "text/plain": [
       "   user_id  book_id  rating\n",
       "0        1      258       5\n",
       "1        2     4081       4\n",
       "2        2      260       5\n",
       "3        2     9296       5\n",
       "4        2     2318       3"
      ]
     },
     "execution_count": 6,
     "metadata": {},
     "output_type": "execute_result"
    }
   ],
   "source": [
    "ratings.head()"
   ]
  },
  {
   "cell_type": "code",
   "execution_count": 7,
   "id": "928d751a",
   "metadata": {
    "hidden": true,
    "scrolled": true
   },
   "outputs": [
    {
     "name": "stdout",
     "output_type": "stream",
     "text": [
      "There are 5,976,479 total ratings.\n"
     ]
    }
   ],
   "source": [
    "num_ratings = ratings['rating'].count()\n",
    "\n",
    "print(f'There are {num_ratings:,} total ratings.')"
   ]
  },
  {
   "cell_type": "code",
   "execution_count": 8,
   "id": "6604fa29",
   "metadata": {
    "hidden": true
   },
   "outputs": [
    {
     "name": "stdout",
     "output_type": "stream",
     "text": [
      "The ratings range from 1 to 5.\n"
     ]
    }
   ],
   "source": [
    "min_rating = ratings['rating'].min()\n",
    "max_rating = ratings['rating'].max()\n",
    "\n",
    "print(f'The ratings range from {min_rating} to {max_rating}.')"
   ]
  },
  {
   "cell_type": "code",
   "execution_count": 9,
   "id": "19324bee",
   "metadata": {
    "hidden": true
   },
   "outputs": [
    {
     "name": "stdout",
     "output_type": "stream",
     "text": [
      "There are 53,424 users in total.\n"
     ]
    }
   ],
   "source": [
    "num_users = ratings['user_id'].nunique()\n",
    "\n",
    "print(f'There are {num_users:,} users in total.')"
   ]
  },
  {
   "cell_type": "code",
   "execution_count": 10,
   "id": "9936eb42",
   "metadata": {
    "hidden": true
   },
   "outputs": [
    {
     "data": {
      "image/png": "[encoded data removed]",
      "text/plain": [
       "<Figure size 640x480 with 1 Axes>"
      ]
     },
     "metadata": {},
     "output_type": "display_data"
    }
   ],
   "source": [
    "sns.set_theme()\n",
    "sns.histplot(x=ratings['rating'], bins=10)\n",
    "plt.xlabel('Rating', fontsize=12, c='#4c72b0')\n",
    "plt.ylabel('Count (in millions)', fontsize=12, c='#4c72b0')\n",
    "plt.title('Ratings Distribution', size=14,\\\n",
    "          pad=10, fontweight='bold', color='#4c72b0')\n",
    "\n",
    "plt.show()"
   ]
  },
  {
   "cell_type": "code",
   "execution_count": 11,
   "id": "6fb96f7a",
   "metadata": {
    "hidden": true
   },
   "outputs": [
    {
     "data": {
      "image/png": "[encoded data removed]",
      "text/plain": [
       "<Figure size 640x480 with 1 Axes>"
      ]
     },
     "metadata": {},
     "output_type": "display_data"
    }
   ],
   "source": [
    "sns.boxplot(x=ratings['rating'], orient='h')\n",
    "plt.xlabel('Rating', fontsize=12, c='#4c72b0')\n",
    "plt.title('Boxplot of Book Ratings', size=14, pad=10, fontweight='bold', color='#4c72b0')\n",
    "\n",
    "plt.show()"
   ]
  },
  {
   "cell_type": "markdown",
   "id": "23d91e14",
   "metadata": {
    "hidden": true
   },
   "source": [
    "<em><span style=\"color:lightsteelblue\"> View books data</span></em>"
   ]
  },
  {
   "cell_type": "code",
   "execution_count": 12,
   "id": "c3dce3dd",
   "metadata": {
    "hidden": true
   },
   "outputs": [
    {
     "data": {
      "text/html": [
       "<div>\n",
       "<style scoped>\n",
       "    .dataframe tbody tr th:only-of-type {\n",
       "        vertical-align: middle;\n",
       "    }\n",
       "\n",
       "    .dataframe tbody tr th {\n",
       "        vertical-align: top;\n",
       "    }\n",
       "\n",
       "    .dataframe thead th {\n",
       "        text-align: right;\n",
       "    }\n",
       "</style>\n",
       "<table border=\"1\" class=\"dataframe\">\n",
       "  <thead>\n",
       "    <tr style=\"text-align: right;\">\n",
       "      <th></th>\n",
       "      <th>Unnamed: 0</th>\n",
       "      <th>index</th>\n",
       "      <th>authors</th>\n",
       "      <th>average_rating</th>\n",
       "      <th>best_book_id</th>\n",
       "      <th>book_id</th>\n",
       "      <th>books_count</th>\n",
       "      <th>description</th>\n",
       "      <th>genres</th>\n",
       "      <th>goodreads_book_id</th>\n",
       "      <th>image_url</th>\n",
       "      <th>isbn</th>\n",
       "      <th>isbn13</th>\n",
       "      <th>language_code</th>\n",
       "      <th>original_publication_year</th>\n",
       "      <th>original_title</th>\n",
       "      <th>pages</th>\n",
       "      <th>publishDate</th>\n",
       "      <th>ratings_1</th>\n",
       "      <th>ratings_2</th>\n",
       "      <th>ratings_3</th>\n",
       "      <th>ratings_4</th>\n",
       "      <th>ratings_5</th>\n",
       "      <th>ratings_count</th>\n",
       "      <th>small_image_url</th>\n",
       "      <th>title</th>\n",
       "      <th>work_id</th>\n",
       "      <th>work_ratings_count</th>\n",
       "      <th>work_text_reviews_count</th>\n",
       "      <th>authors_2</th>\n",
       "    </tr>\n",
       "  </thead>\n",
       "  <tbody>\n",
       "    <tr>\n",
       "      <th>0</th>\n",
       "      <td>0</td>\n",
       "      <td>0</td>\n",
       "      <td>['Suzanne Collins']</td>\n",
       "      <td>4.34</td>\n",
       "      <td>2767052</td>\n",
       "      <td>1</td>\n",
       "      <td>272</td>\n",
       "      <td>WINNING MEANS FAME AND FORTUNE.LOSING MEANS CE...</td>\n",
       "      <td>['young-adult', 'fiction', 'fantasy', 'science...</td>\n",
       "      <td>2767052</td>\n",
       "      <td>https://images.gr-assets.com/books/1447303603m...</td>\n",
       "      <td>439023483</td>\n",
       "      <td>9.780439e+12</td>\n",
       "      <td>eng</td>\n",
       "      <td>2008.0</td>\n",
       "      <td>The Hunger Games</td>\n",
       "      <td>374.0</td>\n",
       "      <td>09/14/08</td>\n",
       "      <td>66715</td>\n",
       "      <td>127936</td>\n",
       "      <td>560092</td>\n",
       "      <td>1481305</td>\n",
       "      <td>2706317</td>\n",
       "      <td>4780653</td>\n",
       "      <td>https://images.gr-assets.com/books/1447303603s...</td>\n",
       "      <td>The Hunger Games (The Hunger Games, #1)</td>\n",
       "      <td>2792775</td>\n",
       "      <td>4942365</td>\n",
       "      <td>155254</td>\n",
       "      <td>['Suzanne Collins']</td>\n",
       "    </tr>\n",
       "    <tr>\n",
       "      <th>1</th>\n",
       "      <td>1</td>\n",
       "      <td>1</td>\n",
       "      <td>['J.K. Rowling', 'Mary GrandPré']</td>\n",
       "      <td>4.44</td>\n",
       "      <td>3</td>\n",
       "      <td>2</td>\n",
       "      <td>491</td>\n",
       "      <td>Harry Potter's life is miserable. His parents ...</td>\n",
       "      <td>['fantasy', 'fiction', 'young-adult', 'classics']</td>\n",
       "      <td>3</td>\n",
       "      <td>https://images.gr-assets.com/books/1474154022m...</td>\n",
       "      <td>439554934</td>\n",
       "      <td>9.780440e+12</td>\n",
       "      <td>eng</td>\n",
       "      <td>1997.0</td>\n",
       "      <td>Harry Potter and the Philosopher's Stone</td>\n",
       "      <td>309.0</td>\n",
       "      <td>11/01/03</td>\n",
       "      <td>75504</td>\n",
       "      <td>101676</td>\n",
       "      <td>455024</td>\n",
       "      <td>1156318</td>\n",
       "      <td>3011543</td>\n",
       "      <td>4602479</td>\n",
       "      <td>https://images.gr-assets.com/books/1474154022s...</td>\n",
       "      <td>Harry Potter and the Sorcerer's Stone (Harry P...</td>\n",
       "      <td>4640799</td>\n",
       "      <td>4800065</td>\n",
       "      <td>75867</td>\n",
       "      <td>['J.K. Rowling', 'Mary GrandPré']</td>\n",
       "    </tr>\n",
       "    <tr>\n",
       "      <th>2</th>\n",
       "      <td>2</td>\n",
       "      <td>2</td>\n",
       "      <td>['Stephenie Meyer']</td>\n",
       "      <td>3.57</td>\n",
       "      <td>41865</td>\n",
       "      <td>3</td>\n",
       "      <td>226</td>\n",
       "      <td>About three things I was absolutely positive.\\...</td>\n",
       "      <td>['young-adult', 'fantasy', 'romance', 'fiction...</td>\n",
       "      <td>41865</td>\n",
       "      <td>https://images.gr-assets.com/books/1361039443m...</td>\n",
       "      <td>316015849</td>\n",
       "      <td>9.780316e+12</td>\n",
       "      <td>eng</td>\n",
       "      <td>2005.0</td>\n",
       "      <td>Twilight</td>\n",
       "      <td>501.0</td>\n",
       "      <td>09/06/06</td>\n",
       "      <td>456191</td>\n",
       "      <td>436802</td>\n",
       "      <td>793319</td>\n",
       "      <td>875073</td>\n",
       "      <td>1355439</td>\n",
       "      <td>3866839</td>\n",
       "      <td>https://images.gr-assets.com/books/1361039443s...</td>\n",
       "      <td>Twilight (Twilight, #1)</td>\n",
       "      <td>3212258</td>\n",
       "      <td>3916824</td>\n",
       "      <td>95009</td>\n",
       "      <td>['Stephenie Meyer']</td>\n",
       "    </tr>\n",
       "    <tr>\n",
       "      <th>3</th>\n",
       "      <td>3</td>\n",
       "      <td>3</td>\n",
       "      <td>['Harper Lee']</td>\n",
       "      <td>4.25</td>\n",
       "      <td>2657</td>\n",
       "      <td>4</td>\n",
       "      <td>487</td>\n",
       "      <td>The unforgettable novel of a childhood in a sl...</td>\n",
       "      <td>['classics', 'fiction', 'historical-fiction', ...</td>\n",
       "      <td>2657</td>\n",
       "      <td>https://images.gr-assets.com/books/1361975680m...</td>\n",
       "      <td>61120081</td>\n",
       "      <td>9.780061e+12</td>\n",
       "      <td>eng</td>\n",
       "      <td>1960.0</td>\n",
       "      <td>To Kill a Mockingbird</td>\n",
       "      <td>324.0</td>\n",
       "      <td>05/23/06</td>\n",
       "      <td>60427</td>\n",
       "      <td>117415</td>\n",
       "      <td>446835</td>\n",
       "      <td>1001952</td>\n",
       "      <td>1714267</td>\n",
       "      <td>3198671</td>\n",
       "      <td>https://images.gr-assets.com/books/1361975680s...</td>\n",
       "      <td>To Kill a Mockingbird</td>\n",
       "      <td>3275794</td>\n",
       "      <td>3340896</td>\n",
       "      <td>72586</td>\n",
       "      <td>['Harper Lee']</td>\n",
       "    </tr>\n",
       "    <tr>\n",
       "      <th>4</th>\n",
       "      <td>4</td>\n",
       "      <td>4</td>\n",
       "      <td>['F. Scott Fitzgerald']</td>\n",
       "      <td>3.89</td>\n",
       "      <td>4671</td>\n",
       "      <td>5</td>\n",
       "      <td>1356</td>\n",
       "      <td>Alternate Cover Edition ISBN: 0743273567 (ISBN...</td>\n",
       "      <td>['classics', 'fiction', 'historical-fiction', ...</td>\n",
       "      <td>4671</td>\n",
       "      <td>https://images.gr-assets.com/books/1490528560m...</td>\n",
       "      <td>743273567</td>\n",
       "      <td>9.780743e+12</td>\n",
       "      <td>eng</td>\n",
       "      <td>1925.0</td>\n",
       "      <td>The Great Gatsby</td>\n",
       "      <td>200.0</td>\n",
       "      <td>09/28/04</td>\n",
       "      <td>86236</td>\n",
       "      <td>197621</td>\n",
       "      <td>606158</td>\n",
       "      <td>936012</td>\n",
       "      <td>947718</td>\n",
       "      <td>2683664</td>\n",
       "      <td>https://images.gr-assets.com/books/1490528560s...</td>\n",
       "      <td>The Great Gatsby</td>\n",
       "      <td>245494</td>\n",
       "      <td>2773745</td>\n",
       "      <td>51992</td>\n",
       "      <td>['F. Scott Fitzgerald']</td>\n",
       "    </tr>\n",
       "  </tbody>\n",
       "</table>\n",
       "</div>"
      ],
      "text/plain": [
       "   Unnamed: 0  index                            authors  average_rating  \\\n",
       "0           0      0                ['Suzanne Collins']            4.34   \n",
       "1           1      1  ['J.K. Rowling', 'Mary GrandPré']            4.44   \n",
       "2           2      2                ['Stephenie Meyer']            3.57   \n",
       "3           3      3                     ['Harper Lee']            4.25   \n",
       "4           4      4            ['F. Scott Fitzgerald']            3.89   \n",
       "\n",
       "   best_book_id  book_id  books_count  \\\n",
       "0       2767052        1          272   \n",
       "1             3        2          491   \n",
       "2         41865        3          226   \n",
       "3          2657        4          487   \n",
       "4          4671        5         1356   \n",
       "\n",
       "                                         description  \\\n",
       "0  WINNING MEANS FAME AND FORTUNE.LOSING MEANS CE...   \n",
       "1  Harry Potter's life is miserable. His parents ...   \n",
       "2  About three things I was absolutely positive.\\...   \n",
       "3  The unforgettable novel of a childhood in a sl...   \n",
       "4  Alternate Cover Edition ISBN: 0743273567 (ISBN...   \n",
       "\n",
       "                                              genres  goodreads_book_id  \\\n",
       "0  ['young-adult', 'fiction', 'fantasy', 'science...            2767052   \n",
       "1  ['fantasy', 'fiction', 'young-adult', 'classics']                  3   \n",
       "2  ['young-adult', 'fantasy', 'romance', 'fiction...              41865   \n",
       "3  ['classics', 'fiction', 'historical-fiction', ...               2657   \n",
       "4  ['classics', 'fiction', 'historical-fiction', ...               4671   \n",
       "\n",
       "                                           image_url       isbn        isbn13  \\\n",
       "0  https://images.gr-assets.com/books/1447303603m...  439023483  9.780439e+12   \n",
       "1  https://images.gr-assets.com/books/1474154022m...  439554934  9.780440e+12   \n",
       "2  https://images.gr-assets.com/books/1361039443m...  316015849  9.780316e+12   \n",
       "3  https://images.gr-assets.com/books/1361975680m...   61120081  9.780061e+12   \n",
       "4  https://images.gr-assets.com/books/1490528560m...  743273567  9.780743e+12   \n",
       "\n",
       "  language_code  original_publication_year  \\\n",
       "0           eng                     2008.0   \n",
       "1           eng                     1997.0   \n",
       "2           eng                     2005.0   \n",
       "3           eng                     1960.0   \n",
       "4           eng                     1925.0   \n",
       "\n",
       "                             original_title  pages publishDate  ratings_1  \\\n",
       "0                          The Hunger Games  374.0    09/14/08      66715   \n",
       "1  Harry Potter and the Philosopher's Stone  309.0    11/01/03      75504   \n",
       "2                                  Twilight  501.0    09/06/06     456191   \n",
       "3                     To Kill a Mockingbird  324.0    05/23/06      60427   \n",
       "4                          The Great Gatsby  200.0    09/28/04      86236   \n",
       "\n",
       "   ratings_2  ratings_3  ratings_4  ratings_5  ratings_count  \\\n",
       "0     127936     560092    1481305    2706317        4780653   \n",
       "1     101676     455024    1156318    3011543        4602479   \n",
       "2     436802     793319     875073    1355439        3866839   \n",
       "3     117415     446835    1001952    1714267        3198671   \n",
       "4     197621     606158     936012     947718        2683664   \n",
       "\n",
       "                                     small_image_url  \\\n",
       "0  https://images.gr-assets.com/books/1447303603s...   \n",
       "1  https://images.gr-assets.com/books/1474154022s...   \n",
       "2  https://images.gr-assets.com/books/1361039443s...   \n",
       "3  https://images.gr-assets.com/books/1361975680s...   \n",
       "4  https://images.gr-assets.com/books/1490528560s...   \n",
       "\n",
       "                                               title  work_id  \\\n",
       "0            The Hunger Games (The Hunger Games, #1)  2792775   \n",
       "1  Harry Potter and the Sorcerer's Stone (Harry P...  4640799   \n",
       "2                            Twilight (Twilight, #1)  3212258   \n",
       "3                              To Kill a Mockingbird  3275794   \n",
       "4                                   The Great Gatsby   245494   \n",
       "\n",
       "   work_ratings_count  work_text_reviews_count  \\\n",
       "0             4942365                   155254   \n",
       "1             4800065                    75867   \n",
       "2             3916824                    95009   \n",
       "3             3340896                    72586   \n",
       "4             2773745                    51992   \n",
       "\n",
       "                           authors_2  \n",
       "0                ['Suzanne Collins']  \n",
       "1  ['J.K. Rowling', 'Mary GrandPré']  \n",
       "2                ['Stephenie Meyer']  \n",
       "3                     ['Harper Lee']  \n",
       "4            ['F. Scott Fitzgerald']  "
      ]
     },
     "execution_count": 12,
     "metadata": {},
     "output_type": "execute_result"
    }
   ],
   "source": [
    "books.head()"
   ]
  },
  {
   "cell_type": "code",
   "execution_count": 13,
   "id": "e63370c4",
   "metadata": {
    "hidden": true,
    "scrolled": true
   },
   "outputs": [
    {
     "name": "stdout",
     "output_type": "stream",
     "text": [
      "There are 144 books with an average rating of 4.5 or greater.\n"
     ]
    }
   ],
   "source": [
    "top_rated = books[books['average_rating'] >= 4.5]\n",
    "top_rated_count = top_rated['work_id'].count()\n",
    "print(f'There are {top_rated_count} books with an average rating of 4.5 or greater.')"
   ]
  },
  {
   "cell_type": "code",
   "execution_count": 14,
   "id": "f9b6e618",
   "metadata": {
    "hidden": true
   },
   "outputs": [
    {
     "name": "stdout",
     "output_type": "stream",
     "text": [
      "There are 9,855 books with an average rating greater than 2.5 but less than 4.5.\n"
     ]
    }
   ],
   "source": [
    "mid_rated = books[(books['average_rating'] > 2.5) & (books['average_rating'] < 4.5)]\n",
    "mid_rated_count = mid_rated['work_id'].count()\n",
    "print(f'There are {mid_rated_count:,} books with an average rating greater than 2.5 but less than 4.5.')"
   ]
  },
  {
   "cell_type": "code",
   "execution_count": 15,
   "id": "1c435dd6",
   "metadata": {
    "hidden": true
   },
   "outputs": [
    {
     "name": "stdout",
     "output_type": "stream",
     "text": [
      "There is 1 book with an average rating of 2.5 or less.\n"
     ]
    }
   ],
   "source": [
    "low_rated = books[books['average_rating'] <= 2.5]\n",
    "low_rated_count = low_rated['work_id'].count()\n",
    "print(f'There is {low_rated_count} book with an average rating of 2.5 or less.')"
   ]
  },
  {
   "cell_type": "code",
   "execution_count": 16,
   "id": "c2da0a91",
   "metadata": {
    "hidden": true
   },
   "outputs": [
    {
     "data": {
      "image/png": "[encoded data removed]",
      "text/plain": [
       "<Figure size 640x480 with 1 Axes>"
      ]
     },
     "metadata": {},
     "output_type": "display_data"
    }
   ],
   "source": [
    "top_10_books = top_rated[:10]\n",
    "\n",
    "sns.barplot(data=top_10_books,\n",
    "            x='original_title', y='pages', \n",
    "            color='#4c72b0', alpha=.75, saturation=100)\n",
    "plt.xlabel('Title', fontsize=12, c='#4c72b0')\n",
    "plt.xticks(rotation=90)\n",
    "plt.ylabel('Number of Pages', fontsize=12, c='#4c72b0')\n",
    "plt.suptitle('Top 10 Books', size=14, fontweight='bold', color='#4c72b0')\n",
    "plt.title('(based on average rating)', size=10, pad=8, c='#4c72b0')\n",
    "\n",
    "plt.show()"
   ]
  },
  {
   "cell_type": "markdown",
   "id": "e4f01d55",
   "metadata": {
    "hidden": true
   },
   "source": [
    "<em><span style=\"color:lightsteelblue\"> Compare books in ratings df to books in books df  </span></em>"
   ]
  },
  {
   "cell_type": "code",
   "execution_count": 17,
   "id": "85a6711f",
   "metadata": {
    "hidden": true,
    "scrolled": true
   },
   "outputs": [],
   "source": [
    "# 'book_id' in ratings df correspond to 'work_id' in books df.\n",
    "\n",
    "ratings.rename(columns={'book_id':'work_id'}, inplace=True)"
   ]
  },
  {
   "cell_type": "code",
   "execution_count": 18,
   "id": "b4c6ad45",
   "metadata": {
    "hidden": true,
    "scrolled": true
   },
   "outputs": [
    {
     "name": "stdout",
     "output_type": "stream",
     "text": [
      "10000\n",
      "10000\n"
     ]
    }
   ],
   "source": [
    "print(ratings['work_id'].nunique())\n",
    "print(books['work_id'].nunique())"
   ]
  },
  {
   "cell_type": "code",
   "execution_count": 19,
   "id": "c3913cd1",
   "metadata": {
    "hidden": true,
    "scrolled": true
   },
   "outputs": [
    {
     "name": "stdout",
     "output_type": "stream",
     "text": [
      "There are 176 books in the books df that have been rated.\n"
     ]
    }
   ],
   "source": [
    "matched_ids = ratings[ratings['work_id'].isin(books['work_id'])]\n",
    "matched_ids_count = matched_ids['work_id'].nunique()\n",
    "\n",
    "print(f'There are {matched_ids_count} books in the books df that have been rated.')"
   ]
  },
  {
   "cell_type": "code",
   "execution_count": 20,
   "id": "f43859ad",
   "metadata": {
    "hidden": true,
    "scrolled": true
   },
   "outputs": [
    {
     "name": "stdout",
     "output_type": "stream",
     "text": [
      "There are 9824 books from the books df that have not been rated.\n",
      "There are 9824 books that have been rated but do not exist in the books df.\n"
     ]
    }
   ],
   "source": [
    "unmatched_ids = ratings[~ratings['work_id'].isin(books['work_id'])]\n",
    "unmatched_ids_count = unmatched_ids['work_id'].nunique()\n",
    "\n",
    "print(f'There are {unmatched_ids_count} books from the books df that have not been rated.')\n",
    "print(f'There are {unmatched_ids_count} books that have been rated but do not exist in the books df.')"
   ]
  },
  {
   "cell_type": "markdown",
   "id": "9b60d3b3",
   "metadata": {
    "hidden": true
   },
   "source": [
    "<em><span style=\"color:lightsteelblue\"> Remove books that don't exist in books df from ratings df  </span></em>"
   ]
  },
  {
   "cell_type": "code",
   "execution_count": 21,
   "id": "b133e9a1",
   "metadata": {
    "hidden": true
   },
   "outputs": [],
   "source": [
    "ratings['work_id'] = matched_ids['work_id']"
   ]
  },
  {
   "cell_type": "code",
   "execution_count": 22,
   "id": "333b1ae9",
   "metadata": {
    "hidden": true
   },
   "outputs": [
    {
     "data": {
      "text/html": [
       "<div>\n",
       "<style scoped>\n",
       "    .dataframe tbody tr th:only-of-type {\n",
       "        vertical-align: middle;\n",
       "    }\n",
       "\n",
       "    .dataframe tbody tr th {\n",
       "        vertical-align: top;\n",
       "    }\n",
       "\n",
       "    .dataframe thead th {\n",
       "        text-align: right;\n",
       "    }\n",
       "</style>\n",
       "<table border=\"1\" class=\"dataframe\">\n",
       "  <thead>\n",
       "    <tr style=\"text-align: right;\">\n",
       "      <th></th>\n",
       "      <th>user_id</th>\n",
       "      <th>work_id</th>\n",
       "      <th>rating</th>\n",
       "    </tr>\n",
       "  </thead>\n",
       "  <tbody>\n",
       "    <tr>\n",
       "      <th>0</th>\n",
       "      <td>1</td>\n",
       "      <td>NaN</td>\n",
       "      <td>5</td>\n",
       "    </tr>\n",
       "    <tr>\n",
       "      <th>1</th>\n",
       "      <td>2</td>\n",
       "      <td>NaN</td>\n",
       "      <td>4</td>\n",
       "    </tr>\n",
       "    <tr>\n",
       "      <th>2</th>\n",
       "      <td>2</td>\n",
       "      <td>NaN</td>\n",
       "      <td>5</td>\n",
       "    </tr>\n",
       "    <tr>\n",
       "      <th>3</th>\n",
       "      <td>2</td>\n",
       "      <td>NaN</td>\n",
       "      <td>5</td>\n",
       "    </tr>\n",
       "    <tr>\n",
       "      <th>4</th>\n",
       "      <td>2</td>\n",
       "      <td>NaN</td>\n",
       "      <td>3</td>\n",
       "    </tr>\n",
       "  </tbody>\n",
       "</table>\n",
       "</div>"
      ],
      "text/plain": [
       "   user_id  work_id  rating\n",
       "0        1      NaN       5\n",
       "1        2      NaN       4\n",
       "2        2      NaN       5\n",
       "3        2      NaN       5\n",
       "4        2      NaN       3"
      ]
     },
     "execution_count": 22,
     "metadata": {},
     "output_type": "execute_result"
    }
   ],
   "source": [
    "ratings.head()"
   ]
  },
  {
   "cell_type": "code",
   "execution_count": 23,
   "id": "0bee3009",
   "metadata": {
    "hidden": true
   },
   "outputs": [],
   "source": [
    "ratings.dropna(inplace=True)"
   ]
  },
  {
   "cell_type": "code",
   "execution_count": 24,
   "id": "66fe65d2",
   "metadata": {
    "hidden": true
   },
   "outputs": [],
   "source": [
    "ratings['work_id'] = ratings['work_id'].astype('int64')"
   ]
  },
  {
   "cell_type": "code",
   "execution_count": 25,
   "id": "ef218a91",
   "metadata": {
    "hidden": true
   },
   "outputs": [
    {
     "data": {
      "text/html": [
       "<div>\n",
       "<style scoped>\n",
       "    .dataframe tbody tr th:only-of-type {\n",
       "        vertical-align: middle;\n",
       "    }\n",
       "\n",
       "    .dataframe tbody tr th {\n",
       "        vertical-align: top;\n",
       "    }\n",
       "\n",
       "    .dataframe thead th {\n",
       "        text-align: right;\n",
       "    }\n",
       "</style>\n",
       "<table border=\"1\" class=\"dataframe\">\n",
       "  <thead>\n",
       "    <tr style=\"text-align: right;\">\n",
       "      <th></th>\n",
       "      <th>user_id</th>\n",
       "      <th>work_id</th>\n",
       "      <th>rating</th>\n",
       "    </tr>\n",
       "  </thead>\n",
       "  <tbody>\n",
       "    <tr>\n",
       "      <th>60</th>\n",
       "      <td>8</td>\n",
       "      <td>362</td>\n",
       "      <td>5</td>\n",
       "    </tr>\n",
       "    <tr>\n",
       "      <th>84</th>\n",
       "      <td>4</td>\n",
       "      <td>87</td>\n",
       "      <td>5</td>\n",
       "    </tr>\n",
       "    <tr>\n",
       "      <th>169</th>\n",
       "      <td>11</td>\n",
       "      <td>574</td>\n",
       "      <td>3</td>\n",
       "    </tr>\n",
       "    <tr>\n",
       "      <th>181</th>\n",
       "      <td>11</td>\n",
       "      <td>115</td>\n",
       "      <td>4</td>\n",
       "    </tr>\n",
       "    <tr>\n",
       "      <th>209</th>\n",
       "      <td>15</td>\n",
       "      <td>87</td>\n",
       "      <td>5</td>\n",
       "    </tr>\n",
       "  </tbody>\n",
       "</table>\n",
       "</div>"
      ],
      "text/plain": [
       "     user_id  work_id  rating\n",
       "60         8      362       5\n",
       "84         4       87       5\n",
       "169       11      574       3\n",
       "181       11      115       4\n",
       "209       15       87       5"
      ]
     },
     "execution_count": 25,
     "metadata": {},
     "output_type": "execute_result"
    }
   ],
   "source": [
    "ratings.head()"
   ]
  },
  {
   "cell_type": "code",
   "execution_count": 26,
   "id": "0c06a48b",
   "metadata": {
    "hidden": true,
    "scrolled": true
   },
   "outputs": [
    {
     "name": "stdout",
     "output_type": "stream",
     "text": [
      "int64\n",
      "int64\n"
     ]
    }
   ],
   "source": [
    "print(ratings['work_id'].dtype)\n",
    "print(books['work_id'].dtype)"
   ]
  },
  {
   "cell_type": "code",
   "execution_count": 27,
   "id": "603da66a",
   "metadata": {
    "hidden": true
   },
   "outputs": [
    {
     "name": "stdout",
     "output_type": "stream",
     "text": [
      "176\n",
      "10000\n"
     ]
    }
   ],
   "source": [
    "print(ratings['work_id'].nunique())\n",
    "print(books['work_id'].nunique())"
   ]
  },
  {
   "cell_type": "markdown",
   "id": "1345c8f1",
   "metadata": {
    "hidden": true
   },
   "source": [
    "<div class=\"alert alert-block alert-info\">\n",
    "    \n",
    "- The ratings df suggest that only 176 books from the books df have been rated. The other 9,824 rated books found in the ratings df do not exist in the books df. \n",
    "<br><br>\n",
    "- The average rating in the books df indicates that all 10,000 books in the books df have been rated.\n",
    "<br><br>\n",
    "- average_rating in the books df may not reflect the same ratings as the ratings df."
   ]
  },
  {
   "cell_type": "markdown",
   "id": "460e8bb5",
   "metadata": {
    "hidden": true
   },
   "source": [
    "<em><span style=\"color:lightsteelblue\"> Merge books df with ratings df </span></em>"
   ]
  },
  {
   "cell_type": "code",
   "execution_count": 28,
   "id": "f4637720",
   "metadata": {
    "hidden": true,
    "scrolled": true
   },
   "outputs": [],
   "source": [
    "goodbooks = books.merge(ratings, how='left', on='work_id')"
   ]
  },
  {
   "cell_type": "code",
   "execution_count": 29,
   "id": "069dcf83",
   "metadata": {
    "hidden": true,
    "scrolled": true
   },
   "outputs": [
    {
     "data": {
      "text/html": [
       "<div>\n",
       "<style scoped>\n",
       "    .dataframe tbody tr th:only-of-type {\n",
       "        vertical-align: middle;\n",
       "    }\n",
       "\n",
       "    .dataframe tbody tr th {\n",
       "        vertical-align: top;\n",
       "    }\n",
       "\n",
       "    .dataframe thead th {\n",
       "        text-align: right;\n",
       "    }\n",
       "</style>\n",
       "<table border=\"1\" class=\"dataframe\">\n",
       "  <thead>\n",
       "    <tr style=\"text-align: right;\">\n",
       "      <th></th>\n",
       "      <th>Unnamed: 0</th>\n",
       "      <th>index</th>\n",
       "      <th>authors</th>\n",
       "      <th>average_rating</th>\n",
       "      <th>best_book_id</th>\n",
       "      <th>book_id</th>\n",
       "      <th>books_count</th>\n",
       "      <th>description</th>\n",
       "      <th>genres</th>\n",
       "      <th>goodreads_book_id</th>\n",
       "      <th>image_url</th>\n",
       "      <th>isbn</th>\n",
       "      <th>isbn13</th>\n",
       "      <th>language_code</th>\n",
       "      <th>original_publication_year</th>\n",
       "      <th>original_title</th>\n",
       "      <th>pages</th>\n",
       "      <th>publishDate</th>\n",
       "      <th>ratings_1</th>\n",
       "      <th>ratings_2</th>\n",
       "      <th>ratings_3</th>\n",
       "      <th>ratings_4</th>\n",
       "      <th>ratings_5</th>\n",
       "      <th>ratings_count</th>\n",
       "      <th>small_image_url</th>\n",
       "      <th>title</th>\n",
       "      <th>work_id</th>\n",
       "      <th>work_ratings_count</th>\n",
       "      <th>work_text_reviews_count</th>\n",
       "      <th>authors_2</th>\n",
       "      <th>user_id</th>\n",
       "      <th>rating</th>\n",
       "    </tr>\n",
       "  </thead>\n",
       "  <tbody>\n",
       "    <tr>\n",
       "      <th>0</th>\n",
       "      <td>0</td>\n",
       "      <td>0</td>\n",
       "      <td>['Suzanne Collins']</td>\n",
       "      <td>4.34</td>\n",
       "      <td>2767052</td>\n",
       "      <td>1</td>\n",
       "      <td>272</td>\n",
       "      <td>WINNING MEANS FAME AND FORTUNE.LOSING MEANS CE...</td>\n",
       "      <td>['young-adult', 'fiction', 'fantasy', 'science...</td>\n",
       "      <td>2767052</td>\n",
       "      <td>https://images.gr-assets.com/books/1447303603m...</td>\n",
       "      <td>439023483</td>\n",
       "      <td>9.780439e+12</td>\n",
       "      <td>eng</td>\n",
       "      <td>2008.0</td>\n",
       "      <td>The Hunger Games</td>\n",
       "      <td>374.0</td>\n",
       "      <td>09/14/08</td>\n",
       "      <td>66715</td>\n",
       "      <td>127936</td>\n",
       "      <td>560092</td>\n",
       "      <td>1481305</td>\n",
       "      <td>2706317</td>\n",
       "      <td>4780653</td>\n",
       "      <td>https://images.gr-assets.com/books/1447303603s...</td>\n",
       "      <td>The Hunger Games (The Hunger Games, #1)</td>\n",
       "      <td>2792775</td>\n",
       "      <td>4942365</td>\n",
       "      <td>155254</td>\n",
       "      <td>['Suzanne Collins']</td>\n",
       "      <td>NaN</td>\n",
       "      <td>NaN</td>\n",
       "    </tr>\n",
       "    <tr>\n",
       "      <th>1</th>\n",
       "      <td>1</td>\n",
       "      <td>1</td>\n",
       "      <td>['J.K. Rowling', 'Mary GrandPré']</td>\n",
       "      <td>4.44</td>\n",
       "      <td>3</td>\n",
       "      <td>2</td>\n",
       "      <td>491</td>\n",
       "      <td>Harry Potter's life is miserable. His parents ...</td>\n",
       "      <td>['fantasy', 'fiction', 'young-adult', 'classics']</td>\n",
       "      <td>3</td>\n",
       "      <td>https://images.gr-assets.com/books/1474154022m...</td>\n",
       "      <td>439554934</td>\n",
       "      <td>9.780440e+12</td>\n",
       "      <td>eng</td>\n",
       "      <td>1997.0</td>\n",
       "      <td>Harry Potter and the Philosopher's Stone</td>\n",
       "      <td>309.0</td>\n",
       "      <td>11/01/03</td>\n",
       "      <td>75504</td>\n",
       "      <td>101676</td>\n",
       "      <td>455024</td>\n",
       "      <td>1156318</td>\n",
       "      <td>3011543</td>\n",
       "      <td>4602479</td>\n",
       "      <td>https://images.gr-assets.com/books/1474154022s...</td>\n",
       "      <td>Harry Potter and the Sorcerer's Stone (Harry P...</td>\n",
       "      <td>4640799</td>\n",
       "      <td>4800065</td>\n",
       "      <td>75867</td>\n",
       "      <td>['J.K. Rowling', 'Mary GrandPré']</td>\n",
       "      <td>NaN</td>\n",
       "      <td>NaN</td>\n",
       "    </tr>\n",
       "    <tr>\n",
       "      <th>2</th>\n",
       "      <td>2</td>\n",
       "      <td>2</td>\n",
       "      <td>['Stephenie Meyer']</td>\n",
       "      <td>3.57</td>\n",
       "      <td>41865</td>\n",
       "      <td>3</td>\n",
       "      <td>226</td>\n",
       "      <td>About three things I was absolutely positive.\\...</td>\n",
       "      <td>['young-adult', 'fantasy', 'romance', 'fiction...</td>\n",
       "      <td>41865</td>\n",
       "      <td>https://images.gr-assets.com/books/1361039443m...</td>\n",
       "      <td>316015849</td>\n",
       "      <td>9.780316e+12</td>\n",
       "      <td>eng</td>\n",
       "      <td>2005.0</td>\n",
       "      <td>Twilight</td>\n",
       "      <td>501.0</td>\n",
       "      <td>09/06/06</td>\n",
       "      <td>456191</td>\n",
       "      <td>436802</td>\n",
       "      <td>793319</td>\n",
       "      <td>875073</td>\n",
       "      <td>1355439</td>\n",
       "      <td>3866839</td>\n",
       "      <td>https://images.gr-assets.com/books/1361039443s...</td>\n",
       "      <td>Twilight (Twilight, #1)</td>\n",
       "      <td>3212258</td>\n",
       "      <td>3916824</td>\n",
       "      <td>95009</td>\n",
       "      <td>['Stephenie Meyer']</td>\n",
       "      <td>NaN</td>\n",
       "      <td>NaN</td>\n",
       "    </tr>\n",
       "    <tr>\n",
       "      <th>3</th>\n",
       "      <td>3</td>\n",
       "      <td>3</td>\n",
       "      <td>['Harper Lee']</td>\n",
       "      <td>4.25</td>\n",
       "      <td>2657</td>\n",
       "      <td>4</td>\n",
       "      <td>487</td>\n",
       "      <td>The unforgettable novel of a childhood in a sl...</td>\n",
       "      <td>['classics', 'fiction', 'historical-fiction', ...</td>\n",
       "      <td>2657</td>\n",
       "      <td>https://images.gr-assets.com/books/1361975680m...</td>\n",
       "      <td>61120081</td>\n",
       "      <td>9.780061e+12</td>\n",
       "      <td>eng</td>\n",
       "      <td>1960.0</td>\n",
       "      <td>To Kill a Mockingbird</td>\n",
       "      <td>324.0</td>\n",
       "      <td>05/23/06</td>\n",
       "      <td>60427</td>\n",
       "      <td>117415</td>\n",
       "      <td>446835</td>\n",
       "      <td>1001952</td>\n",
       "      <td>1714267</td>\n",
       "      <td>3198671</td>\n",
       "      <td>https://images.gr-assets.com/books/1361975680s...</td>\n",
       "      <td>To Kill a Mockingbird</td>\n",
       "      <td>3275794</td>\n",
       "      <td>3340896</td>\n",
       "      <td>72586</td>\n",
       "      <td>['Harper Lee']</td>\n",
       "      <td>NaN</td>\n",
       "      <td>NaN</td>\n",
       "    </tr>\n",
       "    <tr>\n",
       "      <th>4</th>\n",
       "      <td>4</td>\n",
       "      <td>4</td>\n",
       "      <td>['F. Scott Fitzgerald']</td>\n",
       "      <td>3.89</td>\n",
       "      <td>4671</td>\n",
       "      <td>5</td>\n",
       "      <td>1356</td>\n",
       "      <td>Alternate Cover Edition ISBN: 0743273567 (ISBN...</td>\n",
       "      <td>['classics', 'fiction', 'historical-fiction', ...</td>\n",
       "      <td>4671</td>\n",
       "      <td>https://images.gr-assets.com/books/1490528560m...</td>\n",
       "      <td>743273567</td>\n",
       "      <td>9.780743e+12</td>\n",
       "      <td>eng</td>\n",
       "      <td>1925.0</td>\n",
       "      <td>The Great Gatsby</td>\n",
       "      <td>200.0</td>\n",
       "      <td>09/28/04</td>\n",
       "      <td>86236</td>\n",
       "      <td>197621</td>\n",
       "      <td>606158</td>\n",
       "      <td>936012</td>\n",
       "      <td>947718</td>\n",
       "      <td>2683664</td>\n",
       "      <td>https://images.gr-assets.com/books/1490528560s...</td>\n",
       "      <td>The Great Gatsby</td>\n",
       "      <td>245494</td>\n",
       "      <td>2773745</td>\n",
       "      <td>51992</td>\n",
       "      <td>['F. Scott Fitzgerald']</td>\n",
       "      <td>NaN</td>\n",
       "      <td>NaN</td>\n",
       "    </tr>\n",
       "  </tbody>\n",
       "</table>\n",
       "</div>"
      ],
      "text/plain": [
       "   Unnamed: 0  index                            authors  average_rating  \\\n",
       "0           0      0                ['Suzanne Collins']            4.34   \n",
       "1           1      1  ['J.K. Rowling', 'Mary GrandPré']            4.44   \n",
       "2           2      2                ['Stephenie Meyer']            3.57   \n",
       "3           3      3                     ['Harper Lee']            4.25   \n",
       "4           4      4            ['F. Scott Fitzgerald']            3.89   \n",
       "\n",
       "   best_book_id  book_id  books_count  \\\n",
       "0       2767052        1          272   \n",
       "1             3        2          491   \n",
       "2         41865        3          226   \n",
       "3          2657        4          487   \n",
       "4          4671        5         1356   \n",
       "\n",
       "                                         description  \\\n",
       "0  WINNING MEANS FAME AND FORTUNE.LOSING MEANS CE...   \n",
       "1  Harry Potter's life is miserable. His parents ...   \n",
       "2  About three things I was absolutely positive.\\...   \n",
       "3  The unforgettable novel of a childhood in a sl...   \n",
       "4  Alternate Cover Edition ISBN: 0743273567 (ISBN...   \n",
       "\n",
       "                                              genres  goodreads_book_id  \\\n",
       "0  ['young-adult', 'fiction', 'fantasy', 'science...            2767052   \n",
       "1  ['fantasy', 'fiction', 'young-adult', 'classics']                  3   \n",
       "2  ['young-adult', 'fantasy', 'romance', 'fiction...              41865   \n",
       "3  ['classics', 'fiction', 'historical-fiction', ...               2657   \n",
       "4  ['classics', 'fiction', 'historical-fiction', ...               4671   \n",
       "\n",
       "                                           image_url       isbn        isbn13  \\\n",
       "0  https://images.gr-assets.com/books/1447303603m...  439023483  9.780439e+12   \n",
       "1  https://images.gr-assets.com/books/1474154022m...  439554934  9.780440e+12   \n",
       "2  https://images.gr-assets.com/books/1361039443m...  316015849  9.780316e+12   \n",
       "3  https://images.gr-assets.com/books/1361975680m...   61120081  9.780061e+12   \n",
       "4  https://images.gr-assets.com/books/1490528560m...  743273567  9.780743e+12   \n",
       "\n",
       "  language_code  original_publication_year  \\\n",
       "0           eng                     2008.0   \n",
       "1           eng                     1997.0   \n",
       "2           eng                     2005.0   \n",
       "3           eng                     1960.0   \n",
       "4           eng                     1925.0   \n",
       "\n",
       "                             original_title  pages publishDate  ratings_1  \\\n",
       "0                          The Hunger Games  374.0    09/14/08      66715   \n",
       "1  Harry Potter and the Philosopher's Stone  309.0    11/01/03      75504   \n",
       "2                                  Twilight  501.0    09/06/06     456191   \n",
       "3                     To Kill a Mockingbird  324.0    05/23/06      60427   \n",
       "4                          The Great Gatsby  200.0    09/28/04      86236   \n",
       "\n",
       "   ratings_2  ratings_3  ratings_4  ratings_5  ratings_count  \\\n",
       "0     127936     560092    1481305    2706317        4780653   \n",
       "1     101676     455024    1156318    3011543        4602479   \n",
       "2     436802     793319     875073    1355439        3866839   \n",
       "3     117415     446835    1001952    1714267        3198671   \n",
       "4     197621     606158     936012     947718        2683664   \n",
       "\n",
       "                                     small_image_url  \\\n",
       "0  https://images.gr-assets.com/books/1447303603s...   \n",
       "1  https://images.gr-assets.com/books/1474154022s...   \n",
       "2  https://images.gr-assets.com/books/1361039443s...   \n",
       "3  https://images.gr-assets.com/books/1361975680s...   \n",
       "4  https://images.gr-assets.com/books/1490528560s...   \n",
       "\n",
       "                                               title  work_id  \\\n",
       "0            The Hunger Games (The Hunger Games, #1)  2792775   \n",
       "1  Harry Potter and the Sorcerer's Stone (Harry P...  4640799   \n",
       "2                            Twilight (Twilight, #1)  3212258   \n",
       "3                              To Kill a Mockingbird  3275794   \n",
       "4                                   The Great Gatsby   245494   \n",
       "\n",
       "   work_ratings_count  work_text_reviews_count  \\\n",
       "0             4942365                   155254   \n",
       "1             4800065                    75867   \n",
       "2             3916824                    95009   \n",
       "3             3340896                    72586   \n",
       "4             2773745                    51992   \n",
       "\n",
       "                           authors_2  user_id  rating  \n",
       "0                ['Suzanne Collins']      NaN     NaN  \n",
       "1  ['J.K. Rowling', 'Mary GrandPré']      NaN     NaN  \n",
       "2                ['Stephenie Meyer']      NaN     NaN  \n",
       "3                     ['Harper Lee']      NaN     NaN  \n",
       "4            ['F. Scott Fitzgerald']      NaN     NaN  "
      ]
     },
     "execution_count": 29,
     "metadata": {},
     "output_type": "execute_result"
    }
   ],
   "source": [
    "goodbooks.head()"
   ]
  },
  {
   "cell_type": "markdown",
   "id": "60133317",
   "metadata": {
    "hidden": true
   },
   "source": [
    "<em><span style=\"color:lightsteelblue\">Handle missing values in [user_id] and [rating]</span></em>"
   ]
  },
  {
   "cell_type": "code",
   "execution_count": 30,
   "id": "27363450",
   "metadata": {
    "hidden": true,
    "scrolled": true
   },
   "outputs": [],
   "source": [
    "goodbooks['user_id'].fillna(0, inplace=True)\n",
    "goodbooks['rating'].fillna(0, inplace=True)"
   ]
  },
  {
   "cell_type": "code",
   "execution_count": 31,
   "id": "f8d12711",
   "metadata": {
    "hidden": true,
    "scrolled": true
   },
   "outputs": [
    {
     "data": {
      "text/html": [
       "<div>\n",
       "<style scoped>\n",
       "    .dataframe tbody tr th:only-of-type {\n",
       "        vertical-align: middle;\n",
       "    }\n",
       "\n",
       "    .dataframe tbody tr th {\n",
       "        vertical-align: top;\n",
       "    }\n",
       "\n",
       "    .dataframe thead th {\n",
       "        text-align: right;\n",
       "    }\n",
       "</style>\n",
       "<table border=\"1\" class=\"dataframe\">\n",
       "  <thead>\n",
       "    <tr style=\"text-align: right;\">\n",
       "      <th></th>\n",
       "      <th>Unnamed: 0</th>\n",
       "      <th>index</th>\n",
       "      <th>authors</th>\n",
       "      <th>average_rating</th>\n",
       "      <th>best_book_id</th>\n",
       "      <th>book_id</th>\n",
       "      <th>books_count</th>\n",
       "      <th>description</th>\n",
       "      <th>genres</th>\n",
       "      <th>goodreads_book_id</th>\n",
       "      <th>image_url</th>\n",
       "      <th>isbn</th>\n",
       "      <th>isbn13</th>\n",
       "      <th>language_code</th>\n",
       "      <th>original_publication_year</th>\n",
       "      <th>original_title</th>\n",
       "      <th>pages</th>\n",
       "      <th>publishDate</th>\n",
       "      <th>ratings_1</th>\n",
       "      <th>ratings_2</th>\n",
       "      <th>ratings_3</th>\n",
       "      <th>ratings_4</th>\n",
       "      <th>ratings_5</th>\n",
       "      <th>ratings_count</th>\n",
       "      <th>small_image_url</th>\n",
       "      <th>title</th>\n",
       "      <th>work_id</th>\n",
       "      <th>work_ratings_count</th>\n",
       "      <th>work_text_reviews_count</th>\n",
       "      <th>authors_2</th>\n",
       "      <th>user_id</th>\n",
       "      <th>rating</th>\n",
       "    </tr>\n",
       "  </thead>\n",
       "  <tbody>\n",
       "    <tr>\n",
       "      <th>0</th>\n",
       "      <td>0</td>\n",
       "      <td>0</td>\n",
       "      <td>['Suzanne Collins']</td>\n",
       "      <td>4.34</td>\n",
       "      <td>2767052</td>\n",
       "      <td>1</td>\n",
       "      <td>272</td>\n",
       "      <td>WINNING MEANS FAME AND FORTUNE.LOSING MEANS CE...</td>\n",
       "      <td>['young-adult', 'fiction', 'fantasy', 'science...</td>\n",
       "      <td>2767052</td>\n",
       "      <td>https://images.gr-assets.com/books/1447303603m...</td>\n",
       "      <td>439023483</td>\n",
       "      <td>9.780439e+12</td>\n",
       "      <td>eng</td>\n",
       "      <td>2008.0</td>\n",
       "      <td>The Hunger Games</td>\n",
       "      <td>374.0</td>\n",
       "      <td>09/14/08</td>\n",
       "      <td>66715</td>\n",
       "      <td>127936</td>\n",
       "      <td>560092</td>\n",
       "      <td>1481305</td>\n",
       "      <td>2706317</td>\n",
       "      <td>4780653</td>\n",
       "      <td>https://images.gr-assets.com/books/1447303603s...</td>\n",
       "      <td>The Hunger Games (The Hunger Games, #1)</td>\n",
       "      <td>2792775</td>\n",
       "      <td>4942365</td>\n",
       "      <td>155254</td>\n",
       "      <td>['Suzanne Collins']</td>\n",
       "      <td>0.0</td>\n",
       "      <td>0.0</td>\n",
       "    </tr>\n",
       "    <tr>\n",
       "      <th>1</th>\n",
       "      <td>1</td>\n",
       "      <td>1</td>\n",
       "      <td>['J.K. Rowling', 'Mary GrandPré']</td>\n",
       "      <td>4.44</td>\n",
       "      <td>3</td>\n",
       "      <td>2</td>\n",
       "      <td>491</td>\n",
       "      <td>Harry Potter's life is miserable. His parents ...</td>\n",
       "      <td>['fantasy', 'fiction', 'young-adult', 'classics']</td>\n",
       "      <td>3</td>\n",
       "      <td>https://images.gr-assets.com/books/1474154022m...</td>\n",
       "      <td>439554934</td>\n",
       "      <td>9.780440e+12</td>\n",
       "      <td>eng</td>\n",
       "      <td>1997.0</td>\n",
       "      <td>Harry Potter and the Philosopher's Stone</td>\n",
       "      <td>309.0</td>\n",
       "      <td>11/01/03</td>\n",
       "      <td>75504</td>\n",
       "      <td>101676</td>\n",
       "      <td>455024</td>\n",
       "      <td>1156318</td>\n",
       "      <td>3011543</td>\n",
       "      <td>4602479</td>\n",
       "      <td>https://images.gr-assets.com/books/1474154022s...</td>\n",
       "      <td>Harry Potter and the Sorcerer's Stone (Harry P...</td>\n",
       "      <td>4640799</td>\n",
       "      <td>4800065</td>\n",
       "      <td>75867</td>\n",
       "      <td>['J.K. Rowling', 'Mary GrandPré']</td>\n",
       "      <td>0.0</td>\n",
       "      <td>0.0</td>\n",
       "    </tr>\n",
       "    <tr>\n",
       "      <th>2</th>\n",
       "      <td>2</td>\n",
       "      <td>2</td>\n",
       "      <td>['Stephenie Meyer']</td>\n",
       "      <td>3.57</td>\n",
       "      <td>41865</td>\n",
       "      <td>3</td>\n",
       "      <td>226</td>\n",
       "      <td>About three things I was absolutely positive.\\...</td>\n",
       "      <td>['young-adult', 'fantasy', 'romance', 'fiction...</td>\n",
       "      <td>41865</td>\n",
       "      <td>https://images.gr-assets.com/books/1361039443m...</td>\n",
       "      <td>316015849</td>\n",
       "      <td>9.780316e+12</td>\n",
       "      <td>eng</td>\n",
       "      <td>2005.0</td>\n",
       "      <td>Twilight</td>\n",
       "      <td>501.0</td>\n",
       "      <td>09/06/06</td>\n",
       "      <td>456191</td>\n",
       "      <td>436802</td>\n",
       "      <td>793319</td>\n",
       "      <td>875073</td>\n",
       "      <td>1355439</td>\n",
       "      <td>3866839</td>\n",
       "      <td>https://images.gr-assets.com/books/1361039443s...</td>\n",
       "      <td>Twilight (Twilight, #1)</td>\n",
       "      <td>3212258</td>\n",
       "      <td>3916824</td>\n",
       "      <td>95009</td>\n",
       "      <td>['Stephenie Meyer']</td>\n",
       "      <td>0.0</td>\n",
       "      <td>0.0</td>\n",
       "    </tr>\n",
       "    <tr>\n",
       "      <th>3</th>\n",
       "      <td>3</td>\n",
       "      <td>3</td>\n",
       "      <td>['Harper Lee']</td>\n",
       "      <td>4.25</td>\n",
       "      <td>2657</td>\n",
       "      <td>4</td>\n",
       "      <td>487</td>\n",
       "      <td>The unforgettable novel of a childhood in a sl...</td>\n",
       "      <td>['classics', 'fiction', 'historical-fiction', ...</td>\n",
       "      <td>2657</td>\n",
       "      <td>https://images.gr-assets.com/books/1361975680m...</td>\n",
       "      <td>61120081</td>\n",
       "      <td>9.780061e+12</td>\n",
       "      <td>eng</td>\n",
       "      <td>1960.0</td>\n",
       "      <td>To Kill a Mockingbird</td>\n",
       "      <td>324.0</td>\n",
       "      <td>05/23/06</td>\n",
       "      <td>60427</td>\n",
       "      <td>117415</td>\n",
       "      <td>446835</td>\n",
       "      <td>1001952</td>\n",
       "      <td>1714267</td>\n",
       "      <td>3198671</td>\n",
       "      <td>https://images.gr-assets.com/books/1361975680s...</td>\n",
       "      <td>To Kill a Mockingbird</td>\n",
       "      <td>3275794</td>\n",
       "      <td>3340896</td>\n",
       "      <td>72586</td>\n",
       "      <td>['Harper Lee']</td>\n",
       "      <td>0.0</td>\n",
       "      <td>0.0</td>\n",
       "    </tr>\n",
       "    <tr>\n",
       "      <th>4</th>\n",
       "      <td>4</td>\n",
       "      <td>4</td>\n",
       "      <td>['F. Scott Fitzgerald']</td>\n",
       "      <td>3.89</td>\n",
       "      <td>4671</td>\n",
       "      <td>5</td>\n",
       "      <td>1356</td>\n",
       "      <td>Alternate Cover Edition ISBN: 0743273567 (ISBN...</td>\n",
       "      <td>['classics', 'fiction', 'historical-fiction', ...</td>\n",
       "      <td>4671</td>\n",
       "      <td>https://images.gr-assets.com/books/1490528560m...</td>\n",
       "      <td>743273567</td>\n",
       "      <td>9.780743e+12</td>\n",
       "      <td>eng</td>\n",
       "      <td>1925.0</td>\n",
       "      <td>The Great Gatsby</td>\n",
       "      <td>200.0</td>\n",
       "      <td>09/28/04</td>\n",
       "      <td>86236</td>\n",
       "      <td>197621</td>\n",
       "      <td>606158</td>\n",
       "      <td>936012</td>\n",
       "      <td>947718</td>\n",
       "      <td>2683664</td>\n",
       "      <td>https://images.gr-assets.com/books/1490528560s...</td>\n",
       "      <td>The Great Gatsby</td>\n",
       "      <td>245494</td>\n",
       "      <td>2773745</td>\n",
       "      <td>51992</td>\n",
       "      <td>['F. Scott Fitzgerald']</td>\n",
       "      <td>0.0</td>\n",
       "      <td>0.0</td>\n",
       "    </tr>\n",
       "  </tbody>\n",
       "</table>\n",
       "</div>"
      ],
      "text/plain": [
       "   Unnamed: 0  index                            authors  average_rating  \\\n",
       "0           0      0                ['Suzanne Collins']            4.34   \n",
       "1           1      1  ['J.K. Rowling', 'Mary GrandPré']            4.44   \n",
       "2           2      2                ['Stephenie Meyer']            3.57   \n",
       "3           3      3                     ['Harper Lee']            4.25   \n",
       "4           4      4            ['F. Scott Fitzgerald']            3.89   \n",
       "\n",
       "   best_book_id  book_id  books_count  \\\n",
       "0       2767052        1          272   \n",
       "1             3        2          491   \n",
       "2         41865        3          226   \n",
       "3          2657        4          487   \n",
       "4          4671        5         1356   \n",
       "\n",
       "                                         description  \\\n",
       "0  WINNING MEANS FAME AND FORTUNE.LOSING MEANS CE...   \n",
       "1  Harry Potter's life is miserable. His parents ...   \n",
       "2  About three things I was absolutely positive.\\...   \n",
       "3  The unforgettable novel of a childhood in a sl...   \n",
       "4  Alternate Cover Edition ISBN: 0743273567 (ISBN...   \n",
       "\n",
       "                                              genres  goodreads_book_id  \\\n",
       "0  ['young-adult', 'fiction', 'fantasy', 'science...            2767052   \n",
       "1  ['fantasy', 'fiction', 'young-adult', 'classics']                  3   \n",
       "2  ['young-adult', 'fantasy', 'romance', 'fiction...              41865   \n",
       "3  ['classics', 'fiction', 'historical-fiction', ...               2657   \n",
       "4  ['classics', 'fiction', 'historical-fiction', ...               4671   \n",
       "\n",
       "                                           image_url       isbn        isbn13  \\\n",
       "0  https://images.gr-assets.com/books/1447303603m...  439023483  9.780439e+12   \n",
       "1  https://images.gr-assets.com/books/1474154022m...  439554934  9.780440e+12   \n",
       "2  https://images.gr-assets.com/books/1361039443m...  316015849  9.780316e+12   \n",
       "3  https://images.gr-assets.com/books/1361975680m...   61120081  9.780061e+12   \n",
       "4  https://images.gr-assets.com/books/1490528560m...  743273567  9.780743e+12   \n",
       "\n",
       "  language_code  original_publication_year  \\\n",
       "0           eng                     2008.0   \n",
       "1           eng                     1997.0   \n",
       "2           eng                     2005.0   \n",
       "3           eng                     1960.0   \n",
       "4           eng                     1925.0   \n",
       "\n",
       "                             original_title  pages publishDate  ratings_1  \\\n",
       "0                          The Hunger Games  374.0    09/14/08      66715   \n",
       "1  Harry Potter and the Philosopher's Stone  309.0    11/01/03      75504   \n",
       "2                                  Twilight  501.0    09/06/06     456191   \n",
       "3                     To Kill a Mockingbird  324.0    05/23/06      60427   \n",
       "4                          The Great Gatsby  200.0    09/28/04      86236   \n",
       "\n",
       "   ratings_2  ratings_3  ratings_4  ratings_5  ratings_count  \\\n",
       "0     127936     560092    1481305    2706317        4780653   \n",
       "1     101676     455024    1156318    3011543        4602479   \n",
       "2     436802     793319     875073    1355439        3866839   \n",
       "3     117415     446835    1001952    1714267        3198671   \n",
       "4     197621     606158     936012     947718        2683664   \n",
       "\n",
       "                                     small_image_url  \\\n",
       "0  https://images.gr-assets.com/books/1447303603s...   \n",
       "1  https://images.gr-assets.com/books/1474154022s...   \n",
       "2  https://images.gr-assets.com/books/1361039443s...   \n",
       "3  https://images.gr-assets.com/books/1361975680s...   \n",
       "4  https://images.gr-assets.com/books/1490528560s...   \n",
       "\n",
       "                                               title  work_id  \\\n",
       "0            The Hunger Games (The Hunger Games, #1)  2792775   \n",
       "1  Harry Potter and the Sorcerer's Stone (Harry P...  4640799   \n",
       "2                            Twilight (Twilight, #1)  3212258   \n",
       "3                              To Kill a Mockingbird  3275794   \n",
       "4                                   The Great Gatsby   245494   \n",
       "\n",
       "   work_ratings_count  work_text_reviews_count  \\\n",
       "0             4942365                   155254   \n",
       "1             4800065                    75867   \n",
       "2             3916824                    95009   \n",
       "3             3340896                    72586   \n",
       "4             2773745                    51992   \n",
       "\n",
       "                           authors_2  user_id  rating  \n",
       "0                ['Suzanne Collins']      0.0     0.0  \n",
       "1  ['J.K. Rowling', 'Mary GrandPré']      0.0     0.0  \n",
       "2                ['Stephenie Meyer']      0.0     0.0  \n",
       "3                     ['Harper Lee']      0.0     0.0  \n",
       "4            ['F. Scott Fitzgerald']      0.0     0.0  "
      ]
     },
     "execution_count": 31,
     "metadata": {},
     "output_type": "execute_result"
    }
   ],
   "source": [
    "goodbooks.head()"
   ]
  },
  {
   "cell_type": "code",
   "execution_count": 32,
   "id": "47b2719a",
   "metadata": {
    "hidden": true,
    "scrolled": true
   },
   "outputs": [],
   "source": [
    "goodbooks['user_id'] = goodbooks['user_id'].astype('int64')\n",
    "goodbooks['rating'] = goodbooks['rating'].astype('int64')"
   ]
  },
  {
   "cell_type": "code",
   "execution_count": 33,
   "id": "2140200b",
   "metadata": {
    "hidden": true,
    "scrolled": true
   },
   "outputs": [
    {
     "name": "stdout",
     "output_type": "stream",
     "text": [
      "int64\n",
      "int64\n"
     ]
    }
   ],
   "source": [
    "print(goodbooks['user_id'].dtypes)\n",
    "print(goodbooks['rating'].dtypes)"
   ]
  },
  {
   "cell_type": "code",
   "execution_count": 34,
   "id": "fafb13af",
   "metadata": {
    "hidden": true
   },
   "outputs": [
    {
     "data": {
      "text/html": [
       "<div>\n",
       "<style scoped>\n",
       "    .dataframe tbody tr th:only-of-type {\n",
       "        vertical-align: middle;\n",
       "    }\n",
       "\n",
       "    .dataframe tbody tr th {\n",
       "        vertical-align: top;\n",
       "    }\n",
       "\n",
       "    .dataframe thead th {\n",
       "        text-align: right;\n",
       "    }\n",
       "</style>\n",
       "<table border=\"1\" class=\"dataframe\">\n",
       "  <thead>\n",
       "    <tr style=\"text-align: right;\">\n",
       "      <th></th>\n",
       "      <th>Unnamed: 0</th>\n",
       "      <th>index</th>\n",
       "      <th>authors</th>\n",
       "      <th>average_rating</th>\n",
       "      <th>best_book_id</th>\n",
       "      <th>book_id</th>\n",
       "      <th>books_count</th>\n",
       "      <th>description</th>\n",
       "      <th>genres</th>\n",
       "      <th>goodreads_book_id</th>\n",
       "      <th>image_url</th>\n",
       "      <th>isbn</th>\n",
       "      <th>isbn13</th>\n",
       "      <th>language_code</th>\n",
       "      <th>original_publication_year</th>\n",
       "      <th>original_title</th>\n",
       "      <th>pages</th>\n",
       "      <th>publishDate</th>\n",
       "      <th>ratings_1</th>\n",
       "      <th>ratings_2</th>\n",
       "      <th>ratings_3</th>\n",
       "      <th>ratings_4</th>\n",
       "      <th>ratings_5</th>\n",
       "      <th>ratings_count</th>\n",
       "      <th>small_image_url</th>\n",
       "      <th>title</th>\n",
       "      <th>work_id</th>\n",
       "      <th>work_ratings_count</th>\n",
       "      <th>work_text_reviews_count</th>\n",
       "      <th>authors_2</th>\n",
       "      <th>user_id</th>\n",
       "      <th>rating</th>\n",
       "    </tr>\n",
       "  </thead>\n",
       "  <tbody>\n",
       "    <tr>\n",
       "      <th>2680</th>\n",
       "      <td>292</td>\n",
       "      <td>292</td>\n",
       "      <td>['Wilson Rawls']</td>\n",
       "      <td>4.04</td>\n",
       "      <td>10365</td>\n",
       "      <td>321</td>\n",
       "      <td>69</td>\n",
       "      <td>A loving threesome, they ranged the dark hills...</td>\n",
       "      <td>['classics', 'fiction', 'young-adult', 'histor...</td>\n",
       "      <td>10365</td>\n",
       "      <td>https://images.gr-assets.com/books/1166154337m...</td>\n",
       "      <td>375806814</td>\n",
       "      <td>9.780376e+12</td>\n",
       "      <td>eng</td>\n",
       "      <td>1961.0</td>\n",
       "      <td>Where the Red Fern Grows</td>\n",
       "      <td>272.0</td>\n",
       "      <td>05/09/00</td>\n",
       "      <td>6585</td>\n",
       "      <td>15232</td>\n",
       "      <td>53560</td>\n",
       "      <td>89699</td>\n",
       "      <td>115103</td>\n",
       "      <td>268548</td>\n",
       "      <td>https://images.gr-assets.com/books/1166154337s...</td>\n",
       "      <td>Where the Red Fern Grows</td>\n",
       "      <td>115</td>\n",
       "      <td>280179</td>\n",
       "      <td>8725</td>\n",
       "      <td>['Wilson Rawls']</td>\n",
       "      <td>1554</td>\n",
       "      <td>5</td>\n",
       "    </tr>\n",
       "    <tr>\n",
       "      <th>19916</th>\n",
       "      <td>1395</td>\n",
       "      <td>1395</td>\n",
       "      <td>['James Ellroy']</td>\n",
       "      <td>3.75</td>\n",
       "      <td>21704</td>\n",
       "      <td>1485</td>\n",
       "      <td>93</td>\n",
       "      <td>On January 15, 1947, the torture-ravished body...</td>\n",
       "      <td>['mystery', 'fiction', 'crime', 'historical-fi...</td>\n",
       "      <td>21704</td>\n",
       "      <td>https://images.gr-assets.com/books/1387048173m...</td>\n",
       "      <td>446698873</td>\n",
       "      <td>9.780447e+12</td>\n",
       "      <td>eng</td>\n",
       "      <td>1987.0</td>\n",
       "      <td>The Black Dahlia</td>\n",
       "      <td>348.0</td>\n",
       "      <td>August 16th 2006</td>\n",
       "      <td>1999</td>\n",
       "      <td>4999</td>\n",
       "      <td>17641</td>\n",
       "      <td>23340</td>\n",
       "      <td>17425</td>\n",
       "      <td>61412</td>\n",
       "      <td>https://images.gr-assets.com/books/1387048173s...</td>\n",
       "      <td>The Black Dahlia (L.A. Quartet, #1)</td>\n",
       "      <td>434</td>\n",
       "      <td>65404</td>\n",
       "      <td>1944</td>\n",
       "      <td>['James Ellroy']</td>\n",
       "      <td>50565</td>\n",
       "      <td>3</td>\n",
       "    </tr>\n",
       "    <tr>\n",
       "      <th>138944</th>\n",
       "      <td>9689</td>\n",
       "      <td>9082</td>\n",
       "      <td>['[Nick Hornby]']</td>\n",
       "      <td>3.56</td>\n",
       "      <td>4261</td>\n",
       "      <td>9083</td>\n",
       "      <td>42</td>\n",
       "      <td>“All I have to say about these songs is that I...</td>\n",
       "      <td>['music', 'nonfiction', 'fiction', 'memoir', '...</td>\n",
       "      <td>4261</td>\n",
       "      <td>https://images.gr-assets.com/books/1417984618m...</td>\n",
       "      <td>1573223565</td>\n",
       "      <td>9.781573e+12</td>\n",
       "      <td>eng</td>\n",
       "      <td>2003.0</td>\n",
       "      <td>31 Songs</td>\n",
       "      <td>207.0</td>\n",
       "      <td>('10', '7', '2003')</td>\n",
       "      <td>363</td>\n",
       "      <td>1032</td>\n",
       "      <td>3811</td>\n",
       "      <td>3744</td>\n",
       "      <td>2135</td>\n",
       "      <td>8999</td>\n",
       "      <td>https://images.gr-assets.com/books/1417984618s...</td>\n",
       "      <td>Songbook</td>\n",
       "      <td>7951</td>\n",
       "      <td>11085</td>\n",
       "      <td>485</td>\n",
       "      <td>['[Nick Hornby]']</td>\n",
       "      <td>25505</td>\n",
       "      <td>3</td>\n",
       "    </tr>\n",
       "    <tr>\n",
       "      <th>93846</th>\n",
       "      <td>5840</td>\n",
       "      <td>5840</td>\n",
       "      <td>['Diane Duane']</td>\n",
       "      <td>3.80</td>\n",
       "      <td>116563</td>\n",
       "      <td>6683</td>\n",
       "      <td>30</td>\n",
       "      <td>Nita Callahan is at the end of her rope becaus...</td>\n",
       "      <td>['fantasy', 'young-adult', 'fiction', 'science...</td>\n",
       "      <td>116563</td>\n",
       "      <td>https://images.gr-assets.com/books/1328877065m...</td>\n",
       "      <td>152047387</td>\n",
       "      <td>9.780152e+12</td>\n",
       "      <td>eng</td>\n",
       "      <td>1983.0</td>\n",
       "      <td>So You Want to Be a Wizard</td>\n",
       "      <td>323.0</td>\n",
       "      <td>July 1st 2003</td>\n",
       "      <td>798</td>\n",
       "      <td>1791</td>\n",
       "      <td>5478</td>\n",
       "      <td>7247</td>\n",
       "      <td>6967</td>\n",
       "      <td>20408</td>\n",
       "      <td>https://images.gr-assets.com/books/1328877065s...</td>\n",
       "      <td>So You Want to Be a Wizard (Young Wizards, #1)</td>\n",
       "      <td>3464</td>\n",
       "      <td>22281</td>\n",
       "      <td>971</td>\n",
       "      <td>['Diane Duane']</td>\n",
       "      <td>420</td>\n",
       "      <td>3</td>\n",
       "    </tr>\n",
       "    <tr>\n",
       "      <th>77425</th>\n",
       "      <td>4807</td>\n",
       "      <td>4807</td>\n",
       "      <td>['Milan Kundera', 'Suzanne Rappaport']</td>\n",
       "      <td>3.86</td>\n",
       "      <td>26101</td>\n",
       "      <td>5374</td>\n",
       "      <td>113</td>\n",
       "      <td>Laughable Loves is a collection of stories tha...</td>\n",
       "      <td>['fiction', 'classics', 'contemporary', 'philo...</td>\n",
       "      <td>26101</td>\n",
       "      <td>https://s.gr-assets.com/assets/nophoto/book/11...</td>\n",
       "      <td>571206921</td>\n",
       "      <td>9.780571e+12</td>\n",
       "      <td>eng</td>\n",
       "      <td>1970.0</td>\n",
       "      <td>Směšné lásky</td>\n",
       "      <td>287.0</td>\n",
       "      <td>August 21st 2000</td>\n",
       "      <td>179</td>\n",
       "      <td>838</td>\n",
       "      <td>4631</td>\n",
       "      <td>7271</td>\n",
       "      <td>4489</td>\n",
       "      <td>12984</td>\n",
       "      <td>https://s.gr-assets.com/assets/nophoto/book/50...</td>\n",
       "      <td>Laughable Loves</td>\n",
       "      <td>3838</td>\n",
       "      <td>17408</td>\n",
       "      <td>781</td>\n",
       "      <td>['Milan Kundera', 'Suzanne Rappaport']</td>\n",
       "      <td>51997</td>\n",
       "      <td>3</td>\n",
       "    </tr>\n",
       "  </tbody>\n",
       "</table>\n",
       "</div>"
      ],
      "text/plain": [
       "        Unnamed: 0  index                                 authors  \\\n",
       "2680           292    292                        ['Wilson Rawls']   \n",
       "19916         1395   1395                        ['James Ellroy']   \n",
       "138944        9689   9082                       ['[Nick Hornby]']   \n",
       "93846         5840   5840                         ['Diane Duane']   \n",
       "77425         4807   4807  ['Milan Kundera', 'Suzanne Rappaport']   \n",
       "\n",
       "        average_rating  best_book_id  book_id  books_count  \\\n",
       "2680              4.04         10365      321           69   \n",
       "19916             3.75         21704     1485           93   \n",
       "138944            3.56          4261     9083           42   \n",
       "93846             3.80        116563     6683           30   \n",
       "77425             3.86         26101     5374          113   \n",
       "\n",
       "                                              description  \\\n",
       "2680    A loving threesome, they ranged the dark hills...   \n",
       "19916   On January 15, 1947, the torture-ravished body...   \n",
       "138944  “All I have to say about these songs is that I...   \n",
       "93846   Nita Callahan is at the end of her rope becaus...   \n",
       "77425   Laughable Loves is a collection of stories tha...   \n",
       "\n",
       "                                                   genres  goodreads_book_id  \\\n",
       "2680    ['classics', 'fiction', 'young-adult', 'histor...              10365   \n",
       "19916   ['mystery', 'fiction', 'crime', 'historical-fi...              21704   \n",
       "138944  ['music', 'nonfiction', 'fiction', 'memoir', '...               4261   \n",
       "93846   ['fantasy', 'young-adult', 'fiction', 'science...             116563   \n",
       "77425   ['fiction', 'classics', 'contemporary', 'philo...              26101   \n",
       "\n",
       "                                                image_url        isbn  \\\n",
       "2680    https://images.gr-assets.com/books/1166154337m...   375806814   \n",
       "19916   https://images.gr-assets.com/books/1387048173m...   446698873   \n",
       "138944  https://images.gr-assets.com/books/1417984618m...  1573223565   \n",
       "93846   https://images.gr-assets.com/books/1328877065m...   152047387   \n",
       "77425   https://s.gr-assets.com/assets/nophoto/book/11...   571206921   \n",
       "\n",
       "              isbn13 language_code  original_publication_year  \\\n",
       "2680    9.780376e+12           eng                     1961.0   \n",
       "19916   9.780447e+12           eng                     1987.0   \n",
       "138944  9.781573e+12           eng                     2003.0   \n",
       "93846   9.780152e+12           eng                     1983.0   \n",
       "77425   9.780571e+12           eng                     1970.0   \n",
       "\n",
       "                    original_title  pages          publishDate  ratings_1  \\\n",
       "2680      Where the Red Fern Grows  272.0             05/09/00       6585   \n",
       "19916             The Black Dahlia  348.0     August 16th 2006       1999   \n",
       "138944                    31 Songs  207.0  ('10', '7', '2003')        363   \n",
       "93846   So You Want to Be a Wizard  323.0        July 1st 2003        798   \n",
       "77425                Směšné lásky   287.0     August 21st 2000        179   \n",
       "\n",
       "        ratings_2  ratings_3  ratings_4  ratings_5  ratings_count  \\\n",
       "2680        15232      53560      89699     115103         268548   \n",
       "19916        4999      17641      23340      17425          61412   \n",
       "138944       1032       3811       3744       2135           8999   \n",
       "93846        1791       5478       7247       6967          20408   \n",
       "77425         838       4631       7271       4489          12984   \n",
       "\n",
       "                                          small_image_url  \\\n",
       "2680    https://images.gr-assets.com/books/1166154337s...   \n",
       "19916   https://images.gr-assets.com/books/1387048173s...   \n",
       "138944  https://images.gr-assets.com/books/1417984618s...   \n",
       "93846   https://images.gr-assets.com/books/1328877065s...   \n",
       "77425   https://s.gr-assets.com/assets/nophoto/book/50...   \n",
       "\n",
       "                                                 title  work_id  \\\n",
       "2680                          Where the Red Fern Grows      115   \n",
       "19916              The Black Dahlia (L.A. Quartet, #1)      434   \n",
       "138944                                        Songbook     7951   \n",
       "93846   So You Want to Be a Wizard (Young Wizards, #1)     3464   \n",
       "77425                                  Laughable Loves     3838   \n",
       "\n",
       "        work_ratings_count  work_text_reviews_count  \\\n",
       "2680                280179                     8725   \n",
       "19916                65404                     1944   \n",
       "138944               11085                      485   \n",
       "93846                22281                      971   \n",
       "77425                17408                      781   \n",
       "\n",
       "                                     authors_2  user_id  rating  \n",
       "2680                          ['Wilson Rawls']     1554       5  \n",
       "19916                         ['James Ellroy']    50565       3  \n",
       "138944                       ['[Nick Hornby]']    25505       3  \n",
       "93846                          ['Diane Duane']      420       3  \n",
       "77425   ['Milan Kundera', 'Suzanne Rappaport']    51997       3  "
      ]
     },
     "execution_count": 34,
     "metadata": {},
     "output_type": "execute_result"
    }
   ],
   "source": [
    "goodbooks.sample(5)"
   ]
  },
  {
   "cell_type": "code",
   "execution_count": 35,
   "id": "3026fb3f",
   "metadata": {
    "hidden": true,
    "scrolled": true
   },
   "outputs": [
    {
     "data": {
      "text/plain": [
       "(140010, 32)"
      ]
     },
     "execution_count": 35,
     "metadata": {},
     "output_type": "execute_result"
    }
   ],
   "source": [
    "goodbooks.shape"
   ]
  },
  {
   "cell_type": "markdown",
   "id": "81a3db07",
   "metadata": {
    "hidden": true
   },
   "source": [
    "<em><span style=\"color:lightsteelblue\">View missing values</span></em>"
   ]
  },
  {
   "cell_type": "code",
   "execution_count": 36,
   "id": "0212480f",
   "metadata": {
    "hidden": true,
    "scrolled": true
   },
   "outputs": [
    {
     "data": {
      "image/png": "[encoded data removed]",
      "text/plain": [
       "<Figure size 2500x1000 with 2 Axes>"
      ]
     },
     "metadata": {},
     "output_type": "display_data"
    }
   ],
   "source": [
    "msno.matrix(goodbooks)\n",
    "plt.show()"
   ]
  },
  {
   "cell_type": "markdown",
   "id": "5a5db2d6",
   "metadata": {
    "hidden": true
   },
   "source": [
    "<em><span style=\"color:lightsteelblue\">Confirm duplicate column</span></em>"
   ]
  },
  {
   "cell_type": "code",
   "execution_count": 37,
   "id": "2b8eefe7",
   "metadata": {
    "hidden": true
   },
   "outputs": [
    {
     "data": {
      "text/html": [
       "<div>\n",
       "<style scoped>\n",
       "    .dataframe tbody tr th:only-of-type {\n",
       "        vertical-align: middle;\n",
       "    }\n",
       "\n",
       "    .dataframe tbody tr th {\n",
       "        vertical-align: top;\n",
       "    }\n",
       "\n",
       "    .dataframe thead th {\n",
       "        text-align: right;\n",
       "    }\n",
       "</style>\n",
       "<table border=\"1\" class=\"dataframe\">\n",
       "  <thead>\n",
       "    <tr style=\"text-align: right;\">\n",
       "      <th></th>\n",
       "      <th>authors</th>\n",
       "      <th>authors_2</th>\n",
       "    </tr>\n",
       "  </thead>\n",
       "  <tbody>\n",
       "    <tr>\n",
       "      <th>73897</th>\n",
       "      <td>['Roger Zelazny']</td>\n",
       "      <td>['Roger Zelazny']</td>\n",
       "    </tr>\n",
       "    <tr>\n",
       "      <th>37632</th>\n",
       "      <td>['Nelson DeMille']</td>\n",
       "      <td>['Nelson DeMille']</td>\n",
       "    </tr>\n",
       "    <tr>\n",
       "      <th>81123</th>\n",
       "      <td>['Isabel Allende', 'Margaret Sayers Peden']</td>\n",
       "      <td>['Isabel Allende', 'Margaret Sayers Peden']</td>\n",
       "    </tr>\n",
       "    <tr>\n",
       "      <th>34193</th>\n",
       "      <td>['Patricia Schultz']</td>\n",
       "      <td>['Patricia Schultz']</td>\n",
       "    </tr>\n",
       "    <tr>\n",
       "      <th>40655</th>\n",
       "      <td>['Barbara Taylor Bradford']</td>\n",
       "      <td>['Barbara Taylor Bradford']</td>\n",
       "    </tr>\n",
       "  </tbody>\n",
       "</table>\n",
       "</div>"
      ],
      "text/plain": [
       "                                           authors  \\\n",
       "73897                            ['Roger Zelazny']   \n",
       "37632                           ['Nelson DeMille']   \n",
       "81123  ['Isabel Allende', 'Margaret Sayers Peden']   \n",
       "34193                         ['Patricia Schultz']   \n",
       "40655                  ['Barbara Taylor Bradford']   \n",
       "\n",
       "                                         authors_2  \n",
       "73897                            ['Roger Zelazny']  \n",
       "37632                           ['Nelson DeMille']  \n",
       "81123  ['Isabel Allende', 'Margaret Sayers Peden']  \n",
       "34193                         ['Patricia Schultz']  \n",
       "40655                  ['Barbara Taylor Bradford']  "
      ]
     },
     "execution_count": 37,
     "metadata": {},
     "output_type": "execute_result"
    }
   ],
   "source": [
    "author_df = goodbooks[['authors', 'authors_2']]\n",
    "author_df.sample(5)"
   ]
  },
  {
   "cell_type": "code",
   "execution_count": 38,
   "id": "60ce9928",
   "metadata": {
    "hidden": true
   },
   "outputs": [
    {
     "data": {
      "text/plain": [
       "0"
      ]
     },
     "execution_count": 38,
     "metadata": {},
     "output_type": "execute_result"
    }
   ],
   "source": [
    "unmatched_authors = author_df[~author_df['authors'].isin(author_df['authors_2'])]\n",
    "unmatched_authors['authors'].nunique()"
   ]
  },
  {
   "cell_type": "markdown",
   "id": "5a5664e9",
   "metadata": {
    "hidden": true
   },
   "source": [
    "<em><span style=\"color:lightsteelblue\">Drop redundant columns and columns containing missing values</span></em>"
   ]
  },
  {
   "cell_type": "code",
   "execution_count": 39,
   "id": "637a3cf1",
   "metadata": {
    "hidden": true
   },
   "outputs": [],
   "source": [
    "goodbooks.drop(columns=['Unnamed: 0', 'index', 'average_rating', \n",
    "                        'best_book_id', 'isbn', 'isbn13',\n",
    "                        'original_publication_year', 'original_title',\n",
    "                        'pages','publishDate', 'authors_2'], inplace=True)"
   ]
  },
  {
   "cell_type": "code",
   "execution_count": 40,
   "id": "f9ea9e3b",
   "metadata": {
    "hidden": true,
    "scrolled": true
   },
   "outputs": [
    {
     "data": {
      "text/plain": [
       "(140010, 21)"
      ]
     },
     "execution_count": 40,
     "metadata": {},
     "output_type": "execute_result"
    }
   ],
   "source": [
    "goodbooks.shape"
   ]
  },
  {
   "cell_type": "markdown",
   "id": "b21e6557",
   "metadata": {
    "hidden": true
   },
   "source": [
    "<em><span style=\"color:lightsteelblue\">Handle missing values in [description]</span></em>"
   ]
  },
  {
   "cell_type": "code",
   "execution_count": 41,
   "id": "f029d0bc",
   "metadata": {
    "hidden": true,
    "scrolled": true
   },
   "outputs": [
    {
     "data": {
      "text/plain": [
       "209"
      ]
     },
     "execution_count": 41,
     "metadata": {},
     "output_type": "execute_result"
    }
   ],
   "source": [
    "goodbooks['description'].isna().sum()"
   ]
  },
  {
   "cell_type": "code",
   "execution_count": 42,
   "id": "7e2340b2",
   "metadata": {
    "hidden": true,
    "scrolled": true
   },
   "outputs": [],
   "source": [
    "goodbooks.dropna(subset=['description'], inplace=True)"
   ]
  },
  {
   "cell_type": "code",
   "execution_count": 43,
   "id": "2cf149b2",
   "metadata": {
    "hidden": true
   },
   "outputs": [
    {
     "data": {
      "text/plain": [
       "0"
      ]
     },
     "execution_count": 43,
     "metadata": {},
     "output_type": "execute_result"
    }
   ],
   "source": [
    "goodbooks['description'].isna().sum()"
   ]
  },
  {
   "cell_type": "code",
   "execution_count": 44,
   "id": "1c7cc7b7",
   "metadata": {
    "hidden": true
   },
   "outputs": [
    {
     "data": {
      "text/plain": [
       "(139801, 21)"
      ]
     },
     "execution_count": 44,
     "metadata": {},
     "output_type": "execute_result"
    }
   ],
   "source": [
    "goodbooks.shape"
   ]
  },
  {
   "cell_type": "markdown",
   "id": "62a3eacf",
   "metadata": {
    "hidden": true
   },
   "source": [
    "<em><span style=\"color:lightsteelblue\">Generate profile report </span></em>"
   ]
  },
  {
   "cell_type": "code",
   "execution_count": 45,
   "id": "72d5f113",
   "metadata": {
    "hidden": true
   },
   "outputs": [],
   "source": [
    "goodbooks_report = ProfileReport(goodbooks.sample(10000, random_state=42),\n",
    "                                vars={'num':{'low_categorical_threshold':0}},\n",
    "                                correlations={'auto': {'calculate':False}})\n",
    "# goodbooks_report.to_file('goodbooks_report.html')"
   ]
  },
  {
   "cell_type": "markdown",
   "id": "342e41fb",
   "metadata": {
    "hidden": true
   },
   "source": [
    "<em><span style=\"color:lightsteelblue\">Drop imbalanced column</span></em>"
   ]
  },
  {
   "cell_type": "code",
   "execution_count": 46,
   "id": "40243964",
   "metadata": {
    "hidden": true
   },
   "outputs": [],
   "source": [
    "goodbooks.drop(columns=['language_code'], inplace=True)"
   ]
  },
  {
   "cell_type": "code",
   "execution_count": 47,
   "id": "566e0928",
   "metadata": {
    "hidden": true
   },
   "outputs": [
    {
     "name": "stdout",
     "output_type": "stream",
     "text": [
      "<class 'pandas.core.frame.DataFrame'>\n",
      "Int64Index: 139801 entries, 0 to 140009\n",
      "Data columns (total 20 columns):\n",
      " #   Column                   Non-Null Count   Dtype \n",
      "---  ------                   --------------   ----- \n",
      " 0   authors                  139801 non-null  object\n",
      " 1   book_id                  139801 non-null  int64 \n",
      " 2   books_count              139801 non-null  int64 \n",
      " 3   description              139801 non-null  object\n",
      " 4   genres                   139801 non-null  object\n",
      " 5   goodreads_book_id        139801 non-null  int64 \n",
      " 6   image_url                139801 non-null  object\n",
      " 7   ratings_1                139801 non-null  int64 \n",
      " 8   ratings_2                139801 non-null  int64 \n",
      " 9   ratings_3                139801 non-null  int64 \n",
      " 10  ratings_4                139801 non-null  int64 \n",
      " 11  ratings_5                139801 non-null  int64 \n",
      " 12  ratings_count            139801 non-null  int64 \n",
      " 13  small_image_url          139801 non-null  object\n",
      " 14  title                    139801 non-null  object\n",
      " 15  work_id                  139801 non-null  int64 \n",
      " 16  work_ratings_count       139801 non-null  int64 \n",
      " 17  work_text_reviews_count  139801 non-null  int64 \n",
      " 18  user_id                  139801 non-null  int64 \n",
      " 19  rating                   139801 non-null  int64 \n",
      "dtypes: int64(14), object(6)\n",
      "memory usage: 22.4+ MB\n"
     ]
    }
   ],
   "source": [
    "goodbooks.info()"
   ]
  },
  {
   "cell_type": "markdown",
   "id": "5e0e8d8c",
   "metadata": {
    "hidden": true
   },
   "source": [
    "<em><span style=\"color:lightsteelblue\">Clean [title]</span></em>"
   ]
  },
  {
   "cell_type": "code",
   "execution_count": 48,
   "id": "6590dfaa",
   "metadata": {
    "hidden": true
   },
   "outputs": [],
   "source": [
    "goodbooks['title'] = goodbooks['title'].str.replace(r'\\s*\\(.*?\\)\\s*', ' ', regex=True)\n",
    "goodbooks['title'] = goodbooks['title'].str.strip()"
   ]
  },
  {
   "cell_type": "code",
   "execution_count": 49,
   "id": "a06f982f",
   "metadata": {
    "hidden": true
   },
   "outputs": [
    {
     "data": {
      "text/plain": [
       "0                         The Hunger Games\n",
       "1    Harry Potter and the Sorcerer's Stone\n",
       "2                                 Twilight\n",
       "Name: title, dtype: object"
      ]
     },
     "execution_count": 49,
     "metadata": {},
     "output_type": "execute_result"
    }
   ],
   "source": [
    "goodbooks['title'][:3]"
   ]
  },
  {
   "cell_type": "markdown",
   "id": "12d7a6b0",
   "metadata": {
    "hidden": true
   },
   "source": [
    "<em><span style=\"color:lightsteelblue\">Remove [image_url] duds</span></em>"
   ]
  },
  {
   "cell_type": "code",
   "execution_count": 50,
   "id": "a8caf33d",
   "metadata": {
    "hidden": true
   },
   "outputs": [
    {
     "data": {
      "text/plain": [
       "139801"
      ]
     },
     "execution_count": 50,
     "metadata": {},
     "output_type": "execute_result"
    }
   ],
   "source": [
    "goodbooks['image_url'].value_counts().sum()"
   ]
  },
  {
   "cell_type": "code",
   "execution_count": 51,
   "id": "bb6ec196",
   "metadata": {
    "hidden": true
   },
   "outputs": [
    {
     "name": "stdout",
     "output_type": "stream",
     "text": [
      "                authors  book_id  books_count  \\\n",
      "111287  ['John Updike']     8625           52   \n",
      "\n",
      "                                              description  \\\n",
      "111287  In this sequel to Rabbit, Run, John Updike res...   \n",
      "\n",
      "                                                   genres  goodreads_book_id  \\\n",
      "111287  ['fiction', 'classics', 'contemporary', 'roman...              46917   \n",
      "\n",
      "                                                image_url  ratings_1  \\\n",
      "111287  https://s.gr-assets.com/assets/nophoto/book/11...        269   \n",
      "\n",
      "        ratings_2  ratings_3  ratings_4  ratings_5  ratings_count  \\\n",
      "111287        798       3052       4564       3044          11051   \n",
      "\n",
      "                                          small_image_url         title  \\\n",
      "111287  https://s.gr-assets.com/assets/nophoto/book/50...  Rabbit Redux   \n",
      "\n",
      "        work_id  work_ratings_count  work_text_reviews_count  user_id  rating  \n",
      "111287   864749               11727                      604        0       0  \n"
     ]
    }
   ],
   "source": [
    "nophoto_url = goodbooks.loc[goodbooks['title'] == 'Rabbit Redux']\n",
    "print(nophoto_url)"
   ]
  },
  {
   "cell_type": "code",
   "execution_count": 52,
   "id": "755c0ed7",
   "metadata": {
    "hidden": true
   },
   "outputs": [],
   "source": [
    "goodbooks['image_url'] = goodbooks['image_url'].str.strip()"
   ]
  },
  {
   "cell_type": "code",
   "execution_count": 53,
   "id": "ff0862e3",
   "metadata": {
    "hidden": true
   },
   "outputs": [],
   "source": [
    "pattern = 'https://s.gr-assets.com/assets/nophoto/book/'\n",
    "goodbooks = goodbooks[~goodbooks['image_url'].str.contains(pattern, case=False, na=False)]"
   ]
  },
  {
   "cell_type": "code",
   "execution_count": 54,
   "id": "4054b1d8",
   "metadata": {
    "hidden": true
   },
   "outputs": [
    {
     "data": {
      "text/plain": [
       "73185"
      ]
     },
     "execution_count": 54,
     "metadata": {},
     "output_type": "execute_result"
    }
   ],
   "source": [
    "goodbooks['image_url'].value_counts().sum()"
   ]
  },
  {
   "cell_type": "code",
   "execution_count": 55,
   "id": "5b40c3f7",
   "metadata": {
    "hidden": true
   },
   "outputs": [
    {
     "data": {
      "text/plain": [
       "(73185, 20)"
      ]
     },
     "execution_count": 55,
     "metadata": {},
     "output_type": "execute_result"
    }
   ],
   "source": [
    "goodbooks.shape"
   ]
  },
  {
   "cell_type": "markdown",
   "id": "0881fd41",
   "metadata": {
    "hidden": true
   },
   "source": [
    "<em><span style=\"color:lightsteelblue\">Clean [authors]</span></em>"
   ]
  },
  {
   "cell_type": "code",
   "execution_count": 56,
   "id": "8ca1fff4",
   "metadata": {
    "hidden": true
   },
   "outputs": [],
   "source": [
    "goodbooks['authors'] = goodbooks['authors'].str.replace(r\"[\\[\\]'']\", '', regex=True).str.strip()\n",
    "goodbooks['authors'] = goodbooks['authors'].apply((lambda x: x.split(',')[0].split(';')[0].strip()))"
   ]
  },
  {
   "cell_type": "code",
   "execution_count": 57,
   "id": "41a88467",
   "metadata": {
    "hidden": true
   },
   "outputs": [
    {
     "data": {
      "text/plain": [
       "0    Suzanne Collins\n",
       "1       J.K. Rowling\n",
       "2    Stephenie Meyer\n",
       "Name: authors, dtype: object"
      ]
     },
     "execution_count": 57,
     "metadata": {},
     "output_type": "execute_result"
    }
   ],
   "source": [
    "goodbooks['authors'][:3]"
   ]
  },
  {
   "cell_type": "markdown",
   "id": "da6400c5",
   "metadata": {
    "hidden": true
   },
   "source": [
    "<em><span style=\"color:lightsteelblue\">(add. EDA)</span></em>"
   ]
  },
  {
   "cell_type": "code",
   "execution_count": 58,
   "id": "8eb73313",
   "metadata": {
    "hidden": true
   },
   "outputs": [
    {
     "data": {
      "text/plain": [
       "Barbara Taylor Bradford    6466\n",
       "Wilson Rawls               5615\n",
       "Neil Strauss               3560\n",
       "Max Brooks                 3225\n",
       "Frank Herbert              2312\n",
       "Connie Willis              2264\n",
       "Joe Haldeman               2196\n",
       "Tim Burton                 1782\n",
       "David Sedaris              1601\n",
       "Susan Cooper               1559\n",
       "Name: authors, dtype: int64"
      ]
     },
     "execution_count": 58,
     "metadata": {},
     "output_type": "execute_result"
    }
   ],
   "source": [
    "authors = goodbooks['authors'].value_counts()\n",
    "top_10_authors = authors[:10]\n",
    "top_10_authors"
   ]
  },
  {
   "cell_type": "code",
   "execution_count": 59,
   "id": "29d7f177",
   "metadata": {
    "hidden": true
   },
   "outputs": [
    {
     "data": {
      "image/png": "[encoded data removed]",
      "text/plain": [
       "<Figure size 640x480 with 1 Axes>"
      ]
     },
     "metadata": {},
     "output_type": "display_data"
    }
   ],
   "source": [
    "sns.barplot(data=top_10_authors, alpha=.75, saturation=100)\n",
    "plt.xlabel('Author', fontsize=12, c='#4c72b0')\n",
    "plt.xticks(rotation=90)\n",
    "plt.ylabel('Count', fontsize=12, c='#4c72b0')\n",
    "plt.suptitle('Top 10 Authors', size=14, fontweight='bold', color='#4c72b0')\n",
    "plt.title('(based on count)', size=10, pad=8, c='#4c72b0')\n",
    "\n",
    "plt.show()"
   ]
  },
  {
   "cell_type": "markdown",
   "id": "373b62da",
   "metadata": {
    "jp-MarkdownHeadingCollapsed": true
   },
   "source": [
    "## <span style=\"color:steelblue\"> Feature Engineering </span>"
   ]
  },
  {
   "cell_type": "markdown",
   "id": "f303d3cf",
   "metadata": {},
   "source": [
    "<em><span style=\"color:lightsteelblue\">Select features using phik correlations and p-values</span></em>"
   ]
  },
  {
   "cell_type": "code",
   "execution_count": 60,
   "id": "91ccd5cd",
   "metadata": {},
   "outputs": [],
   "source": [
    "goodbooks_phik = goodbooks.copy()\n",
    "interval_columns = ['book_id', 'books_count', 'goodreads_book_id',\n",
    "                    'ratings_1', 'ratings_2', 'ratings_3', 'ratings_4',\n",
    "                    'ratings_5', 'ratings_count','work_id', 'work_ratings_count',\n",
    "                    'work_text_reviews_count','user_id']\n",
    "\n",
    "for c in goodbooks_phik.columns:\n",
    "    if c not in interval_columns:\n",
    "        goodbooks_phik[c] = goodbooks_phik[c].astype('category')"
   ]
  },
  {
   "cell_type": "code",
   "execution_count": 61,
   "id": "7d0910e3",
   "metadata": {
    "scrolled": true
   },
   "outputs": [
    {
     "name": "stderr",
     "output_type": "stream",
     "text": [
      "C:\\Users\\xanaa\\anaconda3\\Lib\\site-packages\\phik\\data_quality.py:119: UserWarning: The number of unique values of variable x is large: 2831. Are you sure this is not an interval variable? Analysis might be slow.\n",
      "  warnings.warn(\n",
      "C:\\Users\\xanaa\\anaconda3\\Lib\\site-packages\\phik\\data_quality.py:119: UserWarning: The number of unique values of variable x is large: 2831. Are you sure this is not an interval variable? Analysis might be slow.\n",
      "  warnings.warn(\n",
      "C:\\Users\\xanaa\\anaconda3\\Lib\\site-packages\\phik\\data_quality.py:119: UserWarning: The number of unique values of variable x is large: 6563. Are you sure this is not an interval variable? Analysis might be slow.\n",
      "  warnings.warn(\n",
      "C:\\Users\\xanaa\\anaconda3\\Lib\\site-packages\\phik\\data_quality.py:119: UserWarning: The number of unique values of variable x is large: 6563. Are you sure this is not an interval variable? Analysis might be slow.\n",
      "  warnings.warn(\n",
      "C:\\Users\\xanaa\\anaconda3\\Lib\\site-packages\\phik\\data_quality.py:119: UserWarning: The number of unique values of variable x is large: 3150. Are you sure this is not an interval variable? Analysis might be slow.\n",
      "  warnings.warn(\n",
      "C:\\Users\\xanaa\\anaconda3\\Lib\\site-packages\\phik\\data_quality.py:119: UserWarning: The number of unique values of variable x is large: 3150. Are you sure this is not an interval variable? Analysis might be slow.\n",
      "  warnings.warn(\n",
      "C:\\Users\\xanaa\\anaconda3\\Lib\\site-packages\\phik\\data_quality.py:119: UserWarning: The number of unique values of variable x is large: 6641. Are you sure this is not an interval variable? Analysis might be slow.\n",
      "  warnings.warn(\n",
      "C:\\Users\\xanaa\\anaconda3\\Lib\\site-packages\\phik\\data_quality.py:119: UserWarning: The number of unique values of variable x is large: 6641. Are you sure this is not an interval variable? Analysis might be slow.\n",
      "  warnings.warn(\n",
      "C:\\Users\\xanaa\\anaconda3\\Lib\\site-packages\\phik\\data_quality.py:119: UserWarning: The number of unique values of variable x is large: 6641. Are you sure this is not an interval variable? Analysis might be slow.\n",
      "  warnings.warn(\n",
      "C:\\Users\\xanaa\\anaconda3\\Lib\\site-packages\\phik\\data_quality.py:119: UserWarning: The number of unique values of variable x is large: 6641. Are you sure this is not an interval variable? Analysis might be slow.\n",
      "  warnings.warn(\n",
      "C:\\Users\\xanaa\\anaconda3\\Lib\\site-packages\\phik\\data_quality.py:119: UserWarning: The number of unique values of variable x is large: 6526. Are you sure this is not an interval variable? Analysis might be slow.\n",
      "  warnings.warn(\n",
      "C:\\Users\\xanaa\\anaconda3\\Lib\\site-packages\\phik\\data_quality.py:119: UserWarning: The number of unique values of variable x is large: 6526. Are you sure this is not an interval variable? Analysis might be slow.\n",
      "  warnings.warn(\n"
     ]
    }
   ],
   "source": [
    "phik_correlations = []\n",
    "phik_significances = []\n",
    "columns = goodbooks_phik.columns\n",
    "y = goodbooks_phik['rating']\n",
    "\n",
    "for c in columns:\n",
    "    x = goodbooks_phik[c]\n",
    "    if c in interval_columns:\n",
    "        phik_correlations.append(phik.phik_from_array(x,y,[c]))\n",
    "        phik_significances.append(phik.significance.significance_from_array(x,y,[c])[0])\n",
    "    else:\n",
    "        phik_correlations.append(phik.phik_from_array(x,y))\n",
    "        phik_significances.append(phik.significance.significance_from_array(x,y)[0])"
   ]
  },
  {
   "cell_type": "code",
   "execution_count": 62,
   "id": "4961ac0e",
   "metadata": {},
   "outputs": [],
   "source": [
    "phik_df = pd.DataFrame({'phik': phik_correlations, 'p-value': phik_significances},\n",
    "                      index=columns)\n",
    "phik_df.sort_values(by='phik', ascending=False, inplace=True)"
   ]
  },
  {
   "cell_type": "code",
   "execution_count": 63,
   "id": "215380f6",
   "metadata": {
    "scrolled": true
   },
   "outputs": [
    {
     "data": {
      "image/png": "[encoded data removed]",
      "text/plain": [
       "<Figure size 550x550 with 2 Axes>"
      ]
     },
     "metadata": {},
     "output_type": "display_data"
    }
   ],
   "source": [
    "phik_df.iloc[1:].plot.bar(subplots=True, figsize=(5.5,5.5))\n",
    "plt.tight_layout()\n",
    "plt.show()"
   ]
  },
  {
   "cell_type": "code",
   "execution_count": 64,
   "id": "83873d51",
   "metadata": {},
   "outputs": [],
   "source": [
    "goodbooks.drop(columns=['book_id', 'ratings_2', 'books_count', 'ratings_4',\n",
    "                        'work_text_reviews_count', 'work_ratings_count', \n",
    "                        'ratings_count', 'ratings_5', 'ratings_3',\n",
    "                        'ratings_1'], inplace=True)"
   ]
  },
  {
   "cell_type": "code",
   "execution_count": 65,
   "id": "ad479250",
   "metadata": {},
   "outputs": [
    {
     "data": {
      "text/plain": [
       "(73185, 10)"
      ]
     },
     "execution_count": 65,
     "metadata": {},
     "output_type": "execute_result"
    }
   ],
   "source": [
    "goodbooks.shape"
   ]
  },
  {
   "cell_type": "code",
   "execution_count": 66,
   "id": "ff034cca",
   "metadata": {},
   "outputs": [
    {
     "data": {
      "text/html": [
       "<div>\n",
       "<style scoped>\n",
       "    .dataframe tbody tr th:only-of-type {\n",
       "        vertical-align: middle;\n",
       "    }\n",
       "\n",
       "    .dataframe tbody tr th {\n",
       "        vertical-align: top;\n",
       "    }\n",
       "\n",
       "    .dataframe thead th {\n",
       "        text-align: right;\n",
       "    }\n",
       "</style>\n",
       "<table border=\"1\" class=\"dataframe\">\n",
       "  <thead>\n",
       "    <tr style=\"text-align: right;\">\n",
       "      <th></th>\n",
       "      <th>authors</th>\n",
       "      <th>description</th>\n",
       "      <th>genres</th>\n",
       "      <th>goodreads_book_id</th>\n",
       "      <th>image_url</th>\n",
       "      <th>small_image_url</th>\n",
       "      <th>title</th>\n",
       "      <th>work_id</th>\n",
       "      <th>user_id</th>\n",
       "      <th>rating</th>\n",
       "    </tr>\n",
       "  </thead>\n",
       "  <tbody>\n",
       "    <tr>\n",
       "      <th>0</th>\n",
       "      <td>Suzanne Collins</td>\n",
       "      <td>WINNING MEANS FAME AND FORTUNE.LOSING MEANS CE...</td>\n",
       "      <td>['young-adult', 'fiction', 'fantasy', 'science...</td>\n",
       "      <td>2767052</td>\n",
       "      <td>https://images.gr-assets.com/books/1447303603m...</td>\n",
       "      <td>https://images.gr-assets.com/books/1447303603s...</td>\n",
       "      <td>The Hunger Games</td>\n",
       "      <td>2792775</td>\n",
       "      <td>0</td>\n",
       "      <td>0</td>\n",
       "    </tr>\n",
       "    <tr>\n",
       "      <th>1</th>\n",
       "      <td>J.K. Rowling</td>\n",
       "      <td>Harry Potter's life is miserable. His parents ...</td>\n",
       "      <td>['fantasy', 'fiction', 'young-adult', 'classics']</td>\n",
       "      <td>3</td>\n",
       "      <td>https://images.gr-assets.com/books/1474154022m...</td>\n",
       "      <td>https://images.gr-assets.com/books/1474154022s...</td>\n",
       "      <td>Harry Potter and the Sorcerer's Stone</td>\n",
       "      <td>4640799</td>\n",
       "      <td>0</td>\n",
       "      <td>0</td>\n",
       "    </tr>\n",
       "    <tr>\n",
       "      <th>2</th>\n",
       "      <td>Stephenie Meyer</td>\n",
       "      <td>About three things I was absolutely positive.\\...</td>\n",
       "      <td>['young-adult', 'fantasy', 'romance', 'fiction...</td>\n",
       "      <td>41865</td>\n",
       "      <td>https://images.gr-assets.com/books/1361039443m...</td>\n",
       "      <td>https://images.gr-assets.com/books/1361039443s...</td>\n",
       "      <td>Twilight</td>\n",
       "      <td>3212258</td>\n",
       "      <td>0</td>\n",
       "      <td>0</td>\n",
       "    </tr>\n",
       "  </tbody>\n",
       "</table>\n",
       "</div>"
      ],
      "text/plain": [
       "           authors                                        description  \\\n",
       "0  Suzanne Collins  WINNING MEANS FAME AND FORTUNE.LOSING MEANS CE...   \n",
       "1     J.K. Rowling  Harry Potter's life is miserable. His parents ...   \n",
       "2  Stephenie Meyer  About three things I was absolutely positive.\\...   \n",
       "\n",
       "                                              genres  goodreads_book_id  \\\n",
       "0  ['young-adult', 'fiction', 'fantasy', 'science...            2767052   \n",
       "1  ['fantasy', 'fiction', 'young-adult', 'classics']                  3   \n",
       "2  ['young-adult', 'fantasy', 'romance', 'fiction...              41865   \n",
       "\n",
       "                                           image_url  \\\n",
       "0  https://images.gr-assets.com/books/1447303603m...   \n",
       "1  https://images.gr-assets.com/books/1474154022m...   \n",
       "2  https://images.gr-assets.com/books/1361039443m...   \n",
       "\n",
       "                                     small_image_url  \\\n",
       "0  https://images.gr-assets.com/books/1447303603s...   \n",
       "1  https://images.gr-assets.com/books/1474154022s...   \n",
       "2  https://images.gr-assets.com/books/1361039443s...   \n",
       "\n",
       "                                   title  work_id  user_id  rating  \n",
       "0                       The Hunger Games  2792775        0       0  \n",
       "1  Harry Potter and the Sorcerer's Stone  4640799        0       0  \n",
       "2                               Twilight  3212258        0       0  "
      ]
     },
     "execution_count": 66,
     "metadata": {},
     "output_type": "execute_result"
    }
   ],
   "source": [
    "goodbooks.head(3)"
   ]
  },
  {
   "cell_type": "markdown",
   "id": "3ebcfa25",
   "metadata": {},
   "source": [
    "<em><span style=\"color:lightsteelblue\">Normalize [description]</span></em>"
   ]
  },
  {
   "cell_type": "code",
   "execution_count": 67,
   "id": "131dfc0c",
   "metadata": {},
   "outputs": [
    {
     "data": {
      "text/plain": [
       "0    WINNING MEANS FAME AND FORTUNE.LOSING MEANS CE...\n",
       "1    Harry Potter's life is miserable. His parents ...\n",
       "2    About three things I was absolutely positive.\\...\n",
       "Name: description, dtype: object"
      ]
     },
     "execution_count": 67,
     "metadata": {},
     "output_type": "execute_result"
    }
   ],
   "source": [
    "goodbooks['description'][:3]"
   ]
  },
  {
   "cell_type": "code",
   "execution_count": 68,
   "id": "b4fc6fba",
   "metadata": {},
   "outputs": [],
   "source": [
    "goodbooks['description'] = goodbooks['description'].str.lower().str.capitalize()"
   ]
  },
  {
   "cell_type": "code",
   "execution_count": 69,
   "id": "bb1afa45",
   "metadata": {},
   "outputs": [
    {
     "data": {
      "text/plain": [
       "0    Winning means fame and fortune.losing means ce...\n",
       "1    Harry potter's life is miserable. his parents ...\n",
       "2    About three things i was absolutely positive.\\...\n",
       "Name: description, dtype: object"
      ]
     },
     "execution_count": 69,
     "metadata": {},
     "output_type": "execute_result"
    }
   ],
   "source": [
    "goodbooks['description'][:3]"
   ]
  },
  {
   "cell_type": "code",
   "execution_count": 70,
   "id": "9467d40c",
   "metadata": {},
   "outputs": [],
   "source": [
    "def normalize_description(desc):\n",
    "    desc = re.sub(r'\\.([a-z])', r'. \\1', desc)\n",
    "    sentences = sent_tokenize(desc)\n",
    "    normalized_sentences = []\n",
    "    \n",
    "    for sentence in sentences:\n",
    "        words = word_tokenize(sentence)\n",
    "        normalized_words = [word if word.istitle() or word.lower() != 'i' else 'I' for word in words]\n",
    "        \n",
    "        if normalized_words:\n",
    "            normalized_words[0] = normalized_words[0].capitalize()\n",
    "            normalized_sentences.append(' '.join(normalized_words))\n",
    "            \n",
    "    return ' '.join(normalized_sentences)"
   ]
  },
  {
   "cell_type": "code",
   "execution_count": 71,
   "id": "ab26b5ec",
   "metadata": {},
   "outputs": [],
   "source": [
    "goodbooks['description'] = goodbooks['description'].apply(normalize_description)"
   ]
  },
  {
   "cell_type": "code",
   "execution_count": 72,
   "id": "cd62619e",
   "metadata": {},
   "outputs": [
    {
     "data": {
      "text/plain": [
       "0    Winning means fame and fortune . Losing means ...\n",
       "1    Harry potter 's life is miserable . His parent...\n",
       "2    About three things I was absolutely positive ....\n",
       "Name: description, dtype: object"
      ]
     },
     "execution_count": 72,
     "metadata": {},
     "output_type": "execute_result"
    }
   ],
   "source": [
    "goodbooks['description'][:3]"
   ]
  },
  {
   "cell_type": "code",
   "execution_count": 73,
   "id": "dcea07e3",
   "metadata": {},
   "outputs": [
    {
     "data": {
      "text/html": [
       "<div>\n",
       "<style scoped>\n",
       "    .dataframe tbody tr th:only-of-type {\n",
       "        vertical-align: middle;\n",
       "    }\n",
       "\n",
       "    .dataframe tbody tr th {\n",
       "        vertical-align: top;\n",
       "    }\n",
       "\n",
       "    .dataframe thead th {\n",
       "        text-align: right;\n",
       "    }\n",
       "</style>\n",
       "<table border=\"1\" class=\"dataframe\">\n",
       "  <thead>\n",
       "    <tr style=\"text-align: right;\">\n",
       "      <th></th>\n",
       "      <th>authors</th>\n",
       "      <th>description</th>\n",
       "      <th>genres</th>\n",
       "      <th>goodreads_book_id</th>\n",
       "      <th>image_url</th>\n",
       "      <th>small_image_url</th>\n",
       "      <th>title</th>\n",
       "      <th>work_id</th>\n",
       "      <th>user_id</th>\n",
       "      <th>rating</th>\n",
       "    </tr>\n",
       "  </thead>\n",
       "  <tbody>\n",
       "    <tr>\n",
       "      <th>14537</th>\n",
       "      <td>Max Brooks</td>\n",
       "      <td>The zombie survival guide is your key to survi...</td>\n",
       "      <td>['horror', 'fiction', 'science-fiction', 'fant...</td>\n",
       "      <td>535441</td>\n",
       "      <td>https://images.gr-assets.com/books/1320562270m...</td>\n",
       "      <td>https://images.gr-assets.com/books/1320562270s...</td>\n",
       "      <td>The Zombie Survival Guide: Complete Protection...</td>\n",
       "      <td>818</td>\n",
       "      <td>9673</td>\n",
       "      <td>4</td>\n",
       "    </tr>\n",
       "    <tr>\n",
       "      <th>74814</th>\n",
       "      <td>Connie Willis</td>\n",
       "      <td>Connie willis ' hugo and nebula award-winning ...</td>\n",
       "      <td>['science-fiction', 'fiction', 'historical-fic...</td>\n",
       "      <td>77773</td>\n",
       "      <td>https://images.gr-assets.com/books/1469410460m...</td>\n",
       "      <td>https://images.gr-assets.com/books/1469410460s...</td>\n",
       "      <td>To Say Nothing of the Dog</td>\n",
       "      <td>696</td>\n",
       "      <td>10181</td>\n",
       "      <td>4</td>\n",
       "    </tr>\n",
       "    <tr>\n",
       "      <th>7833</th>\n",
       "      <td>Wilson Rawls</td>\n",
       "      <td>A loving threesome , they ranged the dark hill...</td>\n",
       "      <td>['classics', 'fiction', 'young-adult', 'histor...</td>\n",
       "      <td>10365</td>\n",
       "      <td>https://images.gr-assets.com/books/1166154337m...</td>\n",
       "      <td>https://images.gr-assets.com/books/1166154337s...</td>\n",
       "      <td>Where the Red Fern Grows</td>\n",
       "      <td>115</td>\n",
       "      <td>52875</td>\n",
       "      <td>4</td>\n",
       "    </tr>\n",
       "    <tr>\n",
       "      <th>76124</th>\n",
       "      <td>Connie Willis</td>\n",
       "      <td>Connie willis ' hugo and nebula award-winning ...</td>\n",
       "      <td>['science-fiction', 'fiction', 'historical-fic...</td>\n",
       "      <td>77773</td>\n",
       "      <td>https://images.gr-assets.com/books/1469410460m...</td>\n",
       "      <td>https://images.gr-assets.com/books/1469410460s...</td>\n",
       "      <td>To Say Nothing of the Dog</td>\n",
       "      <td>696</td>\n",
       "      <td>37980</td>\n",
       "      <td>4</td>\n",
       "    </tr>\n",
       "    <tr>\n",
       "      <th>102576</th>\n",
       "      <td>V.S. Ramachandran</td>\n",
       "      <td>Neuroscientist v. s. ramachandran is internati...</td>\n",
       "      <td>['science', 'psychology', 'nonfiction', 'philo...</td>\n",
       "      <td>31555</td>\n",
       "      <td>https://images.gr-assets.com/books/1409601908m...</td>\n",
       "      <td>https://images.gr-assets.com/books/1409601908s...</td>\n",
       "      <td>Phantoms in the Brain: Probing the Mysteries o...</td>\n",
       "      <td>1981</td>\n",
       "      <td>33402</td>\n",
       "      <td>4</td>\n",
       "    </tr>\n",
       "  </tbody>\n",
       "</table>\n",
       "</div>"
      ],
      "text/plain": [
       "                  authors                                        description  \\\n",
       "14537          Max Brooks  The zombie survival guide is your key to survi...   \n",
       "74814       Connie Willis  Connie willis ' hugo and nebula award-winning ...   \n",
       "7833         Wilson Rawls  A loving threesome , they ranged the dark hill...   \n",
       "76124       Connie Willis  Connie willis ' hugo and nebula award-winning ...   \n",
       "102576  V.S. Ramachandran  Neuroscientist v. s. ramachandran is internati...   \n",
       "\n",
       "                                                   genres  goodreads_book_id  \\\n",
       "14537   ['horror', 'fiction', 'science-fiction', 'fant...             535441   \n",
       "74814   ['science-fiction', 'fiction', 'historical-fic...              77773   \n",
       "7833    ['classics', 'fiction', 'young-adult', 'histor...              10365   \n",
       "76124   ['science-fiction', 'fiction', 'historical-fic...              77773   \n",
       "102576  ['science', 'psychology', 'nonfiction', 'philo...              31555   \n",
       "\n",
       "                                                image_url  \\\n",
       "14537   https://images.gr-assets.com/books/1320562270m...   \n",
       "74814   https://images.gr-assets.com/books/1469410460m...   \n",
       "7833    https://images.gr-assets.com/books/1166154337m...   \n",
       "76124   https://images.gr-assets.com/books/1469410460m...   \n",
       "102576  https://images.gr-assets.com/books/1409601908m...   \n",
       "\n",
       "                                          small_image_url  \\\n",
       "14537   https://images.gr-assets.com/books/1320562270s...   \n",
       "74814   https://images.gr-assets.com/books/1469410460s...   \n",
       "7833    https://images.gr-assets.com/books/1166154337s...   \n",
       "76124   https://images.gr-assets.com/books/1469410460s...   \n",
       "102576  https://images.gr-assets.com/books/1409601908s...   \n",
       "\n",
       "                                                    title  work_id  user_id  \\\n",
       "14537   The Zombie Survival Guide: Complete Protection...      818     9673   \n",
       "74814                           To Say Nothing of the Dog      696    10181   \n",
       "7833                             Where the Red Fern Grows      115    52875   \n",
       "76124                           To Say Nothing of the Dog      696    37980   \n",
       "102576  Phantoms in the Brain: Probing the Mysteries o...     1981    33402   \n",
       "\n",
       "        rating  \n",
       "14537        4  \n",
       "74814        4  \n",
       "7833         4  \n",
       "76124        4  \n",
       "102576       4  "
      ]
     },
     "execution_count": 73,
     "metadata": {},
     "output_type": "execute_result"
    }
   ],
   "source": [
    "goodbooks.sample(5)"
   ]
  },
  {
   "cell_type": "markdown",
   "id": "2cb972e6",
   "metadata": {},
   "source": [
    "<em><span style=\"color:lightsteelblue\">Prep [description] for embeddings</span></em>"
   ]
  },
  {
   "cell_type": "code",
   "execution_count": 74,
   "id": "b91810c4",
   "metadata": {},
   "outputs": [
    {
     "data": {
      "text/plain": [
       "0    Winning means fame and fortune . Losing means ...\n",
       "1    Harry potter 's life is miserable . His parent...\n",
       "2    About three things I was absolutely positive ....\n",
       "3    The unforgettable novel of a childhood in a sl...\n",
       "4    Alternate cover edition isbn : 0743273567 ( is...\n",
       "5    Despite the tumor-shrinking medical miracle th...\n",
       "6    In a hole in the ground there lived a hobbit ....\n",
       "7    The hero-narrator of the catcher in the rye is...\n",
       "8    World-renowned harvard symbologist robert lang...\n",
       "9    Alternate cover edition of isbn 9780679783268s...\n",
       "Name: description, dtype: object"
      ]
     },
     "execution_count": 74,
     "metadata": {},
     "output_type": "execute_result"
    }
   ],
   "source": [
    "goodbooks['description'][:10]"
   ]
  },
  {
   "cell_type": "code",
   "execution_count": 75,
   "id": "a479f91c",
   "metadata": {},
   "outputs": [
    {
     "data": {
      "text/plain": [
       "0    Winning means fame and fortune  Losing means c...\n",
       "1    Harry potter s life is miserable  His parents ...\n",
       "2    About three things I was absolutely positive  ...\n",
       "3    The unforgettable novel of a childhood in a sl...\n",
       "4    Alternate cover edition isbn    isbn    the gr...\n",
       "5    Despite the tumorshrinking medical miracle tha...\n",
       "6    In a hole in the ground there lived a hobbit  ...\n",
       "7    The heronarrator of the catcher in the rye is ...\n",
       "8    Worldrenowned harvard symbologist robert langd...\n",
       "9    Alternate cover edition of isbn since its imme...\n",
       "Name: desc_emb, dtype: object"
      ]
     },
     "execution_count": 75,
     "metadata": {},
     "output_type": "execute_result"
    }
   ],
   "source": [
    "translator = str.maketrans('', '', string.punctuation + string.digits)\n",
    "goodbooks['desc_emb'] = goodbooks['description'].apply(lambda x: x.translate(translator))\n",
    "goodbooks['desc_emb'][:10]"
   ]
  },
  {
   "cell_type": "code",
   "execution_count": 76,
   "id": "c9c60505",
   "metadata": {},
   "outputs": [
    {
     "data": {
      "text/plain": [
       "0    winning means fame and fortune  losing means c...\n",
       "1    harry potter s life is miserable  his parents ...\n",
       "2    about three things i was absolutely positive  ...\n",
       "3    the unforgettable novel of a childhood in a sl...\n",
       "4    alternate cover edition isbn    isbn    the gr...\n",
       "5    despite the tumorshrinking medical miracle tha...\n",
       "6    in a hole in the ground there lived a hobbit  ...\n",
       "7    the heronarrator of the catcher in the rye is ...\n",
       "8    worldrenowned harvard symbologist robert langd...\n",
       "9    alternate cover edition of isbn since its imme...\n",
       "Name: desc_emb, dtype: object"
      ]
     },
     "execution_count": 76,
     "metadata": {},
     "output_type": "execute_result"
    }
   ],
   "source": [
    "goodbooks['desc_emb'] = goodbooks['desc_emb'].str.lower()\n",
    "goodbooks['desc_emb'][:10]"
   ]
  },
  {
   "cell_type": "code",
   "execution_count": 77,
   "id": "05b0fd96",
   "metadata": {},
   "outputs": [
    {
     "name": "stderr",
     "output_type": "stream",
     "text": [
      "[nltk_data] Downloading package stopwords to\n",
      "[nltk_data]     C:\\Users\\xanaa\\AppData\\Roaming\\nltk_data...\n",
      "[nltk_data]   Package stopwords is already up-to-date!\n"
     ]
    },
    {
     "data": {
      "text/plain": [
       "True"
      ]
     },
     "execution_count": 77,
     "metadata": {},
     "output_type": "execute_result"
    }
   ],
   "source": [
    "nltk.download('stopwords')"
   ]
  },
  {
   "cell_type": "code",
   "execution_count": 78,
   "id": "29e78eaf",
   "metadata": {},
   "outputs": [],
   "source": [
    "en_stopwords = stopwords.words('english')\n",
    "en_stopwords = set(en_stopwords)"
   ]
  },
  {
   "cell_type": "code",
   "execution_count": 79,
   "id": "04e16a27",
   "metadata": {},
   "outputs": [],
   "source": [
    "def filter_description(desc):\n",
    "    words = desc.split() \n",
    "    filtered_words = [w for w in words if w not in en_stopwords and len(w) > 3]\n",
    "    return ' '.join(filtered_words)"
   ]
  },
  {
   "cell_type": "code",
   "execution_count": 80,
   "id": "52fa5a06",
   "metadata": {},
   "outputs": [
    {
     "data": {
      "text/plain": [
       "0    winning means fame fortune losing means certai...\n",
       "1    harry potter life miserable parents dead stuck...\n",
       "2    three things absolutely positive first edward ...\n",
       "3    unforgettable novel childhood sleepy southern ...\n",
       "4    alternate cover edition isbn isbn great gatsby...\n",
       "5    despite tumorshrinking medical miracle bought ...\n",
       "6    hole ground lived hobbit nasty dirty hole fill...\n",
       "7    heronarrator catcher ancient child sixteen nat...\n",
       "8    worldrenowned harvard symbologist robert langd...\n",
       "9    alternate cover edition isbn since immediate s...\n",
       "Name: desc_emb, dtype: object"
      ]
     },
     "execution_count": 80,
     "metadata": {},
     "output_type": "execute_result"
    }
   ],
   "source": [
    "goodbooks['desc_emb'] = goodbooks['desc_emb'].apply(filter_description)\n",
    "goodbooks['desc_emb'][:10]"
   ]
  },
  {
   "cell_type": "code",
   "execution_count": 81,
   "id": "7dbd5165",
   "metadata": {},
   "outputs": [
    {
     "name": "stderr",
     "output_type": "stream",
     "text": [
      "[nltk_data] Downloading package punkt to\n",
      "[nltk_data]     C:\\Users\\xanaa\\AppData\\Roaming\\nltk_data...\n",
      "[nltk_data]   Package punkt is already up-to-date!\n"
     ]
    },
    {
     "data": {
      "text/plain": [
       "True"
      ]
     },
     "execution_count": 81,
     "metadata": {},
     "output_type": "execute_result"
    }
   ],
   "source": [
    "nltk.download('punkt')"
   ]
  },
  {
   "cell_type": "code",
   "execution_count": 82,
   "id": "6cf7c5b1",
   "metadata": {},
   "outputs": [
    {
     "data": {
      "text/plain": [
       "0    [winning, means, fame, fortune, losing, means,...\n",
       "1    [harry, potter, life, miserable, parents, dead...\n",
       "2    [three, things, absolutely, positive, first, e...\n",
       "3    [unforgettable, novel, childhood, sleepy, sout...\n",
       "4    [alternate, cover, edition, isbn, isbn, great,...\n",
       "5    [despite, tumorshrinking, medical, miracle, bo...\n",
       "6    [hole, ground, lived, hobbit, nasty, dirty, ho...\n",
       "7    [heronarrator, catcher, ancient, child, sixtee...\n",
       "8    [worldrenowned, harvard, symbologist, robert, ...\n",
       "9    [alternate, cover, edition, isbn, since, immed...\n",
       "Name: desc_emb, dtype: object"
      ]
     },
     "execution_count": 82,
     "metadata": {},
     "output_type": "execute_result"
    }
   ],
   "source": [
    "goodbooks['desc_emb'] = goodbooks['desc_emb'].apply(word_tokenize)\n",
    "goodbooks['desc_emb'][:10]"
   ]
  },
  {
   "cell_type": "markdown",
   "id": "21b4fb7e",
   "metadata": {},
   "source": [
    "<em><span style=\"color:lightsteelblue\">Load transfer learning model</span></em>"
   ]
  },
  {
   "cell_type": "code",
   "execution_count": 83,
   "id": "4561ab4b",
   "metadata": {},
   "outputs": [],
   "source": [
    "w2v_path = gdl.load(\"word2vec-google-news-300\", return_path=True)"
   ]
  },
  {
   "cell_type": "code",
   "execution_count": 84,
   "id": "574f38b3",
   "metadata": {},
   "outputs": [],
   "source": [
    "w2v_model = KeyedVectors.load_word2vec_format(w2v_path, binary=True)"
   ]
  },
  {
   "cell_type": "markdown",
   "id": "281bfe1d",
   "metadata": {},
   "source": [
    "<em><span style=\"color:lightsteelblue\">Create embeddings (Content-based filtering)</span></em>"
   ]
  },
  {
   "cell_type": "code",
   "execution_count": 85,
   "id": "8ded7c18",
   "metadata": {},
   "outputs": [],
   "source": [
    "def get_average_embedding(text, model):\n",
    "    if not text:\n",
    "        return np.zeros(model.vector_size)\n",
    "    vectors = [model[t] for t in text if t in model]\n",
    "    return np.mean(vectors, axis=0) if vectors else np.zeros(model.vector_size)"
   ]
  },
  {
   "cell_type": "code",
   "execution_count": 86,
   "id": "3e98e4f5",
   "metadata": {},
   "outputs": [],
   "source": [
    "goodbooks['desc_emb'] = goodbooks['desc_emb'].apply(lambda x: get_average_embedding(x, w2v_model))"
   ]
  },
  {
   "cell_type": "code",
   "execution_count": 87,
   "id": "f8660995",
   "metadata": {},
   "outputs": [
    {
     "data": {
      "text/html": [
       "<div>\n",
       "<style scoped>\n",
       "    .dataframe tbody tr th:only-of-type {\n",
       "        vertical-align: middle;\n",
       "    }\n",
       "\n",
       "    .dataframe tbody tr th {\n",
       "        vertical-align: top;\n",
       "    }\n",
       "\n",
       "    .dataframe thead th {\n",
       "        text-align: right;\n",
       "    }\n",
       "</style>\n",
       "<table border=\"1\" class=\"dataframe\">\n",
       "  <thead>\n",
       "    <tr style=\"text-align: right;\">\n",
       "      <th></th>\n",
       "      <th>authors</th>\n",
       "      <th>description</th>\n",
       "      <th>genres</th>\n",
       "      <th>goodreads_book_id</th>\n",
       "      <th>image_url</th>\n",
       "      <th>small_image_url</th>\n",
       "      <th>title</th>\n",
       "      <th>work_id</th>\n",
       "      <th>user_id</th>\n",
       "      <th>rating</th>\n",
       "      <th>desc_emb</th>\n",
       "    </tr>\n",
       "  </thead>\n",
       "  <tbody>\n",
       "    <tr>\n",
       "      <th>0</th>\n",
       "      <td>Suzanne Collins</td>\n",
       "      <td>Winning means fame and fortune . Losing means ...</td>\n",
       "      <td>['young-adult', 'fiction', 'fantasy', 'science...</td>\n",
       "      <td>2767052</td>\n",
       "      <td>https://images.gr-assets.com/books/1447303603m...</td>\n",
       "      <td>https://images.gr-assets.com/books/1447303603s...</td>\n",
       "      <td>The Hunger Games</td>\n",
       "      <td>2792775</td>\n",
       "      <td>0</td>\n",
       "      <td>0</td>\n",
       "      <td>[0.03672965, 0.07552921, 0.04285616, 0.0815342...</td>\n",
       "    </tr>\n",
       "    <tr>\n",
       "      <th>1</th>\n",
       "      <td>J.K. Rowling</td>\n",
       "      <td>Harry potter 's life is miserable . His parent...</td>\n",
       "      <td>['fantasy', 'fiction', 'young-adult', 'classics']</td>\n",
       "      <td>3</td>\n",
       "      <td>https://images.gr-assets.com/books/1474154022m...</td>\n",
       "      <td>https://images.gr-assets.com/books/1474154022s...</td>\n",
       "      <td>Harry Potter and the Sorcerer's Stone</td>\n",
       "      <td>4640799</td>\n",
       "      <td>0</td>\n",
       "      <td>0</td>\n",
       "      <td>[0.04864664, 0.044876367, -0.0010261198, 0.037...</td>\n",
       "    </tr>\n",
       "    <tr>\n",
       "      <th>2</th>\n",
       "      <td>Stephenie Meyer</td>\n",
       "      <td>About three things I was absolutely positive ....</td>\n",
       "      <td>['young-adult', 'fantasy', 'romance', 'fiction...</td>\n",
       "      <td>41865</td>\n",
       "      <td>https://images.gr-assets.com/books/1361039443m...</td>\n",
       "      <td>https://images.gr-assets.com/books/1361039443s...</td>\n",
       "      <td>Twilight</td>\n",
       "      <td>3212258</td>\n",
       "      <td>0</td>\n",
       "      <td>0</td>\n",
       "      <td>[0.057015877, -0.0043905755, 0.04261045, 0.076...</td>\n",
       "    </tr>\n",
       "    <tr>\n",
       "      <th>3</th>\n",
       "      <td>Harper Lee</td>\n",
       "      <td>The unforgettable novel of a childhood in a sl...</td>\n",
       "      <td>['classics', 'fiction', 'historical-fiction', ...</td>\n",
       "      <td>2657</td>\n",
       "      <td>https://images.gr-assets.com/books/1361975680m...</td>\n",
       "      <td>https://images.gr-assets.com/books/1361975680s...</td>\n",
       "      <td>To Kill a Mockingbird</td>\n",
       "      <td>3275794</td>\n",
       "      <td>0</td>\n",
       "      <td>0</td>\n",
       "      <td>[0.08569712, 0.0140928505, 0.011479103, 0.0798...</td>\n",
       "    </tr>\n",
       "    <tr>\n",
       "      <th>4</th>\n",
       "      <td>F. Scott Fitzgerald</td>\n",
       "      <td>Alternate cover edition isbn : 0743273567 ( is...</td>\n",
       "      <td>['classics', 'fiction', 'historical-fiction', ...</td>\n",
       "      <td>4671</td>\n",
       "      <td>https://images.gr-assets.com/books/1490528560m...</td>\n",
       "      <td>https://images.gr-assets.com/books/1490528560s...</td>\n",
       "      <td>The Great Gatsby</td>\n",
       "      <td>245494</td>\n",
       "      <td>0</td>\n",
       "      <td>0</td>\n",
       "      <td>[0.014575552, 0.049743652, -0.040810443, 0.139...</td>\n",
       "    </tr>\n",
       "  </tbody>\n",
       "</table>\n",
       "</div>"
      ],
      "text/plain": [
       "               authors                                        description  \\\n",
       "0      Suzanne Collins  Winning means fame and fortune . Losing means ...   \n",
       "1         J.K. Rowling  Harry potter 's life is miserable . His parent...   \n",
       "2      Stephenie Meyer  About three things I was absolutely positive ....   \n",
       "3           Harper Lee  The unforgettable novel of a childhood in a sl...   \n",
       "4  F. Scott Fitzgerald  Alternate cover edition isbn : 0743273567 ( is...   \n",
       "\n",
       "                                              genres  goodreads_book_id  \\\n",
       "0  ['young-adult', 'fiction', 'fantasy', 'science...            2767052   \n",
       "1  ['fantasy', 'fiction', 'young-adult', 'classics']                  3   \n",
       "2  ['young-adult', 'fantasy', 'romance', 'fiction...              41865   \n",
       "3  ['classics', 'fiction', 'historical-fiction', ...               2657   \n",
       "4  ['classics', 'fiction', 'historical-fiction', ...               4671   \n",
       "\n",
       "                                           image_url  \\\n",
       "0  https://images.gr-assets.com/books/1447303603m...   \n",
       "1  https://images.gr-assets.com/books/1474154022m...   \n",
       "2  https://images.gr-assets.com/books/1361039443m...   \n",
       "3  https://images.gr-assets.com/books/1361975680m...   \n",
       "4  https://images.gr-assets.com/books/1490528560m...   \n",
       "\n",
       "                                     small_image_url  \\\n",
       "0  https://images.gr-assets.com/books/1447303603s...   \n",
       "1  https://images.gr-assets.com/books/1474154022s...   \n",
       "2  https://images.gr-assets.com/books/1361039443s...   \n",
       "3  https://images.gr-assets.com/books/1361975680s...   \n",
       "4  https://images.gr-assets.com/books/1490528560s...   \n",
       "\n",
       "                                   title  work_id  user_id  rating  \\\n",
       "0                       The Hunger Games  2792775        0       0   \n",
       "1  Harry Potter and the Sorcerer's Stone  4640799        0       0   \n",
       "2                               Twilight  3212258        0       0   \n",
       "3                  To Kill a Mockingbird  3275794        0       0   \n",
       "4                       The Great Gatsby   245494        0       0   \n",
       "\n",
       "                                            desc_emb  \n",
       "0  [0.03672965, 0.07552921, 0.04285616, 0.0815342...  \n",
       "1  [0.04864664, 0.044876367, -0.0010261198, 0.037...  \n",
       "2  [0.057015877, -0.0043905755, 0.04261045, 0.076...  \n",
       "3  [0.08569712, 0.0140928505, 0.011479103, 0.0798...  \n",
       "4  [0.014575552, 0.049743652, -0.040810443, 0.139...  "
      ]
     },
     "execution_count": 87,
     "metadata": {},
     "output_type": "execute_result"
    }
   ],
   "source": [
    "goodbooks.head()"
   ]
  },
  {
   "cell_type": "code",
   "execution_count": 88,
   "id": "bb70a62d",
   "metadata": {},
   "outputs": [
    {
     "name": "stdout",
     "output_type": "stream",
     "text": [
      "<class 'pandas.core.frame.DataFrame'>\n",
      "Int64Index: 73185 entries, 0 to 140009\n",
      "Data columns (total 11 columns):\n",
      " #   Column             Non-Null Count  Dtype \n",
      "---  ------             --------------  ----- \n",
      " 0   authors            73185 non-null  object\n",
      " 1   description        73185 non-null  object\n",
      " 2   genres             73185 non-null  object\n",
      " 3   goodreads_book_id  73185 non-null  int64 \n",
      " 4   image_url          73185 non-null  object\n",
      " 5   small_image_url    73185 non-null  object\n",
      " 6   title              73185 non-null  object\n",
      " 7   work_id            73185 non-null  int64 \n",
      " 8   user_id            73185 non-null  int64 \n",
      " 9   rating             73185 non-null  int64 \n",
      " 10  desc_emb           73185 non-null  object\n",
      "dtypes: int64(4), object(7)\n",
      "memory usage: 6.7+ MB\n"
     ]
    }
   ],
   "source": [
    "goodbooks.info()"
   ]
  },
  {
   "cell_type": "markdown",
   "id": "9d1be314",
   "metadata": {},
   "source": [
    "<em><span style=\"color:lightsteelblue\">Flatten Embeddings</span></em>"
   ]
  },
  {
   "cell_type": "code",
   "execution_count": 89,
   "id": "fc360d4e",
   "metadata": {},
   "outputs": [],
   "source": [
    "flat_embeddings = pd.DataFrame(goodbooks['desc_emb'].tolist())"
   ]
  },
  {
   "cell_type": "markdown",
   "id": "21abb412",
   "metadata": {},
   "source": [
    "<em><span style=\"color:lightsteelblue\">Standardize Embeddings</span></em>"
   ]
  },
  {
   "cell_type": "code",
   "execution_count": 90,
   "id": "d3aac10b",
   "metadata": {},
   "outputs": [],
   "source": [
    "scaler = StandardScaler()\n",
    "scaled_embeddings = scaler.fit_transform(flat_embeddings)"
   ]
  },
  {
   "cell_type": "code",
   "execution_count": 91,
   "id": "98fb1e56",
   "metadata": {},
   "outputs": [],
   "source": [
    "goodbooks['scaled_desc_emb'] = list(scaled_embeddings)"
   ]
  },
  {
   "cell_type": "code",
   "execution_count": 92,
   "id": "fc8fec5b",
   "metadata": {},
   "outputs": [
    {
     "data": {
      "text/html": [
       "<div>\n",
       "<style scoped>\n",
       "    .dataframe tbody tr th:only-of-type {\n",
       "        vertical-align: middle;\n",
       "    }\n",
       "\n",
       "    .dataframe tbody tr th {\n",
       "        vertical-align: top;\n",
       "    }\n",
       "\n",
       "    .dataframe thead th {\n",
       "        text-align: right;\n",
       "    }\n",
       "</style>\n",
       "<table border=\"1\" class=\"dataframe\">\n",
       "  <thead>\n",
       "    <tr style=\"text-align: right;\">\n",
       "      <th></th>\n",
       "      <th>authors</th>\n",
       "      <th>description</th>\n",
       "      <th>genres</th>\n",
       "      <th>goodreads_book_id</th>\n",
       "      <th>image_url</th>\n",
       "      <th>small_image_url</th>\n",
       "      <th>title</th>\n",
       "      <th>work_id</th>\n",
       "      <th>user_id</th>\n",
       "      <th>rating</th>\n",
       "      <th>desc_emb</th>\n",
       "      <th>scaled_desc_emb</th>\n",
       "    </tr>\n",
       "  </thead>\n",
       "  <tbody>\n",
       "    <tr>\n",
       "      <th>0</th>\n",
       "      <td>Suzanne Collins</td>\n",
       "      <td>Winning means fame and fortune . Losing means ...</td>\n",
       "      <td>['young-adult', 'fiction', 'fantasy', 'science...</td>\n",
       "      <td>2767052</td>\n",
       "      <td>https://images.gr-assets.com/books/1447303603m...</td>\n",
       "      <td>https://images.gr-assets.com/books/1447303603s...</td>\n",
       "      <td>The Hunger Games</td>\n",
       "      <td>2792775</td>\n",
       "      <td>0</td>\n",
       "      <td>0</td>\n",
       "      <td>[0.03672965, 0.07552921, 0.04285616, 0.0815342...</td>\n",
       "      <td>[-0.9164412874808109, 0.6219535612148838, 1.34...</td>\n",
       "    </tr>\n",
       "    <tr>\n",
       "      <th>1</th>\n",
       "      <td>J.K. Rowling</td>\n",
       "      <td>Harry potter 's life is miserable . His parent...</td>\n",
       "      <td>['fantasy', 'fiction', 'young-adult', 'classics']</td>\n",
       "      <td>3</td>\n",
       "      <td>https://images.gr-assets.com/books/1474154022m...</td>\n",
       "      <td>https://images.gr-assets.com/books/1474154022s...</td>\n",
       "      <td>Harry Potter and the Sorcerer's Stone</td>\n",
       "      <td>4640799</td>\n",
       "      <td>0</td>\n",
       "      <td>0</td>\n",
       "      <td>[0.04864664, 0.044876367, -0.0010261198, 0.037...</td>\n",
       "      <td>[-0.4799341925357353, -0.49522202522788716, -0...</td>\n",
       "    </tr>\n",
       "    <tr>\n",
       "      <th>2</th>\n",
       "      <td>Stephenie Meyer</td>\n",
       "      <td>About three things I was absolutely positive ....</td>\n",
       "      <td>['young-adult', 'fantasy', 'romance', 'fiction...</td>\n",
       "      <td>41865</td>\n",
       "      <td>https://images.gr-assets.com/books/1361039443m...</td>\n",
       "      <td>https://images.gr-assets.com/books/1361039443s...</td>\n",
       "      <td>Twilight</td>\n",
       "      <td>3212258</td>\n",
       "      <td>0</td>\n",
       "      <td>0</td>\n",
       "      <td>[0.057015877, -0.0043905755, 0.04261045, 0.076...</td>\n",
       "      <td>[-0.1733776707397525, -2.290808308109679, 1.33...</td>\n",
       "    </tr>\n",
       "    <tr>\n",
       "      <th>3</th>\n",
       "      <td>Harper Lee</td>\n",
       "      <td>The unforgettable novel of a childhood in a sl...</td>\n",
       "      <td>['classics', 'fiction', 'historical-fiction', ...</td>\n",
       "      <td>2657</td>\n",
       "      <td>https://images.gr-assets.com/books/1361975680m...</td>\n",
       "      <td>https://images.gr-assets.com/books/1361975680s...</td>\n",
       "      <td>To Kill a Mockingbird</td>\n",
       "      <td>3275794</td>\n",
       "      <td>0</td>\n",
       "      <td>0</td>\n",
       "      <td>[0.08569712, 0.0140928505, 0.011479103, 0.0798...</td>\n",
       "      <td>[0.877186726290491, -1.6171601263716782, 0.217...</td>\n",
       "    </tr>\n",
       "    <tr>\n",
       "      <th>4</th>\n",
       "      <td>F. Scott Fitzgerald</td>\n",
       "      <td>Alternate cover edition isbn : 0743273567 ( is...</td>\n",
       "      <td>['classics', 'fiction', 'historical-fiction', ...</td>\n",
       "      <td>4671</td>\n",
       "      <td>https://images.gr-assets.com/books/1490528560m...</td>\n",
       "      <td>https://images.gr-assets.com/books/1490528560s...</td>\n",
       "      <td>The Great Gatsby</td>\n",
       "      <td>245494</td>\n",
       "      <td>0</td>\n",
       "      <td>0</td>\n",
       "      <td>[0.014575552, 0.049743652, -0.040810443, 0.139...</td>\n",
       "      <td>[-1.7279229818242683, -0.31782861190024453, -1...</td>\n",
       "    </tr>\n",
       "  </tbody>\n",
       "</table>\n",
       "</div>"
      ],
      "text/plain": [
       "               authors                                        description  \\\n",
       "0      Suzanne Collins  Winning means fame and fortune . Losing means ...   \n",
       "1         J.K. Rowling  Harry potter 's life is miserable . His parent...   \n",
       "2      Stephenie Meyer  About three things I was absolutely positive ....   \n",
       "3           Harper Lee  The unforgettable novel of a childhood in a sl...   \n",
       "4  F. Scott Fitzgerald  Alternate cover edition isbn : 0743273567 ( is...   \n",
       "\n",
       "                                              genres  goodreads_book_id  \\\n",
       "0  ['young-adult', 'fiction', 'fantasy', 'science...            2767052   \n",
       "1  ['fantasy', 'fiction', 'young-adult', 'classics']                  3   \n",
       "2  ['young-adult', 'fantasy', 'romance', 'fiction...              41865   \n",
       "3  ['classics', 'fiction', 'historical-fiction', ...               2657   \n",
       "4  ['classics', 'fiction', 'historical-fiction', ...               4671   \n",
       "\n",
       "                                           image_url  \\\n",
       "0  https://images.gr-assets.com/books/1447303603m...   \n",
       "1  https://images.gr-assets.com/books/1474154022m...   \n",
       "2  https://images.gr-assets.com/books/1361039443m...   \n",
       "3  https://images.gr-assets.com/books/1361975680m...   \n",
       "4  https://images.gr-assets.com/books/1490528560m...   \n",
       "\n",
       "                                     small_image_url  \\\n",
       "0  https://images.gr-assets.com/books/1447303603s...   \n",
       "1  https://images.gr-assets.com/books/1474154022s...   \n",
       "2  https://images.gr-assets.com/books/1361039443s...   \n",
       "3  https://images.gr-assets.com/books/1361975680s...   \n",
       "4  https://images.gr-assets.com/books/1490528560s...   \n",
       "\n",
       "                                   title  work_id  user_id  rating  \\\n",
       "0                       The Hunger Games  2792775        0       0   \n",
       "1  Harry Potter and the Sorcerer's Stone  4640799        0       0   \n",
       "2                               Twilight  3212258        0       0   \n",
       "3                  To Kill a Mockingbird  3275794        0       0   \n",
       "4                       The Great Gatsby   245494        0       0   \n",
       "\n",
       "                                            desc_emb  \\\n",
       "0  [0.03672965, 0.07552921, 0.04285616, 0.0815342...   \n",
       "1  [0.04864664, 0.044876367, -0.0010261198, 0.037...   \n",
       "2  [0.057015877, -0.0043905755, 0.04261045, 0.076...   \n",
       "3  [0.08569712, 0.0140928505, 0.011479103, 0.0798...   \n",
       "4  [0.014575552, 0.049743652, -0.040810443, 0.139...   \n",
       "\n",
       "                                     scaled_desc_emb  \n",
       "0  [-0.9164412874808109, 0.6219535612148838, 1.34...  \n",
       "1  [-0.4799341925357353, -0.49522202522788716, -0...  \n",
       "2  [-0.1733776707397525, -2.290808308109679, 1.33...  \n",
       "3  [0.877186726290491, -1.6171601263716782, 0.217...  \n",
       "4  [-1.7279229818242683, -0.31782861190024453, -1...  "
      ]
     },
     "execution_count": 92,
     "metadata": {},
     "output_type": "execute_result"
    }
   ],
   "source": [
    "goodbooks.head()"
   ]
  },
  {
   "cell_type": "markdown",
   "id": "60ba1c5c",
   "metadata": {},
   "source": [
    "<em><span style=\"color:lightsteelblue\">Add [usernames]</span></em>"
   ]
  },
  {
   "cell_type": "code",
   "execution_count": 93,
   "id": "37c92e6c",
   "metadata": {},
   "outputs": [],
   "source": [
    "userid_to_username = {}"
   ]
  },
  {
   "cell_type": "code",
   "execution_count": 94,
   "id": "0c4acec8",
   "metadata": {},
   "outputs": [],
   "source": [
    "def generate_username(user_id):\n",
    "    return f'user_{user_id}'"
   ]
  },
  {
   "cell_type": "code",
   "execution_count": 95,
   "id": "b764239f",
   "metadata": {},
   "outputs": [],
   "source": [
    "for index, row in goodbooks.iterrows():\n",
    "    user_id = row['user_id']\n",
    "    \n",
    "    if user_id not in userid_to_username:\n",
    "        username = generate_username(user_id)\n",
    "        userid_to_username[user_id] = username"
   ]
  },
  {
   "cell_type": "code",
   "execution_count": 96,
   "id": "0ce69850",
   "metadata": {},
   "outputs": [],
   "source": [
    "goodbooks['username'] = goodbooks['user_id'].map(userid_to_username)"
   ]
  },
  {
   "cell_type": "code",
   "execution_count": 97,
   "id": "7a7afcc5",
   "metadata": {},
   "outputs": [
    {
     "data": {
      "text/html": [
       "<div>\n",
       "<style scoped>\n",
       "    .dataframe tbody tr th:only-of-type {\n",
       "        vertical-align: middle;\n",
       "    }\n",
       "\n",
       "    .dataframe tbody tr th {\n",
       "        vertical-align: top;\n",
       "    }\n",
       "\n",
       "    .dataframe thead th {\n",
       "        text-align: right;\n",
       "    }\n",
       "</style>\n",
       "<table border=\"1\" class=\"dataframe\">\n",
       "  <thead>\n",
       "    <tr style=\"text-align: right;\">\n",
       "      <th></th>\n",
       "      <th>authors</th>\n",
       "      <th>description</th>\n",
       "      <th>genres</th>\n",
       "      <th>goodreads_book_id</th>\n",
       "      <th>image_url</th>\n",
       "      <th>small_image_url</th>\n",
       "      <th>title</th>\n",
       "      <th>work_id</th>\n",
       "      <th>user_id</th>\n",
       "      <th>rating</th>\n",
       "      <th>desc_emb</th>\n",
       "      <th>scaled_desc_emb</th>\n",
       "      <th>username</th>\n",
       "    </tr>\n",
       "  </thead>\n",
       "  <tbody>\n",
       "    <tr>\n",
       "      <th>26127</th>\n",
       "      <td>Neil Gaiman</td>\n",
       "      <td>A being who has existed since the beginning of...</td>\n",
       "      <td>['graphic-novels', 'comics', 'fantasy', 'ficti...</td>\n",
       "      <td>25099</td>\n",
       "      <td>https://images.gr-assets.com/books/1298566119m...</td>\n",
       "      <td>https://images.gr-assets.com/books/1298566119s...</td>\n",
       "      <td>The Doll's House</td>\n",
       "      <td>2648</td>\n",
       "      <td>37653</td>\n",
       "      <td>4</td>\n",
       "      <td>[0.053134695, 0.063781515, -0.018580718, 0.048...</td>\n",
       "      <td>[-0.3155413814864717, 0.19379626311890719, -0....</td>\n",
       "      <td>user_37653</td>\n",
       "    </tr>\n",
       "    <tr>\n",
       "      <th>137429</th>\n",
       "      <td>Jonathan Kellerman</td>\n",
       "      <td>Unraveling the madness behind l. a. ’ s most b...</td>\n",
       "      <td>['mystery', 'fiction', 'thriller', 'crime', 's...</td>\n",
       "      <td>21530229</td>\n",
       "      <td>https://images.gr-assets.com/books/1410763754m...</td>\n",
       "      <td>https://images.gr-assets.com/books/1410763754s...</td>\n",
       "      <td>The Job</td>\n",
       "      <td>40857932</td>\n",
       "      <td>0</td>\n",
       "      <td>0</td>\n",
       "      <td>[0.038944382, 0.0695605, 0.015367898, 0.092079...</td>\n",
       "      <td>[-0.8353178843638809, 0.40441747360311203, 0.3...</td>\n",
       "      <td>user_0</td>\n",
       "    </tr>\n",
       "    <tr>\n",
       "      <th>15545</th>\n",
       "      <td>Max Brooks</td>\n",
       "      <td>The zombie survival guide is your key to survi...</td>\n",
       "      <td>['horror', 'fiction', 'science-fiction', 'fant...</td>\n",
       "      <td>535441</td>\n",
       "      <td>https://images.gr-assets.com/books/1320562270m...</td>\n",
       "      <td>https://images.gr-assets.com/books/1320562270s...</td>\n",
       "      <td>The Zombie Survival Guide: Complete Protection...</td>\n",
       "      <td>818</td>\n",
       "      <td>38647</td>\n",
       "      <td>3</td>\n",
       "      <td>[0.04949524, 0.056283135, -0.02041851, 0.06806...</td>\n",
       "      <td>[-0.44885089496340647, -0.07949018972927054, -...</td>\n",
       "      <td>user_38647</td>\n",
       "    </tr>\n",
       "    <tr>\n",
       "      <th>24864</th>\n",
       "      <td>Sherrilyn Kenyon</td>\n",
       "      <td>Cursed into an eternity of slavery by his own ...</td>\n",
       "      <td>['romance', 'paranormal', 'fantasy', 'fiction']</td>\n",
       "      <td>84136</td>\n",
       "      <td>https://images.gr-assets.com/books/1348332807m...</td>\n",
       "      <td>https://images.gr-assets.com/books/1348332807s...</td>\n",
       "      <td>Fantasy Lover</td>\n",
       "      <td>2384</td>\n",
       "      <td>16639</td>\n",
       "      <td>3</td>\n",
       "      <td>[0.09317841, 0.05595135, -0.0030287819, 0.0699...</td>\n",
       "      <td>[1.1512184553230773, -0.09158246739690247, -0....</td>\n",
       "      <td>user_16639</td>\n",
       "    </tr>\n",
       "    <tr>\n",
       "      <th>25882</th>\n",
       "      <td>Neil Gaiman</td>\n",
       "      <td>A being who has existed since the beginning of...</td>\n",
       "      <td>['graphic-novels', 'comics', 'fantasy', 'ficti...</td>\n",
       "      <td>25099</td>\n",
       "      <td>https://images.gr-assets.com/books/1298566119m...</td>\n",
       "      <td>https://images.gr-assets.com/books/1298566119s...</td>\n",
       "      <td>The Doll's House</td>\n",
       "      <td>2648</td>\n",
       "      <td>17684</td>\n",
       "      <td>4</td>\n",
       "      <td>[0.053134695, 0.063781515, -0.018580718, 0.048...</td>\n",
       "      <td>[-0.3155413814864717, 0.19379626311890719, -0....</td>\n",
       "      <td>user_17684</td>\n",
       "    </tr>\n",
       "  </tbody>\n",
       "</table>\n",
       "</div>"
      ],
      "text/plain": [
       "                   authors                                        description  \\\n",
       "26127          Neil Gaiman  A being who has existed since the beginning of...   \n",
       "137429  Jonathan Kellerman  Unraveling the madness behind l. a. ’ s most b...   \n",
       "15545           Max Brooks  The zombie survival guide is your key to survi...   \n",
       "24864     Sherrilyn Kenyon  Cursed into an eternity of slavery by his own ...   \n",
       "25882          Neil Gaiman  A being who has existed since the beginning of...   \n",
       "\n",
       "                                                   genres  goodreads_book_id  \\\n",
       "26127   ['graphic-novels', 'comics', 'fantasy', 'ficti...              25099   \n",
       "137429  ['mystery', 'fiction', 'thriller', 'crime', 's...           21530229   \n",
       "15545   ['horror', 'fiction', 'science-fiction', 'fant...             535441   \n",
       "24864     ['romance', 'paranormal', 'fantasy', 'fiction']              84136   \n",
       "25882   ['graphic-novels', 'comics', 'fantasy', 'ficti...              25099   \n",
       "\n",
       "                                                image_url  \\\n",
       "26127   https://images.gr-assets.com/books/1298566119m...   \n",
       "137429  https://images.gr-assets.com/books/1410763754m...   \n",
       "15545   https://images.gr-assets.com/books/1320562270m...   \n",
       "24864   https://images.gr-assets.com/books/1348332807m...   \n",
       "25882   https://images.gr-assets.com/books/1298566119m...   \n",
       "\n",
       "                                          small_image_url  \\\n",
       "26127   https://images.gr-assets.com/books/1298566119s...   \n",
       "137429  https://images.gr-assets.com/books/1410763754s...   \n",
       "15545   https://images.gr-assets.com/books/1320562270s...   \n",
       "24864   https://images.gr-assets.com/books/1348332807s...   \n",
       "25882   https://images.gr-assets.com/books/1298566119s...   \n",
       "\n",
       "                                                    title   work_id  user_id  \\\n",
       "26127                                    The Doll's House      2648    37653   \n",
       "137429                                            The Job  40857932        0   \n",
       "15545   The Zombie Survival Guide: Complete Protection...       818    38647   \n",
       "24864                                       Fantasy Lover      2384    16639   \n",
       "25882                                    The Doll's House      2648    17684   \n",
       "\n",
       "        rating                                           desc_emb  \\\n",
       "26127        4  [0.053134695, 0.063781515, -0.018580718, 0.048...   \n",
       "137429       0  [0.038944382, 0.0695605, 0.015367898, 0.092079...   \n",
       "15545        3  [0.04949524, 0.056283135, -0.02041851, 0.06806...   \n",
       "24864        3  [0.09317841, 0.05595135, -0.0030287819, 0.0699...   \n",
       "25882        4  [0.053134695, 0.063781515, -0.018580718, 0.048...   \n",
       "\n",
       "                                          scaled_desc_emb    username  \n",
       "26127   [-0.3155413814864717, 0.19379626311890719, -0....  user_37653  \n",
       "137429  [-0.8353178843638809, 0.40441747360311203, 0.3...      user_0  \n",
       "15545   [-0.44885089496340647, -0.07949018972927054, -...  user_38647  \n",
       "24864   [1.1512184553230773, -0.09158246739690247, -0....  user_16639  \n",
       "25882   [-0.3155413814864717, 0.19379626311890719, -0....  user_17684  "
      ]
     },
     "execution_count": 97,
     "metadata": {},
     "output_type": "execute_result"
    }
   ],
   "source": [
    "goodbooks.sample(5)"
   ]
  },
  {
   "cell_type": "markdown",
   "id": "a6026ef6",
   "metadata": {},
   "source": [
    "<em><span style=\"color:lightsteelblue\">Add [password]</span></em>"
   ]
  },
  {
   "cell_type": "code",
   "execution_count": 98,
   "id": "34fc12a0",
   "metadata": {},
   "outputs": [],
   "source": [
    "def hash_password(password):\n",
    "    return hashlib.sha256(password.encode()).hexdigest()"
   ]
  },
  {
   "cell_type": "code",
   "execution_count": 99,
   "id": "05bebb4d",
   "metadata": {},
   "outputs": [],
   "source": [
    "default_pass = 'default123'\n",
    "goodbooks['password_hash'] = goodbooks['username'].apply(lambda x: hash_password(default_pass))"
   ]
  },
  {
   "cell_type": "code",
   "execution_count": 100,
   "id": "e95d9574",
   "metadata": {},
   "outputs": [
    {
     "data": {
      "text/html": [
       "<div>\n",
       "<style scoped>\n",
       "    .dataframe tbody tr th:only-of-type {\n",
       "        vertical-align: middle;\n",
       "    }\n",
       "\n",
       "    .dataframe tbody tr th {\n",
       "        vertical-align: top;\n",
       "    }\n",
       "\n",
       "    .dataframe thead th {\n",
       "        text-align: right;\n",
       "    }\n",
       "</style>\n",
       "<table border=\"1\" class=\"dataframe\">\n",
       "  <thead>\n",
       "    <tr style=\"text-align: right;\">\n",
       "      <th></th>\n",
       "      <th>authors</th>\n",
       "      <th>description</th>\n",
       "      <th>genres</th>\n",
       "      <th>goodreads_book_id</th>\n",
       "      <th>image_url</th>\n",
       "      <th>small_image_url</th>\n",
       "      <th>title</th>\n",
       "      <th>work_id</th>\n",
       "      <th>user_id</th>\n",
       "      <th>rating</th>\n",
       "      <th>desc_emb</th>\n",
       "      <th>scaled_desc_emb</th>\n",
       "      <th>username</th>\n",
       "      <th>password_hash</th>\n",
       "    </tr>\n",
       "  </thead>\n",
       "  <tbody>\n",
       "    <tr>\n",
       "      <th>0</th>\n",
       "      <td>Suzanne Collins</td>\n",
       "      <td>Winning means fame and fortune . Losing means ...</td>\n",
       "      <td>['young-adult', 'fiction', 'fantasy', 'science...</td>\n",
       "      <td>2767052</td>\n",
       "      <td>https://images.gr-assets.com/books/1447303603m...</td>\n",
       "      <td>https://images.gr-assets.com/books/1447303603s...</td>\n",
       "      <td>The Hunger Games</td>\n",
       "      <td>2792775</td>\n",
       "      <td>0</td>\n",
       "      <td>0</td>\n",
       "      <td>[0.03672965, 0.07552921, 0.04285616, 0.0815342...</td>\n",
       "      <td>[-0.9164412874808109, 0.6219535612148838, 1.34...</td>\n",
       "      <td>user_0</td>\n",
       "      <td>cbf06754df2f70dd1f853bdccaec98cc6d8ba861a2a91d...</td>\n",
       "    </tr>\n",
       "    <tr>\n",
       "      <th>1</th>\n",
       "      <td>J.K. Rowling</td>\n",
       "      <td>Harry potter 's life is miserable . His parent...</td>\n",
       "      <td>['fantasy', 'fiction', 'young-adult', 'classics']</td>\n",
       "      <td>3</td>\n",
       "      <td>https://images.gr-assets.com/books/1474154022m...</td>\n",
       "      <td>https://images.gr-assets.com/books/1474154022s...</td>\n",
       "      <td>Harry Potter and the Sorcerer's Stone</td>\n",
       "      <td>4640799</td>\n",
       "      <td>0</td>\n",
       "      <td>0</td>\n",
       "      <td>[0.04864664, 0.044876367, -0.0010261198, 0.037...</td>\n",
       "      <td>[-0.4799341925357353, -0.49522202522788716, -0...</td>\n",
       "      <td>user_0</td>\n",
       "      <td>cbf06754df2f70dd1f853bdccaec98cc6d8ba861a2a91d...</td>\n",
       "    </tr>\n",
       "    <tr>\n",
       "      <th>2</th>\n",
       "      <td>Stephenie Meyer</td>\n",
       "      <td>About three things I was absolutely positive ....</td>\n",
       "      <td>['young-adult', 'fantasy', 'romance', 'fiction...</td>\n",
       "      <td>41865</td>\n",
       "      <td>https://images.gr-assets.com/books/1361039443m...</td>\n",
       "      <td>https://images.gr-assets.com/books/1361039443s...</td>\n",
       "      <td>Twilight</td>\n",
       "      <td>3212258</td>\n",
       "      <td>0</td>\n",
       "      <td>0</td>\n",
       "      <td>[0.057015877, -0.0043905755, 0.04261045, 0.076...</td>\n",
       "      <td>[-0.1733776707397525, -2.290808308109679, 1.33...</td>\n",
       "      <td>user_0</td>\n",
       "      <td>cbf06754df2f70dd1f853bdccaec98cc6d8ba861a2a91d...</td>\n",
       "    </tr>\n",
       "    <tr>\n",
       "      <th>3</th>\n",
       "      <td>Harper Lee</td>\n",
       "      <td>The unforgettable novel of a childhood in a sl...</td>\n",
       "      <td>['classics', 'fiction', 'historical-fiction', ...</td>\n",
       "      <td>2657</td>\n",
       "      <td>https://images.gr-assets.com/books/1361975680m...</td>\n",
       "      <td>https://images.gr-assets.com/books/1361975680s...</td>\n",
       "      <td>To Kill a Mockingbird</td>\n",
       "      <td>3275794</td>\n",
       "      <td>0</td>\n",
       "      <td>0</td>\n",
       "      <td>[0.08569712, 0.0140928505, 0.011479103, 0.0798...</td>\n",
       "      <td>[0.877186726290491, -1.6171601263716782, 0.217...</td>\n",
       "      <td>user_0</td>\n",
       "      <td>cbf06754df2f70dd1f853bdccaec98cc6d8ba861a2a91d...</td>\n",
       "    </tr>\n",
       "    <tr>\n",
       "      <th>4</th>\n",
       "      <td>F. Scott Fitzgerald</td>\n",
       "      <td>Alternate cover edition isbn : 0743273567 ( is...</td>\n",
       "      <td>['classics', 'fiction', 'historical-fiction', ...</td>\n",
       "      <td>4671</td>\n",
       "      <td>https://images.gr-assets.com/books/1490528560m...</td>\n",
       "      <td>https://images.gr-assets.com/books/1490528560s...</td>\n",
       "      <td>The Great Gatsby</td>\n",
       "      <td>245494</td>\n",
       "      <td>0</td>\n",
       "      <td>0</td>\n",
       "      <td>[0.014575552, 0.049743652, -0.040810443, 0.139...</td>\n",
       "      <td>[-1.7279229818242683, -0.31782861190024453, -1...</td>\n",
       "      <td>user_0</td>\n",
       "      <td>cbf06754df2f70dd1f853bdccaec98cc6d8ba861a2a91d...</td>\n",
       "    </tr>\n",
       "  </tbody>\n",
       "</table>\n",
       "</div>"
      ],
      "text/plain": [
       "               authors                                        description  \\\n",
       "0      Suzanne Collins  Winning means fame and fortune . Losing means ...   \n",
       "1         J.K. Rowling  Harry potter 's life is miserable . His parent...   \n",
       "2      Stephenie Meyer  About three things I was absolutely positive ....   \n",
       "3           Harper Lee  The unforgettable novel of a childhood in a sl...   \n",
       "4  F. Scott Fitzgerald  Alternate cover edition isbn : 0743273567 ( is...   \n",
       "\n",
       "                                              genres  goodreads_book_id  \\\n",
       "0  ['young-adult', 'fiction', 'fantasy', 'science...            2767052   \n",
       "1  ['fantasy', 'fiction', 'young-adult', 'classics']                  3   \n",
       "2  ['young-adult', 'fantasy', 'romance', 'fiction...              41865   \n",
       "3  ['classics', 'fiction', 'historical-fiction', ...               2657   \n",
       "4  ['classics', 'fiction', 'historical-fiction', ...               4671   \n",
       "\n",
       "                                           image_url  \\\n",
       "0  https://images.gr-assets.com/books/1447303603m...   \n",
       "1  https://images.gr-assets.com/books/1474154022m...   \n",
       "2  https://images.gr-assets.com/books/1361039443m...   \n",
       "3  https://images.gr-assets.com/books/1361975680m...   \n",
       "4  https://images.gr-assets.com/books/1490528560m...   \n",
       "\n",
       "                                     small_image_url  \\\n",
       "0  https://images.gr-assets.com/books/1447303603s...   \n",
       "1  https://images.gr-assets.com/books/1474154022s...   \n",
       "2  https://images.gr-assets.com/books/1361039443s...   \n",
       "3  https://images.gr-assets.com/books/1361975680s...   \n",
       "4  https://images.gr-assets.com/books/1490528560s...   \n",
       "\n",
       "                                   title  work_id  user_id  rating  \\\n",
       "0                       The Hunger Games  2792775        0       0   \n",
       "1  Harry Potter and the Sorcerer's Stone  4640799        0       0   \n",
       "2                               Twilight  3212258        0       0   \n",
       "3                  To Kill a Mockingbird  3275794        0       0   \n",
       "4                       The Great Gatsby   245494        0       0   \n",
       "\n",
       "                                            desc_emb  \\\n",
       "0  [0.03672965, 0.07552921, 0.04285616, 0.0815342...   \n",
       "1  [0.04864664, 0.044876367, -0.0010261198, 0.037...   \n",
       "2  [0.057015877, -0.0043905755, 0.04261045, 0.076...   \n",
       "3  [0.08569712, 0.0140928505, 0.011479103, 0.0798...   \n",
       "4  [0.014575552, 0.049743652, -0.040810443, 0.139...   \n",
       "\n",
       "                                     scaled_desc_emb username  \\\n",
       "0  [-0.9164412874808109, 0.6219535612148838, 1.34...   user_0   \n",
       "1  [-0.4799341925357353, -0.49522202522788716, -0...   user_0   \n",
       "2  [-0.1733776707397525, -2.290808308109679, 1.33...   user_0   \n",
       "3  [0.877186726290491, -1.6171601263716782, 0.217...   user_0   \n",
       "4  [-1.7279229818242683, -0.31782861190024453, -1...   user_0   \n",
       "\n",
       "                                       password_hash  \n",
       "0  cbf06754df2f70dd1f853bdccaec98cc6d8ba861a2a91d...  \n",
       "1  cbf06754df2f70dd1f853bdccaec98cc6d8ba861a2a91d...  \n",
       "2  cbf06754df2f70dd1f853bdccaec98cc6d8ba861a2a91d...  \n",
       "3  cbf06754df2f70dd1f853bdccaec98cc6d8ba861a2a91d...  \n",
       "4  cbf06754df2f70dd1f853bdccaec98cc6d8ba861a2a91d...  "
      ]
     },
     "execution_count": 100,
     "metadata": {},
     "output_type": "execute_result"
    }
   ],
   "source": [
    "goodbooks.head()"
   ]
  },
  {
   "cell_type": "markdown",
   "id": "94a5ebea",
   "metadata": {
    "heading_collapsed": true,
    "jp-MarkdownHeadingCollapsed": true
   },
   "source": [
    "## <span style=\"color:steelblue\"> SQLite3 Database</span>"
   ]
  },
  {
   "cell_type": "code",
   "execution_count": 101,
   "id": "b2d27239",
   "metadata": {
    "hidden": true
   },
   "outputs": [],
   "source": [
    "# def setup_database():\n",
    "#     conn = sqlite3.connect('bookscout.db')\n",
    "#     cursor = conn.cursor()\n",
    "    \n",
    "#     cursor.execute('''\n",
    "#     CREATE TABLE IF NOT EXISTS books (\n",
    "#         work_id INTEGER PRIMARY KEY,\n",
    "#         title TEXT,\n",
    "#         author TEXT,\n",
    "#         description TEXT,\n",
    "#         genres TEXT,\n",
    "#         desc_emb BLOB,\n",
    "#         image_url TEXT\n",
    "#     );\n",
    "#     ''')\n",
    "    \n",
    "#     cursor.execute('''\n",
    "#     CREATE TABLE IF NOT EXISTS users (\n",
    "#         user_id INTEGER PRIMARY KEY AUTOINCREMENT,\n",
    "#         username TEXT NOT NULL,\n",
    "#         pass_hash TEXT NOT NULL\n",
    "#     );\n",
    "#     ''')\n",
    "    \n",
    "#     cursor.execute('''\n",
    "#     CREATE TABLE IF NOT EXISTS ratings (\n",
    "#         rating_id INTEGER PRIMARY KEY AUTOINCREMENT,\n",
    "#         rating INTEGER,\n",
    "#         user_id INTEGER,\n",
    "#         work_id INTEGER,\n",
    "#         UNIQUE(user_id, work_id),\n",
    "#         FOREIGN KEY (user_id) REFERENCES users(user_id),\n",
    "#         FOREIGN KEY (work_id) REFERENCES books(work_id)\n",
    "#     );\n",
    "#     ''')\n",
    "    \n",
    "#     cursor.execute('''\n",
    "#     CREATE TABLE IF NOT EXISTS favorites (\n",
    "#         favorite_id INTEGER PRIMARY KEY AUTOINCREMENT,\n",
    "#         user_id INTEGER,\n",
    "#         work_id INTEGER,\n",
    "#         UNIQUE(user_id, work_id),\n",
    "#         FOREIGN KEY (user_id) REFERENCES users(user_id),\n",
    "#         FOREIGN KEY (work_id) REFERENCES books(work_id)\n",
    "#     );\n",
    "#     ''')\n",
    "        \n",
    "#     cursor.execute('''\n",
    "#     CREATE TABLE IF NOT EXISTS reviews (\n",
    "#         review_id INTEGER PRIMARY KEY AUTOINCREMENT,\n",
    "#         user_id INTEGER,\n",
    "#         work_id INTEGER,\n",
    "#         review_txt TEXT,\n",
    "#         review_date DATETIME,\n",
    "#         FOREIGN KEY (user_id) REFERENCES users(user_id),\n",
    "#         FOREIGN KEY (work_id) REFERENCES books(work_id)\n",
    "#     );\n",
    "#     ''')\n",
    "    \n",
    "#     conn.commit()\n",
    "#     conn.close()"
   ]
  },
  {
   "cell_type": "code",
   "execution_count": 102,
   "id": "a1e5cea1",
   "metadata": {
    "hidden": true
   },
   "outputs": [],
   "source": [
    "# def insert_books_from_df(df):\n",
    "#     conn = sqlite3.connect('bookscout.db')\n",
    "#     cursor = conn.cursor()\n",
    "#     for _, row in df.iterrows():\n",
    "#         # Convert embeddings to bytes for SQLite compatability.\n",
    "#         embeddings = np.array(row['scaled_desc_emb']).tobytes() if 'scaled_desc_emb' in row else None\n",
    "#         cursor.execute('''\n",
    "#         INSERT OR IGNORE INTO books (work_id, title, author, description, genres, desc_emb, image_url) VALUES (?, ?, ?, ?, ?, ?, ?)\n",
    "#         ''', (row['work_id'], row['title'], row['authors'], row['description'], row['genres'], embeddings, row['image_url']))\n",
    "#     conn.commit()\n",
    "#     conn.close()"
   ]
  },
  {
   "cell_type": "code",
   "execution_count": 103,
   "id": "3c165e67",
   "metadata": {
    "hidden": true
   },
   "outputs": [],
   "source": [
    "# def insert_users_from_df(df):\n",
    "#     conn = sqlite3.connect('bookscout.db')\n",
    "#     cursor = conn.cursor()\n",
    "    \n",
    "#     uid_mapping = {}\n",
    "\n",
    "#     for _, row in df.iterrows():\n",
    "#         username = row['username']\n",
    "#         pass_hash = row['password_hash']\n",
    "\n",
    "#         cursor.execute('SELECT user_id FROM users WHERE LOWER(username) = LOWER(?)', (username.lower(),))\n",
    "#         existing_user = cursor.fetchone()\n",
    "\n",
    "#         if existing_user:\n",
    "#             user_id = existing_user[0]\n",
    "#         else:\n",
    "#             try:\n",
    "#                 cursor.execute('''\n",
    "#                     INSERT INTO users (username, pass_hash) VALUES (?, ?)\n",
    "#                               ''', (username.lower(), pass_hash))\n",
    "#                 user_id = cursor.lastrowid\n",
    "#             except sqlite3.IntegrityError:\n",
    "#                 continue\n",
    "\n",
    "#         uid_mapping[username.lower()] = user_id\n",
    "\n",
    "#         conn.commit()\n",
    "#         conn.close()\n",
    "#         return uid_mapping"
   ]
  },
  {
   "cell_type": "code",
   "execution_count": 104,
   "id": "07f8186e",
   "metadata": {
    "hidden": true
   },
   "outputs": [],
   "source": [
    "# def insert_ratings_from_df(df, uid_mapping):\n",
    "#     conn = sqlite3.connect('bookscout.db')\n",
    "#     cursor = conn.cursor()\n",
    "\n",
    "#     for _, row in df.iterrows():\n",
    "#         username = row['username']\n",
    "#         user_id = uid_mapping.get(username.lower())\n",
    "\n",
    "#         if user_id is not None:\n",
    "#             work_id = row['work_id']\n",
    "#             rating = row['rating']\n",
    "            \n",
    "#             cursor.execute('''\n",
    "#             INSERT OR REPLACE INTO ratings (user_id, work_id, rating) VALUES (?, ?, ?)\n",
    "#             ''', (user_id, work_id, rating))\n",
    "\n",
    "#     conn.commit()\n",
    "#     conn.close()"
   ]
  },
  {
   "cell_type": "code",
   "execution_count": 105,
   "id": "d12a3c64",
   "metadata": {
    "hidden": true
   },
   "outputs": [],
   "source": [
    "# def reset_database():\n",
    "#     if os.path.exists('bookscout.db'):\n",
    "#         os.remove('bookscout.db')"
   ]
  },
  {
   "cell_type": "markdown",
   "id": "c21e92f9",
   "metadata": {},
   "source": [
    "## <span style=\"color:steelblue\"> Collaborative Filtering Model</span>"
   ]
  },
  {
   "cell_type": "markdown",
   "id": "69d5fa13",
   "metadata": {},
   "source": [
    "<em><span style=\"color:lightsteelblue\">Create user-item df</span></em>"
   ]
  },
  {
   "cell_type": "code",
   "execution_count": 106,
   "id": "21761dbb",
   "metadata": {},
   "outputs": [
    {
     "data": {
      "text/html": [
       "<div>\n",
       "<style scoped>\n",
       "    .dataframe tbody tr th:only-of-type {\n",
       "        vertical-align: middle;\n",
       "    }\n",
       "\n",
       "    .dataframe tbody tr th {\n",
       "        vertical-align: top;\n",
       "    }\n",
       "\n",
       "    .dataframe thead th {\n",
       "        text-align: right;\n",
       "    }\n",
       "</style>\n",
       "<table border=\"1\" class=\"dataframe\">\n",
       "  <thead>\n",
       "    <tr style=\"text-align: right;\">\n",
       "      <th></th>\n",
       "      <th>user_id</th>\n",
       "      <th>work_id</th>\n",
       "      <th>rating</th>\n",
       "    </tr>\n",
       "  </thead>\n",
       "  <tbody>\n",
       "    <tr>\n",
       "      <th>15629</th>\n",
       "      <td>43132</td>\n",
       "      <td>818</td>\n",
       "      <td>4</td>\n",
       "    </tr>\n",
       "    <tr>\n",
       "      <th>4200</th>\n",
       "      <td>15095</td>\n",
       "      <td>115</td>\n",
       "      <td>4</td>\n",
       "    </tr>\n",
       "    <tr>\n",
       "      <th>5266</th>\n",
       "      <td>6064</td>\n",
       "      <td>115</td>\n",
       "      <td>5</td>\n",
       "    </tr>\n",
       "    <tr>\n",
       "      <th>72132</th>\n",
       "      <td>18505</td>\n",
       "      <td>1315</td>\n",
       "      <td>3</td>\n",
       "    </tr>\n",
       "    <tr>\n",
       "      <th>41455</th>\n",
       "      <td>31754</td>\n",
       "      <td>87</td>\n",
       "      <td>3</td>\n",
       "    </tr>\n",
       "  </tbody>\n",
       "</table>\n",
       "</div>"
      ],
      "text/plain": [
       "       user_id  work_id  rating\n",
       "15629    43132      818       4\n",
       "4200     15095      115       4\n",
       "5266      6064      115       5\n",
       "72132    18505     1315       3\n",
       "41455    31754       87       3"
      ]
     },
     "execution_count": 106,
     "metadata": {},
     "output_type": "execute_result"
    }
   ],
   "source": [
    "goodbooks_cf = goodbooks[['user_id', 'work_id', 'rating']]\n",
    "goodbooks_cf.sample(5)"
   ]
  },
  {
   "cell_type": "markdown",
   "id": "a67f7cae",
   "metadata": {},
   "source": [
    "<em><span style=\"color:lightsteelblue\">Define rating scale</span></em>"
   ]
  },
  {
   "cell_type": "code",
   "execution_count": 107,
   "id": "2014d98d",
   "metadata": {},
   "outputs": [],
   "source": [
    "reader = Reader(rating_scale=(1,5))"
   ]
  },
  {
   "cell_type": "markdown",
   "id": "7c50546f",
   "metadata": {},
   "source": [
    "<em><span style=\"color:lightsteelblue\"> Load and split data</span></em>"
   ]
  },
  {
   "cell_type": "code",
   "execution_count": 108,
   "id": "b2257107",
   "metadata": {},
   "outputs": [],
   "source": [
    "data = Dataset.load_from_df(goodbooks_cf, reader)"
   ]
  },
  {
   "cell_type": "code",
   "execution_count": 109,
   "id": "31925a5a",
   "metadata": {},
   "outputs": [],
   "source": [
    "trainset, testset = train_test_split(data, test_size=.25)"
   ]
  },
  {
   "cell_type": "markdown",
   "id": "c21d723f",
   "metadata": {},
   "source": [
    "<h3><em><span style=\"color:steelblue\"> Matrix Factorization </span></em></h3>"
   ]
  },
  {
   "cell_type": "markdown",
   "id": "c2f08d9e",
   "metadata": {},
   "source": [
    "#### <em><span style=\"color:steelblue\">Using non-negative matrix factorization (NMF)</span></em>"
   ]
  },
  {
   "cell_type": "markdown",
   "id": "d6e9aa4c",
   "metadata": {},
   "source": [
    "<em><span style=\"color:lightsteelblue\"> GridSearchCV</span></em>"
   ]
  },
  {
   "cell_type": "code",
   "execution_count": 110,
   "id": "45c1ea2e",
   "metadata": {},
   "outputs": [],
   "source": [
    "# nmf_params = {\n",
    "#     'n_factors': [10, 30, 50, 90],\n",
    "#     'n_epochs': [20, 30, 50, 70],\n",
    "# }"
   ]
  },
  {
   "cell_type": "code",
   "execution_count": 111,
   "id": "dbbbb0f7",
   "metadata": {},
   "outputs": [],
   "source": [
    "# nmf_gs = GridSearchCV(NMF, nmf_params, measures=['rmse','mae'])\n",
    "# nmf_gs.fit(data)"
   ]
  },
  {
   "cell_type": "code",
   "execution_count": 112,
   "id": "2db0e722",
   "metadata": {},
   "outputs": [],
   "source": [
    "# print('Best parameters (RMSE):', nmf_gs.best_params['rmse'])"
   ]
  },
  {
   "cell_type": "code",
   "execution_count": 113,
   "id": "9d242658",
   "metadata": {},
   "outputs": [],
   "source": [
    "# print('Best parameters (MAE):', nmf_gs.best_params['mae'])"
   ]
  },
  {
   "cell_type": "markdown",
   "id": "4aa3dd90",
   "metadata": {},
   "source": [
    "<em><span style=\"color:lightsteelblue\"> Initialize model</span></em>"
   ]
  },
  {
   "cell_type": "code",
   "execution_count": 114,
   "id": "0a6909e3",
   "metadata": {},
   "outputs": [
    {
     "data": {
      "text/plain": [
       "<surprise.prediction_algorithms.matrix_factorization.NMF at 0x232eb31a810>"
      ]
     },
     "execution_count": 114,
     "metadata": {},
     "output_type": "execute_result"
    }
   ],
   "source": [
    "nmf = NMF(n_factors=50, n_epochs=50, random_state=42)\n",
    "nmf.fit(trainset)"
   ]
  },
  {
   "cell_type": "code",
   "execution_count": 115,
   "id": "d88fc2e9",
   "metadata": {},
   "outputs": [],
   "source": [
    "nmf_predictions = nmf.test(testset)"
   ]
  },
  {
   "cell_type": "markdown",
   "id": "75002197",
   "metadata": {},
   "source": [
    "<em><span style=\"color:lightsteelblue\"> Convert predictions to binary (positive/negative) </span></em>"
   ]
  },
  {
   "cell_type": "code",
   "execution_count": 116,
   "id": "715f6c5e",
   "metadata": {},
   "outputs": [],
   "source": [
    "nmf_pred_labels = [1 if pred.est >= 4 else 0 for pred in nmf_predictions] \n",
    "nmf_true_labels = [true_rating >= 4 for (_, _, true_rating) in testset]"
   ]
  },
  {
   "cell_type": "markdown",
   "id": "b4602b04",
   "metadata": {},
   "source": [
    "<em><span style=\"color:lightsteelblue\"> Evaluate NMF model</span></em>"
   ]
  },
  {
   "cell_type": "code",
   "execution_count": 117,
   "id": "519947b3",
   "metadata": {},
   "outputs": [
    {
     "name": "stdout",
     "output_type": "stream",
     "text": [
      "RMSE: 1.5133\n",
      "MAE:  1.1283\n"
     ]
    }
   ],
   "source": [
    "nmf_rmse = accuracy.rmse(nmf_predictions)\n",
    "nmf_mae = accuracy.mae(nmf_predictions)"
   ]
  },
  {
   "cell_type": "code",
   "execution_count": 118,
   "id": "6735e191",
   "metadata": {},
   "outputs": [
    {
     "name": "stdout",
     "output_type": "stream",
     "text": [
      "NMF Classification Report:\n",
      "               precision    recall  f1-score   support\n",
      "\n",
      "    Negative       0.42      0.82      0.56      6612\n",
      "    Positive       0.78      0.36      0.50     11685\n",
      "\n",
      "    accuracy                           0.53     18297\n",
      "   macro avg       0.60      0.59      0.53     18297\n",
      "weighted avg       0.65      0.53      0.52     18297\n",
      "\n"
     ]
    }
   ],
   "source": [
    "nmf_classification_report = classification_report(nmf_true_labels, nmf_pred_labels, target_names=['Negative', 'Positive'])\n",
    "print(\"NMF Classification Report:\\n\", nmf_classification_report)"
   ]
  },
  {
   "cell_type": "markdown",
   "id": "53c2e0f2",
   "metadata": {},
   "source": [
    "#### <em><span style=\"color:steelblue\"> Using singular value decomposition (SVD) </span></em>"
   ]
  },
  {
   "cell_type": "markdown",
   "id": "e6406d6c",
   "metadata": {},
   "source": [
    "<em><span style=\"color:lightsteelblue\"> GridSearchCV</span></em>"
   ]
  },
  {
   "cell_type": "code",
   "execution_count": 119,
   "id": "a1383993",
   "metadata": {},
   "outputs": [],
   "source": [
    "# svd_params = {\n",
    "#     'n_factors': [305, 310, 315],\n",
    "#     'n_epochs': [125, 130, 135],\n",
    "#     'lr_all': [0.016, 0.017, 0.018],\n",
    "#     'reg_all': [0.02, 0.03, 0.04]\n",
    "# }"
   ]
  },
  {
   "cell_type": "code",
   "execution_count": 120,
   "id": "4f420a87",
   "metadata": {},
   "outputs": [],
   "source": [
    "# svd_gs = GridSearchCV(SVD, svd_params, measures=['rmse','mae'])\n",
    "# svd_gs.fit(data)"
   ]
  },
  {
   "cell_type": "code",
   "execution_count": 121,
   "id": "09f1c57b",
   "metadata": {},
   "outputs": [],
   "source": [
    "# print('Best parameters (RMSE):', svd_gs.best_params['rmse'])"
   ]
  },
  {
   "cell_type": "code",
   "execution_count": 122,
   "id": "3e2cc309",
   "metadata": {},
   "outputs": [],
   "source": [
    "# print('Best parameters (MAE):', svd_gs.best_params['mae'])"
   ]
  },
  {
   "cell_type": "markdown",
   "id": "518a3a6d",
   "metadata": {},
   "source": [
    "<em><span style=\"color:lightsteelblue\"> Initialize model</span></em>"
   ]
  },
  {
   "cell_type": "code",
   "execution_count": 123,
   "id": "31c7b89f",
   "metadata": {},
   "outputs": [
    {
     "data": {
      "text/plain": [
       "<surprise.prediction_algorithms.matrix_factorization.SVD at 0x2318e1c51d0>"
      ]
     },
     "execution_count": 123,
     "metadata": {},
     "output_type": "execute_result"
    }
   ],
   "source": [
    "svd = SVD(n_factors=310, n_epochs=130, lr_all=0.017, reg_all=0.02, random_state=42)\n",
    "svd.fit(trainset)"
   ]
  },
  {
   "cell_type": "code",
   "execution_count": 124,
   "id": "33e5a639",
   "metadata": {},
   "outputs": [],
   "source": [
    "svd_predictions = svd.test(testset)"
   ]
  },
  {
   "cell_type": "markdown",
   "id": "bdf67395",
   "metadata": {},
   "source": [
    "<em><span style=\"color:lightsteelblue\"> Convert predictions to binary (positive/negative) </span></em>"
   ]
  },
  {
   "cell_type": "code",
   "execution_count": 125,
   "id": "b616695a",
   "metadata": {},
   "outputs": [],
   "source": [
    "svd_pred_labels = [1 if pred.est >= 4 else 0 for pred in svd_predictions]\n",
    "svd_true_labels = [true_rating >= 4 for (_, _, true_rating) in testset]"
   ]
  },
  {
   "cell_type": "markdown",
   "id": "c14f8279",
   "metadata": {},
   "source": [
    "<em><span style=\"color:lightsteelblue\"> Evaluate SVD model </span></em>"
   ]
  },
  {
   "cell_type": "code",
   "execution_count": 126,
   "id": "98709c92",
   "metadata": {},
   "outputs": [
    {
     "name": "stdout",
     "output_type": "stream",
     "text": [
      "RMSE: 0.9438\n",
      "MAE:  0.7781\n"
     ]
    }
   ],
   "source": [
    "svd_rmse = accuracy.rmse(svd_predictions)\n",
    "svd_mae = accuracy.mae(svd_predictions)"
   ]
  },
  {
   "cell_type": "code",
   "execution_count": 127,
   "id": "b0bd49ba",
   "metadata": {},
   "outputs": [
    {
     "name": "stdout",
     "output_type": "stream",
     "text": [
      "SVD Classification Report:\n",
      "               precision    recall  f1-score   support\n",
      "\n",
      "    Negative       0.47      0.83      0.60      6612\n",
      "    Positive       0.83      0.47      0.60     11685\n",
      "\n",
      "    accuracy                           0.60     18297\n",
      "   macro avg       0.65      0.65      0.60     18297\n",
      "weighted avg       0.70      0.60      0.60     18297\n",
      "\n"
     ]
    }
   ],
   "source": [
    "svd_classification_report = classification_report(svd_true_labels, svd_pred_labels, target_names=['Negative', 'Positive'])\n",
    "print(\"SVD Classification Report:\\n\", svd_classification_report)"
   ]
  },
  {
   "cell_type": "markdown",
   "id": "4bd805be",
   "metadata": {},
   "source": [
    "<em><span style=\"color:lightsteelblue\"> Generate predictions (Example)</span></em>"
   ]
  },
  {
   "cell_type": "code",
   "execution_count": 128,
   "id": "d8d53ef3",
   "metadata": {},
   "outputs": [],
   "source": [
    "# user_id = 1\n",
    "# all_books = goodbooks_cf['work_id'].unique()\n",
    "# rated_books = goodbooks_cf[goodbooks_cf['user_id'] == user_id]['work_id'].tolist()"
   ]
  },
  {
   "cell_type": "code",
   "execution_count": 129,
   "id": "0f4f8422",
   "metadata": {
    "scrolled": true
   },
   "outputs": [],
   "source": [
    "# predictions = []\n",
    "\n",
    "# for book in all_books:\n",
    "#     if book not in rated_books:\n",
    "#         pred = svd.predict(user_id, book)\n",
    "#         predictions.append((book, pred.est))"
   ]
  },
  {
   "cell_type": "code",
   "execution_count": 130,
   "id": "42ba13a3",
   "metadata": {},
   "outputs": [],
   "source": [
    "# predictions.sort(key=lambda x: x[1], reverse=True)"
   ]
  },
  {
   "cell_type": "code",
   "execution_count": 131,
   "id": "ce225455",
   "metadata": {},
   "outputs": [],
   "source": [
    "# predictions = predictions[:10]\n",
    "# predictions"
   ]
  },
  {
   "cell_type": "code",
   "execution_count": 132,
   "id": "8f58fbd6",
   "metadata": {},
   "outputs": [],
   "source": [
    "# book_titles = goodbooks.set_index('work_id')['title'].to_dict()"
   ]
  },
  {
   "cell_type": "code",
   "execution_count": 133,
   "id": "240835aa",
   "metadata": {},
   "outputs": [],
   "source": [
    "# predictions_w_titles = [(book_titles[book], rating) for book, rating in predictions]"
   ]
  },
  {
   "cell_type": "code",
   "execution_count": 134,
   "id": "eb799b89",
   "metadata": {},
   "outputs": [],
   "source": [
    "# predictions_w_titles"
   ]
  },
  {
   "cell_type": "markdown",
   "id": "fb012f84",
   "metadata": {},
   "source": [
    "#### <em><span style=\"color:steelblue\">Model Comparison</span></em>"
   ]
  },
  {
   "cell_type": "code",
   "execution_count": 135,
   "id": "eb33cdbd",
   "metadata": {},
   "outputs": [],
   "source": [
    "results = pd.DataFrame({\n",
    "    'Model': ['NMF', 'NMF', 'SVD', 'SVD'],\n",
    "    'Metric': ['RMSE', 'MAE', 'RMSE', 'MAE'],\n",
    "    'Score': [nmf_rmse, nmf_mae, svd_rmse, svd_mae]\n",
    "})"
   ]
  },
  {
   "cell_type": "code",
   "execution_count": 136,
   "id": "f5c909f6",
   "metadata": {},
   "outputs": [
    {
     "data": {
      "text/plain": [
       "<Figure size 1000x600 with 0 Axes>"
      ]
     },
     "execution_count": 136,
     "metadata": {},
     "output_type": "execute_result"
    },
    {
     "data": {
      "text/plain": [
       "<Figure size 1000x600 with 0 Axes>"
      ]
     },
     "metadata": {},
     "output_type": "display_data"
    }
   ],
   "source": [
    "plt.figure(figsize=(10, 6))"
   ]
  },
  {
   "cell_type": "code",
   "execution_count": 137,
   "id": "ffcc5791",
   "metadata": {},
   "outputs": [
    {
     "data": {
      "image/png": "[encoded data removed]",
      "text/plain": [
       "<Figure size 640x480 with 1 Axes>"
      ]
     },
     "metadata": {},
     "output_type": "display_data"
    }
   ],
   "source": [
    "sns.lineplot(data=results, x='Model', y='Score', hue='Metric', marker='o')\n",
    "plt.title('Model Performance Comparison', \n",
    "          size=14, \n",
    "          fontweight='bold', \n",
    "          color='#4c72b0', pad=10)\n",
    "plt.ylabel('Score', fontsize=12, c='#4c72b0')\n",
    "plt.xlabel('Model', fontsize=12, c='#4c72b0')\n",
    "plt.legend(title='Metric')\n",
    "plt.tight_layout()\n",
    "plt.show()"
   ]
  },
  {
   "cell_type": "markdown",
   "id": "a7f1cd1c",
   "metadata": {},
   "source": [
    "## <span style=\"color:steelblue\"> Content-Based Filtering Model</span>\n",
    "\n",
    "<em><span style=\"color:lightsteelblue\">Prepare content-based data</span></em>"
   ]
  },
  {
   "cell_type": "code",
   "execution_count": 138,
   "id": "c2a77ed2",
   "metadata": {},
   "outputs": [],
   "source": [
    "goodbooks_cb = goodbooks[['user_id', 'work_id', 'title', 'scaled_desc_emb']]"
   ]
  },
  {
   "cell_type": "code",
   "execution_count": 139,
   "id": "b867e4ce",
   "metadata": {},
   "outputs": [],
   "source": [
    "embeddings = np.array(goodbooks_cb['scaled_desc_emb'].tolist()).astype(np.float32)"
   ]
  },
  {
   "cell_type": "markdown",
   "id": "e1098d78",
   "metadata": {},
   "source": [
    "<em><span style=\"color:lightsteelblue\">Create HNSW (Heirarchical Navigable Small Worlds) index</span></em>"
   ]
  },
  {
   "cell_type": "code",
   "execution_count": 140,
   "id": "f16cf5f3",
   "metadata": {},
   "outputs": [],
   "source": [
    "dim = embeddings.shape[1]\n",
    "num_entries = embeddings.shape[0]"
   ]
  },
  {
   "cell_type": "code",
   "execution_count": 141,
   "id": "151a5293",
   "metadata": {},
   "outputs": [],
   "source": [
    "hnsw_index = hnswlib.Index(space='cosine', dim=dim)\n",
    "hnsw_index.init_index(max_elements=num_entries, ef_construction=300, M=32)"
   ]
  },
  {
   "cell_type": "markdown",
   "id": "d869d139",
   "metadata": {},
   "source": [
    "<em><span style=\"color:lightsteelblue\">Add entries to HNSW index</span></em>"
   ]
  },
  {
   "cell_type": "code",
   "execution_count": 142,
   "id": "7246666b",
   "metadata": {},
   "outputs": [],
   "source": [
    "hnsw_index.add_items(embeddings, ids=np.arange(num_entries))"
   ]
  },
  {
   "cell_type": "code",
   "execution_count": 143,
   "id": "d0a6954a",
   "metadata": {},
   "outputs": [],
   "source": [
    "hnsw_index.set_ef(80)"
   ]
  },
  {
   "cell_type": "markdown",
   "id": "ea1a8686",
   "metadata": {},
   "source": [
    "<em><span style=\"color:lightsteelblue\">Generate predictions (Example)</span></em>"
   ]
  },
  {
   "cell_type": "code",
   "execution_count": 144,
   "id": "a9cabf3c",
   "metadata": {},
   "outputs": [],
   "source": [
    "work_id = 466\n",
    "k=10000\n",
    "book_index = goodbooks_cb.index[goodbooks_cb['work_id'] == work_id].tolist()[0]\n",
    "query_embedding = embeddings[book_index].reshape(1, -1)\n",
    "labels, distances = hnsw_index.knn_query(query_embedding, k=k)"
   ]
  },
  {
   "cell_type": "code",
   "execution_count": 145,
   "id": "0793bcb7",
   "metadata": {},
   "outputs": [],
   "source": [
    "# print(labels)"
   ]
  },
  {
   "cell_type": "code",
   "execution_count": 146,
   "id": "e1df4576",
   "metadata": {},
   "outputs": [],
   "source": [
    "predictions = goodbooks_cb.iloc[labels[0]]\n",
    "predictions = predictions[predictions['work_id'] != work_id]\n",
    "predictions = predictions.drop_duplicates(subset='work_id')[['work_id', 'title']][:k]"
   ]
  },
  {
   "cell_type": "code",
   "execution_count": 147,
   "id": "ed5084ac",
   "metadata": {},
   "outputs": [],
   "source": [
    "# print(predictions)"
   ]
  },
  {
   "cell_type": "code",
   "execution_count": 148,
   "id": "f1bff519",
   "metadata": {},
   "outputs": [],
   "source": [
    "predictions['similarity'] = 1 - distances[0][:len(predictions)]"
   ]
  },
  {
   "cell_type": "code",
   "execution_count": 149,
   "id": "f097c6bb",
   "metadata": {},
   "outputs": [],
   "source": [
    "user_id = 45551\n",
    "user_ratings = goodbooks_cf[goodbooks_cf['user_id'] == user_id]\n",
    "user_ratings = user_ratings.reset_index()"
   ]
  },
  {
   "cell_type": "code",
   "execution_count": 150,
   "id": "a17dee9b",
   "metadata": {},
   "outputs": [],
   "source": [
    "predictions = predictions.merge(user_ratings[['work_id', 'rating']], on='work_id', how='left')"
   ]
  },
  {
   "cell_type": "code",
   "execution_count": 151,
   "id": "680e8f12",
   "metadata": {},
   "outputs": [],
   "source": [
    "predictions['rating'] = predictions['rating'].fillna(0)"
   ]
  },
  {
   "cell_type": "code",
   "execution_count": 152,
   "id": "6846cf58",
   "metadata": {},
   "outputs": [],
   "source": [
    "features = predictions[['similarity', 'rating']].values\n",
    "labels = predictions['rating'].values"
   ]
  },
  {
   "cell_type": "markdown",
   "id": "e736919e",
   "metadata": {},
   "source": [
    "#### <em><span style=\"color:steelblue\">Using linear regression</span></em>"
   ]
  },
  {
   "cell_type": "code",
   "execution_count": 153,
   "id": "c181cfba",
   "metadata": {},
   "outputs": [
    {
     "data": {
      "text/html": [
       "<style>#sk-container-id-1 {\n",
       "  /* Definition of color scheme common for light and dark mode */\n",
       "  --sklearn-color-text: black;\n",
       "  --sklearn-color-line: gray;\n",
       "  /* Definition of color scheme for unfitted estimators */\n",
       "  --sklearn-color-unfitted-level-0: #fff5e6;\n",
       "  --sklearn-color-unfitted-level-1: #f6e4d2;\n",
       "  --sklearn-color-unfitted-level-2: #ffe0b3;\n",
       "  --sklearn-color-unfitted-level-3: chocolate;\n",
       "  /* Definition of color scheme for fitted estimators */\n",
       "  --sklearn-color-fitted-level-0: #f0f8ff;\n",
       "  --sklearn-color-fitted-level-1: #d4ebff;\n",
       "  --sklearn-color-fitted-level-2: #b3dbfd;\n",
       "  --sklearn-color-fitted-level-3: cornflowerblue;\n",
       "\n",
       "  /* Specific color for light theme */\n",
       "  --sklearn-color-text-on-default-background: var(--sg-text-color, var(--theme-code-foreground, var(--jp-content-font-color1, black)));\n",
       "  --sklearn-color-background: var(--sg-background-color, var(--theme-background, var(--jp-layout-color0, white)));\n",
       "  --sklearn-color-border-box: var(--sg-text-color, var(--theme-code-foreground, var(--jp-content-font-color1, black)));\n",
       "  --sklearn-color-icon: #696969;\n",
       "\n",
       "  @media (prefers-color-scheme: dark) {\n",
       "    /* Redefinition of color scheme for dark theme */\n",
       "    --sklearn-color-text-on-default-background: var(--sg-text-color, var(--theme-code-foreground, var(--jp-content-font-color1, white)));\n",
       "    --sklearn-color-background: var(--sg-background-color, var(--theme-background, var(--jp-layout-color0, #111)));\n",
       "    --sklearn-color-border-box: var(--sg-text-color, var(--theme-code-foreground, var(--jp-content-font-color1, white)));\n",
       "    --sklearn-color-icon: #878787;\n",
       "  }\n",
       "}\n",
       "\n",
       "#sk-container-id-1 {\n",
       "  color: var(--sklearn-color-text);\n",
       "}\n",
       "\n",
       "#sk-container-id-1 pre {\n",
       "  padding: 0;\n",
       "}\n",
       "\n",
       "#sk-container-id-1 input.sk-hidden--visually {\n",
       "  border: 0;\n",
       "  clip: rect(1px 1px 1px 1px);\n",
       "  clip: rect(1px, 1px, 1px, 1px);\n",
       "  height: 1px;\n",
       "  margin: -1px;\n",
       "  overflow: hidden;\n",
       "  padding: 0;\n",
       "  position: absolute;\n",
       "  width: 1px;\n",
       "}\n",
       "\n",
       "#sk-container-id-1 div.sk-dashed-wrapped {\n",
       "  border: 1px dashed var(--sklearn-color-line);\n",
       "  margin: 0 0.4em 0.5em 0.4em;\n",
       "  box-sizing: border-box;\n",
       "  padding-bottom: 0.4em;\n",
       "  background-color: var(--sklearn-color-background);\n",
       "}\n",
       "\n",
       "#sk-container-id-1 div.sk-container {\n",
       "  /* jupyter's `normalize.less` sets `[hidden] { display: none; }`\n",
       "     but bootstrap.min.css set `[hidden] { display: none !important; }`\n",
       "     so we also need the `!important` here to be able to override the\n",
       "     default hidden behavior on the sphinx rendered scikit-learn.org.\n",
       "     See: https://github.com/scikit-learn/scikit-learn/issues/21755 */\n",
       "  display: inline-block !important;\n",
       "  position: relative;\n",
       "}\n",
       "\n",
       "#sk-container-id-1 div.sk-text-repr-fallback {\n",
       "  display: none;\n",
       "}\n",
       "\n",
       "div.sk-parallel-item,\n",
       "div.sk-serial,\n",
       "div.sk-item {\n",
       "  /* draw centered vertical line to link estimators */\n",
       "  background-image: linear-gradient(var(--sklearn-color-text-on-default-background), var(--sklearn-color-text-on-default-background));\n",
       "  background-size: 2px 100%;\n",
       "  background-repeat: no-repeat;\n",
       "  background-position: center center;\n",
       "}\n",
       "\n",
       "/* Parallel-specific style estimator block */\n",
       "\n",
       "#sk-container-id-1 div.sk-parallel-item::after {\n",
       "  content: \"\";\n",
       "  width: 100%;\n",
       "  border-bottom: 2px solid var(--sklearn-color-text-on-default-background);\n",
       "  flex-grow: 1;\n",
       "}\n",
       "\n",
       "#sk-container-id-1 div.sk-parallel {\n",
       "  display: flex;\n",
       "  align-items: stretch;\n",
       "  justify-content: center;\n",
       "  background-color: var(--sklearn-color-background);\n",
       "  position: relative;\n",
       "}\n",
       "\n",
       "#sk-container-id-1 div.sk-parallel-item {\n",
       "  display: flex;\n",
       "  flex-direction: column;\n",
       "}\n",
       "\n",
       "#sk-container-id-1 div.sk-parallel-item:first-child::after {\n",
       "  align-self: flex-end;\n",
       "  width: 50%;\n",
       "}\n",
       "\n",
       "#sk-container-id-1 div.sk-parallel-item:last-child::after {\n",
       "  align-self: flex-start;\n",
       "  width: 50%;\n",
       "}\n",
       "\n",
       "#sk-container-id-1 div.sk-parallel-item:only-child::after {\n",
       "  width: 0;\n",
       "}\n",
       "\n",
       "/* Serial-specific style estimator block */\n",
       "\n",
       "#sk-container-id-1 div.sk-serial {\n",
       "  display: flex;\n",
       "  flex-direction: column;\n",
       "  align-items: center;\n",
       "  background-color: var(--sklearn-color-background);\n",
       "  padding-right: 1em;\n",
       "  padding-left: 1em;\n",
       "}\n",
       "\n",
       "\n",
       "/* Toggleable style: style used for estimator/Pipeline/ColumnTransformer box that is\n",
       "clickable and can be expanded/collapsed.\n",
       "- Pipeline and ColumnTransformer use this feature and define the default style\n",
       "- Estimators will overwrite some part of the style using the `sk-estimator` class\n",
       "*/\n",
       "\n",
       "/* Pipeline and ColumnTransformer style (default) */\n",
       "\n",
       "#sk-container-id-1 div.sk-toggleable {\n",
       "  /* Default theme specific background. It is overwritten whether we have a\n",
       "  specific estimator or a Pipeline/ColumnTransformer */\n",
       "  background-color: var(--sklearn-color-background);\n",
       "}\n",
       "\n",
       "/* Toggleable label */\n",
       "#sk-container-id-1 label.sk-toggleable__label {\n",
       "  cursor: pointer;\n",
       "  display: block;\n",
       "  width: 100%;\n",
       "  margin-bottom: 0;\n",
       "  padding: 0.5em;\n",
       "  box-sizing: border-box;\n",
       "  text-align: center;\n",
       "}\n",
       "\n",
       "#sk-container-id-1 label.sk-toggleable__label-arrow:before {\n",
       "  /* Arrow on the left of the label */\n",
       "  content: \"▸\";\n",
       "  float: left;\n",
       "  margin-right: 0.25em;\n",
       "  color: var(--sklearn-color-icon);\n",
       "}\n",
       "\n",
       "#sk-container-id-1 label.sk-toggleable__label-arrow:hover:before {\n",
       "  color: var(--sklearn-color-text);\n",
       "}\n",
       "\n",
       "/* Toggleable content - dropdown */\n",
       "\n",
       "#sk-container-id-1 div.sk-toggleable__content {\n",
       "  max-height: 0;\n",
       "  max-width: 0;\n",
       "  overflow: hidden;\n",
       "  text-align: left;\n",
       "  /* unfitted */\n",
       "  background-color: var(--sklearn-color-unfitted-level-0);\n",
       "}\n",
       "\n",
       "#sk-container-id-1 div.sk-toggleable__content.fitted {\n",
       "  /* fitted */\n",
       "  background-color: var(--sklearn-color-fitted-level-0);\n",
       "}\n",
       "\n",
       "#sk-container-id-1 div.sk-toggleable__content pre {\n",
       "  margin: 0.2em;\n",
       "  border-radius: 0.25em;\n",
       "  color: var(--sklearn-color-text);\n",
       "  /* unfitted */\n",
       "  background-color: var(--sklearn-color-unfitted-level-0);\n",
       "}\n",
       "\n",
       "#sk-container-id-1 div.sk-toggleable__content.fitted pre {\n",
       "  /* unfitted */\n",
       "  background-color: var(--sklearn-color-fitted-level-0);\n",
       "}\n",
       "\n",
       "#sk-container-id-1 input.sk-toggleable__control:checked~div.sk-toggleable__content {\n",
       "  /* Expand drop-down */\n",
       "  max-height: 200px;\n",
       "  max-width: 100%;\n",
       "  overflow: auto;\n",
       "}\n",
       "\n",
       "#sk-container-id-1 input.sk-toggleable__control:checked~label.sk-toggleable__label-arrow:before {\n",
       "  content: \"▾\";\n",
       "}\n",
       "\n",
       "/* Pipeline/ColumnTransformer-specific style */\n",
       "\n",
       "#sk-container-id-1 div.sk-label input.sk-toggleable__control:checked~label.sk-toggleable__label {\n",
       "  color: var(--sklearn-color-text);\n",
       "  background-color: var(--sklearn-color-unfitted-level-2);\n",
       "}\n",
       "\n",
       "#sk-container-id-1 div.sk-label.fitted input.sk-toggleable__control:checked~label.sk-toggleable__label {\n",
       "  background-color: var(--sklearn-color-fitted-level-2);\n",
       "}\n",
       "\n",
       "/* Estimator-specific style */\n",
       "\n",
       "/* Colorize estimator box */\n",
       "#sk-container-id-1 div.sk-estimator input.sk-toggleable__control:checked~label.sk-toggleable__label {\n",
       "  /* unfitted */\n",
       "  background-color: var(--sklearn-color-unfitted-level-2);\n",
       "}\n",
       "\n",
       "#sk-container-id-1 div.sk-estimator.fitted input.sk-toggleable__control:checked~label.sk-toggleable__label {\n",
       "  /* fitted */\n",
       "  background-color: var(--sklearn-color-fitted-level-2);\n",
       "}\n",
       "\n",
       "#sk-container-id-1 div.sk-label label.sk-toggleable__label,\n",
       "#sk-container-id-1 div.sk-label label {\n",
       "  /* The background is the default theme color */\n",
       "  color: var(--sklearn-color-text-on-default-background);\n",
       "}\n",
       "\n",
       "/* On hover, darken the color of the background */\n",
       "#sk-container-id-1 div.sk-label:hover label.sk-toggleable__label {\n",
       "  color: var(--sklearn-color-text);\n",
       "  background-color: var(--sklearn-color-unfitted-level-2);\n",
       "}\n",
       "\n",
       "/* Label box, darken color on hover, fitted */\n",
       "#sk-container-id-1 div.sk-label.fitted:hover label.sk-toggleable__label.fitted {\n",
       "  color: var(--sklearn-color-text);\n",
       "  background-color: var(--sklearn-color-fitted-level-2);\n",
       "}\n",
       "\n",
       "/* Estimator label */\n",
       "\n",
       "#sk-container-id-1 div.sk-label label {\n",
       "  font-family: monospace;\n",
       "  font-weight: bold;\n",
       "  display: inline-block;\n",
       "  line-height: 1.2em;\n",
       "}\n",
       "\n",
       "#sk-container-id-1 div.sk-label-container {\n",
       "  text-align: center;\n",
       "}\n",
       "\n",
       "/* Estimator-specific */\n",
       "#sk-container-id-1 div.sk-estimator {\n",
       "  font-family: monospace;\n",
       "  border: 1px dotted var(--sklearn-color-border-box);\n",
       "  border-radius: 0.25em;\n",
       "  box-sizing: border-box;\n",
       "  margin-bottom: 0.5em;\n",
       "  /* unfitted */\n",
       "  background-color: var(--sklearn-color-unfitted-level-0);\n",
       "}\n",
       "\n",
       "#sk-container-id-1 div.sk-estimator.fitted {\n",
       "  /* fitted */\n",
       "  background-color: var(--sklearn-color-fitted-level-0);\n",
       "}\n",
       "\n",
       "/* on hover */\n",
       "#sk-container-id-1 div.sk-estimator:hover {\n",
       "  /* unfitted */\n",
       "  background-color: var(--sklearn-color-unfitted-level-2);\n",
       "}\n",
       "\n",
       "#sk-container-id-1 div.sk-estimator.fitted:hover {\n",
       "  /* fitted */\n",
       "  background-color: var(--sklearn-color-fitted-level-2);\n",
       "}\n",
       "\n",
       "/* Specification for estimator info (e.g. \"i\" and \"?\") */\n",
       "\n",
       "/* Common style for \"i\" and \"?\" */\n",
       "\n",
       ".sk-estimator-doc-link,\n",
       "a:link.sk-estimator-doc-link,\n",
       "a:visited.sk-estimator-doc-link {\n",
       "  float: right;\n",
       "  font-size: smaller;\n",
       "  line-height: 1em;\n",
       "  font-family: monospace;\n",
       "  background-color: var(--sklearn-color-background);\n",
       "  border-radius: 1em;\n",
       "  height: 1em;\n",
       "  width: 1em;\n",
       "  text-decoration: none !important;\n",
       "  margin-left: 1ex;\n",
       "  /* unfitted */\n",
       "  border: var(--sklearn-color-unfitted-level-1) 1pt solid;\n",
       "  color: var(--sklearn-color-unfitted-level-1);\n",
       "}\n",
       "\n",
       ".sk-estimator-doc-link.fitted,\n",
       "a:link.sk-estimator-doc-link.fitted,\n",
       "a:visited.sk-estimator-doc-link.fitted {\n",
       "  /* fitted */\n",
       "  border: var(--sklearn-color-fitted-level-1) 1pt solid;\n",
       "  color: var(--sklearn-color-fitted-level-1);\n",
       "}\n",
       "\n",
       "/* On hover */\n",
       "div.sk-estimator:hover .sk-estimator-doc-link:hover,\n",
       ".sk-estimator-doc-link:hover,\n",
       "div.sk-label-container:hover .sk-estimator-doc-link:hover,\n",
       ".sk-estimator-doc-link:hover {\n",
       "  /* unfitted */\n",
       "  background-color: var(--sklearn-color-unfitted-level-3);\n",
       "  color: var(--sklearn-color-background);\n",
       "  text-decoration: none;\n",
       "}\n",
       "\n",
       "div.sk-estimator.fitted:hover .sk-estimator-doc-link.fitted:hover,\n",
       ".sk-estimator-doc-link.fitted:hover,\n",
       "div.sk-label-container:hover .sk-estimator-doc-link.fitted:hover,\n",
       ".sk-estimator-doc-link.fitted:hover {\n",
       "  /* fitted */\n",
       "  background-color: var(--sklearn-color-fitted-level-3);\n",
       "  color: var(--sklearn-color-background);\n",
       "  text-decoration: none;\n",
       "}\n",
       "\n",
       "/* Span, style for the box shown on hovering the info icon */\n",
       ".sk-estimator-doc-link span {\n",
       "  display: none;\n",
       "  z-index: 9999;\n",
       "  position: relative;\n",
       "  font-weight: normal;\n",
       "  right: .2ex;\n",
       "  padding: .5ex;\n",
       "  margin: .5ex;\n",
       "  width: min-content;\n",
       "  min-width: 20ex;\n",
       "  max-width: 50ex;\n",
       "  color: var(--sklearn-color-text);\n",
       "  box-shadow: 2pt 2pt 4pt #999;\n",
       "  /* unfitted */\n",
       "  background: var(--sklearn-color-unfitted-level-0);\n",
       "  border: .5pt solid var(--sklearn-color-unfitted-level-3);\n",
       "}\n",
       "\n",
       ".sk-estimator-doc-link.fitted span {\n",
       "  /* fitted */\n",
       "  background: var(--sklearn-color-fitted-level-0);\n",
       "  border: var(--sklearn-color-fitted-level-3);\n",
       "}\n",
       "\n",
       ".sk-estimator-doc-link:hover span {\n",
       "  display: block;\n",
       "}\n",
       "\n",
       "/* \"?\"-specific style due to the `<a>` HTML tag */\n",
       "\n",
       "#sk-container-id-1 a.estimator_doc_link {\n",
       "  float: right;\n",
       "  font-size: 1rem;\n",
       "  line-height: 1em;\n",
       "  font-family: monospace;\n",
       "  background-color: var(--sklearn-color-background);\n",
       "  border-radius: 1rem;\n",
       "  height: 1rem;\n",
       "  width: 1rem;\n",
       "  text-decoration: none;\n",
       "  /* unfitted */\n",
       "  color: var(--sklearn-color-unfitted-level-1);\n",
       "  border: var(--sklearn-color-unfitted-level-1) 1pt solid;\n",
       "}\n",
       "\n",
       "#sk-container-id-1 a.estimator_doc_link.fitted {\n",
       "  /* fitted */\n",
       "  border: var(--sklearn-color-fitted-level-1) 1pt solid;\n",
       "  color: var(--sklearn-color-fitted-level-1);\n",
       "}\n",
       "\n",
       "/* On hover */\n",
       "#sk-container-id-1 a.estimator_doc_link:hover {\n",
       "  /* unfitted */\n",
       "  background-color: var(--sklearn-color-unfitted-level-3);\n",
       "  color: var(--sklearn-color-background);\n",
       "  text-decoration: none;\n",
       "}\n",
       "\n",
       "#sk-container-id-1 a.estimator_doc_link.fitted:hover {\n",
       "  /* fitted */\n",
       "  background-color: var(--sklearn-color-fitted-level-3);\n",
       "}\n",
       "</style><div id=\"sk-container-id-1\" class=\"sk-top-container\"><div class=\"sk-text-repr-fallback\"><pre>LinearRegression()</pre><b>In a Jupyter environment, please rerun this cell to show the HTML representation or trust the notebook. <br />On GitHub, the HTML representation is unable to render, please try loading this page with nbviewer.org.</b></div><div class=\"sk-container\" hidden><div class=\"sk-item\"><div class=\"sk-estimator fitted sk-toggleable\"><input class=\"sk-toggleable__control sk-hidden--visually\" id=\"sk-estimator-id-1\" type=\"checkbox\" checked><label for=\"sk-estimator-id-1\" class=\"sk-toggleable__label fitted sk-toggleable__label-arrow fitted\">&nbsp;&nbsp;LinearRegression<a class=\"sk-estimator-doc-link fitted\" rel=\"noreferrer\" target=\"_blank\" href=\"https://scikit-learn.org/1.5/modules/generated/sklearn.linear_model.LinearRegression.html\">?<span>Documentation for LinearRegression</span></a><span class=\"sk-estimator-doc-link fitted\">i<span>Fitted</span></span></label><div class=\"sk-toggleable__content fitted\"><pre>LinearRegression()</pre></div> </div></div></div></div>"
      ],
      "text/plain": [
       "LinearRegression()"
      ]
     },
     "execution_count": 153,
     "metadata": {},
     "output_type": "execute_result"
    }
   ],
   "source": [
    "lr = LinearRegression()\n",
    "lr.fit(features, labels)"
   ]
  },
  {
   "cell_type": "code",
   "execution_count": 154,
   "id": "ca78d377",
   "metadata": {},
   "outputs": [],
   "source": [
    "lr_predicted_ratings = lr.predict(features)"
   ]
  },
  {
   "cell_type": "code",
   "execution_count": 155,
   "id": "9120e531",
   "metadata": {},
   "outputs": [],
   "source": [
    "lr_rmse = np.sqrt(mean_squared_error(labels, lr_predicted_ratings))\n",
    "lr_mae = mean_absolute_error(labels, lr_predicted_ratings)\n",
    "lr_r2 = r2_score(labels, lr_predicted_ratings)"
   ]
  },
  {
   "cell_type": "markdown",
   "id": "79803f14",
   "metadata": {},
   "source": [
    "<em><span style=\"color:lightsteelblue\"> Evaluate LR model</span></em>"
   ]
  },
  {
   "cell_type": "code",
   "execution_count": 156,
   "id": "4a8f8e7d",
   "metadata": {},
   "outputs": [
    {
     "name": "stdout",
     "output_type": "stream",
     "text": [
      "RMSE: 7.69804528953124e-17\n",
      "MAE: 4.883373607433146e-18\n",
      "R²: 1.0\n"
     ]
    }
   ],
   "source": [
    "print(\"RMSE:\", lr_rmse)\n",
    "print(\"MAE:\", lr_mae)\n",
    "print(\"R²:\", lr_r2)"
   ]
  },
  {
   "cell_type": "markdown",
   "id": "1aa4822e",
   "metadata": {},
   "source": [
    "#### <em><span style=\"color:steelblue\">Using random forest regressor</span></em>"
   ]
  },
  {
   "cell_type": "code",
   "execution_count": 157,
   "id": "3bba2fc6",
   "metadata": {},
   "outputs": [
    {
     "data": {
      "text/html": [
       "<style>#sk-container-id-2 {\n",
       "  /* Definition of color scheme common for light and dark mode */\n",
       "  --sklearn-color-text: black;\n",
       "  --sklearn-color-line: gray;\n",
       "  /* Definition of color scheme for unfitted estimators */\n",
       "  --sklearn-color-unfitted-level-0: #fff5e6;\n",
       "  --sklearn-color-unfitted-level-1: #f6e4d2;\n",
       "  --sklearn-color-unfitted-level-2: #ffe0b3;\n",
       "  --sklearn-color-unfitted-level-3: chocolate;\n",
       "  /* Definition of color scheme for fitted estimators */\n",
       "  --sklearn-color-fitted-level-0: #f0f8ff;\n",
       "  --sklearn-color-fitted-level-1: #d4ebff;\n",
       "  --sklearn-color-fitted-level-2: #b3dbfd;\n",
       "  --sklearn-color-fitted-level-3: cornflowerblue;\n",
       "\n",
       "  /* Specific color for light theme */\n",
       "  --sklearn-color-text-on-default-background: var(--sg-text-color, var(--theme-code-foreground, var(--jp-content-font-color1, black)));\n",
       "  --sklearn-color-background: var(--sg-background-color, var(--theme-background, var(--jp-layout-color0, white)));\n",
       "  --sklearn-color-border-box: var(--sg-text-color, var(--theme-code-foreground, var(--jp-content-font-color1, black)));\n",
       "  --sklearn-color-icon: #696969;\n",
       "\n",
       "  @media (prefers-color-scheme: dark) {\n",
       "    /* Redefinition of color scheme for dark theme */\n",
       "    --sklearn-color-text-on-default-background: var(--sg-text-color, var(--theme-code-foreground, var(--jp-content-font-color1, white)));\n",
       "    --sklearn-color-background: var(--sg-background-color, var(--theme-background, var(--jp-layout-color0, #111)));\n",
       "    --sklearn-color-border-box: var(--sg-text-color, var(--theme-code-foreground, var(--jp-content-font-color1, white)));\n",
       "    --sklearn-color-icon: #878787;\n",
       "  }\n",
       "}\n",
       "\n",
       "#sk-container-id-2 {\n",
       "  color: var(--sklearn-color-text);\n",
       "}\n",
       "\n",
       "#sk-container-id-2 pre {\n",
       "  padding: 0;\n",
       "}\n",
       "\n",
       "#sk-container-id-2 input.sk-hidden--visually {\n",
       "  border: 0;\n",
       "  clip: rect(1px 1px 1px 1px);\n",
       "  clip: rect(1px, 1px, 1px, 1px);\n",
       "  height: 1px;\n",
       "  margin: -1px;\n",
       "  overflow: hidden;\n",
       "  padding: 0;\n",
       "  position: absolute;\n",
       "  width: 1px;\n",
       "}\n",
       "\n",
       "#sk-container-id-2 div.sk-dashed-wrapped {\n",
       "  border: 1px dashed var(--sklearn-color-line);\n",
       "  margin: 0 0.4em 0.5em 0.4em;\n",
       "  box-sizing: border-box;\n",
       "  padding-bottom: 0.4em;\n",
       "  background-color: var(--sklearn-color-background);\n",
       "}\n",
       "\n",
       "#sk-container-id-2 div.sk-container {\n",
       "  /* jupyter's `normalize.less` sets `[hidden] { display: none; }`\n",
       "     but bootstrap.min.css set `[hidden] { display: none !important; }`\n",
       "     so we also need the `!important` here to be able to override the\n",
       "     default hidden behavior on the sphinx rendered scikit-learn.org.\n",
       "     See: https://github.com/scikit-learn/scikit-learn/issues/21755 */\n",
       "  display: inline-block !important;\n",
       "  position: relative;\n",
       "}\n",
       "\n",
       "#sk-container-id-2 div.sk-text-repr-fallback {\n",
       "  display: none;\n",
       "}\n",
       "\n",
       "div.sk-parallel-item,\n",
       "div.sk-serial,\n",
       "div.sk-item {\n",
       "  /* draw centered vertical line to link estimators */\n",
       "  background-image: linear-gradient(var(--sklearn-color-text-on-default-background), var(--sklearn-color-text-on-default-background));\n",
       "  background-size: 2px 100%;\n",
       "  background-repeat: no-repeat;\n",
       "  background-position: center center;\n",
       "}\n",
       "\n",
       "/* Parallel-specific style estimator block */\n",
       "\n",
       "#sk-container-id-2 div.sk-parallel-item::after {\n",
       "  content: \"\";\n",
       "  width: 100%;\n",
       "  border-bottom: 2px solid var(--sklearn-color-text-on-default-background);\n",
       "  flex-grow: 1;\n",
       "}\n",
       "\n",
       "#sk-container-id-2 div.sk-parallel {\n",
       "  display: flex;\n",
       "  align-items: stretch;\n",
       "  justify-content: center;\n",
       "  background-color: var(--sklearn-color-background);\n",
       "  position: relative;\n",
       "}\n",
       "\n",
       "#sk-container-id-2 div.sk-parallel-item {\n",
       "  display: flex;\n",
       "  flex-direction: column;\n",
       "}\n",
       "\n",
       "#sk-container-id-2 div.sk-parallel-item:first-child::after {\n",
       "  align-self: flex-end;\n",
       "  width: 50%;\n",
       "}\n",
       "\n",
       "#sk-container-id-2 div.sk-parallel-item:last-child::after {\n",
       "  align-self: flex-start;\n",
       "  width: 50%;\n",
       "}\n",
       "\n",
       "#sk-container-id-2 div.sk-parallel-item:only-child::after {\n",
       "  width: 0;\n",
       "}\n",
       "\n",
       "/* Serial-specific style estimator block */\n",
       "\n",
       "#sk-container-id-2 div.sk-serial {\n",
       "  display: flex;\n",
       "  flex-direction: column;\n",
       "  align-items: center;\n",
       "  background-color: var(--sklearn-color-background);\n",
       "  padding-right: 1em;\n",
       "  padding-left: 1em;\n",
       "}\n",
       "\n",
       "\n",
       "/* Toggleable style: style used for estimator/Pipeline/ColumnTransformer box that is\n",
       "clickable and can be expanded/collapsed.\n",
       "- Pipeline and ColumnTransformer use this feature and define the default style\n",
       "- Estimators will overwrite some part of the style using the `sk-estimator` class\n",
       "*/\n",
       "\n",
       "/* Pipeline and ColumnTransformer style (default) */\n",
       "\n",
       "#sk-container-id-2 div.sk-toggleable {\n",
       "  /* Default theme specific background. It is overwritten whether we have a\n",
       "  specific estimator or a Pipeline/ColumnTransformer */\n",
       "  background-color: var(--sklearn-color-background);\n",
       "}\n",
       "\n",
       "/* Toggleable label */\n",
       "#sk-container-id-2 label.sk-toggleable__label {\n",
       "  cursor: pointer;\n",
       "  display: block;\n",
       "  width: 100%;\n",
       "  margin-bottom: 0;\n",
       "  padding: 0.5em;\n",
       "  box-sizing: border-box;\n",
       "  text-align: center;\n",
       "}\n",
       "\n",
       "#sk-container-id-2 label.sk-toggleable__label-arrow:before {\n",
       "  /* Arrow on the left of the label */\n",
       "  content: \"▸\";\n",
       "  float: left;\n",
       "  margin-right: 0.25em;\n",
       "  color: var(--sklearn-color-icon);\n",
       "}\n",
       "\n",
       "#sk-container-id-2 label.sk-toggleable__label-arrow:hover:before {\n",
       "  color: var(--sklearn-color-text);\n",
       "}\n",
       "\n",
       "/* Toggleable content - dropdown */\n",
       "\n",
       "#sk-container-id-2 div.sk-toggleable__content {\n",
       "  max-height: 0;\n",
       "  max-width: 0;\n",
       "  overflow: hidden;\n",
       "  text-align: left;\n",
       "  /* unfitted */\n",
       "  background-color: var(--sklearn-color-unfitted-level-0);\n",
       "}\n",
       "\n",
       "#sk-container-id-2 div.sk-toggleable__content.fitted {\n",
       "  /* fitted */\n",
       "  background-color: var(--sklearn-color-fitted-level-0);\n",
       "}\n",
       "\n",
       "#sk-container-id-2 div.sk-toggleable__content pre {\n",
       "  margin: 0.2em;\n",
       "  border-radius: 0.25em;\n",
       "  color: var(--sklearn-color-text);\n",
       "  /* unfitted */\n",
       "  background-color: var(--sklearn-color-unfitted-level-0);\n",
       "}\n",
       "\n",
       "#sk-container-id-2 div.sk-toggleable__content.fitted pre {\n",
       "  /* unfitted */\n",
       "  background-color: var(--sklearn-color-fitted-level-0);\n",
       "}\n",
       "\n",
       "#sk-container-id-2 input.sk-toggleable__control:checked~div.sk-toggleable__content {\n",
       "  /* Expand drop-down */\n",
       "  max-height: 200px;\n",
       "  max-width: 100%;\n",
       "  overflow: auto;\n",
       "}\n",
       "\n",
       "#sk-container-id-2 input.sk-toggleable__control:checked~label.sk-toggleable__label-arrow:before {\n",
       "  content: \"▾\";\n",
       "}\n",
       "\n",
       "/* Pipeline/ColumnTransformer-specific style */\n",
       "\n",
       "#sk-container-id-2 div.sk-label input.sk-toggleable__control:checked~label.sk-toggleable__label {\n",
       "  color: var(--sklearn-color-text);\n",
       "  background-color: var(--sklearn-color-unfitted-level-2);\n",
       "}\n",
       "\n",
       "#sk-container-id-2 div.sk-label.fitted input.sk-toggleable__control:checked~label.sk-toggleable__label {\n",
       "  background-color: var(--sklearn-color-fitted-level-2);\n",
       "}\n",
       "\n",
       "/* Estimator-specific style */\n",
       "\n",
       "/* Colorize estimator box */\n",
       "#sk-container-id-2 div.sk-estimator input.sk-toggleable__control:checked~label.sk-toggleable__label {\n",
       "  /* unfitted */\n",
       "  background-color: var(--sklearn-color-unfitted-level-2);\n",
       "}\n",
       "\n",
       "#sk-container-id-2 div.sk-estimator.fitted input.sk-toggleable__control:checked~label.sk-toggleable__label {\n",
       "  /* fitted */\n",
       "  background-color: var(--sklearn-color-fitted-level-2);\n",
       "}\n",
       "\n",
       "#sk-container-id-2 div.sk-label label.sk-toggleable__label,\n",
       "#sk-container-id-2 div.sk-label label {\n",
       "  /* The background is the default theme color */\n",
       "  color: var(--sklearn-color-text-on-default-background);\n",
       "}\n",
       "\n",
       "/* On hover, darken the color of the background */\n",
       "#sk-container-id-2 div.sk-label:hover label.sk-toggleable__label {\n",
       "  color: var(--sklearn-color-text);\n",
       "  background-color: var(--sklearn-color-unfitted-level-2);\n",
       "}\n",
       "\n",
       "/* Label box, darken color on hover, fitted */\n",
       "#sk-container-id-2 div.sk-label.fitted:hover label.sk-toggleable__label.fitted {\n",
       "  color: var(--sklearn-color-text);\n",
       "  background-color: var(--sklearn-color-fitted-level-2);\n",
       "}\n",
       "\n",
       "/* Estimator label */\n",
       "\n",
       "#sk-container-id-2 div.sk-label label {\n",
       "  font-family: monospace;\n",
       "  font-weight: bold;\n",
       "  display: inline-block;\n",
       "  line-height: 1.2em;\n",
       "}\n",
       "\n",
       "#sk-container-id-2 div.sk-label-container {\n",
       "  text-align: center;\n",
       "}\n",
       "\n",
       "/* Estimator-specific */\n",
       "#sk-container-id-2 div.sk-estimator {\n",
       "  font-family: monospace;\n",
       "  border: 1px dotted var(--sklearn-color-border-box);\n",
       "  border-radius: 0.25em;\n",
       "  box-sizing: border-box;\n",
       "  margin-bottom: 0.5em;\n",
       "  /* unfitted */\n",
       "  background-color: var(--sklearn-color-unfitted-level-0);\n",
       "}\n",
       "\n",
       "#sk-container-id-2 div.sk-estimator.fitted {\n",
       "  /* fitted */\n",
       "  background-color: var(--sklearn-color-fitted-level-0);\n",
       "}\n",
       "\n",
       "/* on hover */\n",
       "#sk-container-id-2 div.sk-estimator:hover {\n",
       "  /* unfitted */\n",
       "  background-color: var(--sklearn-color-unfitted-level-2);\n",
       "}\n",
       "\n",
       "#sk-container-id-2 div.sk-estimator.fitted:hover {\n",
       "  /* fitted */\n",
       "  background-color: var(--sklearn-color-fitted-level-2);\n",
       "}\n",
       "\n",
       "/* Specification for estimator info (e.g. \"i\" and \"?\") */\n",
       "\n",
       "/* Common style for \"i\" and \"?\" */\n",
       "\n",
       ".sk-estimator-doc-link,\n",
       "a:link.sk-estimator-doc-link,\n",
       "a:visited.sk-estimator-doc-link {\n",
       "  float: right;\n",
       "  font-size: smaller;\n",
       "  line-height: 1em;\n",
       "  font-family: monospace;\n",
       "  background-color: var(--sklearn-color-background);\n",
       "  border-radius: 1em;\n",
       "  height: 1em;\n",
       "  width: 1em;\n",
       "  text-decoration: none !important;\n",
       "  margin-left: 1ex;\n",
       "  /* unfitted */\n",
       "  border: var(--sklearn-color-unfitted-level-1) 1pt solid;\n",
       "  color: var(--sklearn-color-unfitted-level-1);\n",
       "}\n",
       "\n",
       ".sk-estimator-doc-link.fitted,\n",
       "a:link.sk-estimator-doc-link.fitted,\n",
       "a:visited.sk-estimator-doc-link.fitted {\n",
       "  /* fitted */\n",
       "  border: var(--sklearn-color-fitted-level-1) 1pt solid;\n",
       "  color: var(--sklearn-color-fitted-level-1);\n",
       "}\n",
       "\n",
       "/* On hover */\n",
       "div.sk-estimator:hover .sk-estimator-doc-link:hover,\n",
       ".sk-estimator-doc-link:hover,\n",
       "div.sk-label-container:hover .sk-estimator-doc-link:hover,\n",
       ".sk-estimator-doc-link:hover {\n",
       "  /* unfitted */\n",
       "  background-color: var(--sklearn-color-unfitted-level-3);\n",
       "  color: var(--sklearn-color-background);\n",
       "  text-decoration: none;\n",
       "}\n",
       "\n",
       "div.sk-estimator.fitted:hover .sk-estimator-doc-link.fitted:hover,\n",
       ".sk-estimator-doc-link.fitted:hover,\n",
       "div.sk-label-container:hover .sk-estimator-doc-link.fitted:hover,\n",
       ".sk-estimator-doc-link.fitted:hover {\n",
       "  /* fitted */\n",
       "  background-color: var(--sklearn-color-fitted-level-3);\n",
       "  color: var(--sklearn-color-background);\n",
       "  text-decoration: none;\n",
       "}\n",
       "\n",
       "/* Span, style for the box shown on hovering the info icon */\n",
       ".sk-estimator-doc-link span {\n",
       "  display: none;\n",
       "  z-index: 9999;\n",
       "  position: relative;\n",
       "  font-weight: normal;\n",
       "  right: .2ex;\n",
       "  padding: .5ex;\n",
       "  margin: .5ex;\n",
       "  width: min-content;\n",
       "  min-width: 20ex;\n",
       "  max-width: 50ex;\n",
       "  color: var(--sklearn-color-text);\n",
       "  box-shadow: 2pt 2pt 4pt #999;\n",
       "  /* unfitted */\n",
       "  background: var(--sklearn-color-unfitted-level-0);\n",
       "  border: .5pt solid var(--sklearn-color-unfitted-level-3);\n",
       "}\n",
       "\n",
       ".sk-estimator-doc-link.fitted span {\n",
       "  /* fitted */\n",
       "  background: var(--sklearn-color-fitted-level-0);\n",
       "  border: var(--sklearn-color-fitted-level-3);\n",
       "}\n",
       "\n",
       ".sk-estimator-doc-link:hover span {\n",
       "  display: block;\n",
       "}\n",
       "\n",
       "/* \"?\"-specific style due to the `<a>` HTML tag */\n",
       "\n",
       "#sk-container-id-2 a.estimator_doc_link {\n",
       "  float: right;\n",
       "  font-size: 1rem;\n",
       "  line-height: 1em;\n",
       "  font-family: monospace;\n",
       "  background-color: var(--sklearn-color-background);\n",
       "  border-radius: 1rem;\n",
       "  height: 1rem;\n",
       "  width: 1rem;\n",
       "  text-decoration: none;\n",
       "  /* unfitted */\n",
       "  color: var(--sklearn-color-unfitted-level-1);\n",
       "  border: var(--sklearn-color-unfitted-level-1) 1pt solid;\n",
       "}\n",
       "\n",
       "#sk-container-id-2 a.estimator_doc_link.fitted {\n",
       "  /* fitted */\n",
       "  border: var(--sklearn-color-fitted-level-1) 1pt solid;\n",
       "  color: var(--sklearn-color-fitted-level-1);\n",
       "}\n",
       "\n",
       "/* On hover */\n",
       "#sk-container-id-2 a.estimator_doc_link:hover {\n",
       "  /* unfitted */\n",
       "  background-color: var(--sklearn-color-unfitted-level-3);\n",
       "  color: var(--sklearn-color-background);\n",
       "  text-decoration: none;\n",
       "}\n",
       "\n",
       "#sk-container-id-2 a.estimator_doc_link.fitted:hover {\n",
       "  /* fitted */\n",
       "  background-color: var(--sklearn-color-fitted-level-3);\n",
       "}\n",
       "</style><div id=\"sk-container-id-2\" class=\"sk-top-container\"><div class=\"sk-text-repr-fallback\"><pre>RandomForestRegressor(n_estimators=50, random_state=42)</pre><b>In a Jupyter environment, please rerun this cell to show the HTML representation or trust the notebook. <br />On GitHub, the HTML representation is unable to render, please try loading this page with nbviewer.org.</b></div><div class=\"sk-container\" hidden><div class=\"sk-item\"><div class=\"sk-estimator fitted sk-toggleable\"><input class=\"sk-toggleable__control sk-hidden--visually\" id=\"sk-estimator-id-2\" type=\"checkbox\" checked><label for=\"sk-estimator-id-2\" class=\"sk-toggleable__label fitted sk-toggleable__label-arrow fitted\">&nbsp;&nbsp;RandomForestRegressor<a class=\"sk-estimator-doc-link fitted\" rel=\"noreferrer\" target=\"_blank\" href=\"https://scikit-learn.org/1.5/modules/generated/sklearn.ensemble.RandomForestRegressor.html\">?<span>Documentation for RandomForestRegressor</span></a><span class=\"sk-estimator-doc-link fitted\">i<span>Fitted</span></span></label><div class=\"sk-toggleable__content fitted\"><pre>RandomForestRegressor(n_estimators=50, random_state=42)</pre></div> </div></div></div></div>"
      ],
      "text/plain": [
       "RandomForestRegressor(n_estimators=50, random_state=42)"
      ]
     },
     "execution_count": 157,
     "metadata": {},
     "output_type": "execute_result"
    }
   ],
   "source": [
    "rf = RandomForestRegressor(max_depth=None, min_samples_leaf=1,\n",
    "                           min_samples_split=2, n_estimators=50,\n",
    "                           random_state=42)\n",
    "rf.fit(features, labels)"
   ]
  },
  {
   "cell_type": "markdown",
   "id": "07649bbd",
   "metadata": {},
   "source": [
    "<em><span style=\"color:lightsteelblue\"> GridSearchCV</span></em>"
   ]
  },
  {
   "cell_type": "code",
   "execution_count": 158,
   "id": "5b12c5d4",
   "metadata": {},
   "outputs": [],
   "source": [
    "# rf_params = {\n",
    "#     'n_estimators': [50, 100, 200], \n",
    "#     'max_depth': [None, 10, 20, 30],  \n",
    "#     'min_samples_split': [2, 5, 10], \n",
    "#     'min_samples_leaf': [1, 2, 4]\n",
    "# }"
   ]
  },
  {
   "cell_type": "code",
   "execution_count": 159,
   "id": "7e3d85bd",
   "metadata": {},
   "outputs": [],
   "source": [
    "# rf_gs = skGridSearchCV(rf, rf_params, scoring='neg_mean_squared_error')\n",
    "# rf_gs.fit(features, labels)"
   ]
  },
  {
   "cell_type": "code",
   "execution_count": 160,
   "id": "705d81cb",
   "metadata": {},
   "outputs": [],
   "source": [
    "# print(\"Best parameters:\", rf_gs.best_params_)\n",
    "# print(\"Best RMSE: \", np.sqrt(-rf_gs.best_score_))"
   ]
  },
  {
   "cell_type": "code",
   "execution_count": 161,
   "id": "d72be222",
   "metadata": {},
   "outputs": [],
   "source": [
    "rf_predicted_ratings = rf.predict(features)"
   ]
  },
  {
   "cell_type": "code",
   "execution_count": 162,
   "id": "025fa73d",
   "metadata": {},
   "outputs": [],
   "source": [
    "rf_rmse = np.sqrt(mean_squared_error(labels, rf_predicted_ratings))\n",
    "rf_mae = mean_absolute_error(labels, rf_predicted_ratings)\n",
    "rf_r2 = r2_score(labels, rf_predicted_ratings)"
   ]
  },
  {
   "cell_type": "markdown",
   "id": "47ef4030",
   "metadata": {},
   "source": [
    "<em><span style=\"color:lightsteelblue\"> Evaluate RF model</span></em>"
   ]
  },
  {
   "cell_type": "code",
   "execution_count": 163,
   "id": "08839f1f",
   "metadata": {},
   "outputs": [
    {
     "name": "stdout",
     "output_type": "stream",
     "text": [
      "RMSE: 0.03921083535593265\n",
      "MAE: 0.0011305070656691604\n",
      "R²: 0.8843038269550749\n"
     ]
    }
   ],
   "source": [
    "print(\"RMSE:\", rf_rmse)\n",
    "print(\"MAE:\", rf_mae)\n",
    "print(\"R²:\", rf_r2)"
   ]
  },
  {
   "cell_type": "markdown",
   "id": "236107fe",
   "metadata": {},
   "source": [
    "#### <em><span style=\"color:steelblue\">Model Comparison</span></em>"
   ]
  },
  {
   "cell_type": "code",
   "execution_count": 164,
   "id": "34918bd4",
   "metadata": {},
   "outputs": [],
   "source": [
    "results = pd.DataFrame({\n",
    "    'Model': ['Linear Regression', 'Linear Regression', 'Linear Regression', \n",
    "              'Random Forest', 'Random Forest', 'Random Forest'],\n",
    "    'Metric': ['RMSE', 'MAE', 'R²', 'RMSE', 'MAE', 'R²'],\n",
    "    'Score': [lr_rmse, lr_mae, lr_r2, rf_rmse, rf_mae, rf_r2]\n",
    "})"
   ]
  },
  {
   "cell_type": "code",
   "execution_count": 165,
   "id": "918805ac",
   "metadata": {},
   "outputs": [
    {
     "data": {
      "text/plain": [
       "<Figure size 1000x600 with 0 Axes>"
      ]
     },
     "execution_count": 165,
     "metadata": {},
     "output_type": "execute_result"
    },
    {
     "data": {
      "text/plain": [
       "<Figure size 1000x600 with 0 Axes>"
      ]
     },
     "metadata": {},
     "output_type": "display_data"
    }
   ],
   "source": [
    "plt.figure(figsize=(10, 6))"
   ]
  },
  {
   "cell_type": "code",
   "execution_count": 180,
   "id": "af37477f",
   "metadata": {},
   "outputs": [
    {
     "data": {
      "image/png": "[encoded data removed]",
      "text/plain": [
       "<Figure size 640x480 with 1 Axes>"
      ]
     },
     "metadata": {},
     "output_type": "display_data"
    }
   ],
   "source": [
    "sns.lineplot(data=results, x='Model', y='Score', hue='Metric', marker='o')\n",
    "plt.title('Model Performance Comparison', \n",
    "          size=14, \n",
    "          fontweight='bold', \n",
    "          color='#4c72b0', pad=10)\n",
    "plt.ylabel('Score', fontsize=12, c='#4c72b0')\n",
    "plt.xlabel('Model', fontsize=12, c='#4c72b0')\n",
    "plt.legend(title='Metric')\n",
    "plt.tight_layout()\n",
    "plt.show()"
   ]
  },
  {
   "cell_type": "markdown",
   "id": "9eb63211",
   "metadata": {},
   "source": [
    "## <span style=\"color:steelblue\"> Hybrid Recommendation System</span>"
   ]
  },
  {
   "cell_type": "markdown",
   "id": "bd414b6d",
   "metadata": {},
   "source": [
    "<em><span style=\"color:lightsteelblue\">CF Recommendation Function</span></em>"
   ]
  },
  {
   "cell_type": "code",
   "execution_count": 167,
   "id": "e6c6f8e6",
   "metadata": {},
   "outputs": [],
   "source": [
    "# def get_cf_data():\n",
    "#     conn = sqlite3.connect('bookscout.db')\n",
    "#     ratings_df = pd.read_sql_query('SELECT * FROM ratings', conn)\n",
    "#     conn.close()\n",
    "    \n",
    "#     return ratings_df"
   ]
  },
  {
   "cell_type": "code",
   "execution_count": 168,
   "id": "40b44eae",
   "metadata": {},
   "outputs": [],
   "source": [
    "# def prepare_cf_data(ratings_df):\n",
    "#     reader = Reader(rating_scale=(1, 5))\n",
    "#     data = Dataset.load_from_df(ratings_df[['user_id', 'work_id', 'rating']], reader)\n",
    "    \n",
    "#     return data"
   ]
  },
  {
   "cell_type": "code",
   "execution_count": 169,
   "id": "f10fe0ab",
   "metadata": {},
   "outputs": [],
   "source": [
    "# def load_svd():\n",
    "#     try:\n",
    "#         with open('svd.pkl', 'rb') as f:\n",
    "#             return pickle.load(f)\n",
    "#     except FileNotFoundError:\n",
    "#         return None"
   ]
  },
  {
   "cell_type": "code",
   "execution_count": 170,
   "id": "f9131331",
   "metadata": {},
   "outputs": [],
   "source": [
    "# def train_svd(data):\n",
    "#     svd = load_svd()\n",
    "#     if svd:\n",
    "#         return svd\n",
    "    \n",
    "#     trainset, testset = train_test_split(data, test_size=0.25)\n",
    "#     svd = SVD(n_factors=150, n_epochs=40, lr_all=0.011, reg_all=0.006)\n",
    "#     svd.fit(trainset)\n",
    "    \n",
    "#     with open('svd.pkl', 'wb') as f:\n",
    "#         pickle.dump(svd, f)\n",
    "\n",
    "#     return svd"
   ]
  },
  {
   "cell_type": "code",
   "execution_count": 171,
   "id": "97028775",
   "metadata": {},
   "outputs": [],
   "source": [
    "# def get_cf_recommendations(user_id):\n",
    "#     ratings_df = get_cf_data()\n",
    "#     data = prepare_cf_data(ratings_df)\n",
    "#     model = train_svd(data)\n",
    "    \n",
    "#     all_books = ratings_df['work_id'].unique()\n",
    "#     rated_books = ratings_df[(ratings_df['user_id'] == user_id) & (ratings_df['rating'] > 0)]['work_id']\n",
    "#     predictions = []\n",
    "    \n",
    "#     for book in all_books:\n",
    "#         if book not in rated_books:\n",
    "#             pred = model.predict(user_id, book)\n",
    "#             predictions.append((book, pred.est))\n",
    "    \n",
    "#     predictions.sort(key=lambda x: x[1], reverse=True)\n",
    "#     top_cf_recommendations = predictions[:5]\n",
    "#     return top_cf_recommendations"
   ]
  },
  {
   "cell_type": "markdown",
   "id": "14fe3463",
   "metadata": {},
   "source": [
    "<em><span style=\"color:lightsteelblue\">CB Recommendation Function</span></em>"
   ]
  },
  {
   "cell_type": "code",
   "execution_count": 172,
   "id": "78f421cf",
   "metadata": {},
   "outputs": [],
   "source": [
    "# def get_cb_data():\n",
    "#     conn = sqlite3.connect('bookscout.db')\n",
    "#     books_df = pd.read_sql_query('SELECT work_id, title, desc_emb, image_url FROM books', conn)\n",
    "#     conn.close()\n",
    "    \n",
    "#     return books_df"
   ]
  },
  {
   "cell_type": "code",
   "execution_count": 173,
   "id": "df1895f0",
   "metadata": {},
   "outputs": [],
   "source": [
    "# def load_embeddings(books_df):\n",
    "#     embeddings_float = []\n",
    "\n",
    "#     for embedding_bytes in books_df['desc_emb']:\n",
    "#         if embedding_bytes is not None:\n",
    "#             try:\n",
    "#                 emb = np.frombuffer(embedding_bytes, dtype=np.float32)\n",
    "#                 embeddings_float.append(emb)\n",
    "#             except Exception as e:\n",
    "#                 print(f\"Error converting bytes to array: {e}\")\n",
    "#                 embeddings_float.append(None)\n",
    "#         else:\n",
    "#             embeddings_float.append(None)\n",
    "\n",
    "#     embeddings_float = [emb for emb in embeddings_float if emb is not None]\n",
    "    \n",
    "#     if not embeddings_float:\n",
    "#         raise ValueError(\"No valid embeddings found.\")\n",
    "    \n",
    "#     return np.array(embeddings_float, dtype=np.float32)"
   ]
  },
  {
   "cell_type": "code",
   "execution_count": 174,
   "id": "c2e1c483",
   "metadata": {},
   "outputs": [],
   "source": [
    "# def get_cb_recommendations(work_id, k=10):\n",
    "#     books_df = get_cb_data()\n",
    "#     embeddings_float = load_embeddings(books_df)\n",
    "    \n",
    "#     if embeddings_float.size == 0:\n",
    "#         raise ValueError(\"No valid embeddings found.\")\n",
    "    \n",
    "#     dim = embeddings_float.shape[1]\n",
    "#     num_entries = embeddings_float.shape[0]\n",
    "#     hnsw_index = hnswlib.Index(space='cosine', dim=dim)\n",
    "#     hnsw_index.init_index(max_elements=num_entries, ef_construction=300, M=32)\n",
    "#     hnsw_index.add_items(embeddings_float, ids=np.arange(num_entries))\n",
    "#     hnsw_index.set_ef(300)\n",
    "\n",
    "#     book_index = books_df[books_df['work_id'] == work_id].index\n",
    "\n",
    "#     if book_index.size == 0:\n",
    "#         raise ValueError(\"No valid book index found.\")\n",
    "\n",
    "#     # Use book_index[0] to get the scalar index\n",
    "#     query_embedding = embeddings_float[book_index[0]].reshape(1, -1)\n",
    "\n",
    "#     labels, distances = hnsw_index.knn_query(query_embedding, k=k)\n",
    "\n",
    "#     # Check for valid labels\n",
    "#     valid_labels = [label for label in labels[0] if label < len(books_df)]\n",
    "    \n",
    "#     if not valid_labels:\n",
    "#         print(\"No valid recommendations found.\")\n",
    "#         return []\n",
    "\n",
    "#     top_cb_recommendations = books_df.iloc[valid_labels][['work_id', 'title']]\n",
    "#     top_cb_recommendations = top_cb_recommendations[top_cb_recommendations['work_id'] != work_id]\n",
    "#     top_cb_recommendations = top_cb_recommendations.drop_duplicates(subset='work_id')[['work_id', 'title']][:5]\n",
    "\n",
    "#     return top_cb_recommendations"
   ]
  },
  {
   "cell_type": "markdown",
   "id": "df46b460",
   "metadata": {},
   "source": [
    "<em><span style=\"color:lightsteelblue\">Hybrid Recommendation Function</span></em>"
   ]
  },
  {
   "cell_type": "code",
   "execution_count": 175,
   "id": "b23c7a50",
   "metadata": {},
   "outputs": [],
   "source": [
    "# def get_hy_recommendations(user_id, work_id, cf_weight=0.5, cb_weight=0.5):\n",
    "#     cf_recommendations = get_cf_recommendations(user_id)\n",
    "#     cf_df = pd.DataFrame(cf_recommendations, columns=['work_id', 'predicted_rating'])\n",
    "    \n",
    "#     cb_recommendations = get_cb_recommendations(work_id)\n",
    "#     cb_df = cb_recommendations.copy()\n",
    "#     cb_df['predicted_rating'] = 1.0\n",
    "    \n",
    "#     hy_recommendations = pd.concat([cf_df.rename(columns={'predicted_rating': 'cf_rating'}),\n",
    "#                                  cb_df.rename(columns={'predicted_rating': 'cb_rating'})],\n",
    "#                                  ignore_index=True)\n",
    "#     hy_recommendations = hy_recommendations.groupby('work_id').agg({'cf_rating': 'sum', 'cb_rating': 'sum'}).reset_index()\n",
    "#     hy_recommendations['final_rating'] = (hy_recommendations['cf_rating'] * cf_weight) + (hy_recommendations['cb_rating'] * cb_weight)\n",
    "    \n",
    "#     top_hy_recommendations = hy_recommendations.sort_values(by='final_rating', ascending=False).head(5)\n",
    "#     books_df = get_cb_data()\n",
    "#     final_recommendations = top_hy_recommendations.merge(books_df[['work_id', 'title', 'image_url']], on='work_id', how='left')\n",
    "    \n",
    "#     return final_recommendations[['work_id', 'title', 'image_url']]"
   ]
  },
  {
   "cell_type": "markdown",
   "id": "abeb7f9b",
   "metadata": {},
   "source": [
    "<em><span style=\"color:lightsteelblue\">Generate recommendations (Example)</span></em>"
   ]
  },
  {
   "cell_type": "code",
   "execution_count": 176,
   "id": "c42defc9",
   "metadata": {},
   "outputs": [],
   "source": [
    "# reset_database()\n",
    "# setup_database()\n",
    "# insert_books_from_df(goodbooks)\n",
    "# insert_users_from_df(goodbooks)\n",
    "# insert_ratings_from_df(goodbooks)"
   ]
  },
  {
   "cell_type": "code",
   "execution_count": 177,
   "id": "0909d764",
   "metadata": {},
   "outputs": [],
   "source": [
    "# user_id = 1\n",
    "# work_id = 466\n",
    "# recommendations = get_hy_recommendations(user_id, work_id)\n",
    "# print(recommendations)"
   ]
  }
 ],
 "metadata": {
  "kernelspec": {
   "display_name": "Python 3 (ipykernel)",
   "language": "python",
   "name": "python3"
  },
  "language_info": {
   "codemirror_mode": {
    "name": "ipython",
    "version": 3
   },
   "file_extension": ".py",
   "mimetype": "text/x-python",
   "name": "python",
   "nbconvert_exporter": "python",
   "pygments_lexer": "ipython3",
   "version": "3.11.10"
  },
  "widgets": {
   "application/vnd.jupyter.widget-state+json": {
    "state": {
     "005490dc9513434e9f073250d72c594a": {
      "model_module": "@jupyter-widgets/controls",
      "model_module_version": "1.5.0",
      "model_name": "FloatProgressModel",
      "state": {
       "bar_style": "success",
       "layout": "IPY_MODEL_dda25bedc2a74e1c9124fad68fb24a6f",
       "max": 1,
       "style": "IPY_MODEL_93577c8169c04bf3a406530af22ce7d9",
       "value": 1
      }
     },
     "05640bda3416456dae5438d9fae03f24": {
      "model_module": "@jupyter-widgets/controls",
      "model_module_version": "1.5.0",
      "model_name": "FloatProgressModel",
      "state": {
       "bar_style": "success",
       "layout": "IPY_MODEL_59e46c40f4f54eb280dc5f9c933d14a0",
       "max": 5,
       "style": "IPY_MODEL_283decc9e34b4b2d8a089ad3a476e9bf",
       "value": 5
      }
     },
     "06492661a7ec449d8053284310dd88cb": {
      "model_module": "@jupyter-widgets/controls",
      "model_module_version": "1.5.0",
      "model_name": "FloatProgressModel",
      "state": {
       "bar_style": "success",
       "layout": "IPY_MODEL_1b8a3f0bf42b44898fb30478020b7df2",
       "max": 1,
       "style": "IPY_MODEL_b2f1c86a6bb34e13ab00d80902db619c",
       "value": 1
      }
     },
     "0788352e415f469c87b9274ab41d5b35": {
      "model_module": "@jupyter-widgets/base",
      "model_module_version": "1.2.0",
      "model_name": "LayoutModel",
      "state": {}
     },
     "082f207525ae4a60ba8b1e0a27e8147c": {
      "model_module": "@jupyter-widgets/base",
      "model_module_version": "1.2.0",
      "model_name": "LayoutModel",
      "state": {}
     },
     "0961e2cafc054aa19dac204e5fbb0082": {
      "model_module": "@jupyter-widgets/controls",
      "model_module_version": "1.5.0",
      "model_name": "DescriptionStyleModel",
      "state": {
       "description_width": ""
      }
     },
     "0deec2a9c7bb4a9cac339295e327af8d": {
      "model_module": "@jupyter-widgets/base",
      "model_module_version": "1.2.0",
      "model_name": "LayoutModel",
      "state": {}
     },
     "0eafa48aa6a34455b3c575adcd49c215": {
      "model_module": "@jupyter-widgets/base",
      "model_module_version": "1.2.0",
      "model_name": "LayoutModel",
      "state": {}
     },
     "0f5fbaefc5ad473d800a1b5e3833706b": {
      "model_module": "@jupyter-widgets/base",
      "model_module_version": "1.2.0",
      "model_name": "LayoutModel",
      "state": {}
     },
     "110984419a154a0f8e0d059fe466c1a8": {
      "model_module": "@jupyter-widgets/controls",
      "model_module_version": "1.5.0",
      "model_name": "DescriptionStyleModel",
      "state": {
       "description_width": ""
      }
     },
     "11781b680e834c21801845a3b48a0bb5": {
      "model_module": "@jupyter-widgets/controls",
      "model_module_version": "1.5.0",
      "model_name": "FloatProgressModel",
      "state": {
       "bar_style": "success",
       "layout": "IPY_MODEL_1b6ddcb7fd0b4424a83398c3a9d2c974",
       "max": 1,
       "style": "IPY_MODEL_1f70be994b99481cb34a265eb40b8200",
       "value": 1
      }
     },
     "13991e5d4c214952bae13e310a1c4643": {
      "model_module": "@jupyter-widgets/controls",
      "model_module_version": "1.5.0",
      "model_name": "HBoxModel",
      "state": {
       "children": [
        "IPY_MODEL_75a526b486fc475d98add938981106a0",
        "IPY_MODEL_f257303c64b14c31881dbe8c0ce8d7fa",
        "IPY_MODEL_2aaac04dce2b4f33ba0790b6d67277d8"
       ],
       "layout": "IPY_MODEL_752a13dc8d824cb5a69a6b41b0e1b9a3"
      }
     },
     "153f61cba0954004ae4229d38e97acac": {
      "model_module": "@jupyter-widgets/base",
      "model_module_version": "1.2.0",
      "model_name": "LayoutModel",
      "state": {}
     },
     "17eafd79eb3c4700a495fdc0f888946a": {
      "model_module": "@jupyter-widgets/controls",
      "model_module_version": "1.5.0",
      "model_name": "HTMLModel",
      "state": {
       "layout": "IPY_MODEL_7d1e98c6887448409d350938b9d11649",
       "style": "IPY_MODEL_9968ec3e58194c36a7496a0e65fab5af",
       "value": "Summarize dataset: 100%"
      }
     },
     "18868a6b5151475ea009d71bfefc304a": {
      "model_module": "@jupyter-widgets/controls",
      "model_module_version": "1.5.0",
      "model_name": "HBoxModel",
      "state": {
       "children": [
        "IPY_MODEL_e0f965a91be04a3b998f27d2ec1f41f2",
        "IPY_MODEL_4ca414b263ca4cfeb179fe18b45241c6",
        "IPY_MODEL_a1b10e93a59f456aa0f0db943f81b312"
       ],
       "layout": "IPY_MODEL_1a54fbcb7d4641af871b3f60588b425f"
      }
     },
     "1a54fbcb7d4641af871b3f60588b425f": {
      "model_module": "@jupyter-widgets/base",
      "model_module_version": "1.2.0",
      "model_name": "LayoutModel",
      "state": {}
     },
     "1a8b4a413ca74b5c8f8ed8cc134299f1": {
      "model_module": "@jupyter-widgets/base",
      "model_module_version": "1.2.0",
      "model_name": "LayoutModel",
      "state": {}
     },
     "1b6ddcb7fd0b4424a83398c3a9d2c974": {
      "model_module": "@jupyter-widgets/base",
      "model_module_version": "1.2.0",
      "model_name": "LayoutModel",
      "state": {}
     },
     "1b8a3f0bf42b44898fb30478020b7df2": {
      "model_module": "@jupyter-widgets/base",
      "model_module_version": "1.2.0",
      "model_name": "LayoutModel",
      "state": {}
     },
     "1c9f47d954fd43f487f46d2d251d3d3a": {
      "model_module": "@jupyter-widgets/base",
      "model_module_version": "1.2.0",
      "model_name": "LayoutModel",
      "state": {}
     },
     "1cf9d76037b14dfcaf918bab3b002eb8": {
      "model_module": "@jupyter-widgets/base",
      "model_module_version": "1.2.0",
      "model_name": "LayoutModel",
      "state": {}
     },
     "1db1f21629664cebb3ccbff25aac9467": {
      "model_module": "@jupyter-widgets/base",
      "model_module_version": "1.2.0",
      "model_name": "LayoutModel",
      "state": {}
     },
     "1e4ca9b8bffb4fc289c1f06ea24e8447": {
      "model_module": "@jupyter-widgets/base",
      "model_module_version": "1.2.0",
      "model_name": "LayoutModel",
      "state": {}
     },
     "1f70be994b99481cb34a265eb40b8200": {
      "model_module": "@jupyter-widgets/controls",
      "model_module_version": "1.5.0",
      "model_name": "ProgressStyleModel",
      "state": {
       "description_width": ""
      }
     },
     "22b40e3e85de4bdb9cf82abe3ec8a205": {
      "model_module": "@jupyter-widgets/controls",
      "model_module_version": "1.5.0",
      "model_name": "HTMLModel",
      "state": {
       "layout": "IPY_MODEL_44ba0120ddc444449961e149e236ba80",
       "style": "IPY_MODEL_a7443f644b834e7798792bd3ba4f247a",
       "value": " 1/1 [00:00&lt;00:00,  9.69it/s]"
      }
     },
     "24f412e3b83248829c10f89a175407d5": {
      "model_module": "@jupyter-widgets/controls",
      "model_module_version": "1.5.0",
      "model_name": "HTMLModel",
      "state": {
       "layout": "IPY_MODEL_1e4ca9b8bffb4fc289c1f06ea24e8447",
       "style": "IPY_MODEL_2cdd241fad764cd9a28cfabfa7403f72",
       "value": " 1/1 [00:23&lt;00:00, 23.68s/it]"
      }
     },
     "26c04e509ae847949fe095626db0b07b": {
      "model_module": "@jupyter-widgets/controls",
      "model_module_version": "1.5.0",
      "model_name": "FloatProgressModel",
      "state": {
       "bar_style": "success",
       "layout": "IPY_MODEL_adc03bbebae54d22bad215ae78ab54e6",
       "max": 1,
       "style": "IPY_MODEL_f50e65404a7b41dab10117e61776f0e2",
       "value": 1
      }
     },
     "272cf785d6ef4677a3cad121a585b34d": {
      "model_module": "@jupyter-widgets/base",
      "model_module_version": "1.2.0",
      "model_name": "LayoutModel",
      "state": {}
     },
     "273d5a19cc46442d97d62ab96906de20": {
      "model_module": "@jupyter-widgets/controls",
      "model_module_version": "1.5.0",
      "model_name": "DescriptionStyleModel",
      "state": {
       "description_width": ""
      }
     },
     "283decc9e34b4b2d8a089ad3a476e9bf": {
      "model_module": "@jupyter-widgets/controls",
      "model_module_version": "1.5.0",
      "model_name": "ProgressStyleModel",
      "state": {
       "description_width": ""
      }
     },
     "2a61355c0a4f49d1b7f9927970534e48": {
      "model_module": "@jupyter-widgets/base",
      "model_module_version": "1.2.0",
      "model_name": "LayoutModel",
      "state": {}
     },
     "2aaac04dce2b4f33ba0790b6d67277d8": {
      "model_module": "@jupyter-widgets/controls",
      "model_module_version": "1.5.0",
      "model_name": "HTMLModel",
      "state": {
       "layout": "IPY_MODEL_e8acb5ae12fe4f2abe98a11e34bf1e63",
       "style": "IPY_MODEL_e893a25b593043f9bb102f1c9be5676f",
       "value": " 255/255 [01:04&lt;00:00,  2.25it/s, Completed]"
      }
     },
     "2b8d53b7b01d444887ad22206ce0fc25": {
      "model_module": "@jupyter-widgets/controls",
      "model_module_version": "1.5.0",
      "model_name": "ProgressStyleModel",
      "state": {
       "description_width": ""
      }
     },
     "2cdd241fad764cd9a28cfabfa7403f72": {
      "model_module": "@jupyter-widgets/controls",
      "model_module_version": "1.5.0",
      "model_name": "DescriptionStyleModel",
      "state": {
       "description_width": ""
      }
     },
     "2e0fa65019d94d6593f55ac264402944": {
      "model_module": "@jupyter-widgets/controls",
      "model_module_version": "1.5.0",
      "model_name": "HTMLModel",
      "state": {
       "layout": "IPY_MODEL_1db1f21629664cebb3ccbff25aac9467",
       "style": "IPY_MODEL_7a7ed6902c3740089b13fbdfbe79abe2",
       "value": " 1/1 [00:12&lt;00:00, 12.10s/it]"
      }
     },
     "2ea1b06c64d245bcb4c9d9fbb3f1b1f8": {
      "model_module": "@jupyter-widgets/base",
      "model_module_version": "1.2.0",
      "model_name": "LayoutModel",
      "state": {}
     },
     "2ef5b11be55f42149c7325f1f50aa5ae": {
      "model_module": "@jupyter-widgets/controls",
      "model_module_version": "1.5.0",
      "model_name": "HTMLModel",
      "state": {
       "layout": "IPY_MODEL_4cacc2f6553d4dcab8657ab8e382d16c",
       "style": "IPY_MODEL_3701b8aa367247de989a3ecff379e65c",
       "value": "Summarize dataset: 100%"
      }
     },
     "2fc1ee25ae0644db800613eb6e677d09": {
      "model_module": "@jupyter-widgets/controls",
      "model_module_version": "1.5.0",
      "model_name": "HBoxModel",
      "state": {
       "children": [
        "IPY_MODEL_c9e3c37c0048426385845c40e23c173f",
        "IPY_MODEL_87d7589f32264df6ac8122153cb3094d",
        "IPY_MODEL_5f161e11ba27444a98af349b56ab5f3f"
       ],
       "layout": "IPY_MODEL_2ea1b06c64d245bcb4c9d9fbb3f1b1f8"
      }
     },
     "304dbd7f030e4eb7809c5fe52f85b8e9": {
      "model_module": "@jupyter-widgets/controls",
      "model_module_version": "1.5.0",
      "model_name": "HTMLModel",
      "state": {
       "layout": "IPY_MODEL_7c6346a8d61d43d5b6656e23e29c3a9e",
       "style": "IPY_MODEL_6c0a5cfd054d45008b3f15c0b0476ab4",
       "value": "Render HTML: 100%"
      }
     },
     "3701b8aa367247de989a3ecff379e65c": {
      "model_module": "@jupyter-widgets/controls",
      "model_module_version": "1.5.0",
      "model_name": "DescriptionStyleModel",
      "state": {
       "description_width": ""
      }
     },
     "39043e0eb7be4150afd919281217520e": {
      "model_module": "@jupyter-widgets/controls",
      "model_module_version": "1.5.0",
      "model_name": "HTMLModel",
      "state": {
       "layout": "IPY_MODEL_a88bc0385f77498091bfaf4f9719c7ea",
       "style": "IPY_MODEL_3beec52c70474be2b642ba2e5c92c31b",
       "value": "Generate report structure: 100%"
      }
     },
     "39e7a66e891847a6827dbbb72ae430f7": {
      "model_module": "@jupyter-widgets/controls",
      "model_module_version": "1.5.0",
      "model_name": "HTMLModel",
      "state": {
       "layout": "IPY_MODEL_539536db27204262bdd8d287c7aa3b9b",
       "style": "IPY_MODEL_5f13798146ef43999fa17d7a1ac67664",
       "value": "Export report to file: 100%"
      }
     },
     "3af0c2dbcf3641b48b845097d70d4457": {
      "model_module": "@jupyter-widgets/base",
      "model_module_version": "1.2.0",
      "model_name": "LayoutModel",
      "state": {}
     },
     "3b092e13f16a4c2693e132963ea7af97": {
      "model_module": "@jupyter-widgets/controls",
      "model_module_version": "1.5.0",
      "model_name": "HBoxModel",
      "state": {
       "children": [
        "IPY_MODEL_439ac7539343488eb30657d330248a05",
        "IPY_MODEL_bb0c8022559b44938d038c40d324103d",
        "IPY_MODEL_3e6e904f19904f399fa9e108d12f7338"
       ],
       "layout": "IPY_MODEL_b0a1786050b14e9cb7d70ba2c0feb6ab"
      }
     },
     "3b3377c0cdb345fbbc30c844a207527c": {
      "model_module": "@jupyter-widgets/controls",
      "model_module_version": "1.5.0",
      "model_name": "HBoxModel",
      "state": {
       "children": [
        "IPY_MODEL_304dbd7f030e4eb7809c5fe52f85b8e9",
        "IPY_MODEL_58f6935061304bf19c13ead5f66367a0",
        "IPY_MODEL_2e0fa65019d94d6593f55ac264402944"
       ],
       "layout": "IPY_MODEL_0eafa48aa6a34455b3c575adcd49c215"
      }
     },
     "3beec52c70474be2b642ba2e5c92c31b": {
      "model_module": "@jupyter-widgets/controls",
      "model_module_version": "1.5.0",
      "model_name": "DescriptionStyleModel",
      "state": {
       "description_width": ""
      }
     },
     "3e6e904f19904f399fa9e108d12f7338": {
      "model_module": "@jupyter-widgets/controls",
      "model_module_version": "1.5.0",
      "model_name": "HTMLModel",
      "state": {
       "layout": "IPY_MODEL_926e216268c6487ba9df50647f65b24d",
       "style": "IPY_MODEL_6dc9d4ef25724f5e95fa1b0db2a8b8ef",
       "value": " 1/1 [00:00&lt;00:00, 12.28it/s]"
      }
     },
     "41b595939f354f15903b72683ecb3284": {
      "model_module": "@jupyter-widgets/base",
      "model_module_version": "1.2.0",
      "model_name": "LayoutModel",
      "state": {}
     },
     "439ac7539343488eb30657d330248a05": {
      "model_module": "@jupyter-widgets/controls",
      "model_module_version": "1.5.0",
      "model_name": "HTMLModel",
      "state": {
       "layout": "IPY_MODEL_082f207525ae4a60ba8b1e0a27e8147c",
       "style": "IPY_MODEL_0961e2cafc054aa19dac204e5fbb0082",
       "value": "Export report to file: 100%"
      }
     },
     "444bd2efeda84e579d2a7d6ba5d81d03": {
      "model_module": "@jupyter-widgets/base",
      "model_module_version": "1.2.0",
      "model_name": "LayoutModel",
      "state": {}
     },
     "44ba0120ddc444449961e149e236ba80": {
      "model_module": "@jupyter-widgets/base",
      "model_module_version": "1.2.0",
      "model_name": "LayoutModel",
      "state": {}
     },
     "482afcf62776484bb232fb8a85e530dd": {
      "model_module": "@jupyter-widgets/controls",
      "model_module_version": "1.5.0",
      "model_name": "ProgressStyleModel",
      "state": {
       "description_width": ""
      }
     },
     "4a2fcc666e5f4b78bcff24f5922d05fa": {
      "model_module": "@jupyter-widgets/controls",
      "model_module_version": "1.5.0",
      "model_name": "HTMLModel",
      "state": {
       "layout": "IPY_MODEL_b3af4c6ba5424d9fb905224f866efe75",
       "style": "IPY_MODEL_fa8bb35850c54aa1b5921914376f3069",
       "value": " 1/1 [00:07&lt;00:00,  7.79s/it]"
      }
     },
     "4b9ba0fb369c47f39214050ef33d1949": {
      "model_module": "@jupyter-widgets/controls",
      "model_module_version": "1.5.0",
      "model_name": "HBoxModel",
      "state": {
       "children": [
        "IPY_MODEL_39043e0eb7be4150afd919281217520e",
        "IPY_MODEL_c8be131d0037489092f3727bb04b7e7c",
        "IPY_MODEL_24f412e3b83248829c10f89a175407d5"
       ],
       "layout": "IPY_MODEL_6fb1f73437ac4a618390480dfb3b73e2"
      }
     },
     "4bd14836a7df4811a2e7082be0b06b55": {
      "model_module": "@jupyter-widgets/controls",
      "model_module_version": "1.5.0",
      "model_name": "FloatProgressModel",
      "state": {
       "bar_style": "success",
       "layout": "IPY_MODEL_5174ec45f1954d90bade3a97ed7c4069",
       "max": 1,
       "style": "IPY_MODEL_e5780bbae4e64c8397dd44f1ed94d39d",
       "value": 1
      }
     },
     "4ca414b263ca4cfeb179fe18b45241c6": {
      "model_module": "@jupyter-widgets/controls",
      "model_module_version": "1.5.0",
      "model_name": "FloatProgressModel",
      "state": {
       "bar_style": "success",
       "layout": "IPY_MODEL_3af0c2dbcf3641b48b845097d70d4457",
       "max": 5,
       "style": "IPY_MODEL_cd5f2be27d0943db87854d243eab5cf1",
       "value": 5
      }
     },
     "4cacc2f6553d4dcab8657ab8e382d16c": {
      "model_module": "@jupyter-widgets/base",
      "model_module_version": "1.2.0",
      "model_name": "LayoutModel",
      "state": {}
     },
     "4f6fc37c5ae348fdaa01e7bfb165fb2d": {
      "model_module": "@jupyter-widgets/controls",
      "model_module_version": "1.5.0",
      "model_name": "HTMLModel",
      "state": {
       "layout": "IPY_MODEL_41b595939f354f15903b72683ecb3284",
       "style": "IPY_MODEL_fe97820ec7984f72a0480b7aa5b5d875",
       "value": "Generate report structure: 100%"
      }
     },
     "4fcdb741d4724b2480f5ccb14ece2963": {
      "model_module": "@jupyter-widgets/controls",
      "model_module_version": "1.5.0",
      "model_name": "DescriptionStyleModel",
      "state": {
       "description_width": ""
      }
     },
     "5174ec45f1954d90bade3a97ed7c4069": {
      "model_module": "@jupyter-widgets/base",
      "model_module_version": "1.2.0",
      "model_name": "LayoutModel",
      "state": {}
     },
     "51a875fdd2734d47a38eb4aeec0fafe7": {
      "model_module": "@jupyter-widgets/controls",
      "model_module_version": "1.5.0",
      "model_name": "HBoxModel",
      "state": {
       "children": [
        "IPY_MODEL_b909f08c591b41b0ae3184c0e788ab6b",
        "IPY_MODEL_816f061a9e99456a9aea429600afc3f3",
        "IPY_MODEL_e957229a15994a8e8edac7057d00da83"
       ],
       "layout": "IPY_MODEL_1a8b4a413ca74b5c8f8ed8cc134299f1"
      }
     },
     "539536db27204262bdd8d287c7aa3b9b": {
      "model_module": "@jupyter-widgets/base",
      "model_module_version": "1.2.0",
      "model_name": "LayoutModel",
      "state": {}
     },
     "55532584c1cc49c68b52cb81e4af27be": {
      "model_module": "@jupyter-widgets/controls",
      "model_module_version": "1.5.0",
      "model_name": "DescriptionStyleModel",
      "state": {
       "description_width": ""
      }
     },
     "557f8e0fc7bb49c5ad3371558d5998f0": {
      "model_module": "@jupyter-widgets/controls",
      "model_module_version": "1.5.0",
      "model_name": "HBoxModel",
      "state": {
       "children": [
        "IPY_MODEL_8bf952af211c417aa1673e52e29f6558",
        "IPY_MODEL_005490dc9513434e9f073250d72c594a",
        "IPY_MODEL_aa29ea3d496d4952b27bff1f61f7a14a"
       ],
       "layout": "IPY_MODEL_bebf97bb86944c4c88ae8472258da482"
      }
     },
     "58f6935061304bf19c13ead5f66367a0": {
      "model_module": "@jupyter-widgets/controls",
      "model_module_version": "1.5.0",
      "model_name": "FloatProgressModel",
      "state": {
       "bar_style": "success",
       "layout": "IPY_MODEL_272cf785d6ef4677a3cad121a585b34d",
       "max": 1,
       "style": "IPY_MODEL_62d6a1cf83e04d81a046dfdd0f898616",
       "value": 1
      }
     },
     "59e46c40f4f54eb280dc5f9c933d14a0": {
      "model_module": "@jupyter-widgets/base",
      "model_module_version": "1.2.0",
      "model_name": "LayoutModel",
      "state": {}
     },
     "5f13798146ef43999fa17d7a1ac67664": {
      "model_module": "@jupyter-widgets/controls",
      "model_module_version": "1.5.0",
      "model_name": "DescriptionStyleModel",
      "state": {
       "description_width": ""
      }
     },
     "5f161e11ba27444a98af349b56ab5f3f": {
      "model_module": "@jupyter-widgets/controls",
      "model_module_version": "1.5.0",
      "model_name": "HTMLModel",
      "state": {
       "layout": "IPY_MODEL_e7d817fcf907474491c26f3e56c94160",
       "style": "IPY_MODEL_9a449e5d212143ed8944309483b67f26",
       "value": " 1/1 [00:14&lt;00:00, 14.16s/it]"
      }
     },
     "60969793f4eb40439532cdd9e49385d5": {
      "model_module": "@jupyter-widgets/controls",
      "model_module_version": "1.5.0",
      "model_name": "HTMLModel",
      "state": {
       "layout": "IPY_MODEL_65df72d356bb467181fd006b2145b218",
       "style": "IPY_MODEL_ade5adcb94f14b39bfe9615209afccd6",
       "value": " 1/1 [00:30&lt;00:00, 30.28s/it]"
      }
     },
     "6203be6002c9459a9621a81896d7172a": {
      "model_module": "@jupyter-widgets/controls",
      "model_module_version": "1.5.0",
      "model_name": "ProgressStyleModel",
      "state": {
       "description_width": ""
      }
     },
     "623c31296925437e8137020e352ec085": {
      "model_module": "@jupyter-widgets/controls",
      "model_module_version": "1.5.0",
      "model_name": "HBoxModel",
      "state": {
       "children": [
        "IPY_MODEL_e3a708607a094cbeba046218b64de779",
        "IPY_MODEL_06492661a7ec449d8053284310dd88cb",
        "IPY_MODEL_8c1fa9b563db4187af049a4dc8917244"
       ],
       "layout": "IPY_MODEL_1c9f47d954fd43f487f46d2d251d3d3a"
      }
     },
     "62d6a1cf83e04d81a046dfdd0f898616": {
      "model_module": "@jupyter-widgets/controls",
      "model_module_version": "1.5.0",
      "model_name": "ProgressStyleModel",
      "state": {
       "description_width": ""
      }
     },
     "64f60bbfe8954ae6a14d2f2eff031506": {
      "model_module": "@jupyter-widgets/controls",
      "model_module_version": "1.5.0",
      "model_name": "DescriptionStyleModel",
      "state": {
       "description_width": ""
      }
     },
     "65df72d356bb467181fd006b2145b218": {
      "model_module": "@jupyter-widgets/base",
      "model_module_version": "1.2.0",
      "model_name": "LayoutModel",
      "state": {}
     },
     "65e169baf089495d875f769c4a75879e": {
      "model_module": "@jupyter-widgets/base",
      "model_module_version": "1.2.0",
      "model_name": "LayoutModel",
      "state": {}
     },
     "6c0a5cfd054d45008b3f15c0b0476ab4": {
      "model_module": "@jupyter-widgets/controls",
      "model_module_version": "1.5.0",
      "model_name": "DescriptionStyleModel",
      "state": {
       "description_width": ""
      }
     },
     "6ca498c45ef24600a288e02d32b68168": {
      "model_module": "@jupyter-widgets/controls",
      "model_module_version": "1.5.0",
      "model_name": "HTMLModel",
      "state": {
       "layout": "IPY_MODEL_70ce547422e749789418b15eaba5d797",
       "style": "IPY_MODEL_93b7b30a9c16440caf117b986a7ac603",
       "value": " 225/225 [00:48&lt;00:00,  2.35it/s, Completed]"
      }
     },
     "6dc9d4ef25724f5e95fa1b0db2a8b8ef": {
      "model_module": "@jupyter-widgets/controls",
      "model_module_version": "1.5.0",
      "model_name": "DescriptionStyleModel",
      "state": {
       "description_width": ""
      }
     },
     "6fb1f73437ac4a618390480dfb3b73e2": {
      "model_module": "@jupyter-widgets/base",
      "model_module_version": "1.2.0",
      "model_name": "LayoutModel",
      "state": {}
     },
     "70ce547422e749789418b15eaba5d797": {
      "model_module": "@jupyter-widgets/base",
      "model_module_version": "1.2.0",
      "model_name": "LayoutModel",
      "state": {}
     },
     "752a13dc8d824cb5a69a6b41b0e1b9a3": {
      "model_module": "@jupyter-widgets/base",
      "model_module_version": "1.2.0",
      "model_name": "LayoutModel",
      "state": {}
     },
     "75a526b486fc475d98add938981106a0": {
      "model_module": "@jupyter-widgets/controls",
      "model_module_version": "1.5.0",
      "model_name": "HTMLModel",
      "state": {
       "layout": "IPY_MODEL_8db49ebd5bf94e559225cabefee55df0",
       "style": "IPY_MODEL_b6d127f3f3e24df8bd39eb9aad5124af",
       "value": "Summarize dataset: 100%"
      }
     },
     "7905de22945d45989dffac256624a353": {
      "model_module": "@jupyter-widgets/base",
      "model_module_version": "1.2.0",
      "model_name": "LayoutModel",
      "state": {}
     },
     "7a1819aefc6e4818802763bfa48b197a": {
      "model_module": "@jupyter-widgets/base",
      "model_module_version": "1.2.0",
      "model_name": "LayoutModel",
      "state": {}
     },
     "7a7ed6902c3740089b13fbdfbe79abe2": {
      "model_module": "@jupyter-widgets/controls",
      "model_module_version": "1.5.0",
      "model_name": "DescriptionStyleModel",
      "state": {
       "description_width": ""
      }
     },
     "7c6346a8d61d43d5b6656e23e29c3a9e": {
      "model_module": "@jupyter-widgets/base",
      "model_module_version": "1.2.0",
      "model_name": "LayoutModel",
      "state": {}
     },
     "7cdd15d5c3d9486fadaa45c2afdc13a4": {
      "model_module": "@jupyter-widgets/controls",
      "model_module_version": "1.5.0",
      "model_name": "HTMLModel",
      "state": {
       "layout": "IPY_MODEL_0deec2a9c7bb4a9cac339295e327af8d",
       "style": "IPY_MODEL_ec1496a49ec64f1aa8f5b03db3e5dba2",
       "value": " 255/255 [01:08&lt;00:00,  2.12it/s, Completed]"
      }
     },
     "7d1e98c6887448409d350938b9d11649": {
      "model_module": "@jupyter-widgets/base",
      "model_module_version": "1.2.0",
      "model_name": "LayoutModel",
      "state": {}
     },
     "7dd0017963364ea4a11442ca53663ac6": {
      "model_module": "@jupyter-widgets/controls",
      "model_module_version": "1.5.0",
      "model_name": "DescriptionStyleModel",
      "state": {
       "description_width": ""
      }
     },
     "816f061a9e99456a9aea429600afc3f3": {
      "model_module": "@jupyter-widgets/controls",
      "model_module_version": "1.5.0",
      "model_name": "FloatProgressModel",
      "state": {
       "bar_style": "success",
       "layout": "IPY_MODEL_f5f30d3c38054c5fafcd2ebf0c166ddd",
       "max": 1,
       "style": "IPY_MODEL_2b8d53b7b01d444887ad22206ce0fc25",
       "value": 1
      }
     },
     "8717fdb7fcb74da2a669f51dd5cc64bf": {
      "model_module": "@jupyter-widgets/base",
      "model_module_version": "1.2.0",
      "model_name": "LayoutModel",
      "state": {}
     },
     "87d7589f32264df6ac8122153cb3094d": {
      "model_module": "@jupyter-widgets/controls",
      "model_module_version": "1.5.0",
      "model_name": "FloatProgressModel",
      "state": {
       "bar_style": "success",
       "layout": "IPY_MODEL_8717fdb7fcb74da2a669f51dd5cc64bf",
       "max": 1,
       "style": "IPY_MODEL_e20a6c2da0ce4eb5954fac5d239fb0b9",
       "value": 1
      }
     },
     "88fcd04f69e84aa7b73babbcb50a45ed": {
      "model_module": "@jupyter-widgets/base",
      "model_module_version": "1.2.0",
      "model_name": "LayoutModel",
      "state": {}
     },
     "8b8bd5b25ac7442bbb1b3ed01417132f": {
      "model_module": "@jupyter-widgets/controls",
      "model_module_version": "1.5.0",
      "model_name": "HTMLModel",
      "state": {
       "layout": "IPY_MODEL_b2e55d0d6ad04095a7818dd409633da3",
       "style": "IPY_MODEL_273d5a19cc46442d97d62ab96906de20",
       "value": "Export report to file: 100%"
      }
     },
     "8bf952af211c417aa1673e52e29f6558": {
      "model_module": "@jupyter-widgets/controls",
      "model_module_version": "1.5.0",
      "model_name": "HTMLModel",
      "state": {
       "layout": "IPY_MODEL_0f5fbaefc5ad473d800a1b5e3833706b",
       "style": "IPY_MODEL_edc321f3a0504d619dae27b69dc6ff47",
       "value": "Export report to file: 100%"
      }
     },
     "8c1fa9b563db4187af049a4dc8917244": {
      "model_module": "@jupyter-widgets/controls",
      "model_module_version": "1.5.0",
      "model_name": "HTMLModel",
      "state": {
       "layout": "IPY_MODEL_7a1819aefc6e4818802763bfa48b197a",
       "style": "IPY_MODEL_4fcdb741d4724b2480f5ccb14ece2963",
       "value": " 1/1 [00:13&lt;00:00, 13.16s/it]"
      }
     },
     "8cc7ec4b5fe14779bcf503a8e5f08cf0": {
      "model_module": "@jupyter-widgets/controls",
      "model_module_version": "1.5.0",
      "model_name": "ProgressStyleModel",
      "state": {
       "description_width": ""
      }
     },
     "8db49ebd5bf94e559225cabefee55df0": {
      "model_module": "@jupyter-widgets/base",
      "model_module_version": "1.2.0",
      "model_name": "LayoutModel",
      "state": {}
     },
     "8f8e7010395744779a2d139228b5d89d": {
      "model_module": "@jupyter-widgets/base",
      "model_module_version": "1.2.0",
      "model_name": "LayoutModel",
      "state": {}
     },
     "9174d3d2098e4ed5b9e92491d5a27220": {
      "model_module": "@jupyter-widgets/controls",
      "model_module_version": "1.5.0",
      "model_name": "DescriptionStyleModel",
      "state": {
       "description_width": ""
      }
     },
     "926e216268c6487ba9df50647f65b24d": {
      "model_module": "@jupyter-widgets/base",
      "model_module_version": "1.2.0",
      "model_name": "LayoutModel",
      "state": {}
     },
     "93577c8169c04bf3a406530af22ce7d9": {
      "model_module": "@jupyter-widgets/controls",
      "model_module_version": "1.5.0",
      "model_name": "ProgressStyleModel",
      "state": {
       "description_width": ""
      }
     },
     "93b7b30a9c16440caf117b986a7ac603": {
      "model_module": "@jupyter-widgets/controls",
      "model_module_version": "1.5.0",
      "model_name": "DescriptionStyleModel",
      "state": {
       "description_width": ""
      }
     },
     "9968ec3e58194c36a7496a0e65fab5af": {
      "model_module": "@jupyter-widgets/controls",
      "model_module_version": "1.5.0",
      "model_name": "DescriptionStyleModel",
      "state": {
       "description_width": ""
      }
     },
     "9a449e5d212143ed8944309483b67f26": {
      "model_module": "@jupyter-widgets/controls",
      "model_module_version": "1.5.0",
      "model_name": "DescriptionStyleModel",
      "state": {
       "description_width": ""
      }
     },
     "9c1e9a4a9fec48d2914c6f8b70f91ace": {
      "model_module": "@jupyter-widgets/base",
      "model_module_version": "1.2.0",
      "model_name": "LayoutModel",
      "state": {}
     },
     "9f0c0081c6f94d2fb9a55ddfdeac59b6": {
      "model_module": "@jupyter-widgets/base",
      "model_module_version": "1.2.0",
      "model_name": "LayoutModel",
      "state": {}
     },
     "9f8051d9bc7c4faf84207ad820d474ae": {
      "model_module": "@jupyter-widgets/controls",
      "model_module_version": "1.5.0",
      "model_name": "HTMLModel",
      "state": {
       "layout": "IPY_MODEL_d82a89e3e522434ca8cd248141890c93",
       "style": "IPY_MODEL_110984419a154a0f8e0d059fe466c1a8",
       "value": " 1/1 [00:24&lt;00:00, 24.42s/it]"
      }
     },
     "9fc75ca216624ed3add66f16ef1b13df": {
      "model_module": "@jupyter-widgets/base",
      "model_module_version": "1.2.0",
      "model_name": "LayoutModel",
      "state": {}
     },
     "a130aa7b23e349c0961b9d39b66ca545": {
      "model_module": "@jupyter-widgets/base",
      "model_module_version": "1.2.0",
      "model_name": "LayoutModel",
      "state": {}
     },
     "a14df1e2c1054b0fbd6300b9ca1ecaf2": {
      "model_module": "@jupyter-widgets/base",
      "model_module_version": "1.2.0",
      "model_name": "LayoutModel",
      "state": {}
     },
     "a1b10e93a59f456aa0f0db943f81b312": {
      "model_module": "@jupyter-widgets/controls",
      "model_module_version": "1.5.0",
      "model_name": "HTMLModel",
      "state": {
       "layout": "IPY_MODEL_7905de22945d45989dffac256624a353",
       "style": "IPY_MODEL_b6ddb7225cd3405cb713ce935d4f6602",
       "value": " 225/225 [00:51&lt;00:00,  3.42it/s, Completed]"
      }
     },
     "a2e37cdffdf7426997b64dd231ed2d76": {
      "model_module": "@jupyter-widgets/controls",
      "model_module_version": "1.5.0",
      "model_name": "DescriptionStyleModel",
      "state": {
       "description_width": ""
      }
     },
     "a43620babf2b4f2195142e4e5af401be": {
      "model_module": "@jupyter-widgets/base",
      "model_module_version": "1.2.0",
      "model_name": "LayoutModel",
      "state": {}
     },
     "a7443f644b834e7798792bd3ba4f247a": {
      "model_module": "@jupyter-widgets/controls",
      "model_module_version": "1.5.0",
      "model_name": "DescriptionStyleModel",
      "state": {
       "description_width": ""
      }
     },
     "a88b8f883781426ba7a36021746debb4": {
      "model_module": "@jupyter-widgets/controls",
      "model_module_version": "1.5.0",
      "model_name": "FloatProgressModel",
      "state": {
       "bar_style": "success",
       "layout": "IPY_MODEL_153f61cba0954004ae4229d38e97acac",
       "max": 5,
       "style": "IPY_MODEL_6203be6002c9459a9621a81896d7172a",
       "value": 5
      }
     },
     "a88bc0385f77498091bfaf4f9719c7ea": {
      "model_module": "@jupyter-widgets/base",
      "model_module_version": "1.2.0",
      "model_name": "LayoutModel",
      "state": {}
     },
     "a98f7c4ab69d4de4b6b3439ad85198c4": {
      "model_module": "@jupyter-widgets/controls",
      "model_module_version": "1.5.0",
      "model_name": "HBoxModel",
      "state": {
       "children": [
        "IPY_MODEL_4f6fc37c5ae348fdaa01e7bfb165fb2d",
        "IPY_MODEL_c1327f1119934beab1a2b8943162881c",
        "IPY_MODEL_9f8051d9bc7c4faf84207ad820d474ae"
       ],
       "layout": "IPY_MODEL_444bd2efeda84e579d2a7d6ba5d81d03"
      }
     },
     "aa0792003c844a4dbe4b6e71df592936": {
      "model_module": "@jupyter-widgets/controls",
      "model_module_version": "1.5.0",
      "model_name": "DescriptionStyleModel",
      "state": {
       "description_width": ""
      }
     },
     "aa29ea3d496d4952b27bff1f61f7a14a": {
      "model_module": "@jupyter-widgets/controls",
      "model_module_version": "1.5.0",
      "model_name": "HTMLModel",
      "state": {
       "layout": "IPY_MODEL_a14df1e2c1054b0fbd6300b9ca1ecaf2",
       "style": "IPY_MODEL_55532584c1cc49c68b52cb81e4af27be",
       "value": " 1/1 [00:00&lt;00:00, 13.65it/s]"
      }
     },
     "ad48688554f04aef89ccfa4238df59b1": {
      "model_module": "@jupyter-widgets/controls",
      "model_module_version": "1.5.0",
      "model_name": "DescriptionStyleModel",
      "state": {
       "description_width": ""
      }
     },
     "adc03bbebae54d22bad215ae78ab54e6": {
      "model_module": "@jupyter-widgets/base",
      "model_module_version": "1.2.0",
      "model_name": "LayoutModel",
      "state": {}
     },
     "ade5adcb94f14b39bfe9615209afccd6": {
      "model_module": "@jupyter-widgets/controls",
      "model_module_version": "1.5.0",
      "model_name": "DescriptionStyleModel",
      "state": {
       "description_width": ""
      }
     },
     "ade8ea103ed84e758e69ab75dc450cab": {
      "model_module": "@jupyter-widgets/controls",
      "model_module_version": "1.5.0",
      "model_name": "HBoxModel",
      "state": {
       "children": [
        "IPY_MODEL_e9be54155ec44b698822381639ade0ac",
        "IPY_MODEL_b09d61ad8b254647b1dc893f2ba2c680",
        "IPY_MODEL_4a2fcc666e5f4b78bcff24f5922d05fa"
       ],
       "layout": "IPY_MODEL_a130aa7b23e349c0961b9d39b66ca545"
      }
     },
     "b09d61ad8b254647b1dc893f2ba2c680": {
      "model_module": "@jupyter-widgets/controls",
      "model_module_version": "1.5.0",
      "model_name": "FloatProgressModel",
      "state": {
       "bar_style": "success",
       "layout": "IPY_MODEL_9f0c0081c6f94d2fb9a55ddfdeac59b6",
       "max": 1,
       "style": "IPY_MODEL_482afcf62776484bb232fb8a85e530dd",
       "value": 1
      }
     },
     "b0a1786050b14e9cb7d70ba2c0feb6ab": {
      "model_module": "@jupyter-widgets/base",
      "model_module_version": "1.2.0",
      "model_name": "LayoutModel",
      "state": {}
     },
     "b2dc18405c9c4b3cb2f794e9820a3202": {
      "model_module": "@jupyter-widgets/base",
      "model_module_version": "1.2.0",
      "model_name": "LayoutModel",
      "state": {}
     },
     "b2e55d0d6ad04095a7818dd409633da3": {
      "model_module": "@jupyter-widgets/base",
      "model_module_version": "1.2.0",
      "model_name": "LayoutModel",
      "state": {}
     },
     "b2f1c86a6bb34e13ab00d80902db619c": {
      "model_module": "@jupyter-widgets/controls",
      "model_module_version": "1.5.0",
      "model_name": "ProgressStyleModel",
      "state": {
       "description_width": ""
      }
     },
     "b3af4c6ba5424d9fb905224f866efe75": {
      "model_module": "@jupyter-widgets/base",
      "model_module_version": "1.2.0",
      "model_name": "LayoutModel",
      "state": {}
     },
     "b6d127f3f3e24df8bd39eb9aad5124af": {
      "model_module": "@jupyter-widgets/controls",
      "model_module_version": "1.5.0",
      "model_name": "DescriptionStyleModel",
      "state": {
       "description_width": ""
      }
     },
     "b6ddb7225cd3405cb713ce935d4f6602": {
      "model_module": "@jupyter-widgets/controls",
      "model_module_version": "1.5.0",
      "model_name": "DescriptionStyleModel",
      "state": {
       "description_width": ""
      }
     },
     "b7718802802b4020add0815367321310": {
      "model_module": "@jupyter-widgets/controls",
      "model_module_version": "1.5.0",
      "model_name": "HTMLModel",
      "state": {
       "layout": "IPY_MODEL_88fcd04f69e84aa7b73babbcb50a45ed",
       "style": "IPY_MODEL_64f60bbfe8954ae6a14d2f2eff031506",
       "value": "Generate report structure: 100%"
      }
     },
     "b7fb070a5004410f8bb34738b5c9a0eb": {
      "model_module": "@jupyter-widgets/controls",
      "model_module_version": "1.5.0",
      "model_name": "HTMLModel",
      "state": {
       "layout": "IPY_MODEL_0788352e415f469c87b9274ab41d5b35",
       "style": "IPY_MODEL_7dd0017963364ea4a11442ca53663ac6",
       "value": " 1/1 [00:00&lt;00:00, 13.23it/s]"
      }
     },
     "b8bc9b7c5b5042c8a698c5cd49f5f037": {
      "model_module": "@jupyter-widgets/controls",
      "model_module_version": "1.5.0",
      "model_name": "HBoxModel",
      "state": {
       "children": [
        "IPY_MODEL_b7718802802b4020add0815367321310",
        "IPY_MODEL_4bd14836a7df4811a2e7082be0b06b55",
        "IPY_MODEL_60969793f4eb40439532cdd9e49385d5"
       ],
       "layout": "IPY_MODEL_b9c1475a6fd64495929822cc77d5edd0"
      }
     },
     "b909f08c591b41b0ae3184c0e788ab6b": {
      "model_module": "@jupyter-widgets/controls",
      "model_module_version": "1.5.0",
      "model_name": "HTMLModel",
      "state": {
       "layout": "IPY_MODEL_b2dc18405c9c4b3cb2f794e9820a3202",
       "style": "IPY_MODEL_9174d3d2098e4ed5b9e92491d5a27220",
       "value": "Generate report structure: 100%"
      }
     },
     "b9c1475a6fd64495929822cc77d5edd0": {
      "model_module": "@jupyter-widgets/base",
      "model_module_version": "1.2.0",
      "model_name": "LayoutModel",
      "state": {}
     },
     "bb0c8022559b44938d038c40d324103d": {
      "model_module": "@jupyter-widgets/controls",
      "model_module_version": "1.5.0",
      "model_name": "FloatProgressModel",
      "state": {
       "bar_style": "success",
       "layout": "IPY_MODEL_d5e4ca8b1f05491994c930c753049f8b",
       "max": 1,
       "style": "IPY_MODEL_d2b38be5abf3423cbe8f59d9cb2be475",
       "value": 1
      }
     },
     "bebf97bb86944c4c88ae8472258da482": {
      "model_module": "@jupyter-widgets/base",
      "model_module_version": "1.2.0",
      "model_name": "LayoutModel",
      "state": {}
     },
     "bf5172e442b24c869a765b1778bf593b": {
      "model_module": "@jupyter-widgets/controls",
      "model_module_version": "1.5.0",
      "model_name": "HBoxModel",
      "state": {
       "children": [
        "IPY_MODEL_2ef5b11be55f42149c7325f1f50aa5ae",
        "IPY_MODEL_a88b8f883781426ba7a36021746debb4",
        "IPY_MODEL_7cdd15d5c3d9486fadaa45c2afdc13a4"
       ],
       "layout": "IPY_MODEL_c02de064125044f4ad5ef96b7ca886a6"
      }
     },
     "bf6c06b51db6493fb150305990d5e3f9": {
      "model_module": "@jupyter-widgets/controls",
      "model_module_version": "1.5.0",
      "model_name": "DescriptionStyleModel",
      "state": {
       "description_width": ""
      }
     },
     "c02de064125044f4ad5ef96b7ca886a6": {
      "model_module": "@jupyter-widgets/base",
      "model_module_version": "1.2.0",
      "model_name": "LayoutModel",
      "state": {}
     },
     "c1327f1119934beab1a2b8943162881c": {
      "model_module": "@jupyter-widgets/controls",
      "model_module_version": "1.5.0",
      "model_name": "FloatProgressModel",
      "state": {
       "bar_style": "success",
       "layout": "IPY_MODEL_9c1e9a4a9fec48d2914c6f8b70f91ace",
       "max": 1,
       "style": "IPY_MODEL_e615e3c25d814cd48c71d795ec2154fd",
       "value": 1
      }
     },
     "c43c2599debf4656a8bd9f36a5c70093": {
      "model_module": "@jupyter-widgets/base",
      "model_module_version": "1.2.0",
      "model_name": "LayoutModel",
      "state": {}
     },
     "c8be131d0037489092f3727bb04b7e7c": {
      "model_module": "@jupyter-widgets/controls",
      "model_module_version": "1.5.0",
      "model_name": "FloatProgressModel",
      "state": {
       "bar_style": "success",
       "layout": "IPY_MODEL_65e169baf089495d875f769c4a75879e",
       "max": 1,
       "style": "IPY_MODEL_ea0cc1cd728a4db0b96f17eff40559cc",
       "value": 1
      }
     },
     "c9e3c37c0048426385845c40e23c173f": {
      "model_module": "@jupyter-widgets/controls",
      "model_module_version": "1.5.0",
      "model_name": "HTMLModel",
      "state": {
       "layout": "IPY_MODEL_f43340a9691c4a268280f16df4b7f51c",
       "style": "IPY_MODEL_ff2718298aea4b37a868a0e5bfd5f3ba",
       "value": "Render HTML: 100%"
      }
     },
     "cd5f2be27d0943db87854d243eab5cf1": {
      "model_module": "@jupyter-widgets/controls",
      "model_module_version": "1.5.0",
      "model_name": "ProgressStyleModel",
      "state": {
       "description_width": ""
      }
     },
     "d2b38be5abf3423cbe8f59d9cb2be475": {
      "model_module": "@jupyter-widgets/controls",
      "model_module_version": "1.5.0",
      "model_name": "ProgressStyleModel",
      "state": {
       "description_width": ""
      }
     },
     "d36c3107bd1948f2b01097cc796e86d2": {
      "model_module": "@jupyter-widgets/base",
      "model_module_version": "1.2.0",
      "model_name": "LayoutModel",
      "state": {}
     },
     "d5e4ca8b1f05491994c930c753049f8b": {
      "model_module": "@jupyter-widgets/base",
      "model_module_version": "1.2.0",
      "model_name": "LayoutModel",
      "state": {}
     },
     "d82a89e3e522434ca8cd248141890c93": {
      "model_module": "@jupyter-widgets/base",
      "model_module_version": "1.2.0",
      "model_name": "LayoutModel",
      "state": {}
     },
     "da52220cd10d4366a2602a104aa48d02": {
      "model_module": "@jupyter-widgets/controls",
      "model_module_version": "1.5.0",
      "model_name": "HBoxModel",
      "state": {
       "children": [
        "IPY_MODEL_39e7a66e891847a6827dbbb72ae430f7",
        "IPY_MODEL_26c04e509ae847949fe095626db0b07b",
        "IPY_MODEL_22b40e3e85de4bdb9cf82abe3ec8a205"
       ],
       "layout": "IPY_MODEL_c43c2599debf4656a8bd9f36a5c70093"
      }
     },
     "dda25bedc2a74e1c9124fad68fb24a6f": {
      "model_module": "@jupyter-widgets/base",
      "model_module_version": "1.2.0",
      "model_name": "LayoutModel",
      "state": {}
     },
     "dddbc5a4105644cc8b4797f3d3a5dc18": {
      "model_module": "@jupyter-widgets/controls",
      "model_module_version": "1.5.0",
      "model_name": "HBoxModel",
      "state": {
       "children": [
        "IPY_MODEL_8b8bd5b25ac7442bbb1b3ed01417132f",
        "IPY_MODEL_11781b680e834c21801845a3b48a0bb5",
        "IPY_MODEL_b7fb070a5004410f8bb34738b5c9a0eb"
       ],
       "layout": "IPY_MODEL_1cf9d76037b14dfcaf918bab3b002eb8"
      }
     },
     "e0f965a91be04a3b998f27d2ec1f41f2": {
      "model_module": "@jupyter-widgets/controls",
      "model_module_version": "1.5.0",
      "model_name": "HTMLModel",
      "state": {
       "layout": "IPY_MODEL_8f8e7010395744779a2d139228b5d89d",
       "style": "IPY_MODEL_ad48688554f04aef89ccfa4238df59b1",
       "value": "Summarize dataset: 100%"
      }
     },
     "e20a6c2da0ce4eb5954fac5d239fb0b9": {
      "model_module": "@jupyter-widgets/controls",
      "model_module_version": "1.5.0",
      "model_name": "ProgressStyleModel",
      "state": {
       "description_width": ""
      }
     },
     "e3a708607a094cbeba046218b64de779": {
      "model_module": "@jupyter-widgets/controls",
      "model_module_version": "1.5.0",
      "model_name": "HTMLModel",
      "state": {
       "layout": "IPY_MODEL_9fc75ca216624ed3add66f16ef1b13df",
       "style": "IPY_MODEL_a2e37cdffdf7426997b64dd231ed2d76",
       "value": "Render HTML: 100%"
      }
     },
     "e5780bbae4e64c8397dd44f1ed94d39d": {
      "model_module": "@jupyter-widgets/controls",
      "model_module_version": "1.5.0",
      "model_name": "ProgressStyleModel",
      "state": {
       "description_width": ""
      }
     },
     "e5edee98675546a6b953e68ce0c7c8b0": {
      "model_module": "@jupyter-widgets/base",
      "model_module_version": "1.2.0",
      "model_name": "LayoutModel",
      "state": {}
     },
     "e615e3c25d814cd48c71d795ec2154fd": {
      "model_module": "@jupyter-widgets/controls",
      "model_module_version": "1.5.0",
      "model_name": "ProgressStyleModel",
      "state": {
       "description_width": ""
      }
     },
     "e7d817fcf907474491c26f3e56c94160": {
      "model_module": "@jupyter-widgets/base",
      "model_module_version": "1.2.0",
      "model_name": "LayoutModel",
      "state": {}
     },
     "e893a25b593043f9bb102f1c9be5676f": {
      "model_module": "@jupyter-widgets/controls",
      "model_module_version": "1.5.0",
      "model_name": "DescriptionStyleModel",
      "state": {
       "description_width": ""
      }
     },
     "e8acb5ae12fe4f2abe98a11e34bf1e63": {
      "model_module": "@jupyter-widgets/base",
      "model_module_version": "1.2.0",
      "model_name": "LayoutModel",
      "state": {}
     },
     "e957229a15994a8e8edac7057d00da83": {
      "model_module": "@jupyter-widgets/controls",
      "model_module_version": "1.5.0",
      "model_name": "HTMLModel",
      "state": {
       "layout": "IPY_MODEL_a43620babf2b4f2195142e4e5af401be",
       "style": "IPY_MODEL_bf6c06b51db6493fb150305990d5e3f9",
       "value": " 1/1 [00:19&lt;00:00, 19.28s/it]"
      }
     },
     "e9be54155ec44b698822381639ade0ac": {
      "model_module": "@jupyter-widgets/controls",
      "model_module_version": "1.5.0",
      "model_name": "HTMLModel",
      "state": {
       "layout": "IPY_MODEL_d36c3107bd1948f2b01097cc796e86d2",
       "style": "IPY_MODEL_aa0792003c844a4dbe4b6e71df592936",
       "value": "Render HTML: 100%"
      }
     },
     "ea0cc1cd728a4db0b96f17eff40559cc": {
      "model_module": "@jupyter-widgets/controls",
      "model_module_version": "1.5.0",
      "model_name": "ProgressStyleModel",
      "state": {
       "description_width": ""
      }
     },
     "ec1496a49ec64f1aa8f5b03db3e5dba2": {
      "model_module": "@jupyter-widgets/controls",
      "model_module_version": "1.5.0",
      "model_name": "DescriptionStyleModel",
      "state": {
       "description_width": ""
      }
     },
     "edc321f3a0504d619dae27b69dc6ff47": {
      "model_module": "@jupyter-widgets/controls",
      "model_module_version": "1.5.0",
      "model_name": "DescriptionStyleModel",
      "state": {
       "description_width": ""
      }
     },
     "ef21718c30e0457c8a9f89d93df40664": {
      "model_module": "@jupyter-widgets/controls",
      "model_module_version": "1.5.0",
      "model_name": "HBoxModel",
      "state": {
       "children": [
        "IPY_MODEL_17eafd79eb3c4700a495fdc0f888946a",
        "IPY_MODEL_05640bda3416456dae5438d9fae03f24",
        "IPY_MODEL_6ca498c45ef24600a288e02d32b68168"
       ],
       "layout": "IPY_MODEL_2a61355c0a4f49d1b7f9927970534e48"
      }
     },
     "f257303c64b14c31881dbe8c0ce8d7fa": {
      "model_module": "@jupyter-widgets/controls",
      "model_module_version": "1.5.0",
      "model_name": "FloatProgressModel",
      "state": {
       "bar_style": "success",
       "layout": "IPY_MODEL_e5edee98675546a6b953e68ce0c7c8b0",
       "max": 5,
       "style": "IPY_MODEL_8cc7ec4b5fe14779bcf503a8e5f08cf0",
       "value": 5
      }
     },
     "f43340a9691c4a268280f16df4b7f51c": {
      "model_module": "@jupyter-widgets/base",
      "model_module_version": "1.2.0",
      "model_name": "LayoutModel",
      "state": {}
     },
     "f50e65404a7b41dab10117e61776f0e2": {
      "model_module": "@jupyter-widgets/controls",
      "model_module_version": "1.5.0",
      "model_name": "ProgressStyleModel",
      "state": {
       "description_width": ""
      }
     },
     "f5f30d3c38054c5fafcd2ebf0c166ddd": {
      "model_module": "@jupyter-widgets/base",
      "model_module_version": "1.2.0",
      "model_name": "LayoutModel",
      "state": {}
     },
     "fa8bb35850c54aa1b5921914376f3069": {
      "model_module": "@jupyter-widgets/controls",
      "model_module_version": "1.5.0",
      "model_name": "DescriptionStyleModel",
      "state": {
       "description_width": ""
      }
     },
     "fe97820ec7984f72a0480b7aa5b5d875": {
      "model_module": "@jupyter-widgets/controls",
      "model_module_version": "1.5.0",
      "model_name": "DescriptionStyleModel",
      "state": {
       "description_width": ""
      }
     },
     "ff2718298aea4b37a868a0e5bfd5f3ba": {
      "model_module": "@jupyter-widgets/controls",
      "model_module_version": "1.5.0",
      "model_name": "DescriptionStyleModel",
      "state": {
       "description_width": ""
      }
     }
    },
    "version_major": 2,
    "version_minor": 0
   }
  }
 },
 "nbformat": 4,
 "nbformat_minor": 5
}
