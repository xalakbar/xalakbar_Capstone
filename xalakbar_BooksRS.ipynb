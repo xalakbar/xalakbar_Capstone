{
 "cells": [
  {
   "cell_type": "markdown",
   "id": "d0da1800",
   "metadata": {},
   "source": [
    "<h1><span style=\"color:steelblue\"> Book Recommendation System </span></h1>"
   ]
  },
  {
   "cell_type": "code",
   "execution_count": 1,
   "id": "0617c1e6",
   "metadata": {
    "scrolled": true
   },
   "outputs": [],
   "source": [
    "import warnings\n",
    "import phik\n",
    "import string\n",
    "import nltk\n",
    "\n",
    "import pandas as pd\n",
    "import numpy as np\n",
    "import missingno as msno\n",
    "import seaborn as sns\n",
    "import matplotlib.pyplot as plt\n",
    "import gensim.downloader as gdl\n",
    "\n",
    "from ydata_profiling import ProfileReport\n",
    "from nltk.corpus import stopwords\n",
    "from nltk.tokenize import word_tokenize\n",
    "from gensim.models import KeyedVectors\n",
    "from scipy.sparse import csr_matrix\n",
    "\n",
    "%matplotlib inline"
   ]
  },
  {
   "cell_type": "code",
   "execution_count": 2,
   "id": "20b5c79c",
   "metadata": {
    "scrolled": true
   },
   "outputs": [],
   "source": [
    "#Displaying max columns and rows:\n",
    "pd.set_option('display.max_columns', None)\n",
    "pd.set_option('display.max_rows', None)\n",
    "\n",
    "#Suppressing FutureWarning:\n",
    "warnings.simplefilter(action='ignore', category=FutureWarning)"
   ]
  },
  {
   "cell_type": "markdown",
   "id": "ce02f3ce",
   "metadata": {},
   "source": [
    "## <span style=\"color:steelblue\"> Data Preprocessing and EDA</span>"
   ]
  },
  {
   "cell_type": "markdown",
   "id": "d4e86652",
   "metadata": {},
   "source": [
    "<em><span style=\"color:lightsteelblue\"> Load Data</span></em>"
   ]
  },
  {
   "cell_type": "code",
   "execution_count": 3,
   "id": "14156258",
   "metadata": {
    "scrolled": true
   },
   "outputs": [],
   "source": [
    "books = pd.read_csv('data/books_enriched.csv')\n",
    "ratings = pd.read_csv('data/ratings.csv')"
   ]
  },
  {
   "cell_type": "markdown",
   "id": "61e3bad3",
   "metadata": {},
   "source": [
    "<div class=\"alert alert-block alert-info\">\n",
    "    \n",
    "- This dataset contains six million ratings for ten thousand most popular (with most ratings) books.<br><br>\n",
    "- Each book may have many editions. goodreads_book_id and best_book_id generally point to the most popular edition of a given book, while goodreads work_id refers to the book in the abstract sense.<br><br>\n",
    "- Note that book_id in ratings.csv maps to work_id, not to goodreads_book_id, meaning that ratings for different editions are aggregated."
   ]
  },
  {
   "cell_type": "markdown",
   "id": "6dfd6269",
   "metadata": {},
   "source": [
    "<em><span style=\"color:lightsteelblue\"> View ratings data </span></em>"
   ]
  },
  {
   "cell_type": "code",
   "execution_count": 4,
   "id": "3571c409",
   "metadata": {
    "scrolled": true
   },
   "outputs": [
    {
     "data": {
      "text/html": [
       "<div>\n",
       "<style scoped>\n",
       "    .dataframe tbody tr th:only-of-type {\n",
       "        vertical-align: middle;\n",
       "    }\n",
       "\n",
       "    .dataframe tbody tr th {\n",
       "        vertical-align: top;\n",
       "    }\n",
       "\n",
       "    .dataframe thead th {\n",
       "        text-align: right;\n",
       "    }\n",
       "</style>\n",
       "<table border=\"1\" class=\"dataframe\">\n",
       "  <thead>\n",
       "    <tr style=\"text-align: right;\">\n",
       "      <th></th>\n",
       "      <th>user_id</th>\n",
       "      <th>book_id</th>\n",
       "      <th>rating</th>\n",
       "    </tr>\n",
       "  </thead>\n",
       "  <tbody>\n",
       "    <tr>\n",
       "      <th>0</th>\n",
       "      <td>1</td>\n",
       "      <td>258</td>\n",
       "      <td>5</td>\n",
       "    </tr>\n",
       "    <tr>\n",
       "      <th>1</th>\n",
       "      <td>2</td>\n",
       "      <td>4081</td>\n",
       "      <td>4</td>\n",
       "    </tr>\n",
       "    <tr>\n",
       "      <th>2</th>\n",
       "      <td>2</td>\n",
       "      <td>260</td>\n",
       "      <td>5</td>\n",
       "    </tr>\n",
       "    <tr>\n",
       "      <th>3</th>\n",
       "      <td>2</td>\n",
       "      <td>9296</td>\n",
       "      <td>5</td>\n",
       "    </tr>\n",
       "    <tr>\n",
       "      <th>4</th>\n",
       "      <td>2</td>\n",
       "      <td>2318</td>\n",
       "      <td>3</td>\n",
       "    </tr>\n",
       "  </tbody>\n",
       "</table>\n",
       "</div>"
      ],
      "text/plain": [
       "   user_id  book_id  rating\n",
       "0        1      258       5\n",
       "1        2     4081       4\n",
       "2        2      260       5\n",
       "3        2     9296       5\n",
       "4        2     2318       3"
      ]
     },
     "execution_count": 4,
     "metadata": {},
     "output_type": "execute_result"
    }
   ],
   "source": [
    "ratings.head()"
   ]
  },
  {
   "cell_type": "code",
   "execution_count": 5,
   "id": "928d751a",
   "metadata": {
    "scrolled": true
   },
   "outputs": [
    {
     "name": "stdout",
     "output_type": "stream",
     "text": [
      "There are 5,976,479 total ratings.\n"
     ]
    }
   ],
   "source": [
    "num_ratings = ratings['rating'].count()\n",
    "\n",
    "print(f'There are {num_ratings:,} total ratings.')"
   ]
  },
  {
   "cell_type": "code",
   "execution_count": 6,
   "id": "6604fa29",
   "metadata": {},
   "outputs": [
    {
     "name": "stdout",
     "output_type": "stream",
     "text": [
      "The ratings range from 1 to 5.\n"
     ]
    }
   ],
   "source": [
    "min_rating = ratings['rating'].min()\n",
    "max_rating = ratings['rating'].max()\n",
    "\n",
    "print(f'The ratings range from {min_rating} to {max_rating}.')"
   ]
  },
  {
   "cell_type": "code",
   "execution_count": 7,
   "id": "19324bee",
   "metadata": {},
   "outputs": [
    {
     "name": "stdout",
     "output_type": "stream",
     "text": [
      "There are 53,424 users in total.\n"
     ]
    }
   ],
   "source": [
    "num_users = ratings['user_id'].nunique()\n",
    "\n",
    "print(f'There are {num_users:,} users in total.')"
   ]
  },
  {
   "cell_type": "code",
   "execution_count": 8,
   "id": "9936eb42",
   "metadata": {},
   "outputs": [
    {
     "data": {
      "image/png": "[encoded data removed]",
      "text/plain": [
       "<Figure size 640x480 with 1 Axes>"
      ]
     },
     "metadata": {},
     "output_type": "display_data"
    }
   ],
   "source": [
    "sns.set_theme()\n",
    "sns.histplot(x=ratings['rating'], bins=10)\n",
    "plt.xlabel('Rating', fontsize=12, c='#4c72b0')\n",
    "plt.ylabel('Count (in millions)', fontsize=12, c='#4c72b0')\n",
    "plt.title('Ratings Distribution', size=14,\\\n",
    "          pad=10, fontweight='bold', color='#4c72b0')\n",
    "\n",
    "plt.show()"
   ]
  },
  {
   "cell_type": "code",
   "execution_count": 9,
   "id": "6fb96f7a",
   "metadata": {},
   "outputs": [
    {
     "data": {
      "image/png": "[encoded data removed]",
      "text/plain": [
       "<Figure size 640x480 with 1 Axes>"
      ]
     },
     "metadata": {},
     "output_type": "display_data"
    }
   ],
   "source": [
    "sns.boxplot(x=ratings['rating'], orient='h')\n",
    "plt.xlabel('Rating', fontsize=12, c='#4c72b0')\n",
    "plt.title('Boxplot of Book Ratings', size=14, pad=10, fontweight='bold', color='#4c72b0')\n",
    "\n",
    "plt.show()"
   ]
  },
  {
   "cell_type": "markdown",
   "id": "8b2e180d",
   "metadata": {},
   "source": [
    "<em><span style=\"color:lightsteelblue\"> View books data</span></em>"
   ]
  },
  {
   "cell_type": "code",
   "execution_count": 10,
   "id": "c3dce3dd",
   "metadata": {
    "scrolled": false
   },
   "outputs": [
    {
     "data": {
      "text/html": [
       "<div>\n",
       "<style scoped>\n",
       "    .dataframe tbody tr th:only-of-type {\n",
       "        vertical-align: middle;\n",
       "    }\n",
       "\n",
       "    .dataframe tbody tr th {\n",
       "        vertical-align: top;\n",
       "    }\n",
       "\n",
       "    .dataframe thead th {\n",
       "        text-align: right;\n",
       "    }\n",
       "</style>\n",
       "<table border=\"1\" class=\"dataframe\">\n",
       "  <thead>\n",
       "    <tr style=\"text-align: right;\">\n",
       "      <th></th>\n",
       "      <th>Unnamed: 0</th>\n",
       "      <th>index</th>\n",
       "      <th>authors</th>\n",
       "      <th>average_rating</th>\n",
       "      <th>best_book_id</th>\n",
       "      <th>book_id</th>\n",
       "      <th>books_count</th>\n",
       "      <th>description</th>\n",
       "      <th>genres</th>\n",
       "      <th>goodreads_book_id</th>\n",
       "      <th>image_url</th>\n",
       "      <th>isbn</th>\n",
       "      <th>isbn13</th>\n",
       "      <th>language_code</th>\n",
       "      <th>original_publication_year</th>\n",
       "      <th>original_title</th>\n",
       "      <th>pages</th>\n",
       "      <th>publishDate</th>\n",
       "      <th>ratings_1</th>\n",
       "      <th>ratings_2</th>\n",
       "      <th>ratings_3</th>\n",
       "      <th>ratings_4</th>\n",
       "      <th>ratings_5</th>\n",
       "      <th>ratings_count</th>\n",
       "      <th>small_image_url</th>\n",
       "      <th>title</th>\n",
       "      <th>work_id</th>\n",
       "      <th>work_ratings_count</th>\n",
       "      <th>work_text_reviews_count</th>\n",
       "      <th>authors_2</th>\n",
       "    </tr>\n",
       "  </thead>\n",
       "  <tbody>\n",
       "    <tr>\n",
       "      <th>0</th>\n",
       "      <td>0</td>\n",
       "      <td>0</td>\n",
       "      <td>['Suzanne Collins']</td>\n",
       "      <td>4.34</td>\n",
       "      <td>2767052</td>\n",
       "      <td>1</td>\n",
       "      <td>272</td>\n",
       "      <td>WINNING MEANS FAME AND FORTUNE.LOSING MEANS CE...</td>\n",
       "      <td>['young-adult', 'fiction', 'fantasy', 'science...</td>\n",
       "      <td>2767052</td>\n",
       "      <td>https://images.gr-assets.com/books/1447303603m...</td>\n",
       "      <td>439023483</td>\n",
       "      <td>9.780439e+12</td>\n",
       "      <td>eng</td>\n",
       "      <td>2008.0</td>\n",
       "      <td>The Hunger Games</td>\n",
       "      <td>374.0</td>\n",
       "      <td>09/14/08</td>\n",
       "      <td>66715</td>\n",
       "      <td>127936</td>\n",
       "      <td>560092</td>\n",
       "      <td>1481305</td>\n",
       "      <td>2706317</td>\n",
       "      <td>4780653</td>\n",
       "      <td>https://images.gr-assets.com/books/1447303603s...</td>\n",
       "      <td>The Hunger Games (The Hunger Games, #1)</td>\n",
       "      <td>2792775</td>\n",
       "      <td>4942365</td>\n",
       "      <td>155254</td>\n",
       "      <td>['Suzanne Collins']</td>\n",
       "    </tr>\n",
       "    <tr>\n",
       "      <th>1</th>\n",
       "      <td>1</td>\n",
       "      <td>1</td>\n",
       "      <td>['J.K. Rowling', 'Mary GrandPré']</td>\n",
       "      <td>4.44</td>\n",
       "      <td>3</td>\n",
       "      <td>2</td>\n",
       "      <td>491</td>\n",
       "      <td>Harry Potter's life is miserable. His parents ...</td>\n",
       "      <td>['fantasy', 'fiction', 'young-adult', 'classics']</td>\n",
       "      <td>3</td>\n",
       "      <td>https://images.gr-assets.com/books/1474154022m...</td>\n",
       "      <td>439554934</td>\n",
       "      <td>9.780440e+12</td>\n",
       "      <td>eng</td>\n",
       "      <td>1997.0</td>\n",
       "      <td>Harry Potter and the Philosopher's Stone</td>\n",
       "      <td>309.0</td>\n",
       "      <td>11/01/03</td>\n",
       "      <td>75504</td>\n",
       "      <td>101676</td>\n",
       "      <td>455024</td>\n",
       "      <td>1156318</td>\n",
       "      <td>3011543</td>\n",
       "      <td>4602479</td>\n",
       "      <td>https://images.gr-assets.com/books/1474154022s...</td>\n",
       "      <td>Harry Potter and the Sorcerer's Stone (Harry P...</td>\n",
       "      <td>4640799</td>\n",
       "      <td>4800065</td>\n",
       "      <td>75867</td>\n",
       "      <td>['J.K. Rowling', 'Mary GrandPré']</td>\n",
       "    </tr>\n",
       "    <tr>\n",
       "      <th>2</th>\n",
       "      <td>2</td>\n",
       "      <td>2</td>\n",
       "      <td>['Stephenie Meyer']</td>\n",
       "      <td>3.57</td>\n",
       "      <td>41865</td>\n",
       "      <td>3</td>\n",
       "      <td>226</td>\n",
       "      <td>About three things I was absolutely positive.\\...</td>\n",
       "      <td>['young-adult', 'fantasy', 'romance', 'fiction...</td>\n",
       "      <td>41865</td>\n",
       "      <td>https://images.gr-assets.com/books/1361039443m...</td>\n",
       "      <td>316015849</td>\n",
       "      <td>9.780316e+12</td>\n",
       "      <td>eng</td>\n",
       "      <td>2005.0</td>\n",
       "      <td>Twilight</td>\n",
       "      <td>501.0</td>\n",
       "      <td>09/06/06</td>\n",
       "      <td>456191</td>\n",
       "      <td>436802</td>\n",
       "      <td>793319</td>\n",
       "      <td>875073</td>\n",
       "      <td>1355439</td>\n",
       "      <td>3866839</td>\n",
       "      <td>https://images.gr-assets.com/books/1361039443s...</td>\n",
       "      <td>Twilight (Twilight, #1)</td>\n",
       "      <td>3212258</td>\n",
       "      <td>3916824</td>\n",
       "      <td>95009</td>\n",
       "      <td>['Stephenie Meyer']</td>\n",
       "    </tr>\n",
       "    <tr>\n",
       "      <th>3</th>\n",
       "      <td>3</td>\n",
       "      <td>3</td>\n",
       "      <td>['Harper Lee']</td>\n",
       "      <td>4.25</td>\n",
       "      <td>2657</td>\n",
       "      <td>4</td>\n",
       "      <td>487</td>\n",
       "      <td>The unforgettable novel of a childhood in a sl...</td>\n",
       "      <td>['classics', 'fiction', 'historical-fiction', ...</td>\n",
       "      <td>2657</td>\n",
       "      <td>https://images.gr-assets.com/books/1361975680m...</td>\n",
       "      <td>61120081</td>\n",
       "      <td>9.780061e+12</td>\n",
       "      <td>eng</td>\n",
       "      <td>1960.0</td>\n",
       "      <td>To Kill a Mockingbird</td>\n",
       "      <td>324.0</td>\n",
       "      <td>05/23/06</td>\n",
       "      <td>60427</td>\n",
       "      <td>117415</td>\n",
       "      <td>446835</td>\n",
       "      <td>1001952</td>\n",
       "      <td>1714267</td>\n",
       "      <td>3198671</td>\n",
       "      <td>https://images.gr-assets.com/books/1361975680s...</td>\n",
       "      <td>To Kill a Mockingbird</td>\n",
       "      <td>3275794</td>\n",
       "      <td>3340896</td>\n",
       "      <td>72586</td>\n",
       "      <td>['Harper Lee']</td>\n",
       "    </tr>\n",
       "    <tr>\n",
       "      <th>4</th>\n",
       "      <td>4</td>\n",
       "      <td>4</td>\n",
       "      <td>['F. Scott Fitzgerald']</td>\n",
       "      <td>3.89</td>\n",
       "      <td>4671</td>\n",
       "      <td>5</td>\n",
       "      <td>1356</td>\n",
       "      <td>Alternate Cover Edition ISBN: 0743273567 (ISBN...</td>\n",
       "      <td>['classics', 'fiction', 'historical-fiction', ...</td>\n",
       "      <td>4671</td>\n",
       "      <td>https://images.gr-assets.com/books/1490528560m...</td>\n",
       "      <td>743273567</td>\n",
       "      <td>9.780743e+12</td>\n",
       "      <td>eng</td>\n",
       "      <td>1925.0</td>\n",
       "      <td>The Great Gatsby</td>\n",
       "      <td>200.0</td>\n",
       "      <td>09/28/04</td>\n",
       "      <td>86236</td>\n",
       "      <td>197621</td>\n",
       "      <td>606158</td>\n",
       "      <td>936012</td>\n",
       "      <td>947718</td>\n",
       "      <td>2683664</td>\n",
       "      <td>https://images.gr-assets.com/books/1490528560s...</td>\n",
       "      <td>The Great Gatsby</td>\n",
       "      <td>245494</td>\n",
       "      <td>2773745</td>\n",
       "      <td>51992</td>\n",
       "      <td>['F. Scott Fitzgerald']</td>\n",
       "    </tr>\n",
       "  </tbody>\n",
       "</table>\n",
       "</div>"
      ],
      "text/plain": [
       "   Unnamed: 0  index                            authors  average_rating  \\\n",
       "0           0      0                ['Suzanne Collins']            4.34   \n",
       "1           1      1  ['J.K. Rowling', 'Mary GrandPré']            4.44   \n",
       "2           2      2                ['Stephenie Meyer']            3.57   \n",
       "3           3      3                     ['Harper Lee']            4.25   \n",
       "4           4      4            ['F. Scott Fitzgerald']            3.89   \n",
       "\n",
       "   best_book_id  book_id  books_count  \\\n",
       "0       2767052        1          272   \n",
       "1             3        2          491   \n",
       "2         41865        3          226   \n",
       "3          2657        4          487   \n",
       "4          4671        5         1356   \n",
       "\n",
       "                                         description  \\\n",
       "0  WINNING MEANS FAME AND FORTUNE.LOSING MEANS CE...   \n",
       "1  Harry Potter's life is miserable. His parents ...   \n",
       "2  About three things I was absolutely positive.\\...   \n",
       "3  The unforgettable novel of a childhood in a sl...   \n",
       "4  Alternate Cover Edition ISBN: 0743273567 (ISBN...   \n",
       "\n",
       "                                              genres  goodreads_book_id  \\\n",
       "0  ['young-adult', 'fiction', 'fantasy', 'science...            2767052   \n",
       "1  ['fantasy', 'fiction', 'young-adult', 'classics']                  3   \n",
       "2  ['young-adult', 'fantasy', 'romance', 'fiction...              41865   \n",
       "3  ['classics', 'fiction', 'historical-fiction', ...               2657   \n",
       "4  ['classics', 'fiction', 'historical-fiction', ...               4671   \n",
       "\n",
       "                                           image_url       isbn        isbn13  \\\n",
       "0  https://images.gr-assets.com/books/1447303603m...  439023483  9.780439e+12   \n",
       "1  https://images.gr-assets.com/books/1474154022m...  439554934  9.780440e+12   \n",
       "2  https://images.gr-assets.com/books/1361039443m...  316015849  9.780316e+12   \n",
       "3  https://images.gr-assets.com/books/1361975680m...   61120081  9.780061e+12   \n",
       "4  https://images.gr-assets.com/books/1490528560m...  743273567  9.780743e+12   \n",
       "\n",
       "  language_code  original_publication_year  \\\n",
       "0           eng                     2008.0   \n",
       "1           eng                     1997.0   \n",
       "2           eng                     2005.0   \n",
       "3           eng                     1960.0   \n",
       "4           eng                     1925.0   \n",
       "\n",
       "                             original_title  pages publishDate  ratings_1  \\\n",
       "0                          The Hunger Games  374.0    09/14/08      66715   \n",
       "1  Harry Potter and the Philosopher's Stone  309.0    11/01/03      75504   \n",
       "2                                  Twilight  501.0    09/06/06     456191   \n",
       "3                     To Kill a Mockingbird  324.0    05/23/06      60427   \n",
       "4                          The Great Gatsby  200.0    09/28/04      86236   \n",
       "\n",
       "   ratings_2  ratings_3  ratings_4  ratings_5  ratings_count  \\\n",
       "0     127936     560092    1481305    2706317        4780653   \n",
       "1     101676     455024    1156318    3011543        4602479   \n",
       "2     436802     793319     875073    1355439        3866839   \n",
       "3     117415     446835    1001952    1714267        3198671   \n",
       "4     197621     606158     936012     947718        2683664   \n",
       "\n",
       "                                     small_image_url  \\\n",
       "0  https://images.gr-assets.com/books/1447303603s...   \n",
       "1  https://images.gr-assets.com/books/1474154022s...   \n",
       "2  https://images.gr-assets.com/books/1361039443s...   \n",
       "3  https://images.gr-assets.com/books/1361975680s...   \n",
       "4  https://images.gr-assets.com/books/1490528560s...   \n",
       "\n",
       "                                               title  work_id  \\\n",
       "0            The Hunger Games (The Hunger Games, #1)  2792775   \n",
       "1  Harry Potter and the Sorcerer's Stone (Harry P...  4640799   \n",
       "2                            Twilight (Twilight, #1)  3212258   \n",
       "3                              To Kill a Mockingbird  3275794   \n",
       "4                                   The Great Gatsby   245494   \n",
       "\n",
       "   work_ratings_count  work_text_reviews_count  \\\n",
       "0             4942365                   155254   \n",
       "1             4800065                    75867   \n",
       "2             3916824                    95009   \n",
       "3             3340896                    72586   \n",
       "4             2773745                    51992   \n",
       "\n",
       "                           authors_2  \n",
       "0                ['Suzanne Collins']  \n",
       "1  ['J.K. Rowling', 'Mary GrandPré']  \n",
       "2                ['Stephenie Meyer']  \n",
       "3                     ['Harper Lee']  \n",
       "4            ['F. Scott Fitzgerald']  "
      ]
     },
     "execution_count": 10,
     "metadata": {},
     "output_type": "execute_result"
    }
   ],
   "source": [
    "books.head()"
   ]
  },
  {
   "cell_type": "code",
   "execution_count": 11,
   "id": "e63370c4",
   "metadata": {
    "scrolled": true
   },
   "outputs": [
    {
     "name": "stdout",
     "output_type": "stream",
     "text": [
      "There are 144 books with an average rating of 4.5 or greater.\n"
     ]
    }
   ],
   "source": [
    "top_rated = books[books['average_rating'] >= 4.5]\n",
    "top_rated_count = top_rated['work_id'].count()\n",
    "print(f'There are {top_rated_count} books with an average rating of 4.5 or greater.')"
   ]
  },
  {
   "cell_type": "code",
   "execution_count": 12,
   "id": "f9b6e618",
   "metadata": {},
   "outputs": [
    {
     "name": "stdout",
     "output_type": "stream",
     "text": [
      "There are 9,855 books with an average rating greater than 2.5 but less than 4.5.\n"
     ]
    }
   ],
   "source": [
    "mid_rated = books[(books['average_rating'] > 2.5) & (books['average_rating'] < 4.5)]\n",
    "mid_rated_count = mid_rated['work_id'].count()\n",
    "print(f'There are {mid_rated_count:,} books with an average rating greater than 2.5 but less than 4.5.')"
   ]
  },
  {
   "cell_type": "code",
   "execution_count": 13,
   "id": "1c435dd6",
   "metadata": {},
   "outputs": [
    {
     "name": "stdout",
     "output_type": "stream",
     "text": [
      "There is 1 book with an average rating of 2.5 or less.\n"
     ]
    }
   ],
   "source": [
    "low_rated = books[books['average_rating'] <= 2.5]\n",
    "low_rated_count = low_rated['work_id'].count()\n",
    "print(f'There is {low_rated_count} book with an average rating of 2.5 or less.')"
   ]
  },
  {
   "cell_type": "code",
   "execution_count": 14,
   "id": "c2da0a91",
   "metadata": {},
   "outputs": [
    {
     "data": {
      "image/png": "[encoded data removed]",
      "text/plain": [
       "<Figure size 640x480 with 1 Axes>"
      ]
     },
     "metadata": {},
     "output_type": "display_data"
    }
   ],
   "source": [
    "top_10_books = top_rated[:10]\n",
    "\n",
    "sns.barplot(data=top_10_books,\n",
    "            x='original_title', y='pages', alpha=.75, saturation=100)\n",
    "plt.xlabel('Title', fontsize=12, c='#4c72b0')\n",
    "plt.xticks(rotation=90)\n",
    "plt.ylabel('Number of Pages', fontsize=12, c='#4c72b0')\n",
    "plt.suptitle('Top 10 Books', size=14, fontweight='bold', color='#4c72b0')\n",
    "plt.title('(based on average rating)', size=10, pad=8, c='#4c72b0')\n",
    "\n",
    "plt.show()"
   ]
  },
  {
   "cell_type": "markdown",
   "id": "eba22845",
   "metadata": {},
   "source": [
    "<em><span style=\"color:lightsteelblue\"> Compare books in ratings df to books in books df  </span></em>"
   ]
  },
  {
   "cell_type": "code",
   "execution_count": 15,
   "id": "85a6711f",
   "metadata": {
    "scrolled": true
   },
   "outputs": [],
   "source": [
    "# 'book_id' in ratings df correspond to 'work_id' in books df.\n",
    "\n",
    "ratings.rename(columns={'book_id':'work_id'}, inplace=True)"
   ]
  },
  {
   "cell_type": "code",
   "execution_count": 16,
   "id": "b4c6ad45",
   "metadata": {
    "scrolled": true
   },
   "outputs": [
    {
     "name": "stdout",
     "output_type": "stream",
     "text": [
      "10000\n",
      "10000\n"
     ]
    }
   ],
   "source": [
    "print(ratings['work_id'].nunique())\n",
    "print(books['work_id'].nunique())"
   ]
  },
  {
   "cell_type": "code",
   "execution_count": 17,
   "id": "c3913cd1",
   "metadata": {
    "scrolled": true
   },
   "outputs": [
    {
     "name": "stdout",
     "output_type": "stream",
     "text": [
      "There are 176 books in the books df that have been rated.\n"
     ]
    }
   ],
   "source": [
    "matched_ids = ratings[ratings['work_id'].isin(books['work_id'])]\n",
    "matched_ids_count = matched_ids['work_id'].nunique()\n",
    "\n",
    "print(f'There are {matched_ids_count} books in the books df that have been rated.')"
   ]
  },
  {
   "cell_type": "code",
   "execution_count": 18,
   "id": "f43859ad",
   "metadata": {
    "scrolled": true
   },
   "outputs": [
    {
     "name": "stdout",
     "output_type": "stream",
     "text": [
      "There are 9824 books from the books df that have not been rated.\n",
      "There are 9824 books that have been rated but do not exist in the books df.\n"
     ]
    }
   ],
   "source": [
    "unmatched_ids = ratings[~ratings['work_id'].isin(books['work_id'])]\n",
    "unmatched_ids_count = unmatched_ids['work_id'].nunique()\n",
    "\n",
    "print(f'There are {unmatched_ids_count} books from the books df that have not been rated.')\n",
    "print(f'There are {unmatched_ids_count} books that have been rated but do not exist in the books df.')"
   ]
  },
  {
   "cell_type": "markdown",
   "id": "f06818b4",
   "metadata": {},
   "source": [
    "<em><span style=\"color:lightsteelblue\"> Remove books that don't exist in books df from ratings df  </span></em>"
   ]
  },
  {
   "cell_type": "code",
   "execution_count": 19,
   "id": "e1be63eb",
   "metadata": {},
   "outputs": [],
   "source": [
    "ratings['work_id'] = matched_ids['work_id']"
   ]
  },
  {
   "cell_type": "code",
   "execution_count": 20,
   "id": "96962996",
   "metadata": {},
   "outputs": [
    {
     "data": {
      "text/html": [
       "<div>\n",
       "<style scoped>\n",
       "    .dataframe tbody tr th:only-of-type {\n",
       "        vertical-align: middle;\n",
       "    }\n",
       "\n",
       "    .dataframe tbody tr th {\n",
       "        vertical-align: top;\n",
       "    }\n",
       "\n",
       "    .dataframe thead th {\n",
       "        text-align: right;\n",
       "    }\n",
       "</style>\n",
       "<table border=\"1\" class=\"dataframe\">\n",
       "  <thead>\n",
       "    <tr style=\"text-align: right;\">\n",
       "      <th></th>\n",
       "      <th>user_id</th>\n",
       "      <th>work_id</th>\n",
       "      <th>rating</th>\n",
       "    </tr>\n",
       "  </thead>\n",
       "  <tbody>\n",
       "    <tr>\n",
       "      <th>0</th>\n",
       "      <td>1</td>\n",
       "      <td>NaN</td>\n",
       "      <td>5</td>\n",
       "    </tr>\n",
       "    <tr>\n",
       "      <th>1</th>\n",
       "      <td>2</td>\n",
       "      <td>NaN</td>\n",
       "      <td>4</td>\n",
       "    </tr>\n",
       "    <tr>\n",
       "      <th>2</th>\n",
       "      <td>2</td>\n",
       "      <td>NaN</td>\n",
       "      <td>5</td>\n",
       "    </tr>\n",
       "    <tr>\n",
       "      <th>3</th>\n",
       "      <td>2</td>\n",
       "      <td>NaN</td>\n",
       "      <td>5</td>\n",
       "    </tr>\n",
       "    <tr>\n",
       "      <th>4</th>\n",
       "      <td>2</td>\n",
       "      <td>NaN</td>\n",
       "      <td>3</td>\n",
       "    </tr>\n",
       "  </tbody>\n",
       "</table>\n",
       "</div>"
      ],
      "text/plain": [
       "   user_id  work_id  rating\n",
       "0        1      NaN       5\n",
       "1        2      NaN       4\n",
       "2        2      NaN       5\n",
       "3        2      NaN       5\n",
       "4        2      NaN       3"
      ]
     },
     "execution_count": 20,
     "metadata": {},
     "output_type": "execute_result"
    }
   ],
   "source": [
    "ratings.head()"
   ]
  },
  {
   "cell_type": "code",
   "execution_count": 21,
   "id": "1d7d8be3",
   "metadata": {},
   "outputs": [],
   "source": [
    "ratings.dropna(inplace=True)"
   ]
  },
  {
   "cell_type": "code",
   "execution_count": 22,
   "id": "c546aa39",
   "metadata": {},
   "outputs": [],
   "source": [
    "ratings['work_id'] = ratings['work_id'].astype('int64')"
   ]
  },
  {
   "cell_type": "code",
   "execution_count": 23,
   "id": "2dcd26d5",
   "metadata": {},
   "outputs": [
    {
     "data": {
      "text/html": [
       "<div>\n",
       "<style scoped>\n",
       "    .dataframe tbody tr th:only-of-type {\n",
       "        vertical-align: middle;\n",
       "    }\n",
       "\n",
       "    .dataframe tbody tr th {\n",
       "        vertical-align: top;\n",
       "    }\n",
       "\n",
       "    .dataframe thead th {\n",
       "        text-align: right;\n",
       "    }\n",
       "</style>\n",
       "<table border=\"1\" class=\"dataframe\">\n",
       "  <thead>\n",
       "    <tr style=\"text-align: right;\">\n",
       "      <th></th>\n",
       "      <th>user_id</th>\n",
       "      <th>work_id</th>\n",
       "      <th>rating</th>\n",
       "    </tr>\n",
       "  </thead>\n",
       "  <tbody>\n",
       "    <tr>\n",
       "      <th>60</th>\n",
       "      <td>8</td>\n",
       "      <td>362</td>\n",
       "      <td>5</td>\n",
       "    </tr>\n",
       "    <tr>\n",
       "      <th>84</th>\n",
       "      <td>4</td>\n",
       "      <td>87</td>\n",
       "      <td>5</td>\n",
       "    </tr>\n",
       "    <tr>\n",
       "      <th>169</th>\n",
       "      <td>11</td>\n",
       "      <td>574</td>\n",
       "      <td>3</td>\n",
       "    </tr>\n",
       "    <tr>\n",
       "      <th>181</th>\n",
       "      <td>11</td>\n",
       "      <td>115</td>\n",
       "      <td>4</td>\n",
       "    </tr>\n",
       "    <tr>\n",
       "      <th>209</th>\n",
       "      <td>15</td>\n",
       "      <td>87</td>\n",
       "      <td>5</td>\n",
       "    </tr>\n",
       "  </tbody>\n",
       "</table>\n",
       "</div>"
      ],
      "text/plain": [
       "     user_id  work_id  rating\n",
       "60         8      362       5\n",
       "84         4       87       5\n",
       "169       11      574       3\n",
       "181       11      115       4\n",
       "209       15       87       5"
      ]
     },
     "execution_count": 23,
     "metadata": {},
     "output_type": "execute_result"
    }
   ],
   "source": [
    "ratings.head()"
   ]
  },
  {
   "cell_type": "code",
   "execution_count": 24,
   "id": "0c06a48b",
   "metadata": {
    "scrolled": true
   },
   "outputs": [
    {
     "name": "stdout",
     "output_type": "stream",
     "text": [
      "int64\n",
      "int64\n"
     ]
    }
   ],
   "source": [
    "print(ratings['work_id'].dtype)\n",
    "print(books['work_id'].dtype)"
   ]
  },
  {
   "cell_type": "code",
   "execution_count": 25,
   "id": "7c787002",
   "metadata": {},
   "outputs": [
    {
     "name": "stdout",
     "output_type": "stream",
     "text": [
      "176\n",
      "10000\n"
     ]
    }
   ],
   "source": [
    "print(ratings['work_id'].nunique())\n",
    "print(books['work_id'].nunique())"
   ]
  },
  {
   "cell_type": "markdown",
   "id": "7b038dd3",
   "metadata": {},
   "source": [
    "<div class=\"alert alert-block alert-info\">\n",
    "    \n",
    "- The ratings df suggest that only 176 books from the books df have been rated. The other 9,824 rated books found in the ratings df do not exist in the books df. \n",
    "<br><br>\n",
    "- The average rating in the books df indicates that all 10,000 books in the books df have been rated.\n",
    "<br><br>\n",
    "- average_rating in the books df may not reflect the same ratings as the ratings df."
   ]
  },
  {
   "cell_type": "markdown",
   "id": "2e2fd7d5",
   "metadata": {},
   "source": [
    "<em><span style=\"color:lightsteelblue\"> Merge books df with ratings df </span></em>"
   ]
  },
  {
   "cell_type": "code",
   "execution_count": 26,
   "id": "f4637720",
   "metadata": {
    "scrolled": true
   },
   "outputs": [],
   "source": [
    "goodbooks = books.merge(ratings, how='left', on='work_id')"
   ]
  },
  {
   "cell_type": "code",
   "execution_count": 27,
   "id": "069dcf83",
   "metadata": {
    "scrolled": true
   },
   "outputs": [
    {
     "data": {
      "text/html": [
       "<div>\n",
       "<style scoped>\n",
       "    .dataframe tbody tr th:only-of-type {\n",
       "        vertical-align: middle;\n",
       "    }\n",
       "\n",
       "    .dataframe tbody tr th {\n",
       "        vertical-align: top;\n",
       "    }\n",
       "\n",
       "    .dataframe thead th {\n",
       "        text-align: right;\n",
       "    }\n",
       "</style>\n",
       "<table border=\"1\" class=\"dataframe\">\n",
       "  <thead>\n",
       "    <tr style=\"text-align: right;\">\n",
       "      <th></th>\n",
       "      <th>Unnamed: 0</th>\n",
       "      <th>index</th>\n",
       "      <th>authors</th>\n",
       "      <th>average_rating</th>\n",
       "      <th>best_book_id</th>\n",
       "      <th>book_id</th>\n",
       "      <th>books_count</th>\n",
       "      <th>description</th>\n",
       "      <th>genres</th>\n",
       "      <th>goodreads_book_id</th>\n",
       "      <th>image_url</th>\n",
       "      <th>isbn</th>\n",
       "      <th>isbn13</th>\n",
       "      <th>language_code</th>\n",
       "      <th>original_publication_year</th>\n",
       "      <th>original_title</th>\n",
       "      <th>pages</th>\n",
       "      <th>publishDate</th>\n",
       "      <th>ratings_1</th>\n",
       "      <th>ratings_2</th>\n",
       "      <th>ratings_3</th>\n",
       "      <th>ratings_4</th>\n",
       "      <th>ratings_5</th>\n",
       "      <th>ratings_count</th>\n",
       "      <th>small_image_url</th>\n",
       "      <th>title</th>\n",
       "      <th>work_id</th>\n",
       "      <th>work_ratings_count</th>\n",
       "      <th>work_text_reviews_count</th>\n",
       "      <th>authors_2</th>\n",
       "      <th>user_id</th>\n",
       "      <th>rating</th>\n",
       "    </tr>\n",
       "  </thead>\n",
       "  <tbody>\n",
       "    <tr>\n",
       "      <th>0</th>\n",
       "      <td>0</td>\n",
       "      <td>0</td>\n",
       "      <td>['Suzanne Collins']</td>\n",
       "      <td>4.34</td>\n",
       "      <td>2767052</td>\n",
       "      <td>1</td>\n",
       "      <td>272</td>\n",
       "      <td>WINNING MEANS FAME AND FORTUNE.LOSING MEANS CE...</td>\n",
       "      <td>['young-adult', 'fiction', 'fantasy', 'science...</td>\n",
       "      <td>2767052</td>\n",
       "      <td>https://images.gr-assets.com/books/1447303603m...</td>\n",
       "      <td>439023483</td>\n",
       "      <td>9.780439e+12</td>\n",
       "      <td>eng</td>\n",
       "      <td>2008.0</td>\n",
       "      <td>The Hunger Games</td>\n",
       "      <td>374.0</td>\n",
       "      <td>09/14/08</td>\n",
       "      <td>66715</td>\n",
       "      <td>127936</td>\n",
       "      <td>560092</td>\n",
       "      <td>1481305</td>\n",
       "      <td>2706317</td>\n",
       "      <td>4780653</td>\n",
       "      <td>https://images.gr-assets.com/books/1447303603s...</td>\n",
       "      <td>The Hunger Games (The Hunger Games, #1)</td>\n",
       "      <td>2792775</td>\n",
       "      <td>4942365</td>\n",
       "      <td>155254</td>\n",
       "      <td>['Suzanne Collins']</td>\n",
       "      <td>NaN</td>\n",
       "      <td>NaN</td>\n",
       "    </tr>\n",
       "    <tr>\n",
       "      <th>1</th>\n",
       "      <td>1</td>\n",
       "      <td>1</td>\n",
       "      <td>['J.K. Rowling', 'Mary GrandPré']</td>\n",
       "      <td>4.44</td>\n",
       "      <td>3</td>\n",
       "      <td>2</td>\n",
       "      <td>491</td>\n",
       "      <td>Harry Potter's life is miserable. His parents ...</td>\n",
       "      <td>['fantasy', 'fiction', 'young-adult', 'classics']</td>\n",
       "      <td>3</td>\n",
       "      <td>https://images.gr-assets.com/books/1474154022m...</td>\n",
       "      <td>439554934</td>\n",
       "      <td>9.780440e+12</td>\n",
       "      <td>eng</td>\n",
       "      <td>1997.0</td>\n",
       "      <td>Harry Potter and the Philosopher's Stone</td>\n",
       "      <td>309.0</td>\n",
       "      <td>11/01/03</td>\n",
       "      <td>75504</td>\n",
       "      <td>101676</td>\n",
       "      <td>455024</td>\n",
       "      <td>1156318</td>\n",
       "      <td>3011543</td>\n",
       "      <td>4602479</td>\n",
       "      <td>https://images.gr-assets.com/books/1474154022s...</td>\n",
       "      <td>Harry Potter and the Sorcerer's Stone (Harry P...</td>\n",
       "      <td>4640799</td>\n",
       "      <td>4800065</td>\n",
       "      <td>75867</td>\n",
       "      <td>['J.K. Rowling', 'Mary GrandPré']</td>\n",
       "      <td>NaN</td>\n",
       "      <td>NaN</td>\n",
       "    </tr>\n",
       "    <tr>\n",
       "      <th>2</th>\n",
       "      <td>2</td>\n",
       "      <td>2</td>\n",
       "      <td>['Stephenie Meyer']</td>\n",
       "      <td>3.57</td>\n",
       "      <td>41865</td>\n",
       "      <td>3</td>\n",
       "      <td>226</td>\n",
       "      <td>About three things I was absolutely positive.\\...</td>\n",
       "      <td>['young-adult', 'fantasy', 'romance', 'fiction...</td>\n",
       "      <td>41865</td>\n",
       "      <td>https://images.gr-assets.com/books/1361039443m...</td>\n",
       "      <td>316015849</td>\n",
       "      <td>9.780316e+12</td>\n",
       "      <td>eng</td>\n",
       "      <td>2005.0</td>\n",
       "      <td>Twilight</td>\n",
       "      <td>501.0</td>\n",
       "      <td>09/06/06</td>\n",
       "      <td>456191</td>\n",
       "      <td>436802</td>\n",
       "      <td>793319</td>\n",
       "      <td>875073</td>\n",
       "      <td>1355439</td>\n",
       "      <td>3866839</td>\n",
       "      <td>https://images.gr-assets.com/books/1361039443s...</td>\n",
       "      <td>Twilight (Twilight, #1)</td>\n",
       "      <td>3212258</td>\n",
       "      <td>3916824</td>\n",
       "      <td>95009</td>\n",
       "      <td>['Stephenie Meyer']</td>\n",
       "      <td>NaN</td>\n",
       "      <td>NaN</td>\n",
       "    </tr>\n",
       "    <tr>\n",
       "      <th>3</th>\n",
       "      <td>3</td>\n",
       "      <td>3</td>\n",
       "      <td>['Harper Lee']</td>\n",
       "      <td>4.25</td>\n",
       "      <td>2657</td>\n",
       "      <td>4</td>\n",
       "      <td>487</td>\n",
       "      <td>The unforgettable novel of a childhood in a sl...</td>\n",
       "      <td>['classics', 'fiction', 'historical-fiction', ...</td>\n",
       "      <td>2657</td>\n",
       "      <td>https://images.gr-assets.com/books/1361975680m...</td>\n",
       "      <td>61120081</td>\n",
       "      <td>9.780061e+12</td>\n",
       "      <td>eng</td>\n",
       "      <td>1960.0</td>\n",
       "      <td>To Kill a Mockingbird</td>\n",
       "      <td>324.0</td>\n",
       "      <td>05/23/06</td>\n",
       "      <td>60427</td>\n",
       "      <td>117415</td>\n",
       "      <td>446835</td>\n",
       "      <td>1001952</td>\n",
       "      <td>1714267</td>\n",
       "      <td>3198671</td>\n",
       "      <td>https://images.gr-assets.com/books/1361975680s...</td>\n",
       "      <td>To Kill a Mockingbird</td>\n",
       "      <td>3275794</td>\n",
       "      <td>3340896</td>\n",
       "      <td>72586</td>\n",
       "      <td>['Harper Lee']</td>\n",
       "      <td>NaN</td>\n",
       "      <td>NaN</td>\n",
       "    </tr>\n",
       "    <tr>\n",
       "      <th>4</th>\n",
       "      <td>4</td>\n",
       "      <td>4</td>\n",
       "      <td>['F. Scott Fitzgerald']</td>\n",
       "      <td>3.89</td>\n",
       "      <td>4671</td>\n",
       "      <td>5</td>\n",
       "      <td>1356</td>\n",
       "      <td>Alternate Cover Edition ISBN: 0743273567 (ISBN...</td>\n",
       "      <td>['classics', 'fiction', 'historical-fiction', ...</td>\n",
       "      <td>4671</td>\n",
       "      <td>https://images.gr-assets.com/books/1490528560m...</td>\n",
       "      <td>743273567</td>\n",
       "      <td>9.780743e+12</td>\n",
       "      <td>eng</td>\n",
       "      <td>1925.0</td>\n",
       "      <td>The Great Gatsby</td>\n",
       "      <td>200.0</td>\n",
       "      <td>09/28/04</td>\n",
       "      <td>86236</td>\n",
       "      <td>197621</td>\n",
       "      <td>606158</td>\n",
       "      <td>936012</td>\n",
       "      <td>947718</td>\n",
       "      <td>2683664</td>\n",
       "      <td>https://images.gr-assets.com/books/1490528560s...</td>\n",
       "      <td>The Great Gatsby</td>\n",
       "      <td>245494</td>\n",
       "      <td>2773745</td>\n",
       "      <td>51992</td>\n",
       "      <td>['F. Scott Fitzgerald']</td>\n",
       "      <td>NaN</td>\n",
       "      <td>NaN</td>\n",
       "    </tr>\n",
       "  </tbody>\n",
       "</table>\n",
       "</div>"
      ],
      "text/plain": [
       "   Unnamed: 0  index                            authors  average_rating  \\\n",
       "0           0      0                ['Suzanne Collins']            4.34   \n",
       "1           1      1  ['J.K. Rowling', 'Mary GrandPré']            4.44   \n",
       "2           2      2                ['Stephenie Meyer']            3.57   \n",
       "3           3      3                     ['Harper Lee']            4.25   \n",
       "4           4      4            ['F. Scott Fitzgerald']            3.89   \n",
       "\n",
       "   best_book_id  book_id  books_count  \\\n",
       "0       2767052        1          272   \n",
       "1             3        2          491   \n",
       "2         41865        3          226   \n",
       "3          2657        4          487   \n",
       "4          4671        5         1356   \n",
       "\n",
       "                                         description  \\\n",
       "0  WINNING MEANS FAME AND FORTUNE.LOSING MEANS CE...   \n",
       "1  Harry Potter's life is miserable. His parents ...   \n",
       "2  About three things I was absolutely positive.\\...   \n",
       "3  The unforgettable novel of a childhood in a sl...   \n",
       "4  Alternate Cover Edition ISBN: 0743273567 (ISBN...   \n",
       "\n",
       "                                              genres  goodreads_book_id  \\\n",
       "0  ['young-adult', 'fiction', 'fantasy', 'science...            2767052   \n",
       "1  ['fantasy', 'fiction', 'young-adult', 'classics']                  3   \n",
       "2  ['young-adult', 'fantasy', 'romance', 'fiction...              41865   \n",
       "3  ['classics', 'fiction', 'historical-fiction', ...               2657   \n",
       "4  ['classics', 'fiction', 'historical-fiction', ...               4671   \n",
       "\n",
       "                                           image_url       isbn        isbn13  \\\n",
       "0  https://images.gr-assets.com/books/1447303603m...  439023483  9.780439e+12   \n",
       "1  https://images.gr-assets.com/books/1474154022m...  439554934  9.780440e+12   \n",
       "2  https://images.gr-assets.com/books/1361039443m...  316015849  9.780316e+12   \n",
       "3  https://images.gr-assets.com/books/1361975680m...   61120081  9.780061e+12   \n",
       "4  https://images.gr-assets.com/books/1490528560m...  743273567  9.780743e+12   \n",
       "\n",
       "  language_code  original_publication_year  \\\n",
       "0           eng                     2008.0   \n",
       "1           eng                     1997.0   \n",
       "2           eng                     2005.0   \n",
       "3           eng                     1960.0   \n",
       "4           eng                     1925.0   \n",
       "\n",
       "                             original_title  pages publishDate  ratings_1  \\\n",
       "0                          The Hunger Games  374.0    09/14/08      66715   \n",
       "1  Harry Potter and the Philosopher's Stone  309.0    11/01/03      75504   \n",
       "2                                  Twilight  501.0    09/06/06     456191   \n",
       "3                     To Kill a Mockingbird  324.0    05/23/06      60427   \n",
       "4                          The Great Gatsby  200.0    09/28/04      86236   \n",
       "\n",
       "   ratings_2  ratings_3  ratings_4  ratings_5  ratings_count  \\\n",
       "0     127936     560092    1481305    2706317        4780653   \n",
       "1     101676     455024    1156318    3011543        4602479   \n",
       "2     436802     793319     875073    1355439        3866839   \n",
       "3     117415     446835    1001952    1714267        3198671   \n",
       "4     197621     606158     936012     947718        2683664   \n",
       "\n",
       "                                     small_image_url  \\\n",
       "0  https://images.gr-assets.com/books/1447303603s...   \n",
       "1  https://images.gr-assets.com/books/1474154022s...   \n",
       "2  https://images.gr-assets.com/books/1361039443s...   \n",
       "3  https://images.gr-assets.com/books/1361975680s...   \n",
       "4  https://images.gr-assets.com/books/1490528560s...   \n",
       "\n",
       "                                               title  work_id  \\\n",
       "0            The Hunger Games (The Hunger Games, #1)  2792775   \n",
       "1  Harry Potter and the Sorcerer's Stone (Harry P...  4640799   \n",
       "2                            Twilight (Twilight, #1)  3212258   \n",
       "3                              To Kill a Mockingbird  3275794   \n",
       "4                                   The Great Gatsby   245494   \n",
       "\n",
       "   work_ratings_count  work_text_reviews_count  \\\n",
       "0             4942365                   155254   \n",
       "1             4800065                    75867   \n",
       "2             3916824                    95009   \n",
       "3             3340896                    72586   \n",
       "4             2773745                    51992   \n",
       "\n",
       "                           authors_2  user_id  rating  \n",
       "0                ['Suzanne Collins']      NaN     NaN  \n",
       "1  ['J.K. Rowling', 'Mary GrandPré']      NaN     NaN  \n",
       "2                ['Stephenie Meyer']      NaN     NaN  \n",
       "3                     ['Harper Lee']      NaN     NaN  \n",
       "4            ['F. Scott Fitzgerald']      NaN     NaN  "
      ]
     },
     "execution_count": 27,
     "metadata": {},
     "output_type": "execute_result"
    }
   ],
   "source": [
    "goodbooks.head()"
   ]
  },
  {
   "cell_type": "markdown",
   "id": "9e990052",
   "metadata": {},
   "source": [
    "<em><span style=\"color:lightsteelblue\">Clean [user_id] and [rating]</span></em>"
   ]
  },
  {
   "cell_type": "code",
   "execution_count": 28,
   "id": "27363450",
   "metadata": {
    "scrolled": true
   },
   "outputs": [],
   "source": [
    "goodbooks['user_id'].fillna(0, inplace=True)\n",
    "goodbooks['rating'].fillna(0, inplace=True)"
   ]
  },
  {
   "cell_type": "code",
   "execution_count": 29,
   "id": "f8d12711",
   "metadata": {
    "scrolled": true
   },
   "outputs": [
    {
     "data": {
      "text/html": [
       "<div>\n",
       "<style scoped>\n",
       "    .dataframe tbody tr th:only-of-type {\n",
       "        vertical-align: middle;\n",
       "    }\n",
       "\n",
       "    .dataframe tbody tr th {\n",
       "        vertical-align: top;\n",
       "    }\n",
       "\n",
       "    .dataframe thead th {\n",
       "        text-align: right;\n",
       "    }\n",
       "</style>\n",
       "<table border=\"1\" class=\"dataframe\">\n",
       "  <thead>\n",
       "    <tr style=\"text-align: right;\">\n",
       "      <th></th>\n",
       "      <th>Unnamed: 0</th>\n",
       "      <th>index</th>\n",
       "      <th>authors</th>\n",
       "      <th>average_rating</th>\n",
       "      <th>best_book_id</th>\n",
       "      <th>book_id</th>\n",
       "      <th>books_count</th>\n",
       "      <th>description</th>\n",
       "      <th>genres</th>\n",
       "      <th>goodreads_book_id</th>\n",
       "      <th>image_url</th>\n",
       "      <th>isbn</th>\n",
       "      <th>isbn13</th>\n",
       "      <th>language_code</th>\n",
       "      <th>original_publication_year</th>\n",
       "      <th>original_title</th>\n",
       "      <th>pages</th>\n",
       "      <th>publishDate</th>\n",
       "      <th>ratings_1</th>\n",
       "      <th>ratings_2</th>\n",
       "      <th>ratings_3</th>\n",
       "      <th>ratings_4</th>\n",
       "      <th>ratings_5</th>\n",
       "      <th>ratings_count</th>\n",
       "      <th>small_image_url</th>\n",
       "      <th>title</th>\n",
       "      <th>work_id</th>\n",
       "      <th>work_ratings_count</th>\n",
       "      <th>work_text_reviews_count</th>\n",
       "      <th>authors_2</th>\n",
       "      <th>user_id</th>\n",
       "      <th>rating</th>\n",
       "    </tr>\n",
       "  </thead>\n",
       "  <tbody>\n",
       "    <tr>\n",
       "      <th>0</th>\n",
       "      <td>0</td>\n",
       "      <td>0</td>\n",
       "      <td>['Suzanne Collins']</td>\n",
       "      <td>4.34</td>\n",
       "      <td>2767052</td>\n",
       "      <td>1</td>\n",
       "      <td>272</td>\n",
       "      <td>WINNING MEANS FAME AND FORTUNE.LOSING MEANS CE...</td>\n",
       "      <td>['young-adult', 'fiction', 'fantasy', 'science...</td>\n",
       "      <td>2767052</td>\n",
       "      <td>https://images.gr-assets.com/books/1447303603m...</td>\n",
       "      <td>439023483</td>\n",
       "      <td>9.780439e+12</td>\n",
       "      <td>eng</td>\n",
       "      <td>2008.0</td>\n",
       "      <td>The Hunger Games</td>\n",
       "      <td>374.0</td>\n",
       "      <td>09/14/08</td>\n",
       "      <td>66715</td>\n",
       "      <td>127936</td>\n",
       "      <td>560092</td>\n",
       "      <td>1481305</td>\n",
       "      <td>2706317</td>\n",
       "      <td>4780653</td>\n",
       "      <td>https://images.gr-assets.com/books/1447303603s...</td>\n",
       "      <td>The Hunger Games (The Hunger Games, #1)</td>\n",
       "      <td>2792775</td>\n",
       "      <td>4942365</td>\n",
       "      <td>155254</td>\n",
       "      <td>['Suzanne Collins']</td>\n",
       "      <td>0.0</td>\n",
       "      <td>0.0</td>\n",
       "    </tr>\n",
       "    <tr>\n",
       "      <th>1</th>\n",
       "      <td>1</td>\n",
       "      <td>1</td>\n",
       "      <td>['J.K. Rowling', 'Mary GrandPré']</td>\n",
       "      <td>4.44</td>\n",
       "      <td>3</td>\n",
       "      <td>2</td>\n",
       "      <td>491</td>\n",
       "      <td>Harry Potter's life is miserable. His parents ...</td>\n",
       "      <td>['fantasy', 'fiction', 'young-adult', 'classics']</td>\n",
       "      <td>3</td>\n",
       "      <td>https://images.gr-assets.com/books/1474154022m...</td>\n",
       "      <td>439554934</td>\n",
       "      <td>9.780440e+12</td>\n",
       "      <td>eng</td>\n",
       "      <td>1997.0</td>\n",
       "      <td>Harry Potter and the Philosopher's Stone</td>\n",
       "      <td>309.0</td>\n",
       "      <td>11/01/03</td>\n",
       "      <td>75504</td>\n",
       "      <td>101676</td>\n",
       "      <td>455024</td>\n",
       "      <td>1156318</td>\n",
       "      <td>3011543</td>\n",
       "      <td>4602479</td>\n",
       "      <td>https://images.gr-assets.com/books/1474154022s...</td>\n",
       "      <td>Harry Potter and the Sorcerer's Stone (Harry P...</td>\n",
       "      <td>4640799</td>\n",
       "      <td>4800065</td>\n",
       "      <td>75867</td>\n",
       "      <td>['J.K. Rowling', 'Mary GrandPré']</td>\n",
       "      <td>0.0</td>\n",
       "      <td>0.0</td>\n",
       "    </tr>\n",
       "    <tr>\n",
       "      <th>2</th>\n",
       "      <td>2</td>\n",
       "      <td>2</td>\n",
       "      <td>['Stephenie Meyer']</td>\n",
       "      <td>3.57</td>\n",
       "      <td>41865</td>\n",
       "      <td>3</td>\n",
       "      <td>226</td>\n",
       "      <td>About three things I was absolutely positive.\\...</td>\n",
       "      <td>['young-adult', 'fantasy', 'romance', 'fiction...</td>\n",
       "      <td>41865</td>\n",
       "      <td>https://images.gr-assets.com/books/1361039443m...</td>\n",
       "      <td>316015849</td>\n",
       "      <td>9.780316e+12</td>\n",
       "      <td>eng</td>\n",
       "      <td>2005.0</td>\n",
       "      <td>Twilight</td>\n",
       "      <td>501.0</td>\n",
       "      <td>09/06/06</td>\n",
       "      <td>456191</td>\n",
       "      <td>436802</td>\n",
       "      <td>793319</td>\n",
       "      <td>875073</td>\n",
       "      <td>1355439</td>\n",
       "      <td>3866839</td>\n",
       "      <td>https://images.gr-assets.com/books/1361039443s...</td>\n",
       "      <td>Twilight (Twilight, #1)</td>\n",
       "      <td>3212258</td>\n",
       "      <td>3916824</td>\n",
       "      <td>95009</td>\n",
       "      <td>['Stephenie Meyer']</td>\n",
       "      <td>0.0</td>\n",
       "      <td>0.0</td>\n",
       "    </tr>\n",
       "    <tr>\n",
       "      <th>3</th>\n",
       "      <td>3</td>\n",
       "      <td>3</td>\n",
       "      <td>['Harper Lee']</td>\n",
       "      <td>4.25</td>\n",
       "      <td>2657</td>\n",
       "      <td>4</td>\n",
       "      <td>487</td>\n",
       "      <td>The unforgettable novel of a childhood in a sl...</td>\n",
       "      <td>['classics', 'fiction', 'historical-fiction', ...</td>\n",
       "      <td>2657</td>\n",
       "      <td>https://images.gr-assets.com/books/1361975680m...</td>\n",
       "      <td>61120081</td>\n",
       "      <td>9.780061e+12</td>\n",
       "      <td>eng</td>\n",
       "      <td>1960.0</td>\n",
       "      <td>To Kill a Mockingbird</td>\n",
       "      <td>324.0</td>\n",
       "      <td>05/23/06</td>\n",
       "      <td>60427</td>\n",
       "      <td>117415</td>\n",
       "      <td>446835</td>\n",
       "      <td>1001952</td>\n",
       "      <td>1714267</td>\n",
       "      <td>3198671</td>\n",
       "      <td>https://images.gr-assets.com/books/1361975680s...</td>\n",
       "      <td>To Kill a Mockingbird</td>\n",
       "      <td>3275794</td>\n",
       "      <td>3340896</td>\n",
       "      <td>72586</td>\n",
       "      <td>['Harper Lee']</td>\n",
       "      <td>0.0</td>\n",
       "      <td>0.0</td>\n",
       "    </tr>\n",
       "    <tr>\n",
       "      <th>4</th>\n",
       "      <td>4</td>\n",
       "      <td>4</td>\n",
       "      <td>['F. Scott Fitzgerald']</td>\n",
       "      <td>3.89</td>\n",
       "      <td>4671</td>\n",
       "      <td>5</td>\n",
       "      <td>1356</td>\n",
       "      <td>Alternate Cover Edition ISBN: 0743273567 (ISBN...</td>\n",
       "      <td>['classics', 'fiction', 'historical-fiction', ...</td>\n",
       "      <td>4671</td>\n",
       "      <td>https://images.gr-assets.com/books/1490528560m...</td>\n",
       "      <td>743273567</td>\n",
       "      <td>9.780743e+12</td>\n",
       "      <td>eng</td>\n",
       "      <td>1925.0</td>\n",
       "      <td>The Great Gatsby</td>\n",
       "      <td>200.0</td>\n",
       "      <td>09/28/04</td>\n",
       "      <td>86236</td>\n",
       "      <td>197621</td>\n",
       "      <td>606158</td>\n",
       "      <td>936012</td>\n",
       "      <td>947718</td>\n",
       "      <td>2683664</td>\n",
       "      <td>https://images.gr-assets.com/books/1490528560s...</td>\n",
       "      <td>The Great Gatsby</td>\n",
       "      <td>245494</td>\n",
       "      <td>2773745</td>\n",
       "      <td>51992</td>\n",
       "      <td>['F. Scott Fitzgerald']</td>\n",
       "      <td>0.0</td>\n",
       "      <td>0.0</td>\n",
       "    </tr>\n",
       "  </tbody>\n",
       "</table>\n",
       "</div>"
      ],
      "text/plain": [
       "   Unnamed: 0  index                            authors  average_rating  \\\n",
       "0           0      0                ['Suzanne Collins']            4.34   \n",
       "1           1      1  ['J.K. Rowling', 'Mary GrandPré']            4.44   \n",
       "2           2      2                ['Stephenie Meyer']            3.57   \n",
       "3           3      3                     ['Harper Lee']            4.25   \n",
       "4           4      4            ['F. Scott Fitzgerald']            3.89   \n",
       "\n",
       "   best_book_id  book_id  books_count  \\\n",
       "0       2767052        1          272   \n",
       "1             3        2          491   \n",
       "2         41865        3          226   \n",
       "3          2657        4          487   \n",
       "4          4671        5         1356   \n",
       "\n",
       "                                         description  \\\n",
       "0  WINNING MEANS FAME AND FORTUNE.LOSING MEANS CE...   \n",
       "1  Harry Potter's life is miserable. His parents ...   \n",
       "2  About three things I was absolutely positive.\\...   \n",
       "3  The unforgettable novel of a childhood in a sl...   \n",
       "4  Alternate Cover Edition ISBN: 0743273567 (ISBN...   \n",
       "\n",
       "                                              genres  goodreads_book_id  \\\n",
       "0  ['young-adult', 'fiction', 'fantasy', 'science...            2767052   \n",
       "1  ['fantasy', 'fiction', 'young-adult', 'classics']                  3   \n",
       "2  ['young-adult', 'fantasy', 'romance', 'fiction...              41865   \n",
       "3  ['classics', 'fiction', 'historical-fiction', ...               2657   \n",
       "4  ['classics', 'fiction', 'historical-fiction', ...               4671   \n",
       "\n",
       "                                           image_url       isbn        isbn13  \\\n",
       "0  https://images.gr-assets.com/books/1447303603m...  439023483  9.780439e+12   \n",
       "1  https://images.gr-assets.com/books/1474154022m...  439554934  9.780440e+12   \n",
       "2  https://images.gr-assets.com/books/1361039443m...  316015849  9.780316e+12   \n",
       "3  https://images.gr-assets.com/books/1361975680m...   61120081  9.780061e+12   \n",
       "4  https://images.gr-assets.com/books/1490528560m...  743273567  9.780743e+12   \n",
       "\n",
       "  language_code  original_publication_year  \\\n",
       "0           eng                     2008.0   \n",
       "1           eng                     1997.0   \n",
       "2           eng                     2005.0   \n",
       "3           eng                     1960.0   \n",
       "4           eng                     1925.0   \n",
       "\n",
       "                             original_title  pages publishDate  ratings_1  \\\n",
       "0                          The Hunger Games  374.0    09/14/08      66715   \n",
       "1  Harry Potter and the Philosopher's Stone  309.0    11/01/03      75504   \n",
       "2                                  Twilight  501.0    09/06/06     456191   \n",
       "3                     To Kill a Mockingbird  324.0    05/23/06      60427   \n",
       "4                          The Great Gatsby  200.0    09/28/04      86236   \n",
       "\n",
       "   ratings_2  ratings_3  ratings_4  ratings_5  ratings_count  \\\n",
       "0     127936     560092    1481305    2706317        4780653   \n",
       "1     101676     455024    1156318    3011543        4602479   \n",
       "2     436802     793319     875073    1355439        3866839   \n",
       "3     117415     446835    1001952    1714267        3198671   \n",
       "4     197621     606158     936012     947718        2683664   \n",
       "\n",
       "                                     small_image_url  \\\n",
       "0  https://images.gr-assets.com/books/1447303603s...   \n",
       "1  https://images.gr-assets.com/books/1474154022s...   \n",
       "2  https://images.gr-assets.com/books/1361039443s...   \n",
       "3  https://images.gr-assets.com/books/1361975680s...   \n",
       "4  https://images.gr-assets.com/books/1490528560s...   \n",
       "\n",
       "                                               title  work_id  \\\n",
       "0            The Hunger Games (The Hunger Games, #1)  2792775   \n",
       "1  Harry Potter and the Sorcerer's Stone (Harry P...  4640799   \n",
       "2                            Twilight (Twilight, #1)  3212258   \n",
       "3                              To Kill a Mockingbird  3275794   \n",
       "4                                   The Great Gatsby   245494   \n",
       "\n",
       "   work_ratings_count  work_text_reviews_count  \\\n",
       "0             4942365                   155254   \n",
       "1             4800065                    75867   \n",
       "2             3916824                    95009   \n",
       "3             3340896                    72586   \n",
       "4             2773745                    51992   \n",
       "\n",
       "                           authors_2  user_id  rating  \n",
       "0                ['Suzanne Collins']      0.0     0.0  \n",
       "1  ['J.K. Rowling', 'Mary GrandPré']      0.0     0.0  \n",
       "2                ['Stephenie Meyer']      0.0     0.0  \n",
       "3                     ['Harper Lee']      0.0     0.0  \n",
       "4            ['F. Scott Fitzgerald']      0.0     0.0  "
      ]
     },
     "execution_count": 29,
     "metadata": {},
     "output_type": "execute_result"
    }
   ],
   "source": [
    "goodbooks.head()"
   ]
  },
  {
   "cell_type": "code",
   "execution_count": 30,
   "id": "47b2719a",
   "metadata": {
    "scrolled": true
   },
   "outputs": [],
   "source": [
    "goodbooks['user_id'] = goodbooks['user_id'].astype('int64')\n",
    "goodbooks['rating'] = goodbooks['rating'].astype('int64')"
   ]
  },
  {
   "cell_type": "code",
   "execution_count": 31,
   "id": "2140200b",
   "metadata": {
    "scrolled": true
   },
   "outputs": [
    {
     "name": "stdout",
     "output_type": "stream",
     "text": [
      "int64\n",
      "int64\n"
     ]
    }
   ],
   "source": [
    "print(goodbooks['user_id'].dtypes)\n",
    "print(goodbooks['rating'].dtypes)"
   ]
  },
  {
   "cell_type": "code",
   "execution_count": 32,
   "id": "fafb13af",
   "metadata": {},
   "outputs": [
    {
     "data": {
      "text/html": [
       "<div>\n",
       "<style scoped>\n",
       "    .dataframe tbody tr th:only-of-type {\n",
       "        vertical-align: middle;\n",
       "    }\n",
       "\n",
       "    .dataframe tbody tr th {\n",
       "        vertical-align: top;\n",
       "    }\n",
       "\n",
       "    .dataframe thead th {\n",
       "        text-align: right;\n",
       "    }\n",
       "</style>\n",
       "<table border=\"1\" class=\"dataframe\">\n",
       "  <thead>\n",
       "    <tr style=\"text-align: right;\">\n",
       "      <th></th>\n",
       "      <th>Unnamed: 0</th>\n",
       "      <th>index</th>\n",
       "      <th>authors</th>\n",
       "      <th>average_rating</th>\n",
       "      <th>best_book_id</th>\n",
       "      <th>book_id</th>\n",
       "      <th>books_count</th>\n",
       "      <th>description</th>\n",
       "      <th>genres</th>\n",
       "      <th>goodreads_book_id</th>\n",
       "      <th>image_url</th>\n",
       "      <th>isbn</th>\n",
       "      <th>isbn13</th>\n",
       "      <th>language_code</th>\n",
       "      <th>original_publication_year</th>\n",
       "      <th>original_title</th>\n",
       "      <th>pages</th>\n",
       "      <th>publishDate</th>\n",
       "      <th>ratings_1</th>\n",
       "      <th>ratings_2</th>\n",
       "      <th>ratings_3</th>\n",
       "      <th>ratings_4</th>\n",
       "      <th>ratings_5</th>\n",
       "      <th>ratings_count</th>\n",
       "      <th>small_image_url</th>\n",
       "      <th>title</th>\n",
       "      <th>work_id</th>\n",
       "      <th>work_ratings_count</th>\n",
       "      <th>work_text_reviews_count</th>\n",
       "      <th>authors_2</th>\n",
       "      <th>user_id</th>\n",
       "      <th>rating</th>\n",
       "    </tr>\n",
       "  </thead>\n",
       "  <tbody>\n",
       "    <tr>\n",
       "      <th>21944</th>\n",
       "      <td>1586</td>\n",
       "      <td>1586</td>\n",
       "      <td>['Frank Herbert']</td>\n",
       "      <td>4.35</td>\n",
       "      <td>53764</td>\n",
       "      <td>1687</td>\n",
       "      <td>18</td>\n",
       "      <td>Herbert's evocative, epic tales are set on the...</td>\n",
       "      <td>['science-fiction', 'fiction', 'fantasy', 'cla...</td>\n",
       "      <td>53764</td>\n",
       "      <td>https://images.gr-assets.com/books/1419962914m...</td>\n",
       "      <td>575070706</td>\n",
       "      <td>9.780575e+12</td>\n",
       "      <td>eng</td>\n",
       "      <td>1977.0</td>\n",
       "      <td>The Great Dune Trilogy</td>\n",
       "      <td>912.0</td>\n",
       "      <td>November 17th 2005</td>\n",
       "      <td>623</td>\n",
       "      <td>1404</td>\n",
       "      <td>5995</td>\n",
       "      <td>14927</td>\n",
       "      <td>29133</td>\n",
       "      <td>51454</td>\n",
       "      <td>https://images.gr-assets.com/books/1419962914s...</td>\n",
       "      <td>The Great Dune Trilogy</td>\n",
       "      <td>551</td>\n",
       "      <td>52082</td>\n",
       "      <td>165</td>\n",
       "      <td>['Frank Herbert']</td>\n",
       "      <td>19195</td>\n",
       "      <td>3</td>\n",
       "    </tr>\n",
       "    <tr>\n",
       "      <th>86259</th>\n",
       "      <td>5157</td>\n",
       "      <td>5157</td>\n",
       "      <td>['Jon Lee Anderson']</td>\n",
       "      <td>4.10</td>\n",
       "      <td>10836</td>\n",
       "      <td>5809</td>\n",
       "      <td>44</td>\n",
       "      <td>\"Acclaimed around the world and a national bes...</td>\n",
       "      <td>['biography', 'history', 'nonfiction', 'philos...</td>\n",
       "      <td>10836</td>\n",
       "      <td>https://s.gr-assets.com/assets/nophoto/book/11...</td>\n",
       "      <td>802135587</td>\n",
       "      <td>9.780802e+12</td>\n",
       "      <td>eng</td>\n",
       "      <td>1997.0</td>\n",
       "      <td>Che Guevara: A Revolutionary Life</td>\n",
       "      <td>814.0</td>\n",
       "      <td>March 9th 1998</td>\n",
       "      <td>299</td>\n",
       "      <td>473</td>\n",
       "      <td>2502</td>\n",
       "      <td>5120</td>\n",
       "      <td>5777</td>\n",
       "      <td>13516</td>\n",
       "      <td>https://s.gr-assets.com/assets/nophoto/book/50...</td>\n",
       "      <td>Che Guevara: A Revolutionary Life</td>\n",
       "      <td>3455</td>\n",
       "      <td>14171</td>\n",
       "      <td>540</td>\n",
       "      <td>['Jon Lee Anderson']</td>\n",
       "      <td>11406</td>\n",
       "      <td>3</td>\n",
       "    </tr>\n",
       "    <tr>\n",
       "      <th>42692</th>\n",
       "      <td>2795</td>\n",
       "      <td>2795</td>\n",
       "      <td>['Barbara Taylor Bradford']</td>\n",
       "      <td>4.16</td>\n",
       "      <td>8155</td>\n",
       "      <td>3003</td>\n",
       "      <td>61</td>\n",
       "      <td>A celebration of an indomitable spirit, here i...</td>\n",
       "      <td>['fiction', 'romance', 'historical-fiction', '...</td>\n",
       "      <td>8155</td>\n",
       "      <td>https://images.gr-assets.com/books/1330029941m...</td>\n",
       "      <td>031235326X</td>\n",
       "      <td>9.780312e+12</td>\n",
       "      <td>eng</td>\n",
       "      <td>1979.0</td>\n",
       "      <td>A Woman of Substance</td>\n",
       "      <td>928.0</td>\n",
       "      <td>December 1st 2005</td>\n",
       "      <td>412</td>\n",
       "      <td>1129</td>\n",
       "      <td>5996</td>\n",
       "      <td>10664</td>\n",
       "      <td>14731</td>\n",
       "      <td>31309</td>\n",
       "      <td>https://images.gr-assets.com/books/1330029941s...</td>\n",
       "      <td>A Woman of Substance (Emma Harte Saga #1)</td>\n",
       "      <td>87</td>\n",
       "      <td>32932</td>\n",
       "      <td>614</td>\n",
       "      <td>['Barbara Taylor Bradford']</td>\n",
       "      <td>43377</td>\n",
       "      <td>5</td>\n",
       "    </tr>\n",
       "    <tr>\n",
       "      <th>21122</th>\n",
       "      <td>1586</td>\n",
       "      <td>1586</td>\n",
       "      <td>['Frank Herbert']</td>\n",
       "      <td>4.35</td>\n",
       "      <td>53764</td>\n",
       "      <td>1687</td>\n",
       "      <td>18</td>\n",
       "      <td>Herbert's evocative, epic tales are set on the...</td>\n",
       "      <td>['science-fiction', 'fiction', 'fantasy', 'cla...</td>\n",
       "      <td>53764</td>\n",
       "      <td>https://images.gr-assets.com/books/1419962914m...</td>\n",
       "      <td>575070706</td>\n",
       "      <td>9.780575e+12</td>\n",
       "      <td>eng</td>\n",
       "      <td>1977.0</td>\n",
       "      <td>The Great Dune Trilogy</td>\n",
       "      <td>912.0</td>\n",
       "      <td>November 17th 2005</td>\n",
       "      <td>623</td>\n",
       "      <td>1404</td>\n",
       "      <td>5995</td>\n",
       "      <td>14927</td>\n",
       "      <td>29133</td>\n",
       "      <td>51454</td>\n",
       "      <td>https://images.gr-assets.com/books/1419962914s...</td>\n",
       "      <td>The Great Dune Trilogy</td>\n",
       "      <td>551</td>\n",
       "      <td>52082</td>\n",
       "      <td>165</td>\n",
       "      <td>['Frank Herbert']</td>\n",
       "      <td>14727</td>\n",
       "      <td>4</td>\n",
       "    </tr>\n",
       "    <tr>\n",
       "      <th>8939</th>\n",
       "      <td>348</td>\n",
       "      <td>348</td>\n",
       "      <td>['Billie Letts']</td>\n",
       "      <td>4.00</td>\n",
       "      <td>5168</td>\n",
       "      <td>381</td>\n",
       "      <td>54</td>\n",
       "      <td>Talk about unlucky sevens. An hour ago, sevent...</td>\n",
       "      <td>['fiction', 'chick-lit', 'romance', 'contempor...</td>\n",
       "      <td>5168</td>\n",
       "      <td>https://images.gr-assets.com/books/1327959469m...</td>\n",
       "      <td>446672211</td>\n",
       "      <td>9.780447e+12</td>\n",
       "      <td>eng</td>\n",
       "      <td>1995.0</td>\n",
       "      <td>Where the Heart Is</td>\n",
       "      <td>376.0</td>\n",
       "      <td>June 1st 1998</td>\n",
       "      <td>2053</td>\n",
       "      <td>8967</td>\n",
       "      <td>48023</td>\n",
       "      <td>79147</td>\n",
       "      <td>72178</td>\n",
       "      <td>208333</td>\n",
       "      <td>https://images.gr-assets.com/books/1327959469s...</td>\n",
       "      <td>Where the Heart Is</td>\n",
       "      <td>1649</td>\n",
       "      <td>210368</td>\n",
       "      <td>3147</td>\n",
       "      <td>['Billie Letts']</td>\n",
       "      <td>52344</td>\n",
       "      <td>4</td>\n",
       "    </tr>\n",
       "  </tbody>\n",
       "</table>\n",
       "</div>"
      ],
      "text/plain": [
       "       Unnamed: 0  index                      authors  average_rating  \\\n",
       "21944        1586   1586            ['Frank Herbert']            4.35   \n",
       "86259        5157   5157         ['Jon Lee Anderson']            4.10   \n",
       "42692        2795   2795  ['Barbara Taylor Bradford']            4.16   \n",
       "21122        1586   1586            ['Frank Herbert']            4.35   \n",
       "8939          348    348             ['Billie Letts']            4.00   \n",
       "\n",
       "       best_book_id  book_id  books_count  \\\n",
       "21944         53764     1687           18   \n",
       "86259         10836     5809           44   \n",
       "42692          8155     3003           61   \n",
       "21122         53764     1687           18   \n",
       "8939           5168      381           54   \n",
       "\n",
       "                                             description  \\\n",
       "21944  Herbert's evocative, epic tales are set on the...   \n",
       "86259  \"Acclaimed around the world and a national bes...   \n",
       "42692  A celebration of an indomitable spirit, here i...   \n",
       "21122  Herbert's evocative, epic tales are set on the...   \n",
       "8939   Talk about unlucky sevens. An hour ago, sevent...   \n",
       "\n",
       "                                                  genres  goodreads_book_id  \\\n",
       "21944  ['science-fiction', 'fiction', 'fantasy', 'cla...              53764   \n",
       "86259  ['biography', 'history', 'nonfiction', 'philos...              10836   \n",
       "42692  ['fiction', 'romance', 'historical-fiction', '...               8155   \n",
       "21122  ['science-fiction', 'fiction', 'fantasy', 'cla...              53764   \n",
       "8939   ['fiction', 'chick-lit', 'romance', 'contempor...               5168   \n",
       "\n",
       "                                               image_url        isbn  \\\n",
       "21944  https://images.gr-assets.com/books/1419962914m...   575070706   \n",
       "86259  https://s.gr-assets.com/assets/nophoto/book/11...   802135587   \n",
       "42692  https://images.gr-assets.com/books/1330029941m...  031235326X   \n",
       "21122  https://images.gr-assets.com/books/1419962914m...   575070706   \n",
       "8939   https://images.gr-assets.com/books/1327959469m...   446672211   \n",
       "\n",
       "             isbn13 language_code  original_publication_year  \\\n",
       "21944  9.780575e+12           eng                     1977.0   \n",
       "86259  9.780802e+12           eng                     1997.0   \n",
       "42692  9.780312e+12           eng                     1979.0   \n",
       "21122  9.780575e+12           eng                     1977.0   \n",
       "8939   9.780447e+12           eng                     1995.0   \n",
       "\n",
       "                          original_title  pages         publishDate  \\\n",
       "21944             The Great Dune Trilogy  912.0  November 17th 2005   \n",
       "86259  Che Guevara: A Revolutionary Life  814.0      March 9th 1998   \n",
       "42692              A Woman of Substance   928.0   December 1st 2005   \n",
       "21122             The Great Dune Trilogy  912.0  November 17th 2005   \n",
       "8939                  Where the Heart Is  376.0       June 1st 1998   \n",
       "\n",
       "       ratings_1  ratings_2  ratings_3  ratings_4  ratings_5  ratings_count  \\\n",
       "21944        623       1404       5995      14927      29133          51454   \n",
       "86259        299        473       2502       5120       5777          13516   \n",
       "42692        412       1129       5996      10664      14731          31309   \n",
       "21122        623       1404       5995      14927      29133          51454   \n",
       "8939        2053       8967      48023      79147      72178         208333   \n",
       "\n",
       "                                         small_image_url  \\\n",
       "21944  https://images.gr-assets.com/books/1419962914s...   \n",
       "86259  https://s.gr-assets.com/assets/nophoto/book/50...   \n",
       "42692  https://images.gr-assets.com/books/1330029941s...   \n",
       "21122  https://images.gr-assets.com/books/1419962914s...   \n",
       "8939   https://images.gr-assets.com/books/1327959469s...   \n",
       "\n",
       "                                           title  work_id  work_ratings_count  \\\n",
       "21944                   The Great Dune Trilogy        551               52082   \n",
       "86259          Che Guevara: A Revolutionary Life     3455               14171   \n",
       "42692  A Woman of Substance (Emma Harte Saga #1)       87               32932   \n",
       "21122                   The Great Dune Trilogy        551               52082   \n",
       "8939                          Where the Heart Is     1649              210368   \n",
       "\n",
       "       work_text_reviews_count                    authors_2  user_id  rating  \n",
       "21944                      165            ['Frank Herbert']    19195       3  \n",
       "86259                      540         ['Jon Lee Anderson']    11406       3  \n",
       "42692                      614  ['Barbara Taylor Bradford']    43377       5  \n",
       "21122                      165            ['Frank Herbert']    14727       4  \n",
       "8939                      3147             ['Billie Letts']    52344       4  "
      ]
     },
     "execution_count": 32,
     "metadata": {},
     "output_type": "execute_result"
    }
   ],
   "source": [
    "goodbooks.sample(5)"
   ]
  },
  {
   "cell_type": "markdown",
   "id": "c1ed3d54",
   "metadata": {},
   "source": [
    "<em><span style=\"color:lightsteelblue\">Check shape of data</span></em>"
   ]
  },
  {
   "cell_type": "code",
   "execution_count": 33,
   "id": "3026fb3f",
   "metadata": {
    "scrolled": true
   },
   "outputs": [
    {
     "data": {
      "text/plain": [
       "(140010, 32)"
      ]
     },
     "execution_count": 33,
     "metadata": {},
     "output_type": "execute_result"
    }
   ],
   "source": [
    "goodbooks.shape"
   ]
  },
  {
   "cell_type": "markdown",
   "id": "575d417d",
   "metadata": {},
   "source": [
    "<em><span style=\"color:lightsteelblue\">View missing values</span></em>"
   ]
  },
  {
   "cell_type": "code",
   "execution_count": 34,
   "id": "0212480f",
   "metadata": {
    "scrolled": true
   },
   "outputs": [
    {
     "data": {
      "image/png": "[encoded data removed]",
      "text/plain": [
       "<Figure size 2500x1000 with 2 Axes>"
      ]
     },
     "metadata": {},
     "output_type": "display_data"
    }
   ],
   "source": [
    "msno.matrix(goodbooks)\n",
    "plt.show()"
   ]
  },
  {
   "cell_type": "markdown",
   "id": "3cdfa144",
   "metadata": {},
   "source": [
    "<em><span style=\"color:lightsteelblue\">Confirm duplicate column</span></em>"
   ]
  },
  {
   "cell_type": "code",
   "execution_count": 35,
   "id": "2b8eefe7",
   "metadata": {
    "scrolled": false
   },
   "outputs": [
    {
     "data": {
      "text/html": [
       "<div>\n",
       "<style scoped>\n",
       "    .dataframe tbody tr th:only-of-type {\n",
       "        vertical-align: middle;\n",
       "    }\n",
       "\n",
       "    .dataframe tbody tr th {\n",
       "        vertical-align: top;\n",
       "    }\n",
       "\n",
       "    .dataframe thead th {\n",
       "        text-align: right;\n",
       "    }\n",
       "</style>\n",
       "<table border=\"1\" class=\"dataframe\">\n",
       "  <thead>\n",
       "    <tr style=\"text-align: right;\">\n",
       "      <th></th>\n",
       "      <th>authors</th>\n",
       "      <th>authors_2</th>\n",
       "    </tr>\n",
       "  </thead>\n",
       "  <tbody>\n",
       "    <tr>\n",
       "      <th>133907</th>\n",
       "      <td>['[Michael Rosen', 'Jane E. Ray]']</td>\n",
       "      <td>['[Michael Rosen', 'Jane E. Ray]']</td>\n",
       "    </tr>\n",
       "    <tr>\n",
       "      <th>102147</th>\n",
       "      <td>['Oscar Wilde']</td>\n",
       "      <td>['Oscar Wilde']</td>\n",
       "    </tr>\n",
       "    <tr>\n",
       "      <th>108672</th>\n",
       "      <td>['Brian Jacques']</td>\n",
       "      <td>['Brian Jacques']</td>\n",
       "    </tr>\n",
       "    <tr>\n",
       "      <th>71003</th>\n",
       "      <td>['Neil Strauss']</td>\n",
       "      <td>['Neil Strauss']</td>\n",
       "    </tr>\n",
       "    <tr>\n",
       "      <th>35643</th>\n",
       "      <td>['Patricia Schultz']</td>\n",
       "      <td>['Patricia Schultz']</td>\n",
       "    </tr>\n",
       "  </tbody>\n",
       "</table>\n",
       "</div>"
      ],
      "text/plain": [
       "                                   authors                           authors_2\n",
       "133907  ['[Michael Rosen', 'Jane E. Ray]']  ['[Michael Rosen', 'Jane E. Ray]']\n",
       "102147                     ['Oscar Wilde']                     ['Oscar Wilde']\n",
       "108672                   ['Brian Jacques']                   ['Brian Jacques']\n",
       "71003                     ['Neil Strauss']                    ['Neil Strauss']\n",
       "35643                 ['Patricia Schultz']                ['Patricia Schultz']"
      ]
     },
     "execution_count": 35,
     "metadata": {},
     "output_type": "execute_result"
    }
   ],
   "source": [
    "author_df = goodbooks[['authors', 'authors_2']]\n",
    "author_df.sample(5)"
   ]
  },
  {
   "cell_type": "code",
   "execution_count": 36,
   "id": "cbb041dc",
   "metadata": {},
   "outputs": [
    {
     "data": {
      "text/plain": [
       "0"
      ]
     },
     "execution_count": 36,
     "metadata": {},
     "output_type": "execute_result"
    }
   ],
   "source": [
    "unmatched_authors = author_df[~author_df['authors'].isin(author_df['authors_2'])]\n",
    "unmatched_authors['authors'].nunique()"
   ]
  },
  {
   "cell_type": "markdown",
   "id": "1e9adf3a",
   "metadata": {},
   "source": [
    "<em><span style=\"color:lightsteelblue\">Drop redundant columns and columns containing missing values</span></em>"
   ]
  },
  {
   "cell_type": "code",
   "execution_count": 37,
   "id": "637a3cf1",
   "metadata": {
    "scrolled": false
   },
   "outputs": [],
   "source": [
    "goodbooks.drop(columns=['Unnamed: 0', 'index', 'average_rating', \n",
    "                        'best_book_id', 'isbn', 'isbn13',\n",
    "                        'original_publication_year', 'original_title',\n",
    "                        'pages','publishDate', 'authors_2'], inplace=True)"
   ]
  },
  {
   "cell_type": "markdown",
   "id": "ad203084",
   "metadata": {},
   "source": [
    "<em><span style=\"color:lightsteelblue\">Recheck shape</span></em>"
   ]
  },
  {
   "cell_type": "code",
   "execution_count": 38,
   "id": "f9ea9e3b",
   "metadata": {
    "scrolled": true
   },
   "outputs": [
    {
     "data": {
      "text/plain": [
       "(140010, 21)"
      ]
     },
     "execution_count": 38,
     "metadata": {},
     "output_type": "execute_result"
    }
   ],
   "source": [
    "goodbooks.shape"
   ]
  },
  {
   "cell_type": "markdown",
   "id": "c44c98eb",
   "metadata": {},
   "source": [
    "<em><span style=\"color:lightsteelblue\">Handle missing values in [description]</span></em>"
   ]
  },
  {
   "cell_type": "code",
   "execution_count": 39,
   "id": "f029d0bc",
   "metadata": {
    "scrolled": true
   },
   "outputs": [
    {
     "data": {
      "text/plain": [
       "209"
      ]
     },
     "execution_count": 39,
     "metadata": {},
     "output_type": "execute_result"
    }
   ],
   "source": [
    "goodbooks['description'].isna().sum()"
   ]
  },
  {
   "cell_type": "code",
   "execution_count": 40,
   "id": "7e2340b2",
   "metadata": {
    "scrolled": true
   },
   "outputs": [],
   "source": [
    "goodbooks.dropna(subset=['description'], inplace=True)"
   ]
  },
  {
   "cell_type": "code",
   "execution_count": 41,
   "id": "2cf149b2",
   "metadata": {},
   "outputs": [
    {
     "data": {
      "text/plain": [
       "0"
      ]
     },
     "execution_count": 41,
     "metadata": {},
     "output_type": "execute_result"
    }
   ],
   "source": [
    "goodbooks['description'].isna().sum()"
   ]
  },
  {
   "cell_type": "markdown",
   "id": "1d72eccf",
   "metadata": {},
   "source": [
    "<em><span style=\"color:lightsteelblue\">Recheck shape</span></em>"
   ]
  },
  {
   "cell_type": "code",
   "execution_count": 42,
   "id": "1c7cc7b7",
   "metadata": {},
   "outputs": [
    {
     "data": {
      "text/plain": [
       "(139801, 21)"
      ]
     },
     "execution_count": 42,
     "metadata": {},
     "output_type": "execute_result"
    }
   ],
   "source": [
    "goodbooks.shape"
   ]
  },
  {
   "cell_type": "markdown",
   "id": "5e708b30",
   "metadata": {},
   "source": [
    "<em><span style=\"color:lightsteelblue\">Generate profile report (add. EDA) </span></em>"
   ]
  },
  {
   "cell_type": "code",
   "execution_count": 43,
   "id": "72d5f113",
   "metadata": {},
   "outputs": [
    {
     "data": {
      "application/vnd.jupyter.widget-view+json": {
       "model_id": "ef21718c30e0457c8a9f89d93df40664",
       "version_major": 2,
       "version_minor": 0
      },
      "text/plain": [
       "Summarize dataset:   0%|          | 0/5 [00:00<?, ?it/s]"
      ]
     },
     "metadata": {},
     "output_type": "display_data"
    },
    {
     "data": {
      "application/vnd.jupyter.widget-view+json": {
       "model_id": "b8bc9b7c5b5042c8a698c5cd49f5f037",
       "version_major": 2,
       "version_minor": 0
      },
      "text/plain": [
       "Generate report structure:   0%|          | 0/1 [00:00<?, ?it/s]"
      ]
     },
     "metadata": {},
     "output_type": "display_data"
    },
    {
     "data": {
      "application/vnd.jupyter.widget-view+json": {
       "model_id": "3b3377c0cdb345fbbc30c844a207527c",
       "version_major": 2,
       "version_minor": 0
      },
      "text/plain": [
       "Render HTML:   0%|          | 0/1 [00:00<?, ?it/s]"
      ]
     },
     "metadata": {},
     "output_type": "display_data"
    },
    {
     "data": {
      "application/vnd.jupyter.widget-view+json": {
       "model_id": "557f8e0fc7bb49c5ad3371558d5998f0",
       "version_major": 2,
       "version_minor": 0
      },
      "text/plain": [
       "Export report to file:   0%|          | 0/1 [00:00<?, ?it/s]"
      ]
     },
     "metadata": {},
     "output_type": "display_data"
    }
   ],
   "source": [
    "goodbooks_report = ProfileReport(goodbooks.sample(10000, random_state=42),\n",
    "                                vars={'num':{'low_categorical_threshold':0}},\n",
    "                                correlations={'auto': {'calculate':False}})\n",
    "goodbooks_report.to_file('goodbooks_report.html')"
   ]
  },
  {
   "cell_type": "markdown",
   "id": "2606c173",
   "metadata": {},
   "source": [
    "<em><span style=\"color:lightsteelblue\">Drop imbalanced column</span></em>"
   ]
  },
  {
   "cell_type": "code",
   "execution_count": 44,
   "id": "40243964",
   "metadata": {},
   "outputs": [],
   "source": [
    "goodbooks.drop(columns=['language_code'], inplace=True)"
   ]
  },
  {
   "cell_type": "code",
   "execution_count": 45,
   "id": "566e0928",
   "metadata": {},
   "outputs": [
    {
     "name": "stdout",
     "output_type": "stream",
     "text": [
      "<class 'pandas.core.frame.DataFrame'>\n",
      "Int64Index: 139801 entries, 0 to 140009\n",
      "Data columns (total 20 columns):\n",
      " #   Column                   Non-Null Count   Dtype \n",
      "---  ------                   --------------   ----- \n",
      " 0   authors                  139801 non-null  object\n",
      " 1   book_id                  139801 non-null  int64 \n",
      " 2   books_count              139801 non-null  int64 \n",
      " 3   description              139801 non-null  object\n",
      " 4   genres                   139801 non-null  object\n",
      " 5   goodreads_book_id        139801 non-null  int64 \n",
      " 6   image_url                139801 non-null  object\n",
      " 7   ratings_1                139801 non-null  int64 \n",
      " 8   ratings_2                139801 non-null  int64 \n",
      " 9   ratings_3                139801 non-null  int64 \n",
      " 10  ratings_4                139801 non-null  int64 \n",
      " 11  ratings_5                139801 non-null  int64 \n",
      " 12  ratings_count            139801 non-null  int64 \n",
      " 13  small_image_url          139801 non-null  object\n",
      " 14  title                    139801 non-null  object\n",
      " 15  work_id                  139801 non-null  int64 \n",
      " 16  work_ratings_count       139801 non-null  int64 \n",
      " 17  work_text_reviews_count  139801 non-null  int64 \n",
      " 18  user_id                  139801 non-null  int64 \n",
      " 19  rating                   139801 non-null  int64 \n",
      "dtypes: int64(14), object(6)\n",
      "memory usage: 22.4+ MB\n"
     ]
    }
   ],
   "source": [
    "goodbooks.info()"
   ]
  },
  {
   "cell_type": "markdown",
   "id": "df9b7593",
   "metadata": {},
   "source": [
    "<em><span style=\"color:lightsteelblue\">Select features using phik correlations and p-values</span></em>"
   ]
  },
  {
   "cell_type": "code",
   "execution_count": 46,
   "id": "91ccd5cd",
   "metadata": {},
   "outputs": [],
   "source": [
    "goodbooks_phik = goodbooks.copy()\n",
    "interval_columns = ['book_id', 'books_count', 'goodreads_book_id',\n",
    "                    'ratings_1', 'ratings_2', 'ratings_3', 'ratings_4',\n",
    "                    'ratings_5', 'ratings_count','work_id', 'work_ratings_count',\n",
    "                    'work_text_reviews_count','user_id']\n",
    "\n",
    "for c in goodbooks_phik.columns:\n",
    "    if c not in interval_columns:\n",
    "        goodbooks_phik[c] = goodbooks_phik[c].astype('category')"
   ]
  },
  {
   "cell_type": "code",
   "execution_count": 47,
   "id": "7d0910e3",
   "metadata": {
    "scrolled": true
   },
   "outputs": [
    {
     "name": "stderr",
     "output_type": "stream",
     "text": [
      "C:\\Users\\xanaa\\anaconda3\\Lib\\site-packages\\phik\\data_quality.py:119: UserWarning: The number of unique values of variable x is large: 5028. Are you sure this is not an interval variable? Analysis might be slow.\n",
      "  warnings.warn(\n",
      "C:\\Users\\xanaa\\anaconda3\\Lib\\site-packages\\phik\\data_quality.py:119: UserWarning: The number of unique values of variable x is large: 5028. Are you sure this is not an interval variable? Analysis might be slow.\n",
      "  warnings.warn(\n",
      "C:\\Users\\xanaa\\anaconda3\\Lib\\site-packages\\phik\\data_quality.py:119: UserWarning: The number of unique values of variable x is large: 9772. Are you sure this is not an interval variable? Analysis might be slow.\n",
      "  warnings.warn(\n",
      "C:\\Users\\xanaa\\anaconda3\\Lib\\site-packages\\phik\\data_quality.py:119: UserWarning: The number of unique values of variable x is large: 9772. Are you sure this is not an interval variable? Analysis might be slow.\n",
      "  warnings.warn(\n",
      "C:\\Users\\xanaa\\anaconda3\\Lib\\site-packages\\phik\\data_quality.py:119: UserWarning: The number of unique values of variable x is large: 4326. Are you sure this is not an interval variable? Analysis might be slow.\n",
      "  warnings.warn(\n",
      "C:\\Users\\xanaa\\anaconda3\\Lib\\site-packages\\phik\\data_quality.py:119: UserWarning: The number of unique values of variable x is large: 4326. Are you sure this is not an interval variable? Analysis might be slow.\n",
      "  warnings.warn(\n",
      "C:\\Users\\xanaa\\anaconda3\\Lib\\site-packages\\phik\\data_quality.py:119: UserWarning: The number of unique values of variable x is large: 6642. Are you sure this is not an interval variable? Analysis might be slow.\n",
      "  warnings.warn(\n",
      "C:\\Users\\xanaa\\anaconda3\\Lib\\site-packages\\phik\\data_quality.py:119: UserWarning: The number of unique values of variable x is large: 6642. Are you sure this is not an interval variable? Analysis might be slow.\n",
      "  warnings.warn(\n",
      "C:\\Users\\xanaa\\anaconda3\\Lib\\site-packages\\phik\\data_quality.py:119: UserWarning: The number of unique values of variable x is large: 6642. Are you sure this is not an interval variable? Analysis might be slow.\n",
      "  warnings.warn(\n",
      "C:\\Users\\xanaa\\anaconda3\\Lib\\site-packages\\phik\\data_quality.py:119: UserWarning: The number of unique values of variable x is large: 6642. Are you sure this is not an interval variable? Analysis might be slow.\n",
      "  warnings.warn(\n",
      "C:\\Users\\xanaa\\anaconda3\\Lib\\site-packages\\phik\\data_quality.py:119: UserWarning: The number of unique values of variable x is large: 9909. Are you sure this is not an interval variable? Analysis might be slow.\n",
      "  warnings.warn(\n",
      "C:\\Users\\xanaa\\anaconda3\\Lib\\site-packages\\phik\\data_quality.py:119: UserWarning: The number of unique values of variable x is large: 9909. Are you sure this is not an interval variable? Analysis might be slow.\n",
      "  warnings.warn(\n"
     ]
    }
   ],
   "source": [
    "phik_correlations = []\n",
    "phik_significances = []\n",
    "columns = goodbooks_phik.columns\n",
    "y = goodbooks_phik['rating']\n",
    "\n",
    "for c in columns:\n",
    "    x = goodbooks_phik[c]\n",
    "    if c in interval_columns:\n",
    "        phik_correlations.append(phik.phik_from_array(x,y,[c]))\n",
    "        phik_significances.append(phik.significance.significance_from_array(x,y,[c])[0])\n",
    "    else:\n",
    "        phik_correlations.append(phik.phik_from_array(x,y))\n",
    "        phik_significances.append(phik.significance.significance_from_array(x,y)[0])"
   ]
  },
  {
   "cell_type": "code",
   "execution_count": 48,
   "id": "4961ac0e",
   "metadata": {},
   "outputs": [],
   "source": [
    "phik_df = pd.DataFrame({'phik': phik_correlations, 'p-value': phik_significances},\n",
    "                      index=columns)\n",
    "phik_df.sort_values(by='phik', ascending=False, inplace=True)"
   ]
  },
  {
   "cell_type": "code",
   "execution_count": 49,
   "id": "215380f6",
   "metadata": {
    "scrolled": true
   },
   "outputs": [
    {
     "data": {
      "image/png": "[encoded data removed]",
      "text/plain": [
       "<Figure size 550x550 with 2 Axes>"
      ]
     },
     "metadata": {},
     "output_type": "display_data"
    }
   ],
   "source": [
    "phik_df.iloc[1:].plot.bar(subplots=True, figsize=(5.5,5.5))\n",
    "plt.tight_layout()\n",
    "plt.show()"
   ]
  },
  {
   "cell_type": "code",
   "execution_count": 50,
   "id": "83873d51",
   "metadata": {},
   "outputs": [],
   "source": [
    "goodbooks.drop(columns=['book_id', 'ratings_2', 'books_count', 'ratings_4',\n",
    "                        'work_text_reviews_count', 'work_ratings_count', \n",
    "                        'ratings_count', 'ratings_5', 'ratings_3',\n",
    "                        'ratings_1'], inplace=True)"
   ]
  },
  {
   "cell_type": "markdown",
   "id": "3f33b1f0",
   "metadata": {},
   "source": [
    "<em><span style=\"color:lightsteelblue\">Recheck shape</span></em>"
   ]
  },
  {
   "cell_type": "code",
   "execution_count": 51,
   "id": "ad479250",
   "metadata": {},
   "outputs": [
    {
     "data": {
      "text/plain": [
       "(139801, 10)"
      ]
     },
     "execution_count": 51,
     "metadata": {},
     "output_type": "execute_result"
    }
   ],
   "source": [
    "goodbooks.shape"
   ]
  },
  {
   "cell_type": "markdown",
   "id": "703aa72f",
   "metadata": {},
   "source": [
    "<em><span style=\"color:lightsteelblue\">Clean [authors] and [title]</span></em>"
   ]
  },
  {
   "cell_type": "code",
   "execution_count": 52,
   "id": "ff034cca",
   "metadata": {},
   "outputs": [
    {
     "data": {
      "text/html": [
       "<div>\n",
       "<style scoped>\n",
       "    .dataframe tbody tr th:only-of-type {\n",
       "        vertical-align: middle;\n",
       "    }\n",
       "\n",
       "    .dataframe tbody tr th {\n",
       "        vertical-align: top;\n",
       "    }\n",
       "\n",
       "    .dataframe thead th {\n",
       "        text-align: right;\n",
       "    }\n",
       "</style>\n",
       "<table border=\"1\" class=\"dataframe\">\n",
       "  <thead>\n",
       "    <tr style=\"text-align: right;\">\n",
       "      <th></th>\n",
       "      <th>authors</th>\n",
       "      <th>description</th>\n",
       "      <th>genres</th>\n",
       "      <th>goodreads_book_id</th>\n",
       "      <th>image_url</th>\n",
       "      <th>small_image_url</th>\n",
       "      <th>title</th>\n",
       "      <th>work_id</th>\n",
       "      <th>user_id</th>\n",
       "      <th>rating</th>\n",
       "    </tr>\n",
       "  </thead>\n",
       "  <tbody>\n",
       "    <tr>\n",
       "      <th>0</th>\n",
       "      <td>['Suzanne Collins']</td>\n",
       "      <td>WINNING MEANS FAME AND FORTUNE.LOSING MEANS CE...</td>\n",
       "      <td>['young-adult', 'fiction', 'fantasy', 'science...</td>\n",
       "      <td>2767052</td>\n",
       "      <td>https://images.gr-assets.com/books/1447303603m...</td>\n",
       "      <td>https://images.gr-assets.com/books/1447303603s...</td>\n",
       "      <td>The Hunger Games (The Hunger Games, #1)</td>\n",
       "      <td>2792775</td>\n",
       "      <td>0</td>\n",
       "      <td>0</td>\n",
       "    </tr>\n",
       "    <tr>\n",
       "      <th>1</th>\n",
       "      <td>['J.K. Rowling', 'Mary GrandPré']</td>\n",
       "      <td>Harry Potter's life is miserable. His parents ...</td>\n",
       "      <td>['fantasy', 'fiction', 'young-adult', 'classics']</td>\n",
       "      <td>3</td>\n",
       "      <td>https://images.gr-assets.com/books/1474154022m...</td>\n",
       "      <td>https://images.gr-assets.com/books/1474154022s...</td>\n",
       "      <td>Harry Potter and the Sorcerer's Stone (Harry P...</td>\n",
       "      <td>4640799</td>\n",
       "      <td>0</td>\n",
       "      <td>0</td>\n",
       "    </tr>\n",
       "    <tr>\n",
       "      <th>2</th>\n",
       "      <td>['Stephenie Meyer']</td>\n",
       "      <td>About three things I was absolutely positive.\\...</td>\n",
       "      <td>['young-adult', 'fantasy', 'romance', 'fiction...</td>\n",
       "      <td>41865</td>\n",
       "      <td>https://images.gr-assets.com/books/1361039443m...</td>\n",
       "      <td>https://images.gr-assets.com/books/1361039443s...</td>\n",
       "      <td>Twilight (Twilight, #1)</td>\n",
       "      <td>3212258</td>\n",
       "      <td>0</td>\n",
       "      <td>0</td>\n",
       "    </tr>\n",
       "  </tbody>\n",
       "</table>\n",
       "</div>"
      ],
      "text/plain": [
       "                             authors  \\\n",
       "0                ['Suzanne Collins']   \n",
       "1  ['J.K. Rowling', 'Mary GrandPré']   \n",
       "2                ['Stephenie Meyer']   \n",
       "\n",
       "                                         description  \\\n",
       "0  WINNING MEANS FAME AND FORTUNE.LOSING MEANS CE...   \n",
       "1  Harry Potter's life is miserable. His parents ...   \n",
       "2  About three things I was absolutely positive.\\...   \n",
       "\n",
       "                                              genres  goodreads_book_id  \\\n",
       "0  ['young-adult', 'fiction', 'fantasy', 'science...            2767052   \n",
       "1  ['fantasy', 'fiction', 'young-adult', 'classics']                  3   \n",
       "2  ['young-adult', 'fantasy', 'romance', 'fiction...              41865   \n",
       "\n",
       "                                           image_url  \\\n",
       "0  https://images.gr-assets.com/books/1447303603m...   \n",
       "1  https://images.gr-assets.com/books/1474154022m...   \n",
       "2  https://images.gr-assets.com/books/1361039443m...   \n",
       "\n",
       "                                     small_image_url  \\\n",
       "0  https://images.gr-assets.com/books/1447303603s...   \n",
       "1  https://images.gr-assets.com/books/1474154022s...   \n",
       "2  https://images.gr-assets.com/books/1361039443s...   \n",
       "\n",
       "                                               title  work_id  user_id  rating  \n",
       "0            The Hunger Games (The Hunger Games, #1)  2792775        0       0  \n",
       "1  Harry Potter and the Sorcerer's Stone (Harry P...  4640799        0       0  \n",
       "2                            Twilight (Twilight, #1)  3212258        0       0  "
      ]
     },
     "execution_count": 52,
     "metadata": {},
     "output_type": "execute_result"
    }
   ],
   "source": [
    "goodbooks.head(3)"
   ]
  },
  {
   "cell_type": "code",
   "execution_count": 53,
   "id": "6590dfaa",
   "metadata": {},
   "outputs": [],
   "source": [
    "goodbooks['title'] = goodbooks['title'].str.replace(r'\\s*\\(.*?\\)\\s*', ' ', regex=True)\n",
    "goodbooks['title'] = goodbooks['title'].str.strip()"
   ]
  },
  {
   "cell_type": "code",
   "execution_count": 54,
   "id": "8ca1fff4",
   "metadata": {},
   "outputs": [],
   "source": [
    "goodbooks['authors'] = goodbooks['authors'].str.replace(r\"[\\[\\]'']\", '', regex=True).str.strip()\n",
    "goodbooks['authors'] = goodbooks['authors'].apply((lambda x: x.split(',')[0].split(';')[0].strip()))"
   ]
  },
  {
   "cell_type": "code",
   "execution_count": 55,
   "id": "41a88467",
   "metadata": {},
   "outputs": [
    {
     "data": {
      "text/html": [
       "<div>\n",
       "<style scoped>\n",
       "    .dataframe tbody tr th:only-of-type {\n",
       "        vertical-align: middle;\n",
       "    }\n",
       "\n",
       "    .dataframe tbody tr th {\n",
       "        vertical-align: top;\n",
       "    }\n",
       "\n",
       "    .dataframe thead th {\n",
       "        text-align: right;\n",
       "    }\n",
       "</style>\n",
       "<table border=\"1\" class=\"dataframe\">\n",
       "  <thead>\n",
       "    <tr style=\"text-align: right;\">\n",
       "      <th></th>\n",
       "      <th>authors</th>\n",
       "      <th>description</th>\n",
       "      <th>genres</th>\n",
       "      <th>goodreads_book_id</th>\n",
       "      <th>image_url</th>\n",
       "      <th>small_image_url</th>\n",
       "      <th>title</th>\n",
       "      <th>work_id</th>\n",
       "      <th>user_id</th>\n",
       "      <th>rating</th>\n",
       "    </tr>\n",
       "  </thead>\n",
       "  <tbody>\n",
       "    <tr>\n",
       "      <th>0</th>\n",
       "      <td>Suzanne Collins</td>\n",
       "      <td>WINNING MEANS FAME AND FORTUNE.LOSING MEANS CE...</td>\n",
       "      <td>['young-adult', 'fiction', 'fantasy', 'science...</td>\n",
       "      <td>2767052</td>\n",
       "      <td>https://images.gr-assets.com/books/1447303603m...</td>\n",
       "      <td>https://images.gr-assets.com/books/1447303603s...</td>\n",
       "      <td>The Hunger Games</td>\n",
       "      <td>2792775</td>\n",
       "      <td>0</td>\n",
       "      <td>0</td>\n",
       "    </tr>\n",
       "    <tr>\n",
       "      <th>1</th>\n",
       "      <td>J.K. Rowling</td>\n",
       "      <td>Harry Potter's life is miserable. His parents ...</td>\n",
       "      <td>['fantasy', 'fiction', 'young-adult', 'classics']</td>\n",
       "      <td>3</td>\n",
       "      <td>https://images.gr-assets.com/books/1474154022m...</td>\n",
       "      <td>https://images.gr-assets.com/books/1474154022s...</td>\n",
       "      <td>Harry Potter and the Sorcerer's Stone</td>\n",
       "      <td>4640799</td>\n",
       "      <td>0</td>\n",
       "      <td>0</td>\n",
       "    </tr>\n",
       "    <tr>\n",
       "      <th>2</th>\n",
       "      <td>Stephenie Meyer</td>\n",
       "      <td>About three things I was absolutely positive.\\...</td>\n",
       "      <td>['young-adult', 'fantasy', 'romance', 'fiction...</td>\n",
       "      <td>41865</td>\n",
       "      <td>https://images.gr-assets.com/books/1361039443m...</td>\n",
       "      <td>https://images.gr-assets.com/books/1361039443s...</td>\n",
       "      <td>Twilight</td>\n",
       "      <td>3212258</td>\n",
       "      <td>0</td>\n",
       "      <td>0</td>\n",
       "    </tr>\n",
       "  </tbody>\n",
       "</table>\n",
       "</div>"
      ],
      "text/plain": [
       "           authors                                        description  \\\n",
       "0  Suzanne Collins  WINNING MEANS FAME AND FORTUNE.LOSING MEANS CE...   \n",
       "1     J.K. Rowling  Harry Potter's life is miserable. His parents ...   \n",
       "2  Stephenie Meyer  About three things I was absolutely positive.\\...   \n",
       "\n",
       "                                              genres  goodreads_book_id  \\\n",
       "0  ['young-adult', 'fiction', 'fantasy', 'science...            2767052   \n",
       "1  ['fantasy', 'fiction', 'young-adult', 'classics']                  3   \n",
       "2  ['young-adult', 'fantasy', 'romance', 'fiction...              41865   \n",
       "\n",
       "                                           image_url  \\\n",
       "0  https://images.gr-assets.com/books/1447303603m...   \n",
       "1  https://images.gr-assets.com/books/1474154022m...   \n",
       "2  https://images.gr-assets.com/books/1361039443m...   \n",
       "\n",
       "                                     small_image_url  \\\n",
       "0  https://images.gr-assets.com/books/1447303603s...   \n",
       "1  https://images.gr-assets.com/books/1474154022s...   \n",
       "2  https://images.gr-assets.com/books/1361039443s...   \n",
       "\n",
       "                                   title  work_id  user_id  rating  \n",
       "0                       The Hunger Games  2792775        0       0  \n",
       "1  Harry Potter and the Sorcerer's Stone  4640799        0       0  \n",
       "2                               Twilight  3212258        0       0  "
      ]
     },
     "execution_count": 55,
     "metadata": {},
     "output_type": "execute_result"
    }
   ],
   "source": [
    "goodbooks.head(3)"
   ]
  },
  {
   "cell_type": "markdown",
   "id": "85a5c6a8",
   "metadata": {},
   "source": [
    "<em><span style=\"color:lightsteelblue\">(add. EDA)</span></em>"
   ]
  },
  {
   "cell_type": "code",
   "execution_count": 56,
   "id": "1eb7a525",
   "metadata": {},
   "outputs": [
    {
     "data": {
      "text/plain": [
       "Plum Sykes                 7564\n",
       "Isabel Allende             6792\n",
       "Barbara Taylor Bradford    6466\n",
       "Wilson Rawls               5615\n",
       "M.M. Kaye                  5467\n",
       "Patricia Schultz           5408\n",
       "Neil Strauss               3560\n",
       "Max Brooks                 3225\n",
       "Anonymous                  2507\n",
       "Frank Herbert              2314\n",
       "Name: authors, dtype: int64"
      ]
     },
     "execution_count": 56,
     "metadata": {},
     "output_type": "execute_result"
    }
   ],
   "source": [
    "authors = goodbooks['authors'].value_counts()\n",
    "top_10_authors = authors[:10]\n",
    "top_10_authors"
   ]
  },
  {
   "cell_type": "code",
   "execution_count": 57,
   "id": "29d7f177",
   "metadata": {},
   "outputs": [
    {
     "data": {
      "image/png": "[encoded data removed]",
      "text/plain": [
       "<Figure size 640x480 with 1 Axes>"
      ]
     },
     "metadata": {},
     "output_type": "display_data"
    }
   ],
   "source": [
    "sns.barplot(data=top_10_authors, alpha=.75, saturation=100)\n",
    "plt.xlabel('Author', fontsize=12, c='#4c72b0')\n",
    "plt.xticks(rotation=90)\n",
    "plt.ylabel('No. of Books', fontsize=12, c='#4c72b0')\n",
    "plt.suptitle('Top 10 Authors', size=14, fontweight='bold', color='#4c72b0')\n",
    "plt.title('(based on count)', size=10, pad=8, c='#4c72b0')\n",
    "\n",
    "plt.show()"
   ]
  },
  {
   "cell_type": "markdown",
   "id": "00fb3b3e",
   "metadata": {},
   "source": [
    "<em><span style=\"color:lightsteelblue\">Prep [authors] for embeddings</span></em>"
   ]
  },
  {
   "cell_type": "code",
   "execution_count": 58,
   "id": "50d104a3",
   "metadata": {},
   "outputs": [
    {
     "data": {
      "text/plain": [
       "0        Suzanne Collins\n",
       "1           J.K. Rowling\n",
       "2        Stephenie Meyer\n",
       "3             Harper Lee\n",
       "4    F. Scott Fitzgerald\n",
       "5             John Green\n",
       "6         J.R.R. Tolkien\n",
       "7          J.D. Salinger\n",
       "8              Dan Brown\n",
       "9            Jane Austen\n",
       "Name: authors, dtype: object"
      ]
     },
     "execution_count": 58,
     "metadata": {},
     "output_type": "execute_result"
    }
   ],
   "source": [
    "authors_1 = goodbooks['authors'].copy()\n",
    "authors_1[:10]"
   ]
  },
  {
   "cell_type": "code",
   "execution_count": 59,
   "id": "37c70d56",
   "metadata": {},
   "outputs": [
    {
     "data": {
      "text/plain": [
       "0       Suzanne Collins\n",
       "1            JK Rowling\n",
       "2       Stephenie Meyer\n",
       "3            Harper Lee\n",
       "4    F Scott Fitzgerald\n",
       "5            John Green\n",
       "6           JRR Tolkien\n",
       "7           JD Salinger\n",
       "8             Dan Brown\n",
       "9           Jane Austen\n",
       "Name: authors, dtype: object"
      ]
     },
     "execution_count": 59,
     "metadata": {},
     "output_type": "execute_result"
    }
   ],
   "source": [
    "translator = str.maketrans('', '', string.punctuation + string.digits)\n",
    "authors_1 = authors_1.apply(lambda x: x.translate(translator))\n",
    "authors_1[:10]"
   ]
  },
  {
   "cell_type": "code",
   "execution_count": 60,
   "id": "56945b38",
   "metadata": {},
   "outputs": [
    {
     "data": {
      "text/plain": [
       "0       suzanne collins\n",
       "1            jk rowling\n",
       "2       stephenie meyer\n",
       "3            harper lee\n",
       "4    f scott fitzgerald\n",
       "5            john green\n",
       "6           jrr tolkien\n",
       "7           jd salinger\n",
       "8             dan brown\n",
       "9           jane austen\n",
       "Name: authors, dtype: object"
      ]
     },
     "execution_count": 60,
     "metadata": {},
     "output_type": "execute_result"
    }
   ],
   "source": [
    "authors_1 = authors_1.str.lower()\n",
    "authors_1[:10]"
   ]
  },
  {
   "cell_type": "markdown",
   "id": "8eaa7001",
   "metadata": {},
   "source": [
    "<em><span style=\"color:lightsteelblue\">Prep [description] for embeddings</span></em>"
   ]
  },
  {
   "cell_type": "code",
   "execution_count": 61,
   "id": "b91810c4",
   "metadata": {},
   "outputs": [
    {
     "data": {
      "text/plain": [
       "0    WINNING MEANS FAME AND FORTUNE.LOSING MEANS CE...\n",
       "1    Harry Potter's life is miserable. His parents ...\n",
       "2    About three things I was absolutely positive.\\...\n",
       "3    The unforgettable novel of a childhood in a sl...\n",
       "4    Alternate Cover Edition ISBN: 0743273567 (ISBN...\n",
       "5    Despite the tumor-shrinking medical miracle th...\n",
       "6    In a hole in the ground there lived a hobbit. ...\n",
       "7    The hero-narrator of The Catcher in the Rye is...\n",
       "8    World-renowned Harvard symbologist Robert Lang...\n",
       "9    Alternate cover edition of ISBN 9780679783268S...\n",
       "Name: description, dtype: object"
      ]
     },
     "execution_count": 61,
     "metadata": {},
     "output_type": "execute_result"
    }
   ],
   "source": [
    "goodbooks['description'][:10]"
   ]
  },
  {
   "cell_type": "code",
   "execution_count": 62,
   "id": "a479f91c",
   "metadata": {},
   "outputs": [
    {
     "data": {
      "text/plain": [
       "0    WINNING MEANS FAME AND FORTUNELOSING MEANS CER...\n",
       "1    Harry Potters life is miserable His parents ar...\n",
       "2    About three things I was absolutely positive\\n...\n",
       "3    The unforgettable novel of a childhood in a sl...\n",
       "4    Alternate Cover Edition ISBN  ISBN The Great G...\n",
       "5    Despite the tumorshrinking medical miracle tha...\n",
       "6    In a hole in the ground there lived a hobbit N...\n",
       "7    The heronarrator of The Catcher in the Rye is ...\n",
       "8    Worldrenowned Harvard symbologist Robert Langd...\n",
       "9    Alternate cover edition of ISBN Since its imme...\n",
       "Name: description, dtype: object"
      ]
     },
     "execution_count": 62,
     "metadata": {},
     "output_type": "execute_result"
    }
   ],
   "source": [
    "goodbooks['description'] = goodbooks['description'].apply(lambda x: x.translate(translator))\n",
    "goodbooks['description'][:10]"
   ]
  },
  {
   "cell_type": "code",
   "execution_count": 63,
   "id": "c9c60505",
   "metadata": {},
   "outputs": [
    {
     "data": {
      "text/plain": [
       "0    winning means fame and fortunelosing means cer...\n",
       "1    harry potters life is miserable his parents ar...\n",
       "2    about three things i was absolutely positive\\n...\n",
       "3    the unforgettable novel of a childhood in a sl...\n",
       "4    alternate cover edition isbn  isbn the great g...\n",
       "5    despite the tumorshrinking medical miracle tha...\n",
       "6    in a hole in the ground there lived a hobbit n...\n",
       "7    the heronarrator of the catcher in the rye is ...\n",
       "8    worldrenowned harvard symbologist robert langd...\n",
       "9    alternate cover edition of isbn since its imme...\n",
       "Name: description, dtype: object"
      ]
     },
     "execution_count": 63,
     "metadata": {},
     "output_type": "execute_result"
    }
   ],
   "source": [
    "goodbooks['description'] = goodbooks['description'].str.lower()\n",
    "goodbooks['description'][:10]"
   ]
  },
  {
   "cell_type": "code",
   "execution_count": 64,
   "id": "05b0fd96",
   "metadata": {},
   "outputs": [
    {
     "name": "stderr",
     "output_type": "stream",
     "text": [
      "[nltk_data] Downloading package stopwords to\n",
      "[nltk_data]     C:\\Users\\xanaa\\AppData\\Roaming\\nltk_data...\n",
      "[nltk_data]   Package stopwords is already up-to-date!\n"
     ]
    },
    {
     "data": {
      "text/plain": [
       "True"
      ]
     },
     "execution_count": 64,
     "metadata": {},
     "output_type": "execute_result"
    }
   ],
   "source": [
    "nltk.download('stopwords')"
   ]
  },
  {
   "cell_type": "code",
   "execution_count": 65,
   "id": "29e78eaf",
   "metadata": {},
   "outputs": [],
   "source": [
    "en_stopwords = stopwords.words('english')\n",
    "en_stopwords = set(en_stopwords)"
   ]
  },
  {
   "cell_type": "code",
   "execution_count": 66,
   "id": "04e16a27",
   "metadata": {},
   "outputs": [],
   "source": [
    "def filter_description(desc):\n",
    "    words = desc.split() \n",
    "    filtered_words = [w for w in words if w not in en_stopwords and len(w) > 3]\n",
    "    return ' '.join(filtered_words)"
   ]
  },
  {
   "cell_type": "code",
   "execution_count": 67,
   "id": "52fa5a06",
   "metadata": {},
   "outputs": [
    {
     "data": {
      "text/plain": [
       "0    winning means fame fortunelosing means certain...\n",
       "1    harry potters life miserable parents dead stuc...\n",
       "2    three things absolutely positive first edward ...\n",
       "3    unforgettable novel childhood sleepy southern ...\n",
       "4    alternate cover edition isbn isbn great gatsby...\n",
       "5    despite tumorshrinking medical miracle bought ...\n",
       "6    hole ground lived hobbit nasty dirty hole fill...\n",
       "7    heronarrator catcher ancient child sixteen nat...\n",
       "8    worldrenowned harvard symbologist robert langd...\n",
       "9    alternate cover edition isbn since immediate s...\n",
       "Name: description, dtype: object"
      ]
     },
     "execution_count": 67,
     "metadata": {},
     "output_type": "execute_result"
    }
   ],
   "source": [
    "goodbooks['description'] = goodbooks['description'].apply(filter_description)\n",
    "goodbooks['description'][:10]"
   ]
  },
  {
   "cell_type": "code",
   "execution_count": 68,
   "id": "7dbd5165",
   "metadata": {},
   "outputs": [
    {
     "name": "stderr",
     "output_type": "stream",
     "text": [
      "[nltk_data] Downloading package punkt to\n",
      "[nltk_data]     C:\\Users\\xanaa\\AppData\\Roaming\\nltk_data...\n",
      "[nltk_data]   Package punkt is already up-to-date!\n"
     ]
    },
    {
     "data": {
      "text/plain": [
       "True"
      ]
     },
     "execution_count": 68,
     "metadata": {},
     "output_type": "execute_result"
    }
   ],
   "source": [
    "nltk.download('punkt')"
   ]
  },
  {
   "cell_type": "code",
   "execution_count": 69,
   "id": "6cf7c5b1",
   "metadata": {},
   "outputs": [
    {
     "data": {
      "text/plain": [
       "0    [winning, means, fame, fortunelosing, means, c...\n",
       "1    [harry, potters, life, miserable, parents, dea...\n",
       "2    [three, things, absolutely, positive, first, e...\n",
       "3    [unforgettable, novel, childhood, sleepy, sout...\n",
       "4    [alternate, cover, edition, isbn, isbn, great,...\n",
       "5    [despite, tumorshrinking, medical, miracle, bo...\n",
       "6    [hole, ground, lived, hobbit, nasty, dirty, ho...\n",
       "7    [heronarrator, catcher, ancient, child, sixtee...\n",
       "8    [worldrenowned, harvard, symbologist, robert, ...\n",
       "9    [alternate, cover, edition, isbn, since, immed...\n",
       "Name: description, dtype: object"
      ]
     },
     "execution_count": 69,
     "metadata": {},
     "output_type": "execute_result"
    }
   ],
   "source": [
    "goodbooks['description'] = goodbooks['description'].apply(word_tokenize)\n",
    "goodbooks['description'][:10]"
   ]
  },
  {
   "cell_type": "markdown",
   "id": "84803c06",
   "metadata": {},
   "source": [
    "<em><span style=\"color:lightsteelblue\">Inspect [genres]</span></em>"
   ]
  },
  {
   "cell_type": "code",
   "execution_count": 70,
   "id": "e0903e52",
   "metadata": {},
   "outputs": [
    {
     "data": {
      "text/plain": [
       "0    ['young-adult', 'fiction', 'fantasy', 'science...\n",
       "1    ['fantasy', 'fiction', 'young-adult', 'classics']\n",
       "2    ['young-adult', 'fantasy', 'romance', 'fiction...\n",
       "3    ['classics', 'fiction', 'historical-fiction', ...\n",
       "4    ['classics', 'fiction', 'historical-fiction', ...\n",
       "5    ['young-adult', 'romance', 'fiction', 'contemp...\n",
       "6    ['fantasy', 'classics', 'fiction', 'young-adult']\n",
       "7               ['classics', 'fiction', 'young-adult']\n",
       "8    ['fiction', 'mystery', 'thriller', 'suspense',...\n",
       "9    ['classics', 'fiction', 'romance', 'historical...\n",
       "Name: genres, dtype: object"
      ]
     },
     "execution_count": 70,
     "metadata": {},
     "output_type": "execute_result"
    }
   ],
   "source": [
    "goodbooks['genres'][:10]"
   ]
  },
  {
   "cell_type": "markdown",
   "id": "fb866bad",
   "metadata": {},
   "source": [
    "<em><span style=\"color:lightsteelblue\">Load transfer learning model</span></em>"
   ]
  },
  {
   "cell_type": "code",
   "execution_count": 71,
   "id": "4561ab4b",
   "metadata": {},
   "outputs": [],
   "source": [
    "w2v_path = gdl.load(\"word2vec-google-news-300\", return_path=True)"
   ]
  },
  {
   "cell_type": "code",
   "execution_count": 72,
   "id": "574f38b3",
   "metadata": {},
   "outputs": [],
   "source": [
    "w2v_model = KeyedVectors.load_word2vec_format(w2v_path, binary=True)"
   ]
  },
  {
   "cell_type": "markdown",
   "id": "5476455d",
   "metadata": {},
   "source": [
    "<em><span style=\"color:lightsteelblue\">Create embeddings (Content-based filtering)</span></em>"
   ]
  },
  {
   "cell_type": "code",
   "execution_count": 73,
   "id": "8ded7c18",
   "metadata": {},
   "outputs": [],
   "source": [
    "def get_average_embedding(text, model):\n",
    "    if not text:\n",
    "        return np.zeros(model.vector_size)\n",
    "    vectors = [model[t] for t in text if t in model]\n",
    "    return np.mean(vectors, axis=0) if vectors else np.zeros(model.vector_size)"
   ]
  },
  {
   "cell_type": "code",
   "execution_count": 74,
   "id": "097a164f",
   "metadata": {},
   "outputs": [],
   "source": [
    "goodbooks['auth_embeddings'] = authors_1.apply(lambda x: get_average_embedding(x, w2v_model))"
   ]
  },
  {
   "cell_type": "code",
   "execution_count": 75,
   "id": "3e98e4f5",
   "metadata": {},
   "outputs": [],
   "source": [
    "goodbooks['desc_embeddings'] = goodbooks['description'].apply(lambda x: get_average_embedding(x, w2v_model))"
   ]
  },
  {
   "cell_type": "code",
   "execution_count": 76,
   "id": "d7875a90",
   "metadata": {},
   "outputs": [],
   "source": [
    "goodbooks['genr_embeddings'] = goodbooks['genres'].apply(lambda x: get_average_embedding(x, w2v_model))"
   ]
  },
  {
   "cell_type": "code",
   "execution_count": 77,
   "id": "f8660995",
   "metadata": {},
   "outputs": [
    {
     "data": {
      "text/html": [
       "<div>\n",
       "<style scoped>\n",
       "    .dataframe tbody tr th:only-of-type {\n",
       "        vertical-align: middle;\n",
       "    }\n",
       "\n",
       "    .dataframe tbody tr th {\n",
       "        vertical-align: top;\n",
       "    }\n",
       "\n",
       "    .dataframe thead th {\n",
       "        text-align: right;\n",
       "    }\n",
       "</style>\n",
       "<table border=\"1\" class=\"dataframe\">\n",
       "  <thead>\n",
       "    <tr style=\"text-align: right;\">\n",
       "      <th></th>\n",
       "      <th>authors</th>\n",
       "      <th>description</th>\n",
       "      <th>genres</th>\n",
       "      <th>goodreads_book_id</th>\n",
       "      <th>image_url</th>\n",
       "      <th>small_image_url</th>\n",
       "      <th>title</th>\n",
       "      <th>work_id</th>\n",
       "      <th>user_id</th>\n",
       "      <th>rating</th>\n",
       "      <th>auth_embeddings</th>\n",
       "      <th>desc_embeddings</th>\n",
       "      <th>genr_embeddings</th>\n",
       "    </tr>\n",
       "  </thead>\n",
       "  <tbody>\n",
       "    <tr>\n",
       "      <th>0</th>\n",
       "      <td>Suzanne Collins</td>\n",
       "      <td>[winning, means, fame, fortunelosing, means, c...</td>\n",
       "      <td>['young-adult', 'fiction', 'fantasy', 'science...</td>\n",
       "      <td>2767052</td>\n",
       "      <td>https://images.gr-assets.com/books/1447303603m...</td>\n",
       "      <td>https://images.gr-assets.com/books/1447303603s...</td>\n",
       "      <td>The Hunger Games</td>\n",
       "      <td>2792775</td>\n",
       "      <td>0</td>\n",
       "      <td>0</td>\n",
       "      <td>[-0.13034762, 0.07092285, 0.014272837, 0.11232...</td>\n",
       "      <td>[0.034551818, 0.07394084, 0.0451905, 0.0879799...</td>\n",
       "      <td>[-0.18049137, 0.0805679, 0.01200755, 0.1453291...</td>\n",
       "    </tr>\n",
       "    <tr>\n",
       "      <th>1</th>\n",
       "      <td>J.K. Rowling</td>\n",
       "      <td>[harry, potters, life, miserable, parents, dea...</td>\n",
       "      <td>['fantasy', 'fiction', 'young-adult', 'classics']</td>\n",
       "      <td>3</td>\n",
       "      <td>https://images.gr-assets.com/books/1474154022m...</td>\n",
       "      <td>https://images.gr-assets.com/books/1474154022s...</td>\n",
       "      <td>Harry Potter and the Sorcerer's Stone</td>\n",
       "      <td>4640799</td>\n",
       "      <td>0</td>\n",
       "      <td>0</td>\n",
       "      <td>[-0.180386, 0.04296197, 0.005689833, 0.168023,...</td>\n",
       "      <td>[0.0453708, 0.046102505, 0.0064881225, 0.03284...</td>\n",
       "      <td>[-0.19840567, 0.093826294, 0.024034772, 0.1241...</td>\n",
       "    </tr>\n",
       "    <tr>\n",
       "      <th>2</th>\n",
       "      <td>Stephenie Meyer</td>\n",
       "      <td>[three, things, absolutely, positive, first, e...</td>\n",
       "      <td>['young-adult', 'fantasy', 'romance', 'fiction...</td>\n",
       "      <td>41865</td>\n",
       "      <td>https://images.gr-assets.com/books/1361039443m...</td>\n",
       "      <td>https://images.gr-assets.com/books/1361039443s...</td>\n",
       "      <td>Twilight</td>\n",
       "      <td>3212258</td>\n",
       "      <td>0</td>\n",
       "      <td>0</td>\n",
       "      <td>[-0.15208653, 0.13817488, -0.029453823, 0.1671...</td>\n",
       "      <td>[0.057015877, -0.0043905755, 0.04261045, 0.076...</td>\n",
       "      <td>[-0.17471313, 0.09913366, 0.00080422795, 0.133...</td>\n",
       "    </tr>\n",
       "    <tr>\n",
       "      <th>3</th>\n",
       "      <td>Harper Lee</td>\n",
       "      <td>[unforgettable, novel, childhood, sleepy, sout...</td>\n",
       "      <td>['classics', 'fiction', 'historical-fiction', ...</td>\n",
       "      <td>2657</td>\n",
       "      <td>https://images.gr-assets.com/books/1361975680m...</td>\n",
       "      <td>https://images.gr-assets.com/books/1361975680s...</td>\n",
       "      <td>To Kill a Mockingbird</td>\n",
       "      <td>3275794</td>\n",
       "      <td>0</td>\n",
       "      <td>0</td>\n",
       "      <td>[-0.14762878, 0.18591309, -0.044067383, 0.1402...</td>\n",
       "      <td>[0.08347933, 0.011099372, 0.008116279, 0.07396...</td>\n",
       "      <td>[-0.20613137, 0.09310991, 0.014219627, 0.13086...</td>\n",
       "    </tr>\n",
       "    <tr>\n",
       "      <th>4</th>\n",
       "      <td>F. Scott Fitzgerald</td>\n",
       "      <td>[alternate, cover, edition, isbn, isbn, great,...</td>\n",
       "      <td>['classics', 'fiction', 'historical-fiction', ...</td>\n",
       "      <td>4671</td>\n",
       "      <td>https://images.gr-assets.com/books/1490528560m...</td>\n",
       "      <td>https://images.gr-assets.com/books/1490528560s...</td>\n",
       "      <td>The Great Gatsby</td>\n",
       "      <td>245494</td>\n",
       "      <td>0</td>\n",
       "      <td>0</td>\n",
       "      <td>[-0.22053222, 0.123099774, -0.007519531, 0.135...</td>\n",
       "      <td>[0.009168668, 0.052608237, -0.045570202, 0.136...</td>\n",
       "      <td>[-0.20284526, 0.093082, 0.0030788844, 0.144999...</td>\n",
       "    </tr>\n",
       "  </tbody>\n",
       "</table>\n",
       "</div>"
      ],
      "text/plain": [
       "               authors                                        description  \\\n",
       "0      Suzanne Collins  [winning, means, fame, fortunelosing, means, c...   \n",
       "1         J.K. Rowling  [harry, potters, life, miserable, parents, dea...   \n",
       "2      Stephenie Meyer  [three, things, absolutely, positive, first, e...   \n",
       "3           Harper Lee  [unforgettable, novel, childhood, sleepy, sout...   \n",
       "4  F. Scott Fitzgerald  [alternate, cover, edition, isbn, isbn, great,...   \n",
       "\n",
       "                                              genres  goodreads_book_id  \\\n",
       "0  ['young-adult', 'fiction', 'fantasy', 'science...            2767052   \n",
       "1  ['fantasy', 'fiction', 'young-adult', 'classics']                  3   \n",
       "2  ['young-adult', 'fantasy', 'romance', 'fiction...              41865   \n",
       "3  ['classics', 'fiction', 'historical-fiction', ...               2657   \n",
       "4  ['classics', 'fiction', 'historical-fiction', ...               4671   \n",
       "\n",
       "                                           image_url  \\\n",
       "0  https://images.gr-assets.com/books/1447303603m...   \n",
       "1  https://images.gr-assets.com/books/1474154022m...   \n",
       "2  https://images.gr-assets.com/books/1361039443m...   \n",
       "3  https://images.gr-assets.com/books/1361975680m...   \n",
       "4  https://images.gr-assets.com/books/1490528560m...   \n",
       "\n",
       "                                     small_image_url  \\\n",
       "0  https://images.gr-assets.com/books/1447303603s...   \n",
       "1  https://images.gr-assets.com/books/1474154022s...   \n",
       "2  https://images.gr-assets.com/books/1361039443s...   \n",
       "3  https://images.gr-assets.com/books/1361975680s...   \n",
       "4  https://images.gr-assets.com/books/1490528560s...   \n",
       "\n",
       "                                   title  work_id  user_id  rating  \\\n",
       "0                       The Hunger Games  2792775        0       0   \n",
       "1  Harry Potter and the Sorcerer's Stone  4640799        0       0   \n",
       "2                               Twilight  3212258        0       0   \n",
       "3                  To Kill a Mockingbird  3275794        0       0   \n",
       "4                       The Great Gatsby   245494        0       0   \n",
       "\n",
       "                                     auth_embeddings  \\\n",
       "0  [-0.13034762, 0.07092285, 0.014272837, 0.11232...   \n",
       "1  [-0.180386, 0.04296197, 0.005689833, 0.168023,...   \n",
       "2  [-0.15208653, 0.13817488, -0.029453823, 0.1671...   \n",
       "3  [-0.14762878, 0.18591309, -0.044067383, 0.1402...   \n",
       "4  [-0.22053222, 0.123099774, -0.007519531, 0.135...   \n",
       "\n",
       "                                     desc_embeddings  \\\n",
       "0  [0.034551818, 0.07394084, 0.0451905, 0.0879799...   \n",
       "1  [0.0453708, 0.046102505, 0.0064881225, 0.03284...   \n",
       "2  [0.057015877, -0.0043905755, 0.04261045, 0.076...   \n",
       "3  [0.08347933, 0.011099372, 0.008116279, 0.07396...   \n",
       "4  [0.009168668, 0.052608237, -0.045570202, 0.136...   \n",
       "\n",
       "                                     genr_embeddings  \n",
       "0  [-0.18049137, 0.0805679, 0.01200755, 0.1453291...  \n",
       "1  [-0.19840567, 0.093826294, 0.024034772, 0.1241...  \n",
       "2  [-0.17471313, 0.09913366, 0.00080422795, 0.133...  \n",
       "3  [-0.20613137, 0.09310991, 0.014219627, 0.13086...  \n",
       "4  [-0.20284526, 0.093082, 0.0030788844, 0.144999...  "
      ]
     },
     "execution_count": 77,
     "metadata": {},
     "output_type": "execute_result"
    }
   ],
   "source": [
    "goodbooks.head()"
   ]
  },
  {
   "cell_type": "markdown",
   "id": "f89a2c0f",
   "metadata": {},
   "source": [
    "<em><span style=\"color:lightsteelblue\">Combine embeddings</span></em>"
   ]
  },
  {
   "cell_type": "code",
   "execution_count": 78,
   "id": "c3aefc43",
   "metadata": {},
   "outputs": [],
   "source": [
    "def combine_embeddings(row):\n",
    "    return row['auth_embeddings'] + row['desc_embeddings'] + row['genr_embeddings']"
   ]
  },
  {
   "cell_type": "code",
   "execution_count": 79,
   "id": "099ccd48",
   "metadata": {},
   "outputs": [],
   "source": [
    "goodbooks['comb_embeddings'] = goodbooks.apply(combine_embeddings, axis=1)"
   ]
  },
  {
   "cell_type": "code",
   "execution_count": 80,
   "id": "7dab5c8b",
   "metadata": {},
   "outputs": [
    {
     "data": {
      "text/html": [
       "<div>\n",
       "<style scoped>\n",
       "    .dataframe tbody tr th:only-of-type {\n",
       "        vertical-align: middle;\n",
       "    }\n",
       "\n",
       "    .dataframe tbody tr th {\n",
       "        vertical-align: top;\n",
       "    }\n",
       "\n",
       "    .dataframe thead th {\n",
       "        text-align: right;\n",
       "    }\n",
       "</style>\n",
       "<table border=\"1\" class=\"dataframe\">\n",
       "  <thead>\n",
       "    <tr style=\"text-align: right;\">\n",
       "      <th></th>\n",
       "      <th>authors</th>\n",
       "      <th>description</th>\n",
       "      <th>genres</th>\n",
       "      <th>goodreads_book_id</th>\n",
       "      <th>image_url</th>\n",
       "      <th>small_image_url</th>\n",
       "      <th>title</th>\n",
       "      <th>work_id</th>\n",
       "      <th>user_id</th>\n",
       "      <th>rating</th>\n",
       "      <th>auth_embeddings</th>\n",
       "      <th>desc_embeddings</th>\n",
       "      <th>genr_embeddings</th>\n",
       "      <th>comb_embeddings</th>\n",
       "    </tr>\n",
       "  </thead>\n",
       "  <tbody>\n",
       "    <tr>\n",
       "      <th>0</th>\n",
       "      <td>Suzanne Collins</td>\n",
       "      <td>[winning, means, fame, fortunelosing, means, c...</td>\n",
       "      <td>['young-adult', 'fiction', 'fantasy', 'science...</td>\n",
       "      <td>2767052</td>\n",
       "      <td>https://images.gr-assets.com/books/1447303603m...</td>\n",
       "      <td>https://images.gr-assets.com/books/1447303603s...</td>\n",
       "      <td>The Hunger Games</td>\n",
       "      <td>2792775</td>\n",
       "      <td>0</td>\n",
       "      <td>0</td>\n",
       "      <td>[-0.13034762, 0.07092285, 0.014272837, 0.11232...</td>\n",
       "      <td>[0.034551818, 0.07394084, 0.0451905, 0.0879799...</td>\n",
       "      <td>[-0.18049137, 0.0805679, 0.01200755, 0.1453291...</td>\n",
       "      <td>[-0.2762872, 0.22543159, 0.07147089, 0.3456325...</td>\n",
       "    </tr>\n",
       "    <tr>\n",
       "      <th>1</th>\n",
       "      <td>J.K. Rowling</td>\n",
       "      <td>[harry, potters, life, miserable, parents, dea...</td>\n",
       "      <td>['fantasy', 'fiction', 'young-adult', 'classics']</td>\n",
       "      <td>3</td>\n",
       "      <td>https://images.gr-assets.com/books/1474154022m...</td>\n",
       "      <td>https://images.gr-assets.com/books/1474154022s...</td>\n",
       "      <td>Harry Potter and the Sorcerer's Stone</td>\n",
       "      <td>4640799</td>\n",
       "      <td>0</td>\n",
       "      <td>0</td>\n",
       "      <td>[-0.180386, 0.04296197, 0.005689833, 0.168023,...</td>\n",
       "      <td>[0.0453708, 0.046102505, 0.0064881225, 0.03284...</td>\n",
       "      <td>[-0.19840567, 0.093826294, 0.024034772, 0.1241...</td>\n",
       "      <td>[-0.33342087, 0.18289077, 0.036212727, 0.32501...</td>\n",
       "    </tr>\n",
       "    <tr>\n",
       "      <th>2</th>\n",
       "      <td>Stephenie Meyer</td>\n",
       "      <td>[three, things, absolutely, positive, first, e...</td>\n",
       "      <td>['young-adult', 'fantasy', 'romance', 'fiction...</td>\n",
       "      <td>41865</td>\n",
       "      <td>https://images.gr-assets.com/books/1361039443m...</td>\n",
       "      <td>https://images.gr-assets.com/books/1361039443s...</td>\n",
       "      <td>Twilight</td>\n",
       "      <td>3212258</td>\n",
       "      <td>0</td>\n",
       "      <td>0</td>\n",
       "      <td>[-0.15208653, 0.13817488, -0.029453823, 0.1671...</td>\n",
       "      <td>[0.057015877, -0.0043905755, 0.04261045, 0.076...</td>\n",
       "      <td>[-0.17471313, 0.09913366, 0.00080422795, 0.133...</td>\n",
       "      <td>[-0.2697838, 0.23291796, 0.013960856, 0.376933...</td>\n",
       "    </tr>\n",
       "    <tr>\n",
       "      <th>3</th>\n",
       "      <td>Harper Lee</td>\n",
       "      <td>[unforgettable, novel, childhood, sleepy, sout...</td>\n",
       "      <td>['classics', 'fiction', 'historical-fiction', ...</td>\n",
       "      <td>2657</td>\n",
       "      <td>https://images.gr-assets.com/books/1361975680m...</td>\n",
       "      <td>https://images.gr-assets.com/books/1361975680s...</td>\n",
       "      <td>To Kill a Mockingbird</td>\n",
       "      <td>3275794</td>\n",
       "      <td>0</td>\n",
       "      <td>0</td>\n",
       "      <td>[-0.14762878, 0.18591309, -0.044067383, 0.1402...</td>\n",
       "      <td>[0.08347933, 0.011099372, 0.008116279, 0.07396...</td>\n",
       "      <td>[-0.20613137, 0.09310991, 0.014219627, 0.13086...</td>\n",
       "      <td>[-0.27028084, 0.29012236, -0.021731477, 0.3450...</td>\n",
       "    </tr>\n",
       "    <tr>\n",
       "      <th>4</th>\n",
       "      <td>F. Scott Fitzgerald</td>\n",
       "      <td>[alternate, cover, edition, isbn, isbn, great,...</td>\n",
       "      <td>['classics', 'fiction', 'historical-fiction', ...</td>\n",
       "      <td>4671</td>\n",
       "      <td>https://images.gr-assets.com/books/1490528560m...</td>\n",
       "      <td>https://images.gr-assets.com/books/1490528560s...</td>\n",
       "      <td>The Great Gatsby</td>\n",
       "      <td>245494</td>\n",
       "      <td>0</td>\n",
       "      <td>0</td>\n",
       "      <td>[-0.22053222, 0.123099774, -0.007519531, 0.135...</td>\n",
       "      <td>[0.009168668, 0.052608237, -0.045570202, 0.136...</td>\n",
       "      <td>[-0.20284526, 0.093082, 0.0030788844, 0.144999...</td>\n",
       "      <td>[-0.41420883, 0.26879, -0.05001085, 0.41632354...</td>\n",
       "    </tr>\n",
       "  </tbody>\n",
       "</table>\n",
       "</div>"
      ],
      "text/plain": [
       "               authors                                        description  \\\n",
       "0      Suzanne Collins  [winning, means, fame, fortunelosing, means, c...   \n",
       "1         J.K. Rowling  [harry, potters, life, miserable, parents, dea...   \n",
       "2      Stephenie Meyer  [three, things, absolutely, positive, first, e...   \n",
       "3           Harper Lee  [unforgettable, novel, childhood, sleepy, sout...   \n",
       "4  F. Scott Fitzgerald  [alternate, cover, edition, isbn, isbn, great,...   \n",
       "\n",
       "                                              genres  goodreads_book_id  \\\n",
       "0  ['young-adult', 'fiction', 'fantasy', 'science...            2767052   \n",
       "1  ['fantasy', 'fiction', 'young-adult', 'classics']                  3   \n",
       "2  ['young-adult', 'fantasy', 'romance', 'fiction...              41865   \n",
       "3  ['classics', 'fiction', 'historical-fiction', ...               2657   \n",
       "4  ['classics', 'fiction', 'historical-fiction', ...               4671   \n",
       "\n",
       "                                           image_url  \\\n",
       "0  https://images.gr-assets.com/books/1447303603m...   \n",
       "1  https://images.gr-assets.com/books/1474154022m...   \n",
       "2  https://images.gr-assets.com/books/1361039443m...   \n",
       "3  https://images.gr-assets.com/books/1361975680m...   \n",
       "4  https://images.gr-assets.com/books/1490528560m...   \n",
       "\n",
       "                                     small_image_url  \\\n",
       "0  https://images.gr-assets.com/books/1447303603s...   \n",
       "1  https://images.gr-assets.com/books/1474154022s...   \n",
       "2  https://images.gr-assets.com/books/1361039443s...   \n",
       "3  https://images.gr-assets.com/books/1361975680s...   \n",
       "4  https://images.gr-assets.com/books/1490528560s...   \n",
       "\n",
       "                                   title  work_id  user_id  rating  \\\n",
       "0                       The Hunger Games  2792775        0       0   \n",
       "1  Harry Potter and the Sorcerer's Stone  4640799        0       0   \n",
       "2                               Twilight  3212258        0       0   \n",
       "3                  To Kill a Mockingbird  3275794        0       0   \n",
       "4                       The Great Gatsby   245494        0       0   \n",
       "\n",
       "                                     auth_embeddings  \\\n",
       "0  [-0.13034762, 0.07092285, 0.014272837, 0.11232...   \n",
       "1  [-0.180386, 0.04296197, 0.005689833, 0.168023,...   \n",
       "2  [-0.15208653, 0.13817488, -0.029453823, 0.1671...   \n",
       "3  [-0.14762878, 0.18591309, -0.044067383, 0.1402...   \n",
       "4  [-0.22053222, 0.123099774, -0.007519531, 0.135...   \n",
       "\n",
       "                                     desc_embeddings  \\\n",
       "0  [0.034551818, 0.07394084, 0.0451905, 0.0879799...   \n",
       "1  [0.0453708, 0.046102505, 0.0064881225, 0.03284...   \n",
       "2  [0.057015877, -0.0043905755, 0.04261045, 0.076...   \n",
       "3  [0.08347933, 0.011099372, 0.008116279, 0.07396...   \n",
       "4  [0.009168668, 0.052608237, -0.045570202, 0.136...   \n",
       "\n",
       "                                     genr_embeddings  \\\n",
       "0  [-0.18049137, 0.0805679, 0.01200755, 0.1453291...   \n",
       "1  [-0.19840567, 0.093826294, 0.024034772, 0.1241...   \n",
       "2  [-0.17471313, 0.09913366, 0.00080422795, 0.133...   \n",
       "3  [-0.20613137, 0.09310991, 0.014219627, 0.13086...   \n",
       "4  [-0.20284526, 0.093082, 0.0030788844, 0.144999...   \n",
       "\n",
       "                                     comb_embeddings  \n",
       "0  [-0.2762872, 0.22543159, 0.07147089, 0.3456325...  \n",
       "1  [-0.33342087, 0.18289077, 0.036212727, 0.32501...  \n",
       "2  [-0.2697838, 0.23291796, 0.013960856, 0.376933...  \n",
       "3  [-0.27028084, 0.29012236, -0.021731477, 0.3450...  \n",
       "4  [-0.41420883, 0.26879, -0.05001085, 0.41632354...  "
      ]
     },
     "execution_count": 80,
     "metadata": {},
     "output_type": "execute_result"
    }
   ],
   "source": [
    "goodbooks.head()"
   ]
  },
  {
   "cell_type": "markdown",
   "id": "b69b7a83",
   "metadata": {},
   "source": [
    "<em><span style=\"color:lightsteelblue\">Create sparse matrix (Collaborative filtering)</span></em>"
   ]
  },
  {
   "cell_type": "code",
   "execution_count": 81,
   "id": "bcfd8260",
   "metadata": {},
   "outputs": [],
   "source": [
    "goodbooks_pivot = goodbooks.pivot_table(columns='user_id', \n",
    "                                        index='title', \n",
    "                                        values='rating')"
   ]
  },
  {
   "cell_type": "code",
   "execution_count": 82,
   "id": "57390e64",
   "metadata": {},
   "outputs": [],
   "source": [
    "goodbooks_sparse = csr_matrix(goodbooks_pivot)"
   ]
  },
  {
   "cell_type": "code",
   "execution_count": 83,
   "id": "ffb717ab",
   "metadata": {},
   "outputs": [
    {
     "data": {
      "text/plain": [
       "<9746x48511 sparse matrix of type '<class 'numpy.float64'>'\n",
       "\twith 472778632 stored elements in Compressed Sparse Row format>"
      ]
     },
     "execution_count": 83,
     "metadata": {},
     "output_type": "execute_result"
    }
   ],
   "source": [
    "goodbooks_sparse"
   ]
  }
 ],
 "metadata": {
  "kernelspec": {
   "display_name": "Python 3 (ipykernel)",
   "language": "python",
   "name": "python3"
  },
  "language_info": {
   "codemirror_mode": {
    "name": "ipython",
    "version": 3
   },
   "file_extension": ".py",
   "mimetype": "text/x-python",
   "name": "python",
   "nbconvert_exporter": "python",
   "pygments_lexer": "ipython3",
   "version": "3.11.9"
  }
 },
 "nbformat": 4,
 "nbformat_minor": 5
}
